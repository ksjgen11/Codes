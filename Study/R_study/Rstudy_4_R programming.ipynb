{
 "cells": [
  {
   "cell_type": "markdown",
   "metadata": {},
   "source": [
    "# If statements\n",
    "\n",
    "if (logical expression){\n",
    "statements\n",
    "} else {\n",
    "alternative statements\n",
    "}"
   ]
  },
  {
   "cell_type": "code",
   "execution_count": 1,
   "metadata": {},
   "outputs": [
    {
     "name": "stdout",
     "output_type": "stream",
     "text": [
      "[1] 10\n"
     ]
    }
   ],
   "source": [
    "a <- 10\n",
    "if (a>5){\n",
    "    print(a)\n",
    "}else{\n",
    "    print(a*10)\n",
    "    print(a/10)\n",
    "}"
   ]
  },
  {
   "cell_type": "code",
   "execution_count": 3,
   "metadata": {},
   "outputs": [
    {
     "name": "stdout",
     "output_type": "stream",
     "text": [
      "[1] 30\n",
      "[1] 200\n"
     ]
    }
   ],
   "source": [
    "a <- 10\n",
    "b <- 20\n",
    "if (a>5 & b>5){\n",
    "    print(a+b)\n",
    "}\n",
    "if (a>5 | b >30){\n",
    "    print(a*b)\n",
    "}"
   ]
  },
  {
   "cell_type": "code",
   "execution_count": 4,
   "metadata": {},
   "outputs": [
    {
     "data": {
      "text/html": [
       "20"
      ],
      "text/latex": [
       "20"
      ],
      "text/markdown": [
       "20"
      ],
      "text/plain": [
       "[1] 20"
      ]
     },
     "metadata": {},
     "output_type": "display_data"
    },
    {
     "data": {
      "text/html": [
       "20"
      ],
      "text/latex": [
       "20"
      ],
      "text/markdown": [
       "20"
      ],
      "text/plain": [
       "[1] 20"
      ]
     },
     "metadata": {},
     "output_type": "display_data"
    }
   ],
   "source": [
    "ifelse (a>b, c <- a, c <- b)\n",
    "c"
   ]
  },
  {
   "cell_type": "markdown",
   "metadata": {},
   "source": [
    "# for, while statements"
   ]
  },
  {
   "cell_type": "code",
   "execution_count": 5,
   "metadata": {},
   "outputs": [
    {
     "name": "stdout",
     "output_type": "stream",
     "text": [
      "[1] 1\n",
      "[1] 2\n",
      "[1] 3\n",
      "[1] 4\n",
      "[1] 5\n",
      "[1] 6\n",
      "[1] 7\n",
      "[1] 8\n",
      "[1] 9\n",
      "[1] 10\n"
     ]
    }
   ],
   "source": [
    "for(i in 1:10){\n",
    "    print(i)\n",
    "}"
   ]
  },
  {
   "cell_type": "code",
   "execution_count": 6,
   "metadata": {},
   "outputs": [
    {
     "name": "stdout",
     "output_type": "stream",
     "text": [
      "2* 1 = 2 \n",
      "2* 2 = 4 \n",
      "2* 3 = 6 \n",
      "2* 4 = 8 \n",
      "2* 5 = 10 \n",
      "2* 6 = 12 \n",
      "2* 7 = 14 \n",
      "2* 8 = 16 \n",
      "2* 9 = 18 \n",
      "2* 10 = 20 \n"
     ]
    }
   ],
   "source": [
    "for (i in 1:10){\n",
    "    cat(\"2*\", i, \"=\", 2*i, '\\n') # cat is same as print, we use cat when we have many values to print, and we print them continuously.\n",
    "}"
   ]
  },
  {
   "cell_type": "code",
   "execution_count": 7,
   "metadata": {},
   "outputs": [
    {
     "name": "stdout",
     "output_type": "stream",
     "text": [
      "[1] 2\n",
      "[1] 4\n",
      "[1] 6\n",
      "[1] 8\n",
      "[1] 10\n",
      "[1] 12\n",
      "[1] 14\n",
      "[1] 16\n",
      "[1] 18\n",
      "[1] 20\n"
     ]
    }
   ],
   "source": [
    "for (i in 1:20){\n",
    "    if (i %% 2 ==0){\n",
    "        print(i)\n",
    "    }\n",
    "}"
   ]
  },
  {
   "cell_type": "code",
   "execution_count": 8,
   "metadata": {},
   "outputs": [
    {
     "name": "stdout",
     "output_type": "stream",
     "text": [
      "[1] 103\n",
      "[1] 204\n",
      "[1] 105\n",
      "[1] 208\n",
      "[1] 107\n",
      "[1] 212\n",
      "[1] 109\n",
      "[1] 216\n",
      "[1] 111\n",
      "[1] 220\n",
      "[1] 113\n",
      "[1] 224\n",
      "[1] 115\n",
      "[1] 228\n",
      "[1] 117\n",
      "[1] 232\n",
      "[1] 119\n",
      "[1] 236\n",
      "[1] 121\n",
      "[1] 240\n",
      "[1] 123\n",
      "[1] 244\n",
      "[1] 125\n",
      "[1] 248\n",
      "[1] 127\n",
      "[1] 252\n",
      "[1] 129\n",
      "[1] 256\n",
      "[1] 131\n",
      "[1] 260\n",
      "[1] 133\n",
      "[1] 264\n",
      "[1] 135\n",
      "[1] 268\n",
      "[1] 137\n",
      "[1] 272\n",
      "[1] 139\n",
      "[1] 276\n",
      "[1] 141\n",
      "[1] 280\n",
      "[1] 143\n",
      "[1] 284\n",
      "[1] 145\n",
      "[1] 288\n",
      "[1] 147\n",
      "[1] 292\n",
      "[1] 149\n",
      "[1] 296\n",
      "[1] 151\n",
      "[1] 300\n",
      "[1] 153\n",
      "[1] 304\n",
      "[1] 155\n",
      "[1] 308\n",
      "[1] 157\n",
      "[1] 312\n",
      "[1] 159\n",
      "[1] 316\n",
      "[1] 161\n",
      "[1] 320\n",
      "[1] 163\n",
      "[1] 324\n",
      "[1] 165\n",
      "[1] 328\n",
      "[1] 167\n",
      "[1] 332\n",
      "[1] 169\n",
      "[1] 336\n",
      "[1] 171\n",
      "[1] 340\n",
      "[1] 173\n",
      "[1] 344\n",
      "[1] 175\n",
      "[1] 348\n",
      "[1] 177\n",
      "[1] 352\n",
      "[1] 179\n",
      "[1] 356\n",
      "[1] 181\n",
      "[1] 360\n",
      "[1] 183\n",
      "[1] 364\n",
      "[1] 185\n",
      "[1] 368\n",
      "[1] 187\n",
      "[1] 372\n",
      "[1] 189\n",
      "[1] 376\n",
      "[1] 191\n",
      "[1] 380\n",
      "[1] 193\n",
      "[1] 384\n",
      "[1] 195\n",
      "[1] 388\n",
      "[1] 197\n",
      "[1] 392\n",
      "[1] 199\n",
      "[1] 396\n",
      "[1] 201\n",
      "[1] 400\n"
     ]
    }
   ],
   "source": [
    "v1 <- 101:200\n",
    "for (i in 1:length(v1)){\n",
    "    if (v1[i]%%2==0){\n",
    "        print(v1[i]*2)\n",
    "    } else{\n",
    "        print (v1[i] +2)\n",
    "    }\n",
    "}"
   ]
  },
  {
   "cell_type": "code",
   "execution_count": 9,
   "metadata": {},
   "outputs": [
    {
     "name": "stdout",
     "output_type": "stream",
     "text": [
      "[1] 5050\n"
     ]
    }
   ],
   "source": [
    "sum <- 0\n",
    "for (i in 1:100){\n",
    "    sum <- sum +i\n",
    "}\n",
    "print(sum)"
   ]
  },
  {
   "cell_type": "code",
   "execution_count": 10,
   "metadata": {},
   "outputs": [
    {
     "name": "stdout",
     "output_type": "stream",
     "text": [
      "[1] 1\n",
      "[1] 2\n",
      "[1] 3\n",
      "[1] 4\n",
      "[1] 5\n",
      "[1] 6\n",
      "[1] 7\n",
      "[1] 8\n",
      "[1] 9\n",
      "[1] 10\n"
     ]
    }
   ],
   "source": [
    "i <- 1\n",
    "while(i <= 10){\n",
    "    print(i)\n",
    "    i  <- i+1\n",
    "}"
   ]
  },
  {
   "cell_type": "code",
   "execution_count": 12,
   "metadata": {},
   "outputs": [
    {
     "data": {
      "text/html": [
       "<table>\n",
       "<caption>A data.frame: 67 × 2</caption>\n",
       "<thead>\n",
       "\t<tr><th></th><th scope=col>Sepal.Length</th><th scope=col>Sepal.Width</th></tr>\n",
       "\t<tr><th></th><th scope=col>&lt;dbl&gt;</th><th scope=col>&lt;dbl&gt;</th></tr>\n",
       "</thead>\n",
       "<tbody>\n",
       "\t<tr><th scope=row>1</th><td>5.1</td><td>3.5</td></tr>\n",
       "\t<tr><th scope=row>5</th><td>5.0</td><td>3.6</td></tr>\n",
       "\t<tr><th scope=row>6</th><td>5.4</td><td>3.9</td></tr>\n",
       "\t<tr><th scope=row>8</th><td>5.0</td><td>3.4</td></tr>\n",
       "\t<tr><th scope=row>11</th><td>5.4</td><td>3.7</td></tr>\n",
       "\t<tr><th scope=row>15</th><td>5.8</td><td>4.0</td></tr>\n",
       "\t<tr><th scope=row>16</th><td>5.7</td><td>4.4</td></tr>\n",
       "\t<tr><th scope=row>17</th><td>5.4</td><td>3.9</td></tr>\n",
       "\t<tr><th scope=row>18</th><td>5.1</td><td>3.5</td></tr>\n",
       "\t<tr><th scope=row>19</th><td>5.7</td><td>3.8</td></tr>\n",
       "\t<tr><th scope=row>20</th><td>5.1</td><td>3.8</td></tr>\n",
       "\t<tr><th scope=row>21</th><td>5.4</td><td>3.4</td></tr>\n",
       "\t<tr><th scope=row>22</th><td>5.1</td><td>3.7</td></tr>\n",
       "\t<tr><th scope=row>24</th><td>5.1</td><td>3.3</td></tr>\n",
       "\t<tr><th scope=row>26</th><td>5.0</td><td>3.0</td></tr>\n",
       "\t<tr><th scope=row>27</th><td>5.0</td><td>3.4</td></tr>\n",
       "\t<tr><th scope=row>28</th><td>5.2</td><td>3.5</td></tr>\n",
       "\t<tr><th scope=row>29</th><td>5.2</td><td>3.4</td></tr>\n",
       "\t<tr><th scope=row>32</th><td>5.4</td><td>3.4</td></tr>\n",
       "\t<tr><th scope=row>33</th><td>5.2</td><td>4.1</td></tr>\n",
       "\t<tr><th scope=row>34</th><td>5.5</td><td>4.2</td></tr>\n",
       "\t<tr><th scope=row>36</th><td>5.0</td><td>3.2</td></tr>\n",
       "\t<tr><th scope=row>37</th><td>5.5</td><td>3.5</td></tr>\n",
       "\t<tr><th scope=row>40</th><td>5.1</td><td>3.4</td></tr>\n",
       "\t<tr><th scope=row>41</th><td>5.0</td><td>3.5</td></tr>\n",
       "\t<tr><th scope=row>44</th><td>5.0</td><td>3.5</td></tr>\n",
       "\t<tr><th scope=row>45</th><td>5.1</td><td>3.8</td></tr>\n",
       "\t<tr><th scope=row>47</th><td>5.1</td><td>3.8</td></tr>\n",
       "\t<tr><th scope=row>49</th><td>5.3</td><td>3.7</td></tr>\n",
       "\t<tr><th scope=row>50</th><td>5.0</td><td>3.3</td></tr>\n",
       "\t<tr><th scope=row>⋮</th><td>⋮</td><td>⋮</td></tr>\n",
       "\t<tr><th scope=row>67</th><td>5.6</td><td>3.0</td></tr>\n",
       "\t<tr><th scope=row>68</th><td>5.8</td><td>2.7</td></tr>\n",
       "\t<tr><th scope=row>70</th><td>5.6</td><td>2.5</td></tr>\n",
       "\t<tr><th scope=row>71</th><td>5.9</td><td>3.2</td></tr>\n",
       "\t<tr><th scope=row>79</th><td>6.0</td><td>2.9</td></tr>\n",
       "\t<tr><th scope=row>80</th><td>5.7</td><td>2.6</td></tr>\n",
       "\t<tr><th scope=row>81</th><td>5.5</td><td>2.4</td></tr>\n",
       "\t<tr><th scope=row>82</th><td>5.5</td><td>2.4</td></tr>\n",
       "\t<tr><th scope=row>83</th><td>5.8</td><td>2.7</td></tr>\n",
       "\t<tr><th scope=row>84</th><td>6.0</td><td>2.7</td></tr>\n",
       "\t<tr><th scope=row>85</th><td>5.4</td><td>3.0</td></tr>\n",
       "\t<tr><th scope=row>86</th><td>6.0</td><td>3.4</td></tr>\n",
       "\t<tr><th scope=row>89</th><td>5.6</td><td>3.0</td></tr>\n",
       "\t<tr><th scope=row>90</th><td>5.5</td><td>2.5</td></tr>\n",
       "\t<tr><th scope=row>91</th><td>5.5</td><td>2.6</td></tr>\n",
       "\t<tr><th scope=row>93</th><td>5.8</td><td>2.6</td></tr>\n",
       "\t<tr><th scope=row>94</th><td>5.0</td><td>2.3</td></tr>\n",
       "\t<tr><th scope=row>95</th><td>5.6</td><td>2.7</td></tr>\n",
       "\t<tr><th scope=row>96</th><td>5.7</td><td>3.0</td></tr>\n",
       "\t<tr><th scope=row>97</th><td>5.7</td><td>2.9</td></tr>\n",
       "\t<tr><th scope=row>99</th><td>5.1</td><td>2.5</td></tr>\n",
       "\t<tr><th scope=row>100</th><td>5.7</td><td>2.8</td></tr>\n",
       "\t<tr><th scope=row>102</th><td>5.8</td><td>2.7</td></tr>\n",
       "\t<tr><th scope=row>114</th><td>5.7</td><td>2.5</td></tr>\n",
       "\t<tr><th scope=row>115</th><td>5.8</td><td>2.8</td></tr>\n",
       "\t<tr><th scope=row>120</th><td>6.0</td><td>2.2</td></tr>\n",
       "\t<tr><th scope=row>122</th><td>5.6</td><td>2.8</td></tr>\n",
       "\t<tr><th scope=row>139</th><td>6.0</td><td>3.0</td></tr>\n",
       "\t<tr><th scope=row>143</th><td>5.8</td><td>2.7</td></tr>\n",
       "\t<tr><th scope=row>150</th><td>5.9</td><td>3.0</td></tr>\n",
       "</tbody>\n",
       "</table>\n"
      ],
      "text/latex": [
       "A data.frame: 67 × 2\n",
       "\\begin{tabular}{r|ll}\n",
       "  & Sepal.Length & Sepal.Width\\\\\n",
       "  & <dbl> & <dbl>\\\\\n",
       "\\hline\n",
       "\t1 & 5.1 & 3.5\\\\\n",
       "\t5 & 5.0 & 3.6\\\\\n",
       "\t6 & 5.4 & 3.9\\\\\n",
       "\t8 & 5.0 & 3.4\\\\\n",
       "\t11 & 5.4 & 3.7\\\\\n",
       "\t15 & 5.8 & 4.0\\\\\n",
       "\t16 & 5.7 & 4.4\\\\\n",
       "\t17 & 5.4 & 3.9\\\\\n",
       "\t18 & 5.1 & 3.5\\\\\n",
       "\t19 & 5.7 & 3.8\\\\\n",
       "\t20 & 5.1 & 3.8\\\\\n",
       "\t21 & 5.4 & 3.4\\\\\n",
       "\t22 & 5.1 & 3.7\\\\\n",
       "\t24 & 5.1 & 3.3\\\\\n",
       "\t26 & 5.0 & 3.0\\\\\n",
       "\t27 & 5.0 & 3.4\\\\\n",
       "\t28 & 5.2 & 3.5\\\\\n",
       "\t29 & 5.2 & 3.4\\\\\n",
       "\t32 & 5.4 & 3.4\\\\\n",
       "\t33 & 5.2 & 4.1\\\\\n",
       "\t34 & 5.5 & 4.2\\\\\n",
       "\t36 & 5.0 & 3.2\\\\\n",
       "\t37 & 5.5 & 3.5\\\\\n",
       "\t40 & 5.1 & 3.4\\\\\n",
       "\t41 & 5.0 & 3.5\\\\\n",
       "\t44 & 5.0 & 3.5\\\\\n",
       "\t45 & 5.1 & 3.8\\\\\n",
       "\t47 & 5.1 & 3.8\\\\\n",
       "\t49 & 5.3 & 3.7\\\\\n",
       "\t50 & 5.0 & 3.3\\\\\n",
       "\t⋮ & ⋮ & ⋮\\\\\n",
       "\t67 & 5.6 & 3.0\\\\\n",
       "\t68 & 5.8 & 2.7\\\\\n",
       "\t70 & 5.6 & 2.5\\\\\n",
       "\t71 & 5.9 & 3.2\\\\\n",
       "\t79 & 6.0 & 2.9\\\\\n",
       "\t80 & 5.7 & 2.6\\\\\n",
       "\t81 & 5.5 & 2.4\\\\\n",
       "\t82 & 5.5 & 2.4\\\\\n",
       "\t83 & 5.8 & 2.7\\\\\n",
       "\t84 & 6.0 & 2.7\\\\\n",
       "\t85 & 5.4 & 3.0\\\\\n",
       "\t86 & 6.0 & 3.4\\\\\n",
       "\t89 & 5.6 & 3.0\\\\\n",
       "\t90 & 5.5 & 2.5\\\\\n",
       "\t91 & 5.5 & 2.6\\\\\n",
       "\t93 & 5.8 & 2.6\\\\\n",
       "\t94 & 5.0 & 2.3\\\\\n",
       "\t95 & 5.6 & 2.7\\\\\n",
       "\t96 & 5.7 & 3.0\\\\\n",
       "\t97 & 5.7 & 2.9\\\\\n",
       "\t99 & 5.1 & 2.5\\\\\n",
       "\t100 & 5.7 & 2.8\\\\\n",
       "\t102 & 5.8 & 2.7\\\\\n",
       "\t114 & 5.7 & 2.5\\\\\n",
       "\t115 & 5.8 & 2.8\\\\\n",
       "\t120 & 6.0 & 2.2\\\\\n",
       "\t122 & 5.6 & 2.8\\\\\n",
       "\t139 & 6.0 & 3.0\\\\\n",
       "\t143 & 5.8 & 2.7\\\\\n",
       "\t150 & 5.9 & 3.0\\\\\n",
       "\\end{tabular}\n"
      ],
      "text/markdown": [
       "\n",
       "A data.frame: 67 × 2\n",
       "\n",
       "| <!--/--> | Sepal.Length &lt;dbl&gt; | Sepal.Width &lt;dbl&gt; |\n",
       "|---|---|---|\n",
       "| 1 | 5.1 | 3.5 |\n",
       "| 5 | 5.0 | 3.6 |\n",
       "| 6 | 5.4 | 3.9 |\n",
       "| 8 | 5.0 | 3.4 |\n",
       "| 11 | 5.4 | 3.7 |\n",
       "| 15 | 5.8 | 4.0 |\n",
       "| 16 | 5.7 | 4.4 |\n",
       "| 17 | 5.4 | 3.9 |\n",
       "| 18 | 5.1 | 3.5 |\n",
       "| 19 | 5.7 | 3.8 |\n",
       "| 20 | 5.1 | 3.8 |\n",
       "| 21 | 5.4 | 3.4 |\n",
       "| 22 | 5.1 | 3.7 |\n",
       "| 24 | 5.1 | 3.3 |\n",
       "| 26 | 5.0 | 3.0 |\n",
       "| 27 | 5.0 | 3.4 |\n",
       "| 28 | 5.2 | 3.5 |\n",
       "| 29 | 5.2 | 3.4 |\n",
       "| 32 | 5.4 | 3.4 |\n",
       "| 33 | 5.2 | 4.1 |\n",
       "| 34 | 5.5 | 4.2 |\n",
       "| 36 | 5.0 | 3.2 |\n",
       "| 37 | 5.5 | 3.5 |\n",
       "| 40 | 5.1 | 3.4 |\n",
       "| 41 | 5.0 | 3.5 |\n",
       "| 44 | 5.0 | 3.5 |\n",
       "| 45 | 5.1 | 3.8 |\n",
       "| 47 | 5.1 | 3.8 |\n",
       "| 49 | 5.3 | 3.7 |\n",
       "| 50 | 5.0 | 3.3 |\n",
       "| ⋮ | ⋮ | ⋮ |\n",
       "| 67 | 5.6 | 3.0 |\n",
       "| 68 | 5.8 | 2.7 |\n",
       "| 70 | 5.6 | 2.5 |\n",
       "| 71 | 5.9 | 3.2 |\n",
       "| 79 | 6.0 | 2.9 |\n",
       "| 80 | 5.7 | 2.6 |\n",
       "| 81 | 5.5 | 2.4 |\n",
       "| 82 | 5.5 | 2.4 |\n",
       "| 83 | 5.8 | 2.7 |\n",
       "| 84 | 6.0 | 2.7 |\n",
       "| 85 | 5.4 | 3.0 |\n",
       "| 86 | 6.0 | 3.4 |\n",
       "| 89 | 5.6 | 3.0 |\n",
       "| 90 | 5.5 | 2.5 |\n",
       "| 91 | 5.5 | 2.6 |\n",
       "| 93 | 5.8 | 2.6 |\n",
       "| 94 | 5.0 | 2.3 |\n",
       "| 95 | 5.6 | 2.7 |\n",
       "| 96 | 5.7 | 3.0 |\n",
       "| 97 | 5.7 | 2.9 |\n",
       "| 99 | 5.1 | 2.5 |\n",
       "| 100 | 5.7 | 2.8 |\n",
       "| 102 | 5.8 | 2.7 |\n",
       "| 114 | 5.7 | 2.5 |\n",
       "| 115 | 5.8 | 2.8 |\n",
       "| 120 | 6.0 | 2.2 |\n",
       "| 122 | 5.6 | 2.8 |\n",
       "| 139 | 6.0 | 3.0 |\n",
       "| 143 | 5.8 | 2.7 |\n",
       "| 150 | 5.9 | 3.0 |\n",
       "\n"
      ],
      "text/plain": [
       "    Sepal.Length Sepal.Width\n",
       "1   5.1          3.5        \n",
       "5   5.0          3.6        \n",
       "6   5.4          3.9        \n",
       "8   5.0          3.4        \n",
       "11  5.4          3.7        \n",
       "15  5.8          4.0        \n",
       "16  5.7          4.4        \n",
       "17  5.4          3.9        \n",
       "18  5.1          3.5        \n",
       "19  5.7          3.8        \n",
       "20  5.1          3.8        \n",
       "21  5.4          3.4        \n",
       "22  5.1          3.7        \n",
       "24  5.1          3.3        \n",
       "26  5.0          3.0        \n",
       "27  5.0          3.4        \n",
       "28  5.2          3.5        \n",
       "29  5.2          3.4        \n",
       "32  5.4          3.4        \n",
       "33  5.2          4.1        \n",
       "34  5.5          4.2        \n",
       "36  5.0          3.2        \n",
       "37  5.5          3.5        \n",
       "40  5.1          3.4        \n",
       "41  5.0          3.5        \n",
       "44  5.0          3.5        \n",
       "45  5.1          3.8        \n",
       "47  5.1          3.8        \n",
       "49  5.3          3.7        \n",
       "50  5.0          3.3        \n",
       "⋮   ⋮            ⋮          \n",
       "67  5.6          3.0        \n",
       "68  5.8          2.7        \n",
       "70  5.6          2.5        \n",
       "71  5.9          3.2        \n",
       "79  6.0          2.9        \n",
       "80  5.7          2.6        \n",
       "81  5.5          2.4        \n",
       "82  5.5          2.4        \n",
       "83  5.8          2.7        \n",
       "84  6.0          2.7        \n",
       "85  5.4          3.0        \n",
       "86  6.0          3.4        \n",
       "89  5.6          3.0        \n",
       "90  5.5          2.5        \n",
       "91  5.5          2.6        \n",
       "93  5.8          2.6        \n",
       "94  5.0          2.3        \n",
       "95  5.6          2.7        \n",
       "96  5.7          3.0        \n",
       "97  5.7          2.9        \n",
       "99  5.1          2.5        \n",
       "100 5.7          2.8        \n",
       "102 5.8          2.7        \n",
       "114 5.7          2.5        \n",
       "115 5.8          2.8        \n",
       "120 6.0          2.2        \n",
       "122 5.6          2.8        \n",
       "139 6.0          3.0        \n",
       "143 5.8          2.7        \n",
       "150 5.9          3.0        "
      ]
     },
     "metadata": {},
     "output_type": "display_data"
    }
   ],
   "source": [
    "subset(iris, Sepal.Length >=5.0 & \n",
    "          Sepal.Length <= 6.0)[,1:2]"
   ]
  },
  {
   "cell_type": "code",
   "execution_count": 13,
   "metadata": {},
   "outputs": [
    {
     "name": "stdout",
     "output_type": "stream",
     "text": [
      " [1]   1   5   6   8  11  15  16  17  18  19  20  21  22  24  26  27  28  29  32\n",
      "[20]  33  34  36  37  40  41  44  45  47  49  50  54  56  60  61  62  63  65  67\n",
      "[39]  68  70  71  79  80  81  82  83  84  85  86  89  90  91  93  94  95  96  97\n",
      "[58]  99 100 102 114 115 120 122 139 143 150\n"
     ]
    },
    {
     "data": {
      "text/html": [
       "<table>\n",
       "<caption>A data.frame: 67 × 2</caption>\n",
       "<thead>\n",
       "\t<tr><th></th><th scope=col>Sepal.Length</th><th scope=col>Sepal.Width</th></tr>\n",
       "\t<tr><th></th><th scope=col>&lt;dbl&gt;</th><th scope=col>&lt;dbl&gt;</th></tr>\n",
       "</thead>\n",
       "<tbody>\n",
       "\t<tr><th scope=row>1</th><td>5.1</td><td>3.5</td></tr>\n",
       "\t<tr><th scope=row>5</th><td>5.0</td><td>3.6</td></tr>\n",
       "\t<tr><th scope=row>6</th><td>5.4</td><td>3.9</td></tr>\n",
       "\t<tr><th scope=row>8</th><td>5.0</td><td>3.4</td></tr>\n",
       "\t<tr><th scope=row>11</th><td>5.4</td><td>3.7</td></tr>\n",
       "\t<tr><th scope=row>15</th><td>5.8</td><td>4.0</td></tr>\n",
       "\t<tr><th scope=row>16</th><td>5.7</td><td>4.4</td></tr>\n",
       "\t<tr><th scope=row>17</th><td>5.4</td><td>3.9</td></tr>\n",
       "\t<tr><th scope=row>18</th><td>5.1</td><td>3.5</td></tr>\n",
       "\t<tr><th scope=row>19</th><td>5.7</td><td>3.8</td></tr>\n",
       "\t<tr><th scope=row>20</th><td>5.1</td><td>3.8</td></tr>\n",
       "\t<tr><th scope=row>21</th><td>5.4</td><td>3.4</td></tr>\n",
       "\t<tr><th scope=row>22</th><td>5.1</td><td>3.7</td></tr>\n",
       "\t<tr><th scope=row>24</th><td>5.1</td><td>3.3</td></tr>\n",
       "\t<tr><th scope=row>26</th><td>5.0</td><td>3.0</td></tr>\n",
       "\t<tr><th scope=row>27</th><td>5.0</td><td>3.4</td></tr>\n",
       "\t<tr><th scope=row>28</th><td>5.2</td><td>3.5</td></tr>\n",
       "\t<tr><th scope=row>29</th><td>5.2</td><td>3.4</td></tr>\n",
       "\t<tr><th scope=row>32</th><td>5.4</td><td>3.4</td></tr>\n",
       "\t<tr><th scope=row>33</th><td>5.2</td><td>4.1</td></tr>\n",
       "\t<tr><th scope=row>34</th><td>5.5</td><td>4.2</td></tr>\n",
       "\t<tr><th scope=row>36</th><td>5.0</td><td>3.2</td></tr>\n",
       "\t<tr><th scope=row>37</th><td>5.5</td><td>3.5</td></tr>\n",
       "\t<tr><th scope=row>40</th><td>5.1</td><td>3.4</td></tr>\n",
       "\t<tr><th scope=row>41</th><td>5.0</td><td>3.5</td></tr>\n",
       "\t<tr><th scope=row>44</th><td>5.0</td><td>3.5</td></tr>\n",
       "\t<tr><th scope=row>45</th><td>5.1</td><td>3.8</td></tr>\n",
       "\t<tr><th scope=row>47</th><td>5.1</td><td>3.8</td></tr>\n",
       "\t<tr><th scope=row>49</th><td>5.3</td><td>3.7</td></tr>\n",
       "\t<tr><th scope=row>50</th><td>5.0</td><td>3.3</td></tr>\n",
       "\t<tr><th scope=row>⋮</th><td>⋮</td><td>⋮</td></tr>\n",
       "\t<tr><th scope=row>67</th><td>5.6</td><td>3.0</td></tr>\n",
       "\t<tr><th scope=row>68</th><td>5.8</td><td>2.7</td></tr>\n",
       "\t<tr><th scope=row>70</th><td>5.6</td><td>2.5</td></tr>\n",
       "\t<tr><th scope=row>71</th><td>5.9</td><td>3.2</td></tr>\n",
       "\t<tr><th scope=row>79</th><td>6.0</td><td>2.9</td></tr>\n",
       "\t<tr><th scope=row>80</th><td>5.7</td><td>2.6</td></tr>\n",
       "\t<tr><th scope=row>81</th><td>5.5</td><td>2.4</td></tr>\n",
       "\t<tr><th scope=row>82</th><td>5.5</td><td>2.4</td></tr>\n",
       "\t<tr><th scope=row>83</th><td>5.8</td><td>2.7</td></tr>\n",
       "\t<tr><th scope=row>84</th><td>6.0</td><td>2.7</td></tr>\n",
       "\t<tr><th scope=row>85</th><td>5.4</td><td>3.0</td></tr>\n",
       "\t<tr><th scope=row>86</th><td>6.0</td><td>3.4</td></tr>\n",
       "\t<tr><th scope=row>89</th><td>5.6</td><td>3.0</td></tr>\n",
       "\t<tr><th scope=row>90</th><td>5.5</td><td>2.5</td></tr>\n",
       "\t<tr><th scope=row>91</th><td>5.5</td><td>2.6</td></tr>\n",
       "\t<tr><th scope=row>93</th><td>5.8</td><td>2.6</td></tr>\n",
       "\t<tr><th scope=row>94</th><td>5.0</td><td>2.3</td></tr>\n",
       "\t<tr><th scope=row>95</th><td>5.6</td><td>2.7</td></tr>\n",
       "\t<tr><th scope=row>96</th><td>5.7</td><td>3.0</td></tr>\n",
       "\t<tr><th scope=row>97</th><td>5.7</td><td>2.9</td></tr>\n",
       "\t<tr><th scope=row>99</th><td>5.1</td><td>2.5</td></tr>\n",
       "\t<tr><th scope=row>100</th><td>5.7</td><td>2.8</td></tr>\n",
       "\t<tr><th scope=row>102</th><td>5.8</td><td>2.7</td></tr>\n",
       "\t<tr><th scope=row>114</th><td>5.7</td><td>2.5</td></tr>\n",
       "\t<tr><th scope=row>115</th><td>5.8</td><td>2.8</td></tr>\n",
       "\t<tr><th scope=row>120</th><td>6.0</td><td>2.2</td></tr>\n",
       "\t<tr><th scope=row>122</th><td>5.6</td><td>2.8</td></tr>\n",
       "\t<tr><th scope=row>139</th><td>6.0</td><td>3.0</td></tr>\n",
       "\t<tr><th scope=row>143</th><td>5.8</td><td>2.7</td></tr>\n",
       "\t<tr><th scope=row>150</th><td>5.9</td><td>3.0</td></tr>\n",
       "</tbody>\n",
       "</table>\n"
      ],
      "text/latex": [
       "A data.frame: 67 × 2\n",
       "\\begin{tabular}{r|ll}\n",
       "  & Sepal.Length & Sepal.Width\\\\\n",
       "  & <dbl> & <dbl>\\\\\n",
       "\\hline\n",
       "\t1 & 5.1 & 3.5\\\\\n",
       "\t5 & 5.0 & 3.6\\\\\n",
       "\t6 & 5.4 & 3.9\\\\\n",
       "\t8 & 5.0 & 3.4\\\\\n",
       "\t11 & 5.4 & 3.7\\\\\n",
       "\t15 & 5.8 & 4.0\\\\\n",
       "\t16 & 5.7 & 4.4\\\\\n",
       "\t17 & 5.4 & 3.9\\\\\n",
       "\t18 & 5.1 & 3.5\\\\\n",
       "\t19 & 5.7 & 3.8\\\\\n",
       "\t20 & 5.1 & 3.8\\\\\n",
       "\t21 & 5.4 & 3.4\\\\\n",
       "\t22 & 5.1 & 3.7\\\\\n",
       "\t24 & 5.1 & 3.3\\\\\n",
       "\t26 & 5.0 & 3.0\\\\\n",
       "\t27 & 5.0 & 3.4\\\\\n",
       "\t28 & 5.2 & 3.5\\\\\n",
       "\t29 & 5.2 & 3.4\\\\\n",
       "\t32 & 5.4 & 3.4\\\\\n",
       "\t33 & 5.2 & 4.1\\\\\n",
       "\t34 & 5.5 & 4.2\\\\\n",
       "\t36 & 5.0 & 3.2\\\\\n",
       "\t37 & 5.5 & 3.5\\\\\n",
       "\t40 & 5.1 & 3.4\\\\\n",
       "\t41 & 5.0 & 3.5\\\\\n",
       "\t44 & 5.0 & 3.5\\\\\n",
       "\t45 & 5.1 & 3.8\\\\\n",
       "\t47 & 5.1 & 3.8\\\\\n",
       "\t49 & 5.3 & 3.7\\\\\n",
       "\t50 & 5.0 & 3.3\\\\\n",
       "\t⋮ & ⋮ & ⋮\\\\\n",
       "\t67 & 5.6 & 3.0\\\\\n",
       "\t68 & 5.8 & 2.7\\\\\n",
       "\t70 & 5.6 & 2.5\\\\\n",
       "\t71 & 5.9 & 3.2\\\\\n",
       "\t79 & 6.0 & 2.9\\\\\n",
       "\t80 & 5.7 & 2.6\\\\\n",
       "\t81 & 5.5 & 2.4\\\\\n",
       "\t82 & 5.5 & 2.4\\\\\n",
       "\t83 & 5.8 & 2.7\\\\\n",
       "\t84 & 6.0 & 2.7\\\\\n",
       "\t85 & 5.4 & 3.0\\\\\n",
       "\t86 & 6.0 & 3.4\\\\\n",
       "\t89 & 5.6 & 3.0\\\\\n",
       "\t90 & 5.5 & 2.5\\\\\n",
       "\t91 & 5.5 & 2.6\\\\\n",
       "\t93 & 5.8 & 2.6\\\\\n",
       "\t94 & 5.0 & 2.3\\\\\n",
       "\t95 & 5.6 & 2.7\\\\\n",
       "\t96 & 5.7 & 3.0\\\\\n",
       "\t97 & 5.7 & 2.9\\\\\n",
       "\t99 & 5.1 & 2.5\\\\\n",
       "\t100 & 5.7 & 2.8\\\\\n",
       "\t102 & 5.8 & 2.7\\\\\n",
       "\t114 & 5.7 & 2.5\\\\\n",
       "\t115 & 5.8 & 2.8\\\\\n",
       "\t120 & 6.0 & 2.2\\\\\n",
       "\t122 & 5.6 & 2.8\\\\\n",
       "\t139 & 6.0 & 3.0\\\\\n",
       "\t143 & 5.8 & 2.7\\\\\n",
       "\t150 & 5.9 & 3.0\\\\\n",
       "\\end{tabular}\n"
      ],
      "text/markdown": [
       "\n",
       "A data.frame: 67 × 2\n",
       "\n",
       "| <!--/--> | Sepal.Length &lt;dbl&gt; | Sepal.Width &lt;dbl&gt; |\n",
       "|---|---|---|\n",
       "| 1 | 5.1 | 3.5 |\n",
       "| 5 | 5.0 | 3.6 |\n",
       "| 6 | 5.4 | 3.9 |\n",
       "| 8 | 5.0 | 3.4 |\n",
       "| 11 | 5.4 | 3.7 |\n",
       "| 15 | 5.8 | 4.0 |\n",
       "| 16 | 5.7 | 4.4 |\n",
       "| 17 | 5.4 | 3.9 |\n",
       "| 18 | 5.1 | 3.5 |\n",
       "| 19 | 5.7 | 3.8 |\n",
       "| 20 | 5.1 | 3.8 |\n",
       "| 21 | 5.4 | 3.4 |\n",
       "| 22 | 5.1 | 3.7 |\n",
       "| 24 | 5.1 | 3.3 |\n",
       "| 26 | 5.0 | 3.0 |\n",
       "| 27 | 5.0 | 3.4 |\n",
       "| 28 | 5.2 | 3.5 |\n",
       "| 29 | 5.2 | 3.4 |\n",
       "| 32 | 5.4 | 3.4 |\n",
       "| 33 | 5.2 | 4.1 |\n",
       "| 34 | 5.5 | 4.2 |\n",
       "| 36 | 5.0 | 3.2 |\n",
       "| 37 | 5.5 | 3.5 |\n",
       "| 40 | 5.1 | 3.4 |\n",
       "| 41 | 5.0 | 3.5 |\n",
       "| 44 | 5.0 | 3.5 |\n",
       "| 45 | 5.1 | 3.8 |\n",
       "| 47 | 5.1 | 3.8 |\n",
       "| 49 | 5.3 | 3.7 |\n",
       "| 50 | 5.0 | 3.3 |\n",
       "| ⋮ | ⋮ | ⋮ |\n",
       "| 67 | 5.6 | 3.0 |\n",
       "| 68 | 5.8 | 2.7 |\n",
       "| 70 | 5.6 | 2.5 |\n",
       "| 71 | 5.9 | 3.2 |\n",
       "| 79 | 6.0 | 2.9 |\n",
       "| 80 | 5.7 | 2.6 |\n",
       "| 81 | 5.5 | 2.4 |\n",
       "| 82 | 5.5 | 2.4 |\n",
       "| 83 | 5.8 | 2.7 |\n",
       "| 84 | 6.0 | 2.7 |\n",
       "| 85 | 5.4 | 3.0 |\n",
       "| 86 | 6.0 | 3.4 |\n",
       "| 89 | 5.6 | 3.0 |\n",
       "| 90 | 5.5 | 2.5 |\n",
       "| 91 | 5.5 | 2.6 |\n",
       "| 93 | 5.8 | 2.6 |\n",
       "| 94 | 5.0 | 2.3 |\n",
       "| 95 | 5.6 | 2.7 |\n",
       "| 96 | 5.7 | 3.0 |\n",
       "| 97 | 5.7 | 2.9 |\n",
       "| 99 | 5.1 | 2.5 |\n",
       "| 100 | 5.7 | 2.8 |\n",
       "| 102 | 5.8 | 2.7 |\n",
       "| 114 | 5.7 | 2.5 |\n",
       "| 115 | 5.8 | 2.8 |\n",
       "| 120 | 6.0 | 2.2 |\n",
       "| 122 | 5.6 | 2.8 |\n",
       "| 139 | 6.0 | 3.0 |\n",
       "| 143 | 5.8 | 2.7 |\n",
       "| 150 | 5.9 | 3.0 |\n",
       "\n"
      ],
      "text/plain": [
       "    Sepal.Length Sepal.Width\n",
       "1   5.1          3.5        \n",
       "5   5.0          3.6        \n",
       "6   5.4          3.9        \n",
       "8   5.0          3.4        \n",
       "11  5.4          3.7        \n",
       "15  5.8          4.0        \n",
       "16  5.7          4.4        \n",
       "17  5.4          3.9        \n",
       "18  5.1          3.5        \n",
       "19  5.7          3.8        \n",
       "20  5.1          3.8        \n",
       "21  5.4          3.4        \n",
       "22  5.1          3.7        \n",
       "24  5.1          3.3        \n",
       "26  5.0          3.0        \n",
       "27  5.0          3.4        \n",
       "28  5.2          3.5        \n",
       "29  5.2          3.4        \n",
       "32  5.4          3.4        \n",
       "33  5.2          4.1        \n",
       "34  5.5          4.2        \n",
       "36  5.0          3.2        \n",
       "37  5.5          3.5        \n",
       "40  5.1          3.4        \n",
       "41  5.0          3.5        \n",
       "44  5.0          3.5        \n",
       "45  5.1          3.8        \n",
       "47  5.1          3.8        \n",
       "49  5.3          3.7        \n",
       "50  5.0          3.3        \n",
       "⋮   ⋮            ⋮          \n",
       "67  5.6          3.0        \n",
       "68  5.8          2.7        \n",
       "70  5.6          2.5        \n",
       "71  5.9          3.2        \n",
       "79  6.0          2.9        \n",
       "80  5.7          2.6        \n",
       "81  5.5          2.4        \n",
       "82  5.5          2.4        \n",
       "83  5.8          2.7        \n",
       "84  6.0          2.7        \n",
       "85  5.4          3.0        \n",
       "86  6.0          3.4        \n",
       "89  5.6          3.0        \n",
       "90  5.5          2.5        \n",
       "91  5.5          2.6        \n",
       "93  5.8          2.6        \n",
       "94  5.0          2.3        \n",
       "95  5.6          2.7        \n",
       "96  5.7          3.0        \n",
       "97  5.7          2.9        \n",
       "99  5.1          2.5        \n",
       "100 5.7          2.8        \n",
       "102 5.8          2.7        \n",
       "114 5.7          2.5        \n",
       "115 5.8          2.8        \n",
       "120 6.0          2.2        \n",
       "122 5.6          2.8        \n",
       "139 6.0          3.0        \n",
       "143 5.8          2.7        \n",
       "150 5.9          3.0        "
      ]
     },
     "metadata": {},
     "output_type": "display_data"
    }
   ],
   "source": [
    "idx <- c()\n",
    "for (i in 1:nrow(iris)){\n",
    "    if (iris[i, \"Sepal.Length\"] >= 5.0 &\n",
    "        iris[i, \"Sepal.Length\"] <= 6.0){\n",
    "        idx <- c(idx, i)\n",
    "    }\n",
    "}\n",
    "print(idx)\n",
    "iris[idx, c('Sepal.Length', 'Sepal.Width')]"
   ]
  },
  {
   "cell_type": "code",
   "execution_count": 16,
   "metadata": {},
   "outputs": [
    {
     "name": "stdout",
     "output_type": "stream",
     "text": [
      "[1] 1683   33\n"
     ]
    }
   ],
   "source": [
    "sum <- 0\n",
    "count <- 0\n",
    "for (i in 1:100){\n",
    "    if (i %%3 ==0){\n",
    "        sum  <- sum + i\n",
    "        count <- count + 1\n",
    "    }\n",
    "}\n",
    "print (c(sum, count))"
   ]
  },
  {
   "cell_type": "code",
   "execution_count": 17,
   "metadata": {},
   "outputs": [
    {
     "name": "stdout",
     "output_type": "stream",
     "text": [
      "[1] 108 120 132 144 156 168 180 192\n"
     ]
    }
   ],
   "source": [
    "mul <- c()\n",
    "for (i in 101:200){\n",
    "    if (i %% 3 == 0 &\n",
    "        i %% 4 == 0){\n",
    "        mul <- c(mul, i)\n",
    "    }\n",
    "}\n",
    "print (mul)"
   ]
  },
  {
   "cell_type": "code",
   "execution_count": 18,
   "metadata": {},
   "outputs": [
    {
     "name": "stdout",
     "output_type": "stream",
     "text": [
      "[1]  1  2  3  4  6  8 12 24\n"
     ]
    }
   ],
   "source": [
    "div <- c()\n",
    "for (i in 1:24){\n",
    "    if (24 %% i ==0){\n",
    "        div <- c(div, i)\n",
    "    }\n",
    "}\n",
    "print (div)"
   ]
  },
  {
   "cell_type": "code",
   "execution_count": 19,
   "metadata": {},
   "outputs": [
    {
     "name": "stdout",
     "output_type": "stream",
     "text": [
      "[1] 3628800\n"
     ]
    }
   ],
   "source": [
    "factorial  <- 1\n",
    "\n",
    "for (i in 1:10){\n",
    "    factorial <- factorial * i\n",
    "}\n",
    "print(factorial)"
   ]
  },
  {
   "cell_type": "code",
   "execution_count": 20,
   "metadata": {},
   "outputs": [
    {
     "name": "stdout",
     "output_type": "stream",
     "text": [
      " [1]        0        1        1        2        3        5        8       13\n",
      " [9]       21       34       55       89      144      233      377      610\n",
      "[17]      987     1597     2584     4181     6765    10946    17711    28657\n",
      "[25]    46368    75025   121393   196418   317811   514229   832040  1346269\n",
      "[33]  2178309  3524578  5702887  9227465 14930352 24157817 39088169 63245986\n"
     ]
    }
   ],
   "source": [
    "pibonacci <- c(0, 1)\n",
    "for (i in 1:38){\n",
    "    pibonacci[i+2] <- pibonacci[i] + pibonacci[i+1]\n",
    "}\n",
    "print(pibonacci)"
   ]
  },
  {
   "cell_type": "markdown",
   "metadata": {},
   "source": [
    "# User defined function"
   ]
  },
  {
   "cell_type": "code",
   "execution_count": 21,
   "metadata": {},
   "outputs": [
    {
     "data": {
      "text/html": [
       "15"
      ],
      "text/latex": [
       "15"
      ],
      "text/markdown": [
       "15"
      ],
      "text/plain": [
       "[1] 15"
      ]
     },
     "metadata": {},
     "output_type": "display_data"
    },
    {
     "data": {
      "text/html": [
       "20"
      ],
      "text/latex": [
       "20"
      ],
      "text/markdown": [
       "20"
      ],
      "text/plain": [
       "[1] 20"
      ]
     },
     "metadata": {},
     "output_type": "display_data"
    }
   ],
   "source": [
    "mymax <- function(x, y){\n",
    "    num.max <- x\n",
    "    if (y > x){\n",
    "        num.max <- y\n",
    "    }\n",
    "    return(num.max)\n",
    "}\n",
    "\n",
    "mymax(10, 15)\n",
    "mymax(20, 15)"
   ]
  },
  {
   "cell_type": "code",
   "execution_count": 22,
   "metadata": {},
   "outputs": [],
   "source": [
    "mydiv <- function(x,y=2){\n",
    "    result <- x/y\n",
    "    return(result)\n",
    "}"
   ]
  },
  {
   "cell_type": "code",
   "execution_count": 23,
   "metadata": {},
   "outputs": [
    {
     "data": {
      "text/html": [
       "3.33333333333333"
      ],
      "text/latex": [
       "3.33333333333333"
      ],
      "text/markdown": [
       "3.33333333333333"
      ],
      "text/plain": [
       "[1] 3.333333"
      ]
     },
     "metadata": {},
     "output_type": "display_data"
    }
   ],
   "source": [
    "mydiv(x=10, y=3)"
   ]
  },
  {
   "cell_type": "code",
   "execution_count": 24,
   "metadata": {},
   "outputs": [
    {
     "data": {
      "text/html": [
       "3.33333333333333"
      ],
      "text/latex": [
       "3.33333333333333"
      ],
      "text/markdown": [
       "3.33333333333333"
      ],
      "text/plain": [
       "[1] 3.333333"
      ]
     },
     "metadata": {},
     "output_type": "display_data"
    }
   ],
   "source": [
    "mydiv(10, 3)"
   ]
  },
  {
   "cell_type": "code",
   "execution_count": 25,
   "metadata": {},
   "outputs": [
    {
     "data": {
      "text/html": [
       "5"
      ],
      "text/latex": [
       "5"
      ],
      "text/markdown": [
       "5"
      ],
      "text/plain": [
       "[1] 5"
      ]
     },
     "metadata": {},
     "output_type": "display_data"
    }
   ],
   "source": [
    "mydiv(10)"
   ]
  },
  {
   "cell_type": "code",
   "execution_count": 26,
   "metadata": {},
   "outputs": [
    {
     "data": {
      "text/html": [
       "<dl>\n",
       "\t<dt>$sum</dt>\n",
       "\t\t<dd>13</dd>\n",
       "\t<dt>$mul</dt>\n",
       "\t\t<dd>40</dd>\n",
       "</dl>\n"
      ],
      "text/latex": [
       "\\begin{description}\n",
       "\\item[\\$sum] 13\n",
       "\\item[\\$mul] 40\n",
       "\\end{description}\n"
      ],
      "text/markdown": [
       "$sum\n",
       ":   13\n",
       "$mul\n",
       ":   40\n",
       "\n",
       "\n"
      ],
      "text/plain": [
       "$sum\n",
       "[1] 13\n",
       "\n",
       "$mul\n",
       "[1] 40\n"
      ]
     },
     "metadata": {},
     "output_type": "display_data"
    }
   ],
   "source": [
    "myfunc <- function(x,y){\n",
    "    val.sum <- x+y\n",
    "    val.mul <- x*y\n",
    "    return(list(sum=val.sum, mul=val.mul))\n",
    "}\n",
    "\n",
    "myfunc(5,8)"
   ]
  },
  {
   "cell_type": "code",
   "execution_count": null,
   "metadata": {},
   "outputs": [],
   "source": [
    "setwd('/home/ksjgen11/codingproject/study/Rworks')\n",
    "source('Rstudy_4_R programming.ipynb')\n"
   ]
  },
  {
   "cell_type": "code",
   "execution_count": 28,
   "metadata": {},
   "outputs": [
    {
     "data": {
      "text/html": [
       "2"
      ],
      "text/latex": [
       "2"
      ],
      "text/markdown": [
       "2"
      ],
      "text/plain": [
       "[1] 2"
      ]
     },
     "metadata": {},
     "output_type": "display_data"
    }
   ],
   "source": [
    "lgm <- function(x, y){\n",
    "    for (i in 1:max(x, y)){\n",
    "        if (x %% i == 0 & \n",
    "            y %% i == 0){\n",
    "            divisor.max <- i\n",
    "        }\n",
    "    }\n",
    "    return (divisor.max)\n",
    "}\n",
    "result <- lgm(10, 8)\n",
    "result"
   ]
  },
  {
   "cell_type": "code",
   "execution_count": 30,
   "metadata": {},
   "outputs": [
    {
     "data": {
      "text/html": [
       "50"
      ],
      "text/latex": [
       "50"
      ],
      "text/markdown": [
       "50"
      ],
      "text/plain": [
       "[1] 50"
      ]
     },
     "metadata": {},
     "output_type": "display_data"
    }
   ],
   "source": [
    "result <- lgm(500, 350)\n",
    "result"
   ]
  },
  {
   "cell_type": "code",
   "execution_count": 35,
   "metadata": {},
   "outputs": [
    {
     "data": {
      "text/html": [
       "9"
      ],
      "text/latex": [
       "9"
      ],
      "text/markdown": [
       "9"
      ],
      "text/plain": [
       "[1] 9"
      ]
     },
     "metadata": {},
     "output_type": "display_data"
    },
    {
     "data": {
      "text/html": [
       "1"
      ],
      "text/latex": [
       "1"
      ],
      "text/markdown": [
       "1"
      ],
      "text/plain": [
       "[1] 1"
      ]
     },
     "metadata": {},
     "output_type": "display_data"
    }
   ],
   "source": [
    "maxmin <- function(x){\n",
    "    max <- max(x)\n",
    "    min <- min(x)\n",
    "    return(list(max=max, min=min))\n",
    "}\n",
    "v1 <- c(7,1,2,8,9)\n",
    "result <- maxmin(v1)\n",
    "result$max ; result$min"
   ]
  },
  {
   "cell_type": "code",
   "execution_count": 36,
   "metadata": {},
   "outputs": [
    {
     "data": {
      "text/html": [
       "<dl>\n",
       "\t<dt>$max</dt>\n",
       "\t\t<dd>7.9</dd>\n",
       "\t<dt>$min</dt>\n",
       "\t\t<dd>4.3</dd>\n",
       "</dl>\n"
      ],
      "text/latex": [
       "\\begin{description}\n",
       "\\item[\\$max] 7.9\n",
       "\\item[\\$min] 4.3\n",
       "\\end{description}\n"
      ],
      "text/markdown": [
       "$max\n",
       ":   7.9\n",
       "$min\n",
       ":   4.3\n",
       "\n",
       "\n"
      ],
      "text/plain": [
       "$max\n",
       "[1] 7.9\n",
       "\n",
       "$min\n",
       "[1] 4.3\n"
      ]
     },
     "metadata": {},
     "output_type": "display_data"
    }
   ],
   "source": [
    "result <- maxmin(iris[,1])\n",
    "result"
   ]
  },
  {
   "cell_type": "markdown",
   "metadata": {},
   "source": [
    "# Apply functions\n",
    "\n",
    " - while statement is not recommended because it is too slow\n",
    " - apply functions -> iterate matrix, dataframe, list....\n",
    "  - apply returns list, matrix, dataframe depends on the data type\n",
    "  - lapply returns list format\n",
    "  - sapply returns vector or list -> select avaliale\n",
    " "
   ]
  },
  {
   "cell_type": "code",
   "execution_count": 41,
   "metadata": {},
   "outputs": [
    {
     "name": "stdout",
     "output_type": "stream",
     "text": [
      "[1] 5.843333\n",
      "[1] 3.057333\n",
      "[1] 3.758\n",
      "[1] 1.199333\n"
     ]
    }
   ],
   "source": [
    "for (i in 1:4){\n",
    "    print(mean(iris[,i]))\n",
    "}"
   ]
  },
  {
   "cell_type": "code",
   "execution_count": 38,
   "metadata": {},
   "outputs": [
    {
     "data": {
      "text/html": [
       "<style>\n",
       ".dl-inline {width: auto; margin:0; padding: 0}\n",
       ".dl-inline>dt, .dl-inline>dd {float: none; width: auto; display: inline-block}\n",
       ".dl-inline>dt::after {content: \":\\0020\"; padding-right: .5ex}\n",
       ".dl-inline>dt:not(:first-of-type) {padding-left: .5ex}\n",
       "</style><dl class=dl-inline><dt>Sepal.Length</dt><dd>5.84333333333333</dd><dt>Sepal.Width</dt><dd>3.05733333333333</dd><dt>Petal.Length</dt><dd>3.758</dd><dt>Petal.Width</dt><dd>1.19933333333333</dd></dl>\n"
      ],
      "text/latex": [
       "\\begin{description*}\n",
       "\\item[Sepal.Length] 5.84333333333333\n",
       "\\item[Sepal.Width] 3.05733333333333\n",
       "\\item[Petal.Length] 3.758\n",
       "\\item[Petal.Width] 1.19933333333333\n",
       "\\end{description*}\n"
      ],
      "text/markdown": [
       "Sepal.Length\n",
       ":   5.84333333333333Sepal.Width\n",
       ":   3.05733333333333Petal.Length\n",
       ":   3.758Petal.Width\n",
       ":   1.19933333333333\n",
       "\n"
      ],
      "text/plain": [
       "Sepal.Length  Sepal.Width Petal.Length  Petal.Width \n",
       "    5.843333     3.057333     3.758000     1.199333 "
      ]
     },
     "metadata": {},
     "output_type": "display_data"
    }
   ],
   "source": [
    "apply(iris[,1:4], 2, mean) # column direction"
   ]
  },
  {
   "cell_type": "code",
   "execution_count": 39,
   "metadata": {},
   "outputs": [
    {
     "data": {
      "text/html": [
       "<style>\n",
       ".list-inline {list-style: none; margin:0; padding: 0}\n",
       ".list-inline>li {display: inline-block}\n",
       ".list-inline>li:not(:last-child)::after {content: \"\\00b7\"; padding: 0 .5ex}\n",
       "</style>\n",
       "<ol class=list-inline><li>2.55</li><li>2.375</li><li>2.35</li><li>2.35</li><li>2.55</li><li>2.85</li><li>2.425</li><li>2.525</li><li>2.225</li><li>2.4</li><li>2.7</li><li>2.5</li><li>2.325</li><li>2.125</li><li>2.8</li><li>3</li><li>2.75</li><li>2.575</li><li>2.875</li><li>2.675</li><li>2.675</li><li>2.675</li><li>2.35</li><li>2.65</li><li>2.575</li><li>2.45</li><li>2.6</li><li>2.6</li><li>2.55</li><li>2.425</li><li>2.425</li><li>2.675</li><li>2.725</li><li>2.825</li><li>2.425</li><li>2.4</li><li>2.625</li><li>2.5</li><li>2.225</li><li>2.55</li><li>2.525</li><li>2.1</li><li>2.275</li><li>2.675</li><li>2.8</li><li>2.375</li><li>2.675</li><li>2.35</li><li>2.675</li><li>2.475</li><li>4.075</li><li>3.9</li><li>4.1</li><li>3.275</li><li>3.85</li><li>3.575</li><li>3.975</li><li>2.9</li><li>3.85</li><li>3.3</li><li>2.875</li><li>3.65</li><li>3.3</li><li>3.775</li><li>3.35</li><li>3.9</li><li>3.65</li><li>3.4</li><li>3.6</li><li>3.275</li><li>3.925</li><li>3.55</li><li>3.8</li><li>3.7</li><li>3.725</li><li>3.85</li><li>3.95</li><li>4.1</li><li>3.725</li><li>3.2</li><li>3.2</li><li>3.15</li><li>3.4</li><li>3.85</li><li>3.6</li><li>3.875</li><li>4</li><li>3.575</li><li>3.5</li><li>3.325</li><li>3.425</li><li>3.775</li><li>3.4</li><li>2.9</li><li>3.45</li><li>3.525</li><li>3.525</li><li>3.675</li><li>2.925</li><li>3.475</li><li>4.525</li><li>3.875</li><li>4.525</li><li>4.15</li><li>4.375</li><li>4.825</li><li>3.4</li><li>4.575</li><li>4.2</li><li>4.85</li><li>4.2</li><li>4.075</li><li>4.35</li><li>3.8</li><li>4.025</li><li>4.3</li><li>4.2</li><li>5.1</li><li>4.875</li><li>3.675</li><li>4.525</li><li>3.825</li><li>4.8</li><li>3.925</li><li>4.45</li><li>4.55</li><li>3.9</li><li>3.95</li><li>4.225</li><li>4.4</li><li>4.55</li><li>5.025</li><li>4.25</li><li>3.925</li><li>3.925</li><li>4.775</li><li>4.425</li><li>4.2</li><li>3.9</li><li>4.375</li><li>4.45</li><li>4.35</li><li>3.875</li><li>4.55</li><li>4.55</li><li>4.3</li><li>3.925</li><li>4.175</li><li>4.325</li><li>3.95</li></ol>\n"
      ],
      "text/latex": [
       "\\begin{enumerate*}\n",
       "\\item 2.55\n",
       "\\item 2.375\n",
       "\\item 2.35\n",
       "\\item 2.35\n",
       "\\item 2.55\n",
       "\\item 2.85\n",
       "\\item 2.425\n",
       "\\item 2.525\n",
       "\\item 2.225\n",
       "\\item 2.4\n",
       "\\item 2.7\n",
       "\\item 2.5\n",
       "\\item 2.325\n",
       "\\item 2.125\n",
       "\\item 2.8\n",
       "\\item 3\n",
       "\\item 2.75\n",
       "\\item 2.575\n",
       "\\item 2.875\n",
       "\\item 2.675\n",
       "\\item 2.675\n",
       "\\item 2.675\n",
       "\\item 2.35\n",
       "\\item 2.65\n",
       "\\item 2.575\n",
       "\\item 2.45\n",
       "\\item 2.6\n",
       "\\item 2.6\n",
       "\\item 2.55\n",
       "\\item 2.425\n",
       "\\item 2.425\n",
       "\\item 2.675\n",
       "\\item 2.725\n",
       "\\item 2.825\n",
       "\\item 2.425\n",
       "\\item 2.4\n",
       "\\item 2.625\n",
       "\\item 2.5\n",
       "\\item 2.225\n",
       "\\item 2.55\n",
       "\\item 2.525\n",
       "\\item 2.1\n",
       "\\item 2.275\n",
       "\\item 2.675\n",
       "\\item 2.8\n",
       "\\item 2.375\n",
       "\\item 2.675\n",
       "\\item 2.35\n",
       "\\item 2.675\n",
       "\\item 2.475\n",
       "\\item 4.075\n",
       "\\item 3.9\n",
       "\\item 4.1\n",
       "\\item 3.275\n",
       "\\item 3.85\n",
       "\\item 3.575\n",
       "\\item 3.975\n",
       "\\item 2.9\n",
       "\\item 3.85\n",
       "\\item 3.3\n",
       "\\item 2.875\n",
       "\\item 3.65\n",
       "\\item 3.3\n",
       "\\item 3.775\n",
       "\\item 3.35\n",
       "\\item 3.9\n",
       "\\item 3.65\n",
       "\\item 3.4\n",
       "\\item 3.6\n",
       "\\item 3.275\n",
       "\\item 3.925\n",
       "\\item 3.55\n",
       "\\item 3.8\n",
       "\\item 3.7\n",
       "\\item 3.725\n",
       "\\item 3.85\n",
       "\\item 3.95\n",
       "\\item 4.1\n",
       "\\item 3.725\n",
       "\\item 3.2\n",
       "\\item 3.2\n",
       "\\item 3.15\n",
       "\\item 3.4\n",
       "\\item 3.85\n",
       "\\item 3.6\n",
       "\\item 3.875\n",
       "\\item 4\n",
       "\\item 3.575\n",
       "\\item 3.5\n",
       "\\item 3.325\n",
       "\\item 3.425\n",
       "\\item 3.775\n",
       "\\item 3.4\n",
       "\\item 2.9\n",
       "\\item 3.45\n",
       "\\item 3.525\n",
       "\\item 3.525\n",
       "\\item 3.675\n",
       "\\item 2.925\n",
       "\\item 3.475\n",
       "\\item 4.525\n",
       "\\item 3.875\n",
       "\\item 4.525\n",
       "\\item 4.15\n",
       "\\item 4.375\n",
       "\\item 4.825\n",
       "\\item 3.4\n",
       "\\item 4.575\n",
       "\\item 4.2\n",
       "\\item 4.85\n",
       "\\item 4.2\n",
       "\\item 4.075\n",
       "\\item 4.35\n",
       "\\item 3.8\n",
       "\\item 4.025\n",
       "\\item 4.3\n",
       "\\item 4.2\n",
       "\\item 5.1\n",
       "\\item 4.875\n",
       "\\item 3.675\n",
       "\\item 4.525\n",
       "\\item 3.825\n",
       "\\item 4.8\n",
       "\\item 3.925\n",
       "\\item 4.45\n",
       "\\item 4.55\n",
       "\\item 3.9\n",
       "\\item 3.95\n",
       "\\item 4.225\n",
       "\\item 4.4\n",
       "\\item 4.55\n",
       "\\item 5.025\n",
       "\\item 4.25\n",
       "\\item 3.925\n",
       "\\item 3.925\n",
       "\\item 4.775\n",
       "\\item 4.425\n",
       "\\item 4.2\n",
       "\\item 3.9\n",
       "\\item 4.375\n",
       "\\item 4.45\n",
       "\\item 4.35\n",
       "\\item 3.875\n",
       "\\item 4.55\n",
       "\\item 4.55\n",
       "\\item 4.3\n",
       "\\item 3.925\n",
       "\\item 4.175\n",
       "\\item 4.325\n",
       "\\item 3.95\n",
       "\\end{enumerate*}\n"
      ],
      "text/markdown": [
       "1. 2.55\n",
       "2. 2.375\n",
       "3. 2.35\n",
       "4. 2.35\n",
       "5. 2.55\n",
       "6. 2.85\n",
       "7. 2.425\n",
       "8. 2.525\n",
       "9. 2.225\n",
       "10. 2.4\n",
       "11. 2.7\n",
       "12. 2.5\n",
       "13. 2.325\n",
       "14. 2.125\n",
       "15. 2.8\n",
       "16. 3\n",
       "17. 2.75\n",
       "18. 2.575\n",
       "19. 2.875\n",
       "20. 2.675\n",
       "21. 2.675\n",
       "22. 2.675\n",
       "23. 2.35\n",
       "24. 2.65\n",
       "25. 2.575\n",
       "26. 2.45\n",
       "27. 2.6\n",
       "28. 2.6\n",
       "29. 2.55\n",
       "30. 2.425\n",
       "31. 2.425\n",
       "32. 2.675\n",
       "33. 2.725\n",
       "34. 2.825\n",
       "35. 2.425\n",
       "36. 2.4\n",
       "37. 2.625\n",
       "38. 2.5\n",
       "39. 2.225\n",
       "40. 2.55\n",
       "41. 2.525\n",
       "42. 2.1\n",
       "43. 2.275\n",
       "44. 2.675\n",
       "45. 2.8\n",
       "46. 2.375\n",
       "47. 2.675\n",
       "48. 2.35\n",
       "49. 2.675\n",
       "50. 2.475\n",
       "51. 4.075\n",
       "52. 3.9\n",
       "53. 4.1\n",
       "54. 3.275\n",
       "55. 3.85\n",
       "56. 3.575\n",
       "57. 3.975\n",
       "58. 2.9\n",
       "59. 3.85\n",
       "60. 3.3\n",
       "61. 2.875\n",
       "62. 3.65\n",
       "63. 3.3\n",
       "64. 3.775\n",
       "65. 3.35\n",
       "66. 3.9\n",
       "67. 3.65\n",
       "68. 3.4\n",
       "69. 3.6\n",
       "70. 3.275\n",
       "71. 3.925\n",
       "72. 3.55\n",
       "73. 3.8\n",
       "74. 3.7\n",
       "75. 3.725\n",
       "76. 3.85\n",
       "77. 3.95\n",
       "78. 4.1\n",
       "79. 3.725\n",
       "80. 3.2\n",
       "81. 3.2\n",
       "82. 3.15\n",
       "83. 3.4\n",
       "84. 3.85\n",
       "85. 3.6\n",
       "86. 3.875\n",
       "87. 4\n",
       "88. 3.575\n",
       "89. 3.5\n",
       "90. 3.325\n",
       "91. 3.425\n",
       "92. 3.775\n",
       "93. 3.4\n",
       "94. 2.9\n",
       "95. 3.45\n",
       "96. 3.525\n",
       "97. 3.525\n",
       "98. 3.675\n",
       "99. 2.925\n",
       "100. 3.475\n",
       "101. 4.525\n",
       "102. 3.875\n",
       "103. 4.525\n",
       "104. 4.15\n",
       "105. 4.375\n",
       "106. 4.825\n",
       "107. 3.4\n",
       "108. 4.575\n",
       "109. 4.2\n",
       "110. 4.85\n",
       "111. 4.2\n",
       "112. 4.075\n",
       "113. 4.35\n",
       "114. 3.8\n",
       "115. 4.025\n",
       "116. 4.3\n",
       "117. 4.2\n",
       "118. 5.1\n",
       "119. 4.875\n",
       "120. 3.675\n",
       "121. 4.525\n",
       "122. 3.825\n",
       "123. 4.8\n",
       "124. 3.925\n",
       "125. 4.45\n",
       "126. 4.55\n",
       "127. 3.9\n",
       "128. 3.95\n",
       "129. 4.225\n",
       "130. 4.4\n",
       "131. 4.55\n",
       "132. 5.025\n",
       "133. 4.25\n",
       "134. 3.925\n",
       "135. 3.925\n",
       "136. 4.775\n",
       "137. 4.425\n",
       "138. 4.2\n",
       "139. 3.9\n",
       "140. 4.375\n",
       "141. 4.45\n",
       "142. 4.35\n",
       "143. 3.875\n",
       "144. 4.55\n",
       "145. 4.55\n",
       "146. 4.3\n",
       "147. 3.925\n",
       "148. 4.175\n",
       "149. 4.325\n",
       "150. 3.95\n",
       "\n",
       "\n"
      ],
      "text/plain": [
       "  [1] 2.550 2.375 2.350 2.350 2.550 2.850 2.425 2.525 2.225 2.400 2.700 2.500\n",
       " [13] 2.325 2.125 2.800 3.000 2.750 2.575 2.875 2.675 2.675 2.675 2.350 2.650\n",
       " [25] 2.575 2.450 2.600 2.600 2.550 2.425 2.425 2.675 2.725 2.825 2.425 2.400\n",
       " [37] 2.625 2.500 2.225 2.550 2.525 2.100 2.275 2.675 2.800 2.375 2.675 2.350\n",
       " [49] 2.675 2.475 4.075 3.900 4.100 3.275 3.850 3.575 3.975 2.900 3.850 3.300\n",
       " [61] 2.875 3.650 3.300 3.775 3.350 3.900 3.650 3.400 3.600 3.275 3.925 3.550\n",
       " [73] 3.800 3.700 3.725 3.850 3.950 4.100 3.725 3.200 3.200 3.150 3.400 3.850\n",
       " [85] 3.600 3.875 4.000 3.575 3.500 3.325 3.425 3.775 3.400 2.900 3.450 3.525\n",
       " [97] 3.525 3.675 2.925 3.475 4.525 3.875 4.525 4.150 4.375 4.825 3.400 4.575\n",
       "[109] 4.200 4.850 4.200 4.075 4.350 3.800 4.025 4.300 4.200 5.100 4.875 3.675\n",
       "[121] 4.525 3.825 4.800 3.925 4.450 4.550 3.900 3.950 4.225 4.400 4.550 5.025\n",
       "[133] 4.250 3.925 3.925 4.775 4.425 4.200 3.900 4.375 4.450 4.350 3.875 4.550\n",
       "[145] 4.550 4.300 3.925 4.175 4.325 3.950"
      ]
     },
     "metadata": {},
     "output_type": "display_data"
    }
   ],
   "source": [
    "apply(iris[,1:4], 1, mean) # row direction"
   ]
  },
  {
   "cell_type": "code",
   "execution_count": 42,
   "metadata": {},
   "outputs": [
    {
     "data": {
      "text/html": [
       "<dl>\n",
       "\t<dt>$Sepal.Length</dt>\n",
       "\t\t<dd>5.84333333333333</dd>\n",
       "\t<dt>$Sepal.Width</dt>\n",
       "\t\t<dd>3.05733333333333</dd>\n",
       "\t<dt>$Petal.Length</dt>\n",
       "\t\t<dd>3.758</dd>\n",
       "\t<dt>$Petal.Width</dt>\n",
       "\t\t<dd>1.19933333333333</dd>\n",
       "</dl>\n"
      ],
      "text/latex": [
       "\\begin{description}\n",
       "\\item[\\$Sepal.Length] 5.84333333333333\n",
       "\\item[\\$Sepal.Width] 3.05733333333333\n",
       "\\item[\\$Petal.Length] 3.758\n",
       "\\item[\\$Petal.Width] 1.19933333333333\n",
       "\\end{description}\n"
      ],
      "text/markdown": [
       "$Sepal.Length\n",
       ":   5.84333333333333\n",
       "$Sepal.Width\n",
       ":   3.05733333333333\n",
       "$Petal.Length\n",
       ":   3.758\n",
       "$Petal.Width\n",
       ":   1.19933333333333\n",
       "\n",
       "\n"
      ],
      "text/plain": [
       "$Sepal.Length\n",
       "[1] 5.843333\n",
       "\n",
       "$Sepal.Width\n",
       "[1] 3.057333\n",
       "\n",
       "$Petal.Length\n",
       "[1] 3.758\n",
       "\n",
       "$Petal.Width\n",
       "[1] 1.199333\n"
      ]
     },
     "metadata": {},
     "output_type": "display_data"
    }
   ],
   "source": [
    "lapply(iris[,1:4], mean)"
   ]
  },
  {
   "cell_type": "code",
   "execution_count": 43,
   "metadata": {},
   "outputs": [
    {
     "data": {
      "text/html": [
       "<style>\n",
       ".dl-inline {width: auto; margin:0; padding: 0}\n",
       ".dl-inline>dt, .dl-inline>dd {float: none; width: auto; display: inline-block}\n",
       ".dl-inline>dt::after {content: \":\\0020\"; padding-right: .5ex}\n",
       ".dl-inline>dt:not(:first-of-type) {padding-left: .5ex}\n",
       "</style><dl class=dl-inline><dt>Sepal.Length</dt><dd>5.84333333333333</dd><dt>Sepal.Width</dt><dd>3.05733333333333</dd><dt>Petal.Length</dt><dd>3.758</dd><dt>Petal.Width</dt><dd>1.19933333333333</dd></dl>\n"
      ],
      "text/latex": [
       "\\begin{description*}\n",
       "\\item[Sepal.Length] 5.84333333333333\n",
       "\\item[Sepal.Width] 3.05733333333333\n",
       "\\item[Petal.Length] 3.758\n",
       "\\item[Petal.Width] 1.19933333333333\n",
       "\\end{description*}\n"
      ],
      "text/markdown": [
       "Sepal.Length\n",
       ":   5.84333333333333Sepal.Width\n",
       ":   3.05733333333333Petal.Length\n",
       ":   3.758Petal.Width\n",
       ":   1.19933333333333\n",
       "\n"
      ],
      "text/plain": [
       "Sepal.Length  Sepal.Width Petal.Length  Petal.Width \n",
       "    5.843333     3.057333     3.758000     1.199333 "
      ]
     },
     "metadata": {},
     "output_type": "display_data"
    }
   ],
   "source": [
    "sapply(iris[,1:4], mean)"
   ]
  },
  {
   "cell_type": "code",
   "execution_count": 44,
   "metadata": {},
   "outputs": [
    {
     "data": {
      "text/html": [
       "<dl>\n",
       "\t<dt>$Sepal.Length</dt>\n",
       "\t\t<dd>5.84333333333333</dd>\n",
       "\t<dt>$Sepal.Width</dt>\n",
       "\t\t<dd>3.05733333333333</dd>\n",
       "\t<dt>$Petal.Length</dt>\n",
       "\t\t<dd>3.758</dd>\n",
       "\t<dt>$Petal.Width</dt>\n",
       "\t\t<dd>1.19933333333333</dd>\n",
       "</dl>\n"
      ],
      "text/latex": [
       "\\begin{description}\n",
       "\\item[\\$Sepal.Length] 5.84333333333333\n",
       "\\item[\\$Sepal.Width] 3.05733333333333\n",
       "\\item[\\$Petal.Length] 3.758\n",
       "\\item[\\$Petal.Width] 1.19933333333333\n",
       "\\end{description}\n"
      ],
      "text/markdown": [
       "$Sepal.Length\n",
       ":   5.84333333333333\n",
       "$Sepal.Width\n",
       ":   3.05733333333333\n",
       "$Petal.Length\n",
       ":   3.758\n",
       "$Petal.Width\n",
       ":   1.19933333333333\n",
       "\n",
       "\n"
      ],
      "text/plain": [
       "$Sepal.Length\n",
       "[1] 5.843333\n",
       "\n",
       "$Sepal.Width\n",
       "[1] 3.057333\n",
       "\n",
       "$Petal.Length\n",
       "[1] 3.758\n",
       "\n",
       "$Petal.Width\n",
       "[1] 1.199333\n"
      ]
     },
     "metadata": {},
     "output_type": "display_data"
    }
   ],
   "source": [
    "sapply(iris[,1:4], mean, simplify=F)"
   ]
  },
  {
   "cell_type": "code",
   "execution_count": 45,
   "metadata": {},
   "outputs": [
    {
     "data": {
      "text/html": [
       "<style>\n",
       ".dl-inline {width: auto; margin:0; padding: 0}\n",
       ".dl-inline>dt, .dl-inline>dd {float: none; width: auto; display: inline-block}\n",
       ".dl-inline>dt::after {content: \":\\0020\"; padding-right: .5ex}\n",
       ".dl-inline>dt:not(:first-of-type) {padding-left: .5ex}\n",
       "</style><dl class=dl-inline><dt>Sepal.Length</dt><dd>3.6</dd><dt>Sepal.Width</dt><dd>2.4</dd><dt>Petal.Length</dt><dd>5.9</dd><dt>Petal.Width</dt><dd>2.4</dd></dl>\n"
      ],
      "text/latex": [
       "\\begin{description*}\n",
       "\\item[Sepal.Length] 3.6\n",
       "\\item[Sepal.Width] 2.4\n",
       "\\item[Petal.Length] 5.9\n",
       "\\item[Petal.Width] 2.4\n",
       "\\end{description*}\n"
      ],
      "text/markdown": [
       "Sepal.Length\n",
       ":   3.6Sepal.Width\n",
       ":   2.4Petal.Length\n",
       ":   5.9Petal.Width\n",
       ":   2.4\n",
       "\n"
      ],
      "text/plain": [
       "Sepal.Length  Sepal.Width Petal.Length  Petal.Width \n",
       "         3.6          2.4          5.9          2.4 "
      ]
     },
     "metadata": {},
     "output_type": "display_data"
    }
   ],
   "source": [
    "myfunc <- function(x){\n",
    "    a <- max(x)\n",
    "    b <- min(x)\n",
    "    return(a-b)\n",
    "}\n",
    "\n",
    "sapply(iris[,1:4], myfunc)"
   ]
  },
  {
   "cell_type": "markdown",
   "metadata": {},
   "source": [
    "# programming example"
   ]
  },
  {
   "cell_type": "code",
   "execution_count": null,
   "metadata": {},
   "outputs": [],
   "source": [
    "n <- readline(prompt = 'please input the number: ')"
   ]
  },
  {
   "cell_type": "code",
   "execution_count": 49,
   "metadata": {},
   "outputs": [
    {
     "name": "stdout",
     "output_type": "stream",
     "text": [
      "Guess a number between 0 and 100.\n",
      "Guess number: 13\n",
      "Guess number: 14\n"
     ]
    }
   ],
   "source": [
    "num <- round(runif(1)*100, digits = 0)\n",
    "guess <- -1\n",
    "cat('Guess a number between 0 and 100.\\n')\n",
    "\n",
    "while (guess != num){\n",
    "    guess <- readline(prompt = 'Guess number: ')\n",
    "    guess <- as.integer(guess)\n",
    "    if (guess == num){\n",
    "        print(\"Congraturations! \", num, \" is right\\n\")\n",
    "    } else if (guess < num){\n",
    "        print(\"It's smaller!\\n\")\n",
    "    } else if (guess >num){\n",
    "        print(\"It's bigger!\\n\")\n",
    "    }\n",
    "}"
   ]
  },
  {
   "cell_type": "code",
   "execution_count": 50,
   "metadata": {},
   "outputs": [
    {
     "data": {
      "text/html": [
       "7"
      ],
      "text/latex": [
       "7"
      ],
      "text/markdown": [
       "7"
      ],
      "text/plain": [
       "[1] 7"
      ]
     },
     "metadata": {},
     "output_type": "display_data"
    }
   ],
   "source": [
    "maxtriple <- function(a,b,c){\n",
    "    max <- max(c(a,b,c))\n",
    "    return (max)\n",
    "}\n",
    "\n",
    "maxtriple(3,7,4)"
   ]
  },
  {
   "cell_type": "code",
   "execution_count": 53,
   "metadata": {},
   "outputs": [
    {
     "name": "stdout",
     "output_type": "stream",
     "text": [
      "1: 1\n",
      "2: 2\n"
     ]
    }
   ],
   "source": [
    "x <- -1\n",
    "y <- -1\n",
    "\n",
    "while (x != 0 | y != 0){\n",
    "    x <- readline(prompt = '1: ')\n",
    "x <- as.integer(x)\n",
    "y <- readline(prompt = '2: ')\n",
    "y <- as.integer(y)\n",
    "    cat (x*y)\n",
    "}"
   ]
  }
 ],
 "metadata": {
  "kernelspec": {
   "display_name": "R",
   "language": "R",
   "name": "ir"
  },
  "language_info": {
   "codemirror_mode": "r",
   "file_extension": ".r",
   "mimetype": "text/x-r-source",
   "name": "R",
   "pygments_lexer": "r",
   "version": "4.0.2"
  }
 },
 "nbformat": 4,
 "nbformat_minor": 4
}
