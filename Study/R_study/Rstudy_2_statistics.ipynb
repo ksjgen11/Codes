{
 "cells": [
  {
   "cell_type": "markdown",
   "metadata": {},
   "source": [
    "# Univariate Data Search\n",
    "\n",
    " - one variable\n",
    " - store at vector\n",
    " \n",
    " - Multivariate data -> at least 2 variables -> matrix, data frame\n",
    " \n",
    "Population / Sample / error / how do we reduce error? / population parameter - mean, standard deviation\n",
    "\n",
    "the number of variables / types of variables / graph\n",
    "univariate / continuous / histogram, kernal density curve, box plot, violin plot\n",
    "univariate / categorical / bar chart, pie chart\n",
    "\n",
    "multivariate / continuous / scatter plot, line plot, time series plot\n",
    "multivariate / categorical / mosaic chart\n",
    "\n"
   ]
  },
  {
   "cell_type": "code",
   "execution_count": 2,
   "metadata": {},
   "outputs": [
    {
     "data": {
      "text/plain": [
       "ans\n",
       "N Y \n",
       "1 4 "
      ]
     },
     "metadata": {},
     "output_type": "display_data"
    },
    {
     "data": {
      "text/plain": [
       "ans\n",
       "  N   Y \n",
       "0.2 0.8 "
      ]
     },
     "metadata": {},
     "output_type": "display_data"
    }
   ],
   "source": [
    "ans = c('Y', 'Y', 'N', 'Y', 'Y')\n",
    "table(ans)\n",
    "table(ans)/length(ans)"
   ]
  },
  {
   "cell_type": "markdown",
   "metadata": {},
   "source": [
    "the basic analysis of qualitative data is counting the number of data.\n",
    "table() makes frequency distribution table automatically.\n",
    "total number of data is length()"
   ]
  },
  {
   "cell_type": "code",
   "execution_count": 4,
   "metadata": {},
   "outputs": [
    {
     "data": {
      "text/html": [
       "<style>\n",
       ".list-inline {list-style: none; margin:0; padding: 0}\n",
       ".list-inline>li {display: inline-block}\n",
       ".list-inline>li:not(:last-child)::after {content: \"\\00b7\"; padding: 0 .5ex}\n",
       "</style>\n",
       "<ol class=list-inline><li>setosa</li><li>setosa</li><li>setosa</li><li>setosa</li><li>setosa</li><li>setosa</li><li>setosa</li><li>setosa</li><li>setosa</li><li>setosa</li><li>setosa</li><li>setosa</li><li>setosa</li><li>setosa</li><li>setosa</li><li>setosa</li><li>setosa</li><li>setosa</li><li>setosa</li><li>setosa</li><li>setosa</li><li>setosa</li><li>setosa</li><li>setosa</li><li>setosa</li><li>setosa</li><li>setosa</li><li>setosa</li><li>setosa</li><li>setosa</li><li>setosa</li><li>setosa</li><li>setosa</li><li>setosa</li><li>setosa</li><li>setosa</li><li>setosa</li><li>setosa</li><li>setosa</li><li>setosa</li><li>setosa</li><li>setosa</li><li>setosa</li><li>setosa</li><li>setosa</li><li>setosa</li><li>setosa</li><li>setosa</li><li>setosa</li><li>setosa</li><li>versicolor</li><li>versicolor</li><li>versicolor</li><li>versicolor</li><li>versicolor</li><li>versicolor</li><li>versicolor</li><li>versicolor</li><li>versicolor</li><li>versicolor</li><li>versicolor</li><li>versicolor</li><li>versicolor</li><li>versicolor</li><li>versicolor</li><li>versicolor</li><li>versicolor</li><li>versicolor</li><li>versicolor</li><li>versicolor</li><li>versicolor</li><li>versicolor</li><li>versicolor</li><li>versicolor</li><li>versicolor</li><li>versicolor</li><li>versicolor</li><li>versicolor</li><li>versicolor</li><li>versicolor</li><li>versicolor</li><li>versicolor</li><li>versicolor</li><li>versicolor</li><li>versicolor</li><li>versicolor</li><li>versicolor</li><li>versicolor</li><li>versicolor</li><li>versicolor</li><li>versicolor</li><li>versicolor</li><li>versicolor</li><li>versicolor</li><li>versicolor</li><li>versicolor</li><li>versicolor</li><li>versicolor</li><li>versicolor</li><li>versicolor</li><li>virginica</li><li>virginica</li><li>virginica</li><li>virginica</li><li>virginica</li><li>virginica</li><li>virginica</li><li>virginica</li><li>virginica</li><li>virginica</li><li>virginica</li><li>virginica</li><li>virginica</li><li>virginica</li><li>virginica</li><li>virginica</li><li>virginica</li><li>virginica</li><li>virginica</li><li>virginica</li><li>virginica</li><li>virginica</li><li>virginica</li><li>virginica</li><li>virginica</li><li>virginica</li><li>virginica</li><li>virginica</li><li>virginica</li><li>virginica</li><li>virginica</li><li>virginica</li><li>virginica</li><li>virginica</li><li>virginica</li><li>virginica</li><li>virginica</li><li>virginica</li><li>virginica</li><li>virginica</li><li>virginica</li><li>virginica</li><li>virginica</li><li>virginica</li><li>virginica</li><li>virginica</li><li>virginica</li><li>virginica</li><li>virginica</li><li>virginica</li></ol>\n",
       "\n",
       "<details>\n",
       "\t<summary style=display:list-item;cursor:pointer>\n",
       "\t\t<strong>Levels</strong>:\n",
       "\t</summary>\n",
       "\t<style>\n",
       "\t.list-inline {list-style: none; margin:0; padding: 0}\n",
       "\t.list-inline>li {display: inline-block}\n",
       "\t.list-inline>li:not(:last-child)::after {content: \"\\00b7\"; padding: 0 .5ex}\n",
       "\t</style>\n",
       "\t<ol class=list-inline><li>'setosa'</li><li>'versicolor'</li><li>'virginica'</li></ol>\n",
       "</details>"
      ],
      "text/latex": [
       "\\begin{enumerate*}\n",
       "\\item setosa\n",
       "\\item setosa\n",
       "\\item setosa\n",
       "\\item setosa\n",
       "\\item setosa\n",
       "\\item setosa\n",
       "\\item setosa\n",
       "\\item setosa\n",
       "\\item setosa\n",
       "\\item setosa\n",
       "\\item setosa\n",
       "\\item setosa\n",
       "\\item setosa\n",
       "\\item setosa\n",
       "\\item setosa\n",
       "\\item setosa\n",
       "\\item setosa\n",
       "\\item setosa\n",
       "\\item setosa\n",
       "\\item setosa\n",
       "\\item setosa\n",
       "\\item setosa\n",
       "\\item setosa\n",
       "\\item setosa\n",
       "\\item setosa\n",
       "\\item setosa\n",
       "\\item setosa\n",
       "\\item setosa\n",
       "\\item setosa\n",
       "\\item setosa\n",
       "\\item setosa\n",
       "\\item setosa\n",
       "\\item setosa\n",
       "\\item setosa\n",
       "\\item setosa\n",
       "\\item setosa\n",
       "\\item setosa\n",
       "\\item setosa\n",
       "\\item setosa\n",
       "\\item setosa\n",
       "\\item setosa\n",
       "\\item setosa\n",
       "\\item setosa\n",
       "\\item setosa\n",
       "\\item setosa\n",
       "\\item setosa\n",
       "\\item setosa\n",
       "\\item setosa\n",
       "\\item setosa\n",
       "\\item setosa\n",
       "\\item versicolor\n",
       "\\item versicolor\n",
       "\\item versicolor\n",
       "\\item versicolor\n",
       "\\item versicolor\n",
       "\\item versicolor\n",
       "\\item versicolor\n",
       "\\item versicolor\n",
       "\\item versicolor\n",
       "\\item versicolor\n",
       "\\item versicolor\n",
       "\\item versicolor\n",
       "\\item versicolor\n",
       "\\item versicolor\n",
       "\\item versicolor\n",
       "\\item versicolor\n",
       "\\item versicolor\n",
       "\\item versicolor\n",
       "\\item versicolor\n",
       "\\item versicolor\n",
       "\\item versicolor\n",
       "\\item versicolor\n",
       "\\item versicolor\n",
       "\\item versicolor\n",
       "\\item versicolor\n",
       "\\item versicolor\n",
       "\\item versicolor\n",
       "\\item versicolor\n",
       "\\item versicolor\n",
       "\\item versicolor\n",
       "\\item versicolor\n",
       "\\item versicolor\n",
       "\\item versicolor\n",
       "\\item versicolor\n",
       "\\item versicolor\n",
       "\\item versicolor\n",
       "\\item versicolor\n",
       "\\item versicolor\n",
       "\\item versicolor\n",
       "\\item versicolor\n",
       "\\item versicolor\n",
       "\\item versicolor\n",
       "\\item versicolor\n",
       "\\item versicolor\n",
       "\\item versicolor\n",
       "\\item versicolor\n",
       "\\item versicolor\n",
       "\\item versicolor\n",
       "\\item versicolor\n",
       "\\item versicolor\n",
       "\\item virginica\n",
       "\\item virginica\n",
       "\\item virginica\n",
       "\\item virginica\n",
       "\\item virginica\n",
       "\\item virginica\n",
       "\\item virginica\n",
       "\\item virginica\n",
       "\\item virginica\n",
       "\\item virginica\n",
       "\\item virginica\n",
       "\\item virginica\n",
       "\\item virginica\n",
       "\\item virginica\n",
       "\\item virginica\n",
       "\\item virginica\n",
       "\\item virginica\n",
       "\\item virginica\n",
       "\\item virginica\n",
       "\\item virginica\n",
       "\\item virginica\n",
       "\\item virginica\n",
       "\\item virginica\n",
       "\\item virginica\n",
       "\\item virginica\n",
       "\\item virginica\n",
       "\\item virginica\n",
       "\\item virginica\n",
       "\\item virginica\n",
       "\\item virginica\n",
       "\\item virginica\n",
       "\\item virginica\n",
       "\\item virginica\n",
       "\\item virginica\n",
       "\\item virginica\n",
       "\\item virginica\n",
       "\\item virginica\n",
       "\\item virginica\n",
       "\\item virginica\n",
       "\\item virginica\n",
       "\\item virginica\n",
       "\\item virginica\n",
       "\\item virginica\n",
       "\\item virginica\n",
       "\\item virginica\n",
       "\\item virginica\n",
       "\\item virginica\n",
       "\\item virginica\n",
       "\\item virginica\n",
       "\\item virginica\n",
       "\\end{enumerate*}\n",
       "\n",
       "\\emph{Levels}: \\begin{enumerate*}\n",
       "\\item 'setosa'\n",
       "\\item 'versicolor'\n",
       "\\item 'virginica'\n",
       "\\end{enumerate*}\n"
      ],
      "text/markdown": [
       "1. setosa\n",
       "2. setosa\n",
       "3. setosa\n",
       "4. setosa\n",
       "5. setosa\n",
       "6. setosa\n",
       "7. setosa\n",
       "8. setosa\n",
       "9. setosa\n",
       "10. setosa\n",
       "11. setosa\n",
       "12. setosa\n",
       "13. setosa\n",
       "14. setosa\n",
       "15. setosa\n",
       "16. setosa\n",
       "17. setosa\n",
       "18. setosa\n",
       "19. setosa\n",
       "20. setosa\n",
       "21. setosa\n",
       "22. setosa\n",
       "23. setosa\n",
       "24. setosa\n",
       "25. setosa\n",
       "26. setosa\n",
       "27. setosa\n",
       "28. setosa\n",
       "29. setosa\n",
       "30. setosa\n",
       "31. setosa\n",
       "32. setosa\n",
       "33. setosa\n",
       "34. setosa\n",
       "35. setosa\n",
       "36. setosa\n",
       "37. setosa\n",
       "38. setosa\n",
       "39. setosa\n",
       "40. setosa\n",
       "41. setosa\n",
       "42. setosa\n",
       "43. setosa\n",
       "44. setosa\n",
       "45. setosa\n",
       "46. setosa\n",
       "47. setosa\n",
       "48. setosa\n",
       "49. setosa\n",
       "50. setosa\n",
       "51. versicolor\n",
       "52. versicolor\n",
       "53. versicolor\n",
       "54. versicolor\n",
       "55. versicolor\n",
       "56. versicolor\n",
       "57. versicolor\n",
       "58. versicolor\n",
       "59. versicolor\n",
       "60. versicolor\n",
       "61. versicolor\n",
       "62. versicolor\n",
       "63. versicolor\n",
       "64. versicolor\n",
       "65. versicolor\n",
       "66. versicolor\n",
       "67. versicolor\n",
       "68. versicolor\n",
       "69. versicolor\n",
       "70. versicolor\n",
       "71. versicolor\n",
       "72. versicolor\n",
       "73. versicolor\n",
       "74. versicolor\n",
       "75. versicolor\n",
       "76. versicolor\n",
       "77. versicolor\n",
       "78. versicolor\n",
       "79. versicolor\n",
       "80. versicolor\n",
       "81. versicolor\n",
       "82. versicolor\n",
       "83. versicolor\n",
       "84. versicolor\n",
       "85. versicolor\n",
       "86. versicolor\n",
       "87. versicolor\n",
       "88. versicolor\n",
       "89. versicolor\n",
       "90. versicolor\n",
       "91. versicolor\n",
       "92. versicolor\n",
       "93. versicolor\n",
       "94. versicolor\n",
       "95. versicolor\n",
       "96. versicolor\n",
       "97. versicolor\n",
       "98. versicolor\n",
       "99. versicolor\n",
       "100. versicolor\n",
       "101. virginica\n",
       "102. virginica\n",
       "103. virginica\n",
       "104. virginica\n",
       "105. virginica\n",
       "106. virginica\n",
       "107. virginica\n",
       "108. virginica\n",
       "109. virginica\n",
       "110. virginica\n",
       "111. virginica\n",
       "112. virginica\n",
       "113. virginica\n",
       "114. virginica\n",
       "115. virginica\n",
       "116. virginica\n",
       "117. virginica\n",
       "118. virginica\n",
       "119. virginica\n",
       "120. virginica\n",
       "121. virginica\n",
       "122. virginica\n",
       "123. virginica\n",
       "124. virginica\n",
       "125. virginica\n",
       "126. virginica\n",
       "127. virginica\n",
       "128. virginica\n",
       "129. virginica\n",
       "130. virginica\n",
       "131. virginica\n",
       "132. virginica\n",
       "133. virginica\n",
       "134. virginica\n",
       "135. virginica\n",
       "136. virginica\n",
       "137. virginica\n",
       "138. virginica\n",
       "139. virginica\n",
       "140. virginica\n",
       "141. virginica\n",
       "142. virginica\n",
       "143. virginica\n",
       "144. virginica\n",
       "145. virginica\n",
       "146. virginica\n",
       "147. virginica\n",
       "148. virginica\n",
       "149. virginica\n",
       "150. virginica\n",
       "\n",
       "\n",
       "\n",
       "**Levels**: 1. 'setosa'\n",
       "2. 'versicolor'\n",
       "3. 'virginica'\n",
       "\n",
       "\n"
      ],
      "text/plain": [
       "  [1] setosa     setosa     setosa     setosa     setosa     setosa    \n",
       "  [7] setosa     setosa     setosa     setosa     setosa     setosa    \n",
       " [13] setosa     setosa     setosa     setosa     setosa     setosa    \n",
       " [19] setosa     setosa     setosa     setosa     setosa     setosa    \n",
       " [25] setosa     setosa     setosa     setosa     setosa     setosa    \n",
       " [31] setosa     setosa     setosa     setosa     setosa     setosa    \n",
       " [37] setosa     setosa     setosa     setosa     setosa     setosa    \n",
       " [43] setosa     setosa     setosa     setosa     setosa     setosa    \n",
       " [49] setosa     setosa     versicolor versicolor versicolor versicolor\n",
       " [55] versicolor versicolor versicolor versicolor versicolor versicolor\n",
       " [61] versicolor versicolor versicolor versicolor versicolor versicolor\n",
       " [67] versicolor versicolor versicolor versicolor versicolor versicolor\n",
       " [73] versicolor versicolor versicolor versicolor versicolor versicolor\n",
       " [79] versicolor versicolor versicolor versicolor versicolor versicolor\n",
       " [85] versicolor versicolor versicolor versicolor versicolor versicolor\n",
       " [91] versicolor versicolor versicolor versicolor versicolor versicolor\n",
       " [97] versicolor versicolor versicolor versicolor virginica  virginica \n",
       "[103] virginica  virginica  virginica  virginica  virginica  virginica \n",
       "[109] virginica  virginica  virginica  virginica  virginica  virginica \n",
       "[115] virginica  virginica  virginica  virginica  virginica  virginica \n",
       "[121] virginica  virginica  virginica  virginica  virginica  virginica \n",
       "[127] virginica  virginica  virginica  virginica  virginica  virginica \n",
       "[133] virginica  virginica  virginica  virginica  virginica  virginica \n",
       "[139] virginica  virginica  virginica  virginica  virginica  virginica \n",
       "[145] virginica  virginica  virginica  virginica  virginica  virginica \n",
       "Levels: setosa versicolor virginica"
      ]
     },
     "metadata": {},
     "output_type": "display_data"
    },
    {
     "data": {
      "text/plain": [
       "\n",
       "    setosa versicolor  virginica \n",
       "        50         50         50 "
      ]
     },
     "metadata": {},
     "output_type": "display_data"
    },
    {
     "data": {
      "text/plain": [
       "\n",
       "    setosa versicolor  virginica \n",
       " 0.3333333  0.3333333  0.3333333 "
      ]
     },
     "metadata": {},
     "output_type": "display_data"
    }
   ],
   "source": [
    "iris$Species\n",
    "table(iris$Species)\n",
    "table(iris$Species)/length(iris$Species)"
   ]
  },
  {
   "cell_type": "code",
   "execution_count": 6,
   "metadata": {},
   "outputs": [
    {
     "data": {
      "text/plain": [
       "favorite.color\n",
       " green    red yellow \n",
       "     2      4      1 "
      ]
     },
     "metadata": {},
     "output_type": "display_data"
    },
    {
     "data": {
      "image/png": "[encoded data removed]",
      "text/plain": [
       "Plot with title “Favorite color”"
      ]
     },
     "metadata": {
      "image/png": {
       "height": 420,
       "width": 420
      }
     },
     "output_type": "display_data"
    }
   ],
   "source": [
    "favorite.color <- c('red', 'green', 'yellow', 'red', 'green', 'red', 'red')\n",
    "sum <- table(favorite.color)\n",
    "sum\n",
    "barplot(sum, main='Favorite color') # input is frequency distribution table, main = title"
   ]
  },
  {
   "cell_type": "code",
   "execution_count": 7,
   "metadata": {},
   "outputs": [
    {
     "data": {
      "text/html": [
       "<table>\n",
       "<caption>A data.frame: 6 × 11</caption>\n",
       "<thead>\n",
       "\t<tr><th></th><th scope=col>mpg</th><th scope=col>cyl</th><th scope=col>disp</th><th scope=col>hp</th><th scope=col>drat</th><th scope=col>wt</th><th scope=col>qsec</th><th scope=col>vs</th><th scope=col>am</th><th scope=col>gear</th><th scope=col>carb</th></tr>\n",
       "\t<tr><th></th><th scope=col>&lt;dbl&gt;</th><th scope=col>&lt;dbl&gt;</th><th scope=col>&lt;dbl&gt;</th><th scope=col>&lt;dbl&gt;</th><th scope=col>&lt;dbl&gt;</th><th scope=col>&lt;dbl&gt;</th><th scope=col>&lt;dbl&gt;</th><th scope=col>&lt;dbl&gt;</th><th scope=col>&lt;dbl&gt;</th><th scope=col>&lt;dbl&gt;</th><th scope=col>&lt;dbl&gt;</th></tr>\n",
       "</thead>\n",
       "<tbody>\n",
       "\t<tr><th scope=row>Mazda RX4</th><td>21.0</td><td>6</td><td>160</td><td>110</td><td>3.90</td><td>2.620</td><td>16.46</td><td>0</td><td>1</td><td>4</td><td>4</td></tr>\n",
       "\t<tr><th scope=row>Mazda RX4 Wag</th><td>21.0</td><td>6</td><td>160</td><td>110</td><td>3.90</td><td>2.875</td><td>17.02</td><td>0</td><td>1</td><td>4</td><td>4</td></tr>\n",
       "\t<tr><th scope=row>Datsun 710</th><td>22.8</td><td>4</td><td>108</td><td> 93</td><td>3.85</td><td>2.320</td><td>18.61</td><td>1</td><td>1</td><td>4</td><td>1</td></tr>\n",
       "\t<tr><th scope=row>Hornet 4 Drive</th><td>21.4</td><td>6</td><td>258</td><td>110</td><td>3.08</td><td>3.215</td><td>19.44</td><td>1</td><td>0</td><td>3</td><td>1</td></tr>\n",
       "\t<tr><th scope=row>Hornet Sportabout</th><td>18.7</td><td>8</td><td>360</td><td>175</td><td>3.15</td><td>3.440</td><td>17.02</td><td>0</td><td>0</td><td>3</td><td>2</td></tr>\n",
       "\t<tr><th scope=row>Valiant</th><td>18.1</td><td>6</td><td>225</td><td>105</td><td>2.76</td><td>3.460</td><td>20.22</td><td>1</td><td>0</td><td>3</td><td>1</td></tr>\n",
       "</tbody>\n",
       "</table>\n"
      ],
      "text/latex": [
       "A data.frame: 6 × 11\n",
       "\\begin{tabular}{r|lllllllllll}\n",
       "  & mpg & cyl & disp & hp & drat & wt & qsec & vs & am & gear & carb\\\\\n",
       "  & <dbl> & <dbl> & <dbl> & <dbl> & <dbl> & <dbl> & <dbl> & <dbl> & <dbl> & <dbl> & <dbl>\\\\\n",
       "\\hline\n",
       "\tMazda RX4 & 21.0 & 6 & 160 & 110 & 3.90 & 2.620 & 16.46 & 0 & 1 & 4 & 4\\\\\n",
       "\tMazda RX4 Wag & 21.0 & 6 & 160 & 110 & 3.90 & 2.875 & 17.02 & 0 & 1 & 4 & 4\\\\\n",
       "\tDatsun 710 & 22.8 & 4 & 108 &  93 & 3.85 & 2.320 & 18.61 & 1 & 1 & 4 & 1\\\\\n",
       "\tHornet 4 Drive & 21.4 & 6 & 258 & 110 & 3.08 & 3.215 & 19.44 & 1 & 0 & 3 & 1\\\\\n",
       "\tHornet Sportabout & 18.7 & 8 & 360 & 175 & 3.15 & 3.440 & 17.02 & 0 & 0 & 3 & 2\\\\\n",
       "\tValiant & 18.1 & 6 & 225 & 105 & 2.76 & 3.460 & 20.22 & 1 & 0 & 3 & 1\\\\\n",
       "\\end{tabular}\n"
      ],
      "text/markdown": [
       "\n",
       "A data.frame: 6 × 11\n",
       "\n",
       "| <!--/--> | mpg &lt;dbl&gt; | cyl &lt;dbl&gt; | disp &lt;dbl&gt; | hp &lt;dbl&gt; | drat &lt;dbl&gt; | wt &lt;dbl&gt; | qsec &lt;dbl&gt; | vs &lt;dbl&gt; | am &lt;dbl&gt; | gear &lt;dbl&gt; | carb &lt;dbl&gt; |\n",
       "|---|---|---|---|---|---|---|---|---|---|---|---|\n",
       "| Mazda RX4 | 21.0 | 6 | 160 | 110 | 3.90 | 2.620 | 16.46 | 0 | 1 | 4 | 4 |\n",
       "| Mazda RX4 Wag | 21.0 | 6 | 160 | 110 | 3.90 | 2.875 | 17.02 | 0 | 1 | 4 | 4 |\n",
       "| Datsun 710 | 22.8 | 4 | 108 |  93 | 3.85 | 2.320 | 18.61 | 1 | 1 | 4 | 1 |\n",
       "| Hornet 4 Drive | 21.4 | 6 | 258 | 110 | 3.08 | 3.215 | 19.44 | 1 | 0 | 3 | 1 |\n",
       "| Hornet Sportabout | 18.7 | 8 | 360 | 175 | 3.15 | 3.440 | 17.02 | 0 | 0 | 3 | 2 |\n",
       "| Valiant | 18.1 | 6 | 225 | 105 | 2.76 | 3.460 | 20.22 | 1 | 0 | 3 | 1 |\n",
       "\n"
      ],
      "text/plain": [
       "                  mpg  cyl disp hp  drat wt    qsec  vs am gear carb\n",
       "Mazda RX4         21.0 6   160  110 3.90 2.620 16.46 0  1  4    4   \n",
       "Mazda RX4 Wag     21.0 6   160  110 3.90 2.875 17.02 0  1  4    4   \n",
       "Datsun 710        22.8 4   108   93 3.85 2.320 18.61 1  1  4    1   \n",
       "Hornet 4 Drive    21.4 6   258  110 3.08 3.215 19.44 1  0  3    1   \n",
       "Hornet Sportabout 18.7 8   360  175 3.15 3.440 17.02 0  0  3    2   \n",
       "Valiant           18.1 6   225  105 2.76 3.460 20.22 1  0  3    1   "
      ]
     },
     "metadata": {},
     "output_type": "display_data"
    }
   ],
   "source": [
    "head(mtcars)"
   ]
  },
  {
   "cell_type": "code",
   "execution_count": 20,
   "metadata": {},
   "outputs": [
    {
     "data": {
      "text/plain": [
       "carb\n",
       " 1  2  3  4  6  8 \n",
       " 7 10  3 10  1  1 "
      ]
     },
     "metadata": {},
     "output_type": "display_data"
    },
    {
     "data": {
      "image/png": "[encoded data removed]",
      "text/plain": [
       "Plot with title “Barplot of Carburetors”"
      ]
     },
     "metadata": {
      "image/png": {
       "height": 420,
       "width": 420
      }
     },
     "output_type": "display_data"
    }
   ],
   "source": [
    "carb <- mtcars[,'carb']\n",
    "table(carb)\n",
    "par(mfrow = c(1,3))\n",
    "barplot(table(carb), \n",
    "        main='Barplot of Carburetors', \n",
    "        xlab = '# of carburetors', \n",
    "        ylab = 'frequency',\n",
    "        angle = 90,\n",
    "        density = 10, \n",
    "        col = 'red', \n",
    "        width = c(1, 2, 4, 6, 7),\n",
    "        beside = TRUE, \n",
    "        horiz = TRUE)"
   ]
  },
  {
   "cell_type": "markdown",
   "metadata": {},
   "source": [
    "### barplot() parameters\n",
    "main = title\n",
    "xlab ylab = label of axes\n",
    "angle, density, col = angle, number, color of the lines in the bar\n",
    "legend = legend\n",
    "names = label vector of each bar\n",
    "width = relative width vector of each bar\n",
    "space = width between bars\n",
    "beside = plotting each values when it is TRUE\n",
    "horiz = horizontal barplot when it is TRUE\n",
    "\n",
    "### plotting various plots on one screen\n",
    "par() -> code that dividing screens pseudobly\n",
    "par(mfrow = c(1,3)) 1 = the number of row 3 = the number of columns\n",
    "\n",
    "www.statmethods.net/graphs/pie.html"
   ]
  },
  {
   "cell_type": "code",
   "execution_count": 21,
   "metadata": {},
   "outputs": [
    {
     "data": {
      "image/png": "[encoded data removed]",
      "text/plain": [
       "Plot with title “Favorite color”"
      ]
     },
     "metadata": {
      "image/png": {
       "height": 420,
       "width": 420
      }
     },
     "output_type": "display_data"
    }
   ],
   "source": [
    "pie(sum, main = 'Favorite color')"
   ]
  },
  {
   "cell_type": "code",
   "execution_count": 22,
   "metadata": {},
   "outputs": [
    {
     "data": {
      "text/html": [
       "<style>\n",
       ".list-inline {list-style: none; margin:0; padding: 0}\n",
       ".list-inline>li {display: inline-block}\n",
       ".list-inline>li:not(:last-child)::after {content: \"\\00b7\"; padding: 0 .5ex}\n",
       "</style>\n",
       "<ol class=list-inline><li>0-5yrs</li><li>0-5yrs</li><li>0-5yrs</li><li>0-5yrs</li><li>6-11yrs</li><li>6-11yrs</li><li>6-11yrs</li><li>6-11yrs</li><li>6-11yrs</li><li>6-11yrs</li><li>6-11yrs</li><li>6-11yrs</li><li>6-11yrs</li><li>6-11yrs</li><li>6-11yrs</li><li>6-11yrs</li><li>6-11yrs</li><li>6-11yrs</li><li>6-11yrs</li><li>6-11yrs</li><li>6-11yrs</li><li>6-11yrs</li><li>6-11yrs</li><li>6-11yrs</li><li>6-11yrs</li><li>6-11yrs</li><li>6-11yrs</li><li>6-11yrs</li><li>6-11yrs</li><li>6-11yrs</li><li>6-11yrs</li><li>6-11yrs</li><li>6-11yrs</li><li>6-11yrs</li><li>6-11yrs</li><li>6-11yrs</li><li>6-11yrs</li><li>6-11yrs</li><li>6-11yrs</li><li>6-11yrs</li><li>6-11yrs</li><li>6-11yrs</li><li>6-11yrs</li><li>6-11yrs</li><li>12+ yrs</li><li>12+ yrs</li><li>12+ yrs</li><li>12+ yrs</li><li>12+ yrs</li><li>12+ yrs</li><li>12+ yrs</li><li>12+ yrs</li><li>12+ yrs</li><li>12+ yrs</li><li>12+ yrs</li><li>12+ yrs</li><li>12+ yrs</li><li>12+ yrs</li><li>12+ yrs</li><li>12+ yrs</li><li>12+ yrs</li><li>12+ yrs</li><li>12+ yrs</li><li>12+ yrs</li><li>12+ yrs</li><li>12+ yrs</li><li>12+ yrs</li><li>12+ yrs</li><li>12+ yrs</li><li>12+ yrs</li><li>12+ yrs</li><li>12+ yrs</li><li>12+ yrs</li><li>12+ yrs</li><li>12+ yrs</li><li>12+ yrs</li><li>12+ yrs</li><li>12+ yrs</li><li>12+ yrs</li><li>12+ yrs</li><li>12+ yrs</li><li>12+ yrs</li><li>12+ yrs</li><li>0-5yrs</li><li>0-5yrs</li><li>0-5yrs</li><li>0-5yrs</li><li>6-11yrs</li><li>6-11yrs</li><li>6-11yrs</li><li>6-11yrs</li><li>6-11yrs</li><li>6-11yrs</li><li>6-11yrs</li><li>6-11yrs</li><li>6-11yrs</li><li>6-11yrs</li><li>6-11yrs</li><li>6-11yrs</li><li>6-11yrs</li><li>6-11yrs</li><li>6-11yrs</li><li>6-11yrs</li><li>6-11yrs</li><li>6-11yrs</li><li>6-11yrs</li><li>6-11yrs</li><li>6-11yrs</li><li>6-11yrs</li><li>6-11yrs</li><li>6-11yrs</li><li>6-11yrs</li><li>6-11yrs</li><li>6-11yrs</li><li>6-11yrs</li><li>6-11yrs</li><li>6-11yrs</li><li>6-11yrs</li><li>6-11yrs</li><li>6-11yrs</li><li>6-11yrs</li><li>6-11yrs</li><li>6-11yrs</li><li>6-11yrs</li><li>6-11yrs</li><li>6-11yrs</li><li>6-11yrs</li><li>12+ yrs</li><li>12+ yrs</li><li>12+ yrs</li><li>12+ yrs</li><li>12+ yrs</li><li>12+ yrs</li><li>12+ yrs</li><li>12+ yrs</li><li>12+ yrs</li><li>12+ yrs</li><li>12+ yrs</li><li>12+ yrs</li><li>12+ yrs</li><li>12+ yrs</li><li>12+ yrs</li><li>12+ yrs</li><li>12+ yrs</li><li>12+ yrs</li><li>12+ yrs</li><li>12+ yrs</li><li>12+ yrs</li><li>12+ yrs</li><li>12+ yrs</li><li>12+ yrs</li><li>12+ yrs</li><li>12+ yrs</li><li>12+ yrs</li><li>12+ yrs</li><li>12+ yrs</li><li>12+ yrs</li><li>12+ yrs</li><li>12+ yrs</li><li>12+ yrs</li><li>12+ yrs</li><li>12+ yrs</li><li>12+ yrs</li><li>12+ yrs</li><li>12+ yrs</li><li>0-5yrs</li><li>0-5yrs</li><li>0-5yrs</li><li>0-5yrs</li><li>6-11yrs</li><li>6-11yrs</li><li>6-11yrs</li><li>6-11yrs</li><li>6-11yrs</li><li>6-11yrs</li><li>6-11yrs</li><li>6-11yrs</li><li>6-11yrs</li><li>6-11yrs</li><li>6-11yrs</li><li>6-11yrs</li><li>6-11yrs</li><li>6-11yrs</li><li>6-11yrs</li><li>6-11yrs</li><li>6-11yrs</li><li>6-11yrs</li><li>6-11yrs</li><li>6-11yrs</li><li>6-11yrs</li><li>6-11yrs</li><li>6-11yrs</li><li>6-11yrs</li><li>6-11yrs</li><li>6-11yrs</li><li>6-11yrs</li><li>6-11yrs</li><li>6-11yrs</li><li>6-11yrs</li><li>6-11yrs</li><li>6-11yrs</li><li>6-11yrs</li><li>6-11yrs</li><li>6-11yrs</li><li>6-11yrs</li><li>6-11yrs</li><li>6-11yrs</li><li>6-11yrs</li><li>6-11yrs</li><li>12+ yrs</li><li>12+ yrs</li><li>12+ yrs</li><li>12+ yrs</li><li>12+ yrs</li><li>12+ yrs</li><li>12+ yrs</li><li>12+ yrs</li><li>12+ yrs</li><li>12+ yrs</li><li>12+ yrs</li><li>12+ yrs</li><li>12+ yrs</li><li>12+ yrs</li><li>12+ yrs</li><li>12+ yrs</li><li>12+ yrs</li><li>12+ yrs</li><li>12+ yrs</li><li>12+ yrs</li><li>12+ yrs</li><li>12+ yrs</li><li>12+ yrs</li><li>12+ yrs</li><li>12+ yrs</li><li>12+ yrs</li><li>12+ yrs</li><li>12+ yrs</li><li>12+ yrs</li><li>12+ yrs</li><li>12+ yrs</li><li>12+ yrs</li><li>12+ yrs</li><li>12+ yrs</li><li>12+ yrs</li><li>12+ yrs</li><li>12+ yrs</li><li>12+ yrs</li><li>12+ yrs</li></ol>\n",
       "\n",
       "<details>\n",
       "\t<summary style=display:list-item;cursor:pointer>\n",
       "\t\t<strong>Levels</strong>:\n",
       "\t</summary>\n",
       "\t<style>\n",
       "\t.list-inline {list-style: none; margin:0; padding: 0}\n",
       "\t.list-inline>li {display: inline-block}\n",
       "\t.list-inline>li:not(:last-child)::after {content: \"\\00b7\"; padding: 0 .5ex}\n",
       "\t</style>\n",
       "\t<ol class=list-inline><li>'0-5yrs'</li><li>'6-11yrs'</li><li>'12+ yrs'</li></ol>\n",
       "</details>"
      ],
      "text/latex": [
       "\\begin{enumerate*}\n",
       "\\item 0-5yrs\n",
       "\\item 0-5yrs\n",
       "\\item 0-5yrs\n",
       "\\item 0-5yrs\n",
       "\\item 6-11yrs\n",
       "\\item 6-11yrs\n",
       "\\item 6-11yrs\n",
       "\\item 6-11yrs\n",
       "\\item 6-11yrs\n",
       "\\item 6-11yrs\n",
       "\\item 6-11yrs\n",
       "\\item 6-11yrs\n",
       "\\item 6-11yrs\n",
       "\\item 6-11yrs\n",
       "\\item 6-11yrs\n",
       "\\item 6-11yrs\n",
       "\\item 6-11yrs\n",
       "\\item 6-11yrs\n",
       "\\item 6-11yrs\n",
       "\\item 6-11yrs\n",
       "\\item 6-11yrs\n",
       "\\item 6-11yrs\n",
       "\\item 6-11yrs\n",
       "\\item 6-11yrs\n",
       "\\item 6-11yrs\n",
       "\\item 6-11yrs\n",
       "\\item 6-11yrs\n",
       "\\item 6-11yrs\n",
       "\\item 6-11yrs\n",
       "\\item 6-11yrs\n",
       "\\item 6-11yrs\n",
       "\\item 6-11yrs\n",
       "\\item 6-11yrs\n",
       "\\item 6-11yrs\n",
       "\\item 6-11yrs\n",
       "\\item 6-11yrs\n",
       "\\item 6-11yrs\n",
       "\\item 6-11yrs\n",
       "\\item 6-11yrs\n",
       "\\item 6-11yrs\n",
       "\\item 6-11yrs\n",
       "\\item 6-11yrs\n",
       "\\item 6-11yrs\n",
       "\\item 6-11yrs\n",
       "\\item 12+ yrs\n",
       "\\item 12+ yrs\n",
       "\\item 12+ yrs\n",
       "\\item 12+ yrs\n",
       "\\item 12+ yrs\n",
       "\\item 12+ yrs\n",
       "\\item 12+ yrs\n",
       "\\item 12+ yrs\n",
       "\\item 12+ yrs\n",
       "\\item 12+ yrs\n",
       "\\item 12+ yrs\n",
       "\\item 12+ yrs\n",
       "\\item 12+ yrs\n",
       "\\item 12+ yrs\n",
       "\\item 12+ yrs\n",
       "\\item 12+ yrs\n",
       "\\item 12+ yrs\n",
       "\\item 12+ yrs\n",
       "\\item 12+ yrs\n",
       "\\item 12+ yrs\n",
       "\\item 12+ yrs\n",
       "\\item 12+ yrs\n",
       "\\item 12+ yrs\n",
       "\\item 12+ yrs\n",
       "\\item 12+ yrs\n",
       "\\item 12+ yrs\n",
       "\\item 12+ yrs\n",
       "\\item 12+ yrs\n",
       "\\item 12+ yrs\n",
       "\\item 12+ yrs\n",
       "\\item 12+ yrs\n",
       "\\item 12+ yrs\n",
       "\\item 12+ yrs\n",
       "\\item 12+ yrs\n",
       "\\item 12+ yrs\n",
       "\\item 12+ yrs\n",
       "\\item 12+ yrs\n",
       "\\item 12+ yrs\n",
       "\\item 12+ yrs\n",
       "\\item 0-5yrs\n",
       "\\item 0-5yrs\n",
       "\\item 0-5yrs\n",
       "\\item 0-5yrs\n",
       "\\item 6-11yrs\n",
       "\\item 6-11yrs\n",
       "\\item 6-11yrs\n",
       "\\item 6-11yrs\n",
       "\\item 6-11yrs\n",
       "\\item 6-11yrs\n",
       "\\item 6-11yrs\n",
       "\\item 6-11yrs\n",
       "\\item 6-11yrs\n",
       "\\item 6-11yrs\n",
       "\\item 6-11yrs\n",
       "\\item 6-11yrs\n",
       "\\item 6-11yrs\n",
       "\\item 6-11yrs\n",
       "\\item 6-11yrs\n",
       "\\item 6-11yrs\n",
       "\\item 6-11yrs\n",
       "\\item 6-11yrs\n",
       "\\item 6-11yrs\n",
       "\\item 6-11yrs\n",
       "\\item 6-11yrs\n",
       "\\item 6-11yrs\n",
       "\\item 6-11yrs\n",
       "\\item 6-11yrs\n",
       "\\item 6-11yrs\n",
       "\\item 6-11yrs\n",
       "\\item 6-11yrs\n",
       "\\item 6-11yrs\n",
       "\\item 6-11yrs\n",
       "\\item 6-11yrs\n",
       "\\item 6-11yrs\n",
       "\\item 6-11yrs\n",
       "\\item 6-11yrs\n",
       "\\item 6-11yrs\n",
       "\\item 6-11yrs\n",
       "\\item 6-11yrs\n",
       "\\item 6-11yrs\n",
       "\\item 6-11yrs\n",
       "\\item 6-11yrs\n",
       "\\item 6-11yrs\n",
       "\\item 12+ yrs\n",
       "\\item 12+ yrs\n",
       "\\item 12+ yrs\n",
       "\\item 12+ yrs\n",
       "\\item 12+ yrs\n",
       "\\item 12+ yrs\n",
       "\\item 12+ yrs\n",
       "\\item 12+ yrs\n",
       "\\item 12+ yrs\n",
       "\\item 12+ yrs\n",
       "\\item 12+ yrs\n",
       "\\item 12+ yrs\n",
       "\\item 12+ yrs\n",
       "\\item 12+ yrs\n",
       "\\item 12+ yrs\n",
       "\\item 12+ yrs\n",
       "\\item 12+ yrs\n",
       "\\item 12+ yrs\n",
       "\\item 12+ yrs\n",
       "\\item 12+ yrs\n",
       "\\item 12+ yrs\n",
       "\\item 12+ yrs\n",
       "\\item 12+ yrs\n",
       "\\item 12+ yrs\n",
       "\\item 12+ yrs\n",
       "\\item 12+ yrs\n",
       "\\item 12+ yrs\n",
       "\\item 12+ yrs\n",
       "\\item 12+ yrs\n",
       "\\item 12+ yrs\n",
       "\\item 12+ yrs\n",
       "\\item 12+ yrs\n",
       "\\item 12+ yrs\n",
       "\\item 12+ yrs\n",
       "\\item 12+ yrs\n",
       "\\item 12+ yrs\n",
       "\\item 12+ yrs\n",
       "\\item 12+ yrs\n",
       "\\item 0-5yrs\n",
       "\\item 0-5yrs\n",
       "\\item 0-5yrs\n",
       "\\item 0-5yrs\n",
       "\\item 6-11yrs\n",
       "\\item 6-11yrs\n",
       "\\item 6-11yrs\n",
       "\\item 6-11yrs\n",
       "\\item 6-11yrs\n",
       "\\item 6-11yrs\n",
       "\\item 6-11yrs\n",
       "\\item 6-11yrs\n",
       "\\item 6-11yrs\n",
       "\\item 6-11yrs\n",
       "\\item 6-11yrs\n",
       "\\item 6-11yrs\n",
       "\\item 6-11yrs\n",
       "\\item 6-11yrs\n",
       "\\item 6-11yrs\n",
       "\\item 6-11yrs\n",
       "\\item 6-11yrs\n",
       "\\item 6-11yrs\n",
       "\\item 6-11yrs\n",
       "\\item 6-11yrs\n",
       "\\item 6-11yrs\n",
       "\\item 6-11yrs\n",
       "\\item 6-11yrs\n",
       "\\item 6-11yrs\n",
       "\\item 6-11yrs\n",
       "\\item 6-11yrs\n",
       "\\item 6-11yrs\n",
       "\\item 6-11yrs\n",
       "\\item 6-11yrs\n",
       "\\item 6-11yrs\n",
       "\\item 6-11yrs\n",
       "\\item 6-11yrs\n",
       "\\item 6-11yrs\n",
       "\\item 6-11yrs\n",
       "\\item 6-11yrs\n",
       "\\item 6-11yrs\n",
       "\\item 6-11yrs\n",
       "\\item 6-11yrs\n",
       "\\item 6-11yrs\n",
       "\\item 6-11yrs\n",
       "\\item 12+ yrs\n",
       "\\item 12+ yrs\n",
       "\\item 12+ yrs\n",
       "\\item 12+ yrs\n",
       "\\item 12+ yrs\n",
       "\\item 12+ yrs\n",
       "\\item 12+ yrs\n",
       "\\item 12+ yrs\n",
       "\\item 12+ yrs\n",
       "\\item 12+ yrs\n",
       "\\item 12+ yrs\n",
       "\\item 12+ yrs\n",
       "\\item 12+ yrs\n",
       "\\item 12+ yrs\n",
       "\\item 12+ yrs\n",
       "\\item 12+ yrs\n",
       "\\item 12+ yrs\n",
       "\\item 12+ yrs\n",
       "\\item 12+ yrs\n",
       "\\item 12+ yrs\n",
       "\\item 12+ yrs\n",
       "\\item 12+ yrs\n",
       "\\item 12+ yrs\n",
       "\\item 12+ yrs\n",
       "\\item 12+ yrs\n",
       "\\item 12+ yrs\n",
       "\\item 12+ yrs\n",
       "\\item 12+ yrs\n",
       "\\item 12+ yrs\n",
       "\\item 12+ yrs\n",
       "\\item 12+ yrs\n",
       "\\item 12+ yrs\n",
       "\\item 12+ yrs\n",
       "\\item 12+ yrs\n",
       "\\item 12+ yrs\n",
       "\\item 12+ yrs\n",
       "\\item 12+ yrs\n",
       "\\item 12+ yrs\n",
       "\\item 12+ yrs\n",
       "\\end{enumerate*}\n",
       "\n",
       "\\emph{Levels}: \\begin{enumerate*}\n",
       "\\item '0-5yrs'\n",
       "\\item '6-11yrs'\n",
       "\\item '12+ yrs'\n",
       "\\end{enumerate*}\n"
      ],
      "text/markdown": [
       "1. 0-5yrs\n",
       "2. 0-5yrs\n",
       "3. 0-5yrs\n",
       "4. 0-5yrs\n",
       "5. 6-11yrs\n",
       "6. 6-11yrs\n",
       "7. 6-11yrs\n",
       "8. 6-11yrs\n",
       "9. 6-11yrs\n",
       "10. 6-11yrs\n",
       "11. 6-11yrs\n",
       "12. 6-11yrs\n",
       "13. 6-11yrs\n",
       "14. 6-11yrs\n",
       "15. 6-11yrs\n",
       "16. 6-11yrs\n",
       "17. 6-11yrs\n",
       "18. 6-11yrs\n",
       "19. 6-11yrs\n",
       "20. 6-11yrs\n",
       "21. 6-11yrs\n",
       "22. 6-11yrs\n",
       "23. 6-11yrs\n",
       "24. 6-11yrs\n",
       "25. 6-11yrs\n",
       "26. 6-11yrs\n",
       "27. 6-11yrs\n",
       "28. 6-11yrs\n",
       "29. 6-11yrs\n",
       "30. 6-11yrs\n",
       "31. 6-11yrs\n",
       "32. 6-11yrs\n",
       "33. 6-11yrs\n",
       "34. 6-11yrs\n",
       "35. 6-11yrs\n",
       "36. 6-11yrs\n",
       "37. 6-11yrs\n",
       "38. 6-11yrs\n",
       "39. 6-11yrs\n",
       "40. 6-11yrs\n",
       "41. 6-11yrs\n",
       "42. 6-11yrs\n",
       "43. 6-11yrs\n",
       "44. 6-11yrs\n",
       "45. 12+ yrs\n",
       "46. 12+ yrs\n",
       "47. 12+ yrs\n",
       "48. 12+ yrs\n",
       "49. 12+ yrs\n",
       "50. 12+ yrs\n",
       "51. 12+ yrs\n",
       "52. 12+ yrs\n",
       "53. 12+ yrs\n",
       "54. 12+ yrs\n",
       "55. 12+ yrs\n",
       "56. 12+ yrs\n",
       "57. 12+ yrs\n",
       "58. 12+ yrs\n",
       "59. 12+ yrs\n",
       "60. 12+ yrs\n",
       "61. 12+ yrs\n",
       "62. 12+ yrs\n",
       "63. 12+ yrs\n",
       "64. 12+ yrs\n",
       "65. 12+ yrs\n",
       "66. 12+ yrs\n",
       "67. 12+ yrs\n",
       "68. 12+ yrs\n",
       "69. 12+ yrs\n",
       "70. 12+ yrs\n",
       "71. 12+ yrs\n",
       "72. 12+ yrs\n",
       "73. 12+ yrs\n",
       "74. 12+ yrs\n",
       "75. 12+ yrs\n",
       "76. 12+ yrs\n",
       "77. 12+ yrs\n",
       "78. 12+ yrs\n",
       "79. 12+ yrs\n",
       "80. 12+ yrs\n",
       "81. 12+ yrs\n",
       "82. 12+ yrs\n",
       "83. 12+ yrs\n",
       "84. 0-5yrs\n",
       "85. 0-5yrs\n",
       "86. 0-5yrs\n",
       "87. 0-5yrs\n",
       "88. 6-11yrs\n",
       "89. 6-11yrs\n",
       "90. 6-11yrs\n",
       "91. 6-11yrs\n",
       "92. 6-11yrs\n",
       "93. 6-11yrs\n",
       "94. 6-11yrs\n",
       "95. 6-11yrs\n",
       "96. 6-11yrs\n",
       "97. 6-11yrs\n",
       "98. 6-11yrs\n",
       "99. 6-11yrs\n",
       "100. 6-11yrs\n",
       "101. 6-11yrs\n",
       "102. 6-11yrs\n",
       "103. 6-11yrs\n",
       "104. 6-11yrs\n",
       "105. 6-11yrs\n",
       "106. 6-11yrs\n",
       "107. 6-11yrs\n",
       "108. 6-11yrs\n",
       "109. 6-11yrs\n",
       "110. 6-11yrs\n",
       "111. 6-11yrs\n",
       "112. 6-11yrs\n",
       "113. 6-11yrs\n",
       "114. 6-11yrs\n",
       "115. 6-11yrs\n",
       "116. 6-11yrs\n",
       "117. 6-11yrs\n",
       "118. 6-11yrs\n",
       "119. 6-11yrs\n",
       "120. 6-11yrs\n",
       "121. 6-11yrs\n",
       "122. 6-11yrs\n",
       "123. 6-11yrs\n",
       "124. 6-11yrs\n",
       "125. 6-11yrs\n",
       "126. 6-11yrs\n",
       "127. 6-11yrs\n",
       "128. 12+ yrs\n",
       "129. 12+ yrs\n",
       "130. 12+ yrs\n",
       "131. 12+ yrs\n",
       "132. 12+ yrs\n",
       "133. 12+ yrs\n",
       "134. 12+ yrs\n",
       "135. 12+ yrs\n",
       "136. 12+ yrs\n",
       "137. 12+ yrs\n",
       "138. 12+ yrs\n",
       "139. 12+ yrs\n",
       "140. 12+ yrs\n",
       "141. 12+ yrs\n",
       "142. 12+ yrs\n",
       "143. 12+ yrs\n",
       "144. 12+ yrs\n",
       "145. 12+ yrs\n",
       "146. 12+ yrs\n",
       "147. 12+ yrs\n",
       "148. 12+ yrs\n",
       "149. 12+ yrs\n",
       "150. 12+ yrs\n",
       "151. 12+ yrs\n",
       "152. 12+ yrs\n",
       "153. 12+ yrs\n",
       "154. 12+ yrs\n",
       "155. 12+ yrs\n",
       "156. 12+ yrs\n",
       "157. 12+ yrs\n",
       "158. 12+ yrs\n",
       "159. 12+ yrs\n",
       "160. 12+ yrs\n",
       "161. 12+ yrs\n",
       "162. 12+ yrs\n",
       "163. 12+ yrs\n",
       "164. 12+ yrs\n",
       "165. 12+ yrs\n",
       "166. 0-5yrs\n",
       "167. 0-5yrs\n",
       "168. 0-5yrs\n",
       "169. 0-5yrs\n",
       "170. 6-11yrs\n",
       "171. 6-11yrs\n",
       "172. 6-11yrs\n",
       "173. 6-11yrs\n",
       "174. 6-11yrs\n",
       "175. 6-11yrs\n",
       "176. 6-11yrs\n",
       "177. 6-11yrs\n",
       "178. 6-11yrs\n",
       "179. 6-11yrs\n",
       "180. 6-11yrs\n",
       "181. 6-11yrs\n",
       "182. 6-11yrs\n",
       "183. 6-11yrs\n",
       "184. 6-11yrs\n",
       "185. 6-11yrs\n",
       "186. 6-11yrs\n",
       "187. 6-11yrs\n",
       "188. 6-11yrs\n",
       "189. 6-11yrs\n",
       "190. 6-11yrs\n",
       "191. 6-11yrs\n",
       "192. 6-11yrs\n",
       "193. 6-11yrs\n",
       "194. 6-11yrs\n",
       "195. 6-11yrs\n",
       "196. 6-11yrs\n",
       "197. 6-11yrs\n",
       "198. 6-11yrs\n",
       "199. 6-11yrs\n",
       "200. 6-11yrs\n",
       "201. 6-11yrs\n",
       "202. 6-11yrs\n",
       "203. 6-11yrs\n",
       "204. 6-11yrs\n",
       "205. 6-11yrs\n",
       "206. 6-11yrs\n",
       "207. 6-11yrs\n",
       "208. 6-11yrs\n",
       "209. 6-11yrs\n",
       "210. 12+ yrs\n",
       "211. 12+ yrs\n",
       "212. 12+ yrs\n",
       "213. 12+ yrs\n",
       "214. 12+ yrs\n",
       "215. 12+ yrs\n",
       "216. 12+ yrs\n",
       "217. 12+ yrs\n",
       "218. 12+ yrs\n",
       "219. 12+ yrs\n",
       "220. 12+ yrs\n",
       "221. 12+ yrs\n",
       "222. 12+ yrs\n",
       "223. 12+ yrs\n",
       "224. 12+ yrs\n",
       "225. 12+ yrs\n",
       "226. 12+ yrs\n",
       "227. 12+ yrs\n",
       "228. 12+ yrs\n",
       "229. 12+ yrs\n",
       "230. 12+ yrs\n",
       "231. 12+ yrs\n",
       "232. 12+ yrs\n",
       "233. 12+ yrs\n",
       "234. 12+ yrs\n",
       "235. 12+ yrs\n",
       "236. 12+ yrs\n",
       "237. 12+ yrs\n",
       "238. 12+ yrs\n",
       "239. 12+ yrs\n",
       "240. 12+ yrs\n",
       "241. 12+ yrs\n",
       "242. 12+ yrs\n",
       "243. 12+ yrs\n",
       "244. 12+ yrs\n",
       "245. 12+ yrs\n",
       "246. 12+ yrs\n",
       "247. 12+ yrs\n",
       "248. 12+ yrs\n",
       "\n",
       "\n",
       "\n",
       "**Levels**: 1. '0-5yrs'\n",
       "2. '6-11yrs'\n",
       "3. '12+ yrs'\n",
       "\n",
       "\n"
      ],
      "text/plain": [
       "  [1] 0-5yrs  0-5yrs  0-5yrs  0-5yrs  6-11yrs 6-11yrs 6-11yrs 6-11yrs 6-11yrs\n",
       " [10] 6-11yrs 6-11yrs 6-11yrs 6-11yrs 6-11yrs 6-11yrs 6-11yrs 6-11yrs 6-11yrs\n",
       " [19] 6-11yrs 6-11yrs 6-11yrs 6-11yrs 6-11yrs 6-11yrs 6-11yrs 6-11yrs 6-11yrs\n",
       " [28] 6-11yrs 6-11yrs 6-11yrs 6-11yrs 6-11yrs 6-11yrs 6-11yrs 6-11yrs 6-11yrs\n",
       " [37] 6-11yrs 6-11yrs 6-11yrs 6-11yrs 6-11yrs 6-11yrs 6-11yrs 6-11yrs 12+ yrs\n",
       " [46] 12+ yrs 12+ yrs 12+ yrs 12+ yrs 12+ yrs 12+ yrs 12+ yrs 12+ yrs 12+ yrs\n",
       " [55] 12+ yrs 12+ yrs 12+ yrs 12+ yrs 12+ yrs 12+ yrs 12+ yrs 12+ yrs 12+ yrs\n",
       " [64] 12+ yrs 12+ yrs 12+ yrs 12+ yrs 12+ yrs 12+ yrs 12+ yrs 12+ yrs 12+ yrs\n",
       " [73] 12+ yrs 12+ yrs 12+ yrs 12+ yrs 12+ yrs 12+ yrs 12+ yrs 12+ yrs 12+ yrs\n",
       " [82] 12+ yrs 12+ yrs 0-5yrs  0-5yrs  0-5yrs  0-5yrs  6-11yrs 6-11yrs 6-11yrs\n",
       " [91] 6-11yrs 6-11yrs 6-11yrs 6-11yrs 6-11yrs 6-11yrs 6-11yrs 6-11yrs 6-11yrs\n",
       "[100] 6-11yrs 6-11yrs 6-11yrs 6-11yrs 6-11yrs 6-11yrs 6-11yrs 6-11yrs 6-11yrs\n",
       "[109] 6-11yrs 6-11yrs 6-11yrs 6-11yrs 6-11yrs 6-11yrs 6-11yrs 6-11yrs 6-11yrs\n",
       "[118] 6-11yrs 6-11yrs 6-11yrs 6-11yrs 6-11yrs 6-11yrs 6-11yrs 6-11yrs 6-11yrs\n",
       "[127] 6-11yrs 12+ yrs 12+ yrs 12+ yrs 12+ yrs 12+ yrs 12+ yrs 12+ yrs 12+ yrs\n",
       "[136] 12+ yrs 12+ yrs 12+ yrs 12+ yrs 12+ yrs 12+ yrs 12+ yrs 12+ yrs 12+ yrs\n",
       "[145] 12+ yrs 12+ yrs 12+ yrs 12+ yrs 12+ yrs 12+ yrs 12+ yrs 12+ yrs 12+ yrs\n",
       "[154] 12+ yrs 12+ yrs 12+ yrs 12+ yrs 12+ yrs 12+ yrs 12+ yrs 12+ yrs 12+ yrs\n",
       "[163] 12+ yrs 12+ yrs 12+ yrs 0-5yrs  0-5yrs  0-5yrs  0-5yrs  6-11yrs 6-11yrs\n",
       "[172] 6-11yrs 6-11yrs 6-11yrs 6-11yrs 6-11yrs 6-11yrs 6-11yrs 6-11yrs 6-11yrs\n",
       "[181] 6-11yrs 6-11yrs 6-11yrs 6-11yrs 6-11yrs 6-11yrs 6-11yrs 6-11yrs 6-11yrs\n",
       "[190] 6-11yrs 6-11yrs 6-11yrs 6-11yrs 6-11yrs 6-11yrs 6-11yrs 6-11yrs 6-11yrs\n",
       "[199] 6-11yrs 6-11yrs 6-11yrs 6-11yrs 6-11yrs 6-11yrs 6-11yrs 6-11yrs 6-11yrs\n",
       "[208] 6-11yrs 6-11yrs 12+ yrs 12+ yrs 12+ yrs 12+ yrs 12+ yrs 12+ yrs 12+ yrs\n",
       "[217] 12+ yrs 12+ yrs 12+ yrs 12+ yrs 12+ yrs 12+ yrs 12+ yrs 12+ yrs 12+ yrs\n",
       "[226] 12+ yrs 12+ yrs 12+ yrs 12+ yrs 12+ yrs 12+ yrs 12+ yrs 12+ yrs 12+ yrs\n",
       "[235] 12+ yrs 12+ yrs 12+ yrs 12+ yrs 12+ yrs 12+ yrs 12+ yrs 12+ yrs 12+ yrs\n",
       "[244] 12+ yrs 12+ yrs 12+ yrs 12+ yrs 12+ yrs\n",
       "Levels: 0-5yrs 6-11yrs 12+ yrs"
      ]
     },
     "metadata": {},
     "output_type": "display_data"
    }
   ],
   "source": [
    "edu  <- infert$education\n",
    "edu"
   ]
  },
  {
   "cell_type": "code",
   "execution_count": 23,
   "metadata": {},
   "outputs": [
    {
     "data": {
      "text/html": [
       "<style>\n",
       ".list-inline {list-style: none; margin:0; padding: 0}\n",
       ".list-inline>li {display: inline-block}\n",
       ".list-inline>li:not(:last-child)::after {content: \"\\00b7\"; padding: 0 .5ex}\n",
       "</style>\n",
       "<ol class=list-inline><li>0-5yrs</li><li>6-11yrs</li><li>12+ yrs</li></ol>\n",
       "\n",
       "<details>\n",
       "\t<summary style=display:list-item;cursor:pointer>\n",
       "\t\t<strong>Levels</strong>:\n",
       "\t</summary>\n",
       "\t<style>\n",
       "\t.list-inline {list-style: none; margin:0; padding: 0}\n",
       "\t.list-inline>li {display: inline-block}\n",
       "\t.list-inline>li:not(:last-child)::after {content: \"\\00b7\"; padding: 0 .5ex}\n",
       "\t</style>\n",
       "\t<ol class=list-inline><li>'0-5yrs'</li><li>'6-11yrs'</li><li>'12+ yrs'</li></ol>\n",
       "</details>"
      ],
      "text/latex": [
       "\\begin{enumerate*}\n",
       "\\item 0-5yrs\n",
       "\\item 6-11yrs\n",
       "\\item 12+ yrs\n",
       "\\end{enumerate*}\n",
       "\n",
       "\\emph{Levels}: \\begin{enumerate*}\n",
       "\\item '0-5yrs'\n",
       "\\item '6-11yrs'\n",
       "\\item '12+ yrs'\n",
       "\\end{enumerate*}\n"
      ],
      "text/markdown": [
       "1. 0-5yrs\n",
       "2. 6-11yrs\n",
       "3. 12+ yrs\n",
       "\n",
       "\n",
       "\n",
       "**Levels**: 1. '0-5yrs'\n",
       "2. '6-11yrs'\n",
       "3. '12+ yrs'\n",
       "\n",
       "\n"
      ],
      "text/plain": [
       "[1] 0-5yrs  6-11yrs 12+ yrs\n",
       "Levels: 0-5yrs 6-11yrs 12+ yrs"
      ]
     },
     "metadata": {},
     "output_type": "display_data"
    }
   ],
   "source": [
    "unique(edu)"
   ]
  },
  {
   "cell_type": "code",
   "execution_count": 26,
   "metadata": {},
   "outputs": [
    {
     "data": {
      "text/plain": [
       "edu\n",
       " 0-5yrs 6-11yrs 12+ yrs \n",
       "     12     120     116 "
      ]
     },
     "metadata": {},
     "output_type": "display_data"
    },
    {
     "data": {
      "image/png": "[encoded data removed]",
      "text/plain": [
       "Plot with title “Periods people get education”"
      ]
     },
     "metadata": {
      "image/png": {
       "height": 420,
       "width": 420
      }
     },
     "output_type": "display_data"
    }
   ],
   "source": [
    "edu.table = table(edu)\n",
    "edu.table\n",
    "barplot(edu.table, main = 'Periods people get education', \n",
    "        ylab = 'The numbers of people')"
   ]
  },
  {
   "cell_type": "markdown",
   "metadata": {},
   "source": [
    "## univariate quantitative data analysis\n",
    "\n",
    " - comparison the sizes\n",
    " - mean is the first\n",
    " - median, mode...\n",
    " - Trimmed mean -> exclude min n% and max n%, calculate mean by another (100-2n)% data -> To reduce error from excessively small or large data\n",
    " - ex) income...it has skewered -> mean is increased -> median is the reperentative\n",
    " \n",
    " - Quartile -> divide by 4 bins\n",
    " - Q2 = median\n",
    " \n",
    " "
   ]
  },
  {
   "cell_type": "code",
   "execution_count": 27,
   "metadata": {},
   "outputs": [
    {
     "data": {
      "text/html": [
       "97"
      ],
      "text/latex": [
       "97"
      ],
      "text/markdown": [
       "97"
      ],
      "text/plain": [
       "[1] 97"
      ]
     },
     "metadata": {},
     "output_type": "display_data"
    },
    {
     "data": {
      "text/html": [
       "8414.16666666667"
      ],
      "text/latex": [
       "8414.16666666667"
      ],
      "text/markdown": [
       "8414.16666666667"
      ],
      "text/plain": [
       "[1] 8414.167"
      ]
     },
     "metadata": {},
     "output_type": "display_data"
    },
    {
     "data": {
      "text/html": [
       "75"
      ],
      "text/latex": [
       "75"
      ],
      "text/markdown": [
       "75"
      ],
      "text/plain": [
       "[1] 75"
      ]
     },
     "metadata": {},
     "output_type": "display_data"
    },
    {
     "data": {
      "text/html": [
       "87.5"
      ],
      "text/latex": [
       "87.5"
      ],
      "text/markdown": [
       "87.5"
      ],
      "text/plain": [
       "[1] 87.5"
      ]
     },
     "metadata": {},
     "output_type": "display_data"
    },
    {
     "data": {
      "text/html": [
       "78.3333333333333"
      ],
      "text/latex": [
       "78.3333333333333"
      ],
      "text/markdown": [
       "78.3333333333333"
      ],
      "text/plain": [
       "[1] 78.33333"
      ]
     },
     "metadata": {},
     "output_type": "display_data"
    },
    {
     "data": {
      "text/html": [
       "78.3333333333333"
      ],
      "text/latex": [
       "78.3333333333333"
      ],
      "text/markdown": [
       "78.3333333333333"
      ],
      "text/plain": [
       "[1] 78.33333"
      ]
     },
     "metadata": {},
     "output_type": "display_data"
    }
   ],
   "source": [
    "mydata <- c(50, 60, 100, 75, 200)\n",
    "mydata.big <- c(mydata, 50000)\n",
    "mean(mydata)\n",
    "mean(mydata.big)\n",
    "median(mydata)\n",
    "median(mydata.big)\n",
    "mean(mydata, trim = 0.2)\n",
    "mean(mydata, trim = 0.2)"
   ]
  },
  {
   "cell_type": "code",
   "execution_count": 28,
   "metadata": {},
   "outputs": [
    {
     "data": {
      "text/html": [
       "<style>\n",
       ".dl-inline {width: auto; margin:0; padding: 0}\n",
       ".dl-inline>dt, .dl-inline>dd {float: none; width: auto; display: inline-block}\n",
       ".dl-inline>dt::after {content: \":\\0020\"; padding-right: .5ex}\n",
       ".dl-inline>dt:not(:first-of-type) {padding-left: .5ex}\n",
       "</style><dl class=dl-inline><dt>0%</dt><dd>50</dd><dt>25%</dt><dd>60</dd><dt>50%</dt><dd>75</dd><dt>75%</dt><dd>100</dd><dt>100%</dt><dd>200</dd></dl>\n"
      ],
      "text/latex": [
       "\\begin{description*}\n",
       "\\item[0\\textbackslash{}\\%] 50\n",
       "\\item[25\\textbackslash{}\\%] 60\n",
       "\\item[50\\textbackslash{}\\%] 75\n",
       "\\item[75\\textbackslash{}\\%] 100\n",
       "\\item[100\\textbackslash{}\\%] 200\n",
       "\\end{description*}\n"
      ],
      "text/markdown": [
       "0%\n",
       ":   5025%\n",
       ":   6050%\n",
       ":   7575%\n",
       ":   100100%\n",
       ":   200\n",
       "\n"
      ],
      "text/plain": [
       "  0%  25%  50%  75% 100% \n",
       "  50   60   75  100  200 "
      ]
     },
     "metadata": {},
     "output_type": "display_data"
    },
    {
     "data": {
      "text/html": [
       "<style>\n",
       ".dl-inline {width: auto; margin:0; padding: 0}\n",
       ".dl-inline>dt, .dl-inline>dd {float: none; width: auto; display: inline-block}\n",
       ".dl-inline>dt::after {content: \":\\0020\"; padding-right: .5ex}\n",
       ".dl-inline>dt:not(:first-of-type) {padding-left: .5ex}\n",
       "</style><dl class=dl-inline><dt>0%</dt><dd>50</dd><dt>10%</dt><dd>54</dd><dt>20%</dt><dd>58</dd><dt>30%</dt><dd>63</dd><dt>40%</dt><dd>69</dd><dt>50%</dt><dd>75</dd><dt>60%</dt><dd>85</dd><dt>70%</dt><dd>95</dd><dt>80%</dt><dd>120</dd><dt>90%</dt><dd>160</dd><dt>100%</dt><dd>200</dd></dl>\n"
      ],
      "text/latex": [
       "\\begin{description*}\n",
       "\\item[0\\textbackslash{}\\%] 50\n",
       "\\item[10\\textbackslash{}\\%] 54\n",
       "\\item[20\\textbackslash{}\\%] 58\n",
       "\\item[30\\textbackslash{}\\%] 63\n",
       "\\item[40\\textbackslash{}\\%] 69\n",
       "\\item[50\\textbackslash{}\\%] 75\n",
       "\\item[60\\textbackslash{}\\%] 85\n",
       "\\item[70\\textbackslash{}\\%] 95\n",
       "\\item[80\\textbackslash{}\\%] 120\n",
       "\\item[90\\textbackslash{}\\%] 160\n",
       "\\item[100\\textbackslash{}\\%] 200\n",
       "\\end{description*}\n"
      ],
      "text/markdown": [
       "0%\n",
       ":   5010%\n",
       ":   5420%\n",
       ":   5830%\n",
       ":   6340%\n",
       ":   6950%\n",
       ":   7560%\n",
       ":   8570%\n",
       ":   9580%\n",
       ":   12090%\n",
       ":   160100%\n",
       ":   200\n",
       "\n"
      ],
      "text/plain": [
       "  0%  10%  20%  30%  40%  50%  60%  70%  80%  90% 100% \n",
       "  50   54   58   63   69   75   85   95  120  160  200 "
      ]
     },
     "metadata": {},
     "output_type": "display_data"
    },
    {
     "data": {
      "text/plain": [
       "   Min. 1st Qu.  Median    Mean 3rd Qu.    Max. \n",
       "     50      60      75      97     100     200 "
      ]
     },
     "metadata": {},
     "output_type": "display_data"
    },
    {
     "data": {
      "text/html": [
       "<style>\n",
       ".list-inline {list-style: none; margin:0; padding: 0}\n",
       ".list-inline>li {display: inline-block}\n",
       ".list-inline>li:not(:last-child)::after {content: \"\\00b7\"; padding: 0 .5ex}\n",
       "</style>\n",
       "<ol class=list-inline><li>50</li><li>60</li><li>75</li><li>100</li><li>200</li></ol>\n"
      ],
      "text/latex": [
       "\\begin{enumerate*}\n",
       "\\item 50\n",
       "\\item 60\n",
       "\\item 75\n",
       "\\item 100\n",
       "\\item 200\n",
       "\\end{enumerate*}\n"
      ],
      "text/markdown": [
       "1. 50\n",
       "2. 60\n",
       "3. 75\n",
       "4. 100\n",
       "5. 200\n",
       "\n",
       "\n"
      ],
      "text/plain": [
       "[1]  50  60  75 100 200"
      ]
     },
     "metadata": {},
     "output_type": "display_data"
    }
   ],
   "source": [
    "quantile(mydata)\n",
    "quantile(mydata, (0:10)/10)\n",
    "summary(mydata) # most popular\n",
    "fivenum(mydata)\n",
    "        "
   ]
  },
  {
   "cell_type": "markdown",
   "metadata": {},
   "source": [
    " variation and standard deviation -> scatter rate from mean"
   ]
  },
  {
   "cell_type": "code",
   "execution_count": 29,
   "metadata": {},
   "outputs": [
    {
     "data": {
      "text/html": [
       "150"
      ],
      "text/latex": [
       "150"
      ],
      "text/markdown": [
       "150"
      ],
      "text/plain": [
       "[1] 150"
      ]
     },
     "metadata": {},
     "output_type": "display_data"
    }
   ],
   "source": [
    "diff(range(mydata)) # scatter rate max value - min value"
   ]
  },
  {
   "cell_type": "code",
   "execution_count": 30,
   "metadata": {},
   "outputs": [
    {
     "data": {
      "text/html": [
       "3670"
      ],
      "text/latex": [
       "3670"
      ],
      "text/markdown": [
       "3670"
      ],
      "text/plain": [
       "[1] 3670"
      ]
     },
     "metadata": {},
     "output_type": "display_data"
    }
   ],
   "source": [
    "var(mydata)"
   ]
  },
  {
   "cell_type": "code",
   "execution_count": 31,
   "metadata": {},
   "outputs": [
    {
     "data": {
      "text/html": [
       "60.5805249234438"
      ],
      "text/latex": [
       "60.5805249234438"
      ],
      "text/markdown": [
       "60.5805249234438"
      ],
      "text/plain": [
       "[1] 60.58052"
      ]
     },
     "metadata": {},
     "output_type": "display_data"
    }
   ],
   "source": [
    "sd(mydata)"
   ]
  },
  {
   "cell_type": "markdown",
   "metadata": {},
   "source": [
    "### box plot\n",
    "\n",
    "y axis = range of data\n",
    "line in the bos = median\n",
    "box = Q1 ~ Q3 = 50% of entire data\n",
    "outlier - out of range\n",
    "top and bottom line = max and min value except outlier, respectively"
   ]
  },
  {
   "cell_type": "code",
   "execution_count": 32,
   "metadata": {},
   "outputs": [
    {
     "data": {
      "image/png": "[encoded data removed]",
      "text/plain": [
       "plot without title"
      ]
     },
     "metadata": {
      "image/png": {
       "height": 420,
       "width": 420
      }
     },
     "output_type": "display_data"
    }
   ],
   "source": [
    "st.income <- state.x77[,'Income']\n",
    "boxplot(st.income, ylab = 'Income value')"
   ]
  },
  {
   "cell_type": "code",
   "execution_count": 33,
   "metadata": {},
   "outputs": [
    {
     "data": {
      "image/png": "[encoded data removed]",
      "text/plain": [
       "plot without title"
      ]
     },
     "metadata": {
      "image/png": {
       "height": 420,
       "width": 420
      }
     },
     "output_type": "display_data"
    }
   ],
   "source": [
    "boxplot(Petal.Width~Species, data=iris, ylab = 'Petal.Width') #~Species = grouping by Species column(categorical data)"
   ]
  },
  {
   "cell_type": "markdown",
   "metadata": {},
   "source": [
    "divide quantitative data to bins -> histogram\n",
    " - the bars of histogram touch each other. Width of bar is also meaningful."
   ]
  },
  {
   "cell_type": "code",
   "execution_count": 39,
   "metadata": {},
   "outputs": [
    {
     "data": {
      "image/png": "[encoded data removed]",
      "text/plain": [
       "Plot with title “Histogram for Income”"
      ]
     },
     "metadata": {
      "image/png": {
       "height": 420,
       "width": 420
      }
     },
     "output_type": "display_data"
    }
   ],
   "source": [
    "hist(st.income, \n",
    "     main = 'Histogram for Income', xlab = 'income', ylab = 'frequency', \n",
    "     border = 'blue', col = 'green', las=2, breaks = 5) # border = color of outer line, break = the number of bars"
   ]
  },
  {
   "cell_type": "code",
   "execution_count": 41,
   "metadata": {},
   "outputs": [
    {
     "name": "stdout",
     "output_type": "stream",
     "text": [
      "\n",
      "  The decimal point is 1 digit(s) to the right of the |\n",
      "\n",
      "  4 | 0\n",
      "  5 | 59\n",
      "  6 | 03599\n",
      "  7 | 15\n",
      "  8 | \n",
      "  9 | 0\n",
      "\n"
     ]
    }
   ],
   "source": [
    "score <- c(40, 55, 90, 75, 59, 60, 63, 65, 69, 69, 71)\n",
    "stem(score, scale = 2) # scale = the number of stems"
   ]
  },
  {
   "cell_type": "code",
   "execution_count": 47,
   "metadata": {},
   "outputs": [
    {
     "data": {
      "text/html": [
       "<style>\n",
       ".dl-inline {width: auto; margin:0; padding: 0}\n",
       ".dl-inline>dt, .dl-inline>dd {float: none; width: auto; display: inline-block}\n",
       ".dl-inline>dt::after {content: \":\\0020\"; padding-right: .5ex}\n",
       ".dl-inline>dt:not(:first-of-type) {padding-left: .5ex}\n",
       "</style><dl class=dl-inline><dt>kor</dt><dd>90</dd><dt>eng</dt><dd>85</dd><dt>math</dt><dd>73</dd><dt>hist</dt><dd>80</dd><dt>soc</dt><dd>85</dd><dt>music</dt><dd>65</dd><dt>bio</dt><dd>78</dd><dt>earth</dt><dd>50</dd><dt>phy</dt><dd>68</dd><dt>art</dt><dd>96</dd></dl>\n"
      ],
      "text/latex": [
       "\\begin{description*}\n",
       "\\item[kor] 90\n",
       "\\item[eng] 85\n",
       "\\item[math] 73\n",
       "\\item[hist] 80\n",
       "\\item[soc] 85\n",
       "\\item[music] 65\n",
       "\\item[bio] 78\n",
       "\\item[earth] 50\n",
       "\\item[phy] 68\n",
       "\\item[art] 96\n",
       "\\end{description*}\n"
      ],
      "text/markdown": [
       "kor\n",
       ":   90eng\n",
       ":   85math\n",
       ":   73hist\n",
       ":   80soc\n",
       ":   85music\n",
       ":   65bio\n",
       ":   78earth\n",
       ":   50phy\n",
       ":   68art\n",
       ":   96\n",
       "\n"
      ],
      "text/plain": [
       "  kor   eng  math  hist   soc music   bio earth   phy   art \n",
       "   90    85    73    80    85    65    78    50    68    96 "
      ]
     },
     "metadata": {},
     "output_type": "display_data"
    },
    {
     "data": {
      "text/html": [
       "77"
      ],
      "text/latex": [
       "77"
      ],
      "text/markdown": [
       "77"
      ],
      "text/plain": [
       "[1] 77"
      ]
     },
     "metadata": {},
     "output_type": "display_data"
    },
    {
     "data": {
      "text/html": [
       "79"
      ],
      "text/latex": [
       "79"
      ],
      "text/markdown": [
       "79"
      ],
      "text/plain": [
       "[1] 79"
      ]
     },
     "metadata": {},
     "output_type": "display_data"
    },
    {
     "data": {
      "text/html": [
       "13.490737563232"
      ],
      "text/latex": [
       "13.490737563232"
      ],
      "text/markdown": [
       "13.490737563232"
      ],
      "text/plain": [
       "[1] 13.49074"
      ]
     },
     "metadata": {},
     "output_type": "display_data"
    },
    {
     "data": {
      "text/html": [
       "96"
      ],
      "text/latex": [
       "96"
      ],
      "text/markdown": [
       "96"
      ],
      "text/plain": [
       "[1] 96"
      ]
     },
     "metadata": {},
     "output_type": "display_data"
    },
    {
     "data": {
      "image/png": "[encoded data removed]",
      "text/plain": [
       "Plot with title “boxplot of hong”"
      ]
     },
     "metadata": {
      "image/png": {
       "height": 420,
       "width": 420
      }
     },
     "output_type": "display_data"
    },
    {
     "data": {
      "image/png": "[encoded data removed]",
      "text/plain": [
       "Plot with title “Hong's score”"
      ]
     },
     "metadata": {
      "image/png": {
       "height": 420,
       "width": 420
      }
     },
     "output_type": "display_data"
    }
   ],
   "source": [
    "score <- c('kor' = 90, 'eng' = 85, 'math'=73, 'hist' = 80, 'soc' = 85, 'music' = 65, 'bio' = 78, 'earth' = 50, \n",
    "          'phy' = 68, 'art' = 96)\n",
    "score\n",
    "mean(score)\n",
    "median(score)\n",
    "sd(score)\n",
    "max(score)\n",
    "boxplot(score, main = 'boxplot of hong')\n",
    "hist(score, main = \"Hong's score\", col = 'purple')"
   ]
  },
  {
   "cell_type": "code",
   "execution_count": 48,
   "metadata": {},
   "outputs": [
    {
     "data": {
      "text/html": [
       "3.21725"
      ],
      "text/latex": [
       "3.21725"
      ],
      "text/markdown": [
       "3.21725"
      ],
      "text/plain": [
       "[1] 3.21725"
      ]
     },
     "metadata": {},
     "output_type": "display_data"
    },
    {
     "data": {
      "text/html": [
       "3.325"
      ],
      "text/latex": [
       "3.325"
      ],
      "text/markdown": [
       "3.325"
      ],
      "text/plain": [
       "[1] 3.325"
      ]
     },
     "metadata": {},
     "output_type": "display_data"
    },
    {
     "data": {
      "text/html": [
       "3.16520833333333"
      ],
      "text/latex": [
       "3.16520833333333"
      ],
      "text/markdown": [
       "3.16520833333333"
      ],
      "text/plain": [
       "[1] 3.165208"
      ]
     },
     "metadata": {},
     "output_type": "display_data"
    },
    {
     "data": {
      "text/html": [
       "0.978457442989697"
      ],
      "text/latex": [
       "0.978457442989697"
      ],
      "text/markdown": [
       "0.978457442989697"
      ],
      "text/plain": [
       "[1] 0.9784574"
      ]
     },
     "metadata": {},
     "output_type": "display_data"
    }
   ],
   "source": [
    "wt <- mtcars$wt\n",
    "mean(wt)\n",
    "median(wt)\n",
    "mean(wt, trim = 0.15)\n",
    "sd(wt)"
   ]
  },
  {
   "cell_type": "code",
   "execution_count": 49,
   "metadata": {},
   "outputs": [
    {
     "data": {
      "text/plain": [
       "   Min. 1st Qu.  Median    Mean 3rd Qu.    Max. \n",
       "  1.513   2.581   3.325   3.217   3.610   5.424 "
      ]
     },
     "metadata": {},
     "output_type": "display_data"
    }
   ],
   "source": [
    "summary(wt)"
   ]
  },
  {
   "cell_type": "code",
   "execution_count": 50,
   "metadata": {},
   "outputs": [
    {
     "data": {
      "text/plain": [
       "\n",
       " 4  6  8 \n",
       "11  7 14 "
      ]
     },
     "metadata": {},
     "output_type": "display_data"
    }
   ],
   "source": [
    "table(mtcars$cyl)"
   ]
  },
  {
   "cell_type": "code",
   "execution_count": 51,
   "metadata": {},
   "outputs": [
    {
     "data": {
      "image/png": "[encoded data removed]",
      "text/plain": [
       "plot without title"
      ]
     },
     "metadata": {
      "image/png": {
       "height": 420,
       "width": 420
      }
     },
     "output_type": "display_data"
    }
   ],
   "source": [
    "barplot(table(mtcars$cyl))"
   ]
  },
  {
   "cell_type": "code",
   "execution_count": 55,
   "metadata": {},
   "outputs": [
    {
     "data": {
      "image/png": "[encoded data removed]",
      "text/plain": [
       "Plot with title “Histogram of wt”"
      ]
     },
     "metadata": {
      "image/png": {
       "height": 420,
       "width": 420
      }
     },
     "output_type": "display_data"
    }
   ],
   "source": [
    "par(mfrow = c(1,3))\n",
    "hist(wt, breaks = 5)\n",
    "barplot(table(mtcars$cyl))\n",
    "barplot(table(mtcars$gear))"
   ]
  },
  {
   "cell_type": "code",
   "execution_count": 56,
   "metadata": {},
   "outputs": [
    {
     "data": {
      "image/png": "[encoded data removed]",
      "text/plain": [
       "plot without title"
      ]
     },
     "metadata": {
      "image/png": {
       "height": 420,
       "width": 420
      }
     },
     "output_type": "display_data"
    }
   ],
   "source": [
    "boxplot(wt)"
   ]
  },
  {
   "cell_type": "code",
   "execution_count": 57,
   "metadata": {},
   "outputs": [
    {
     "data": {
      "image/png": "[encoded data removed]",
      "text/plain": [
       "plot without title"
      ]
     },
     "metadata": {
      "image/png": {
       "height": 420,
       "width": 420
      }
     },
     "output_type": "display_data"
    }
   ],
   "source": [
    "boxplot(mtcars$disp)"
   ]
  },
  {
   "cell_type": "markdown",
   "metadata": {},
   "source": [
    "### string functions\n",
    "\n",
    " - paste() \n",
    " - subst() - cut strings\n",
    " - nchar() - the length of strings\n",
    " - gsub() - replace"
   ]
  },
  {
   "cell_type": "code",
   "execution_count": 58,
   "metadata": {},
   "outputs": [
    {
     "data": {
      "text/html": [
       "'good morning Tom'"
      ],
      "text/latex": [
       "'good morning Tom'"
      ],
      "text/markdown": [
       "'good morning Tom'"
      ],
      "text/plain": [
       "[1] \"good morning Tom\""
      ]
     },
     "metadata": {},
     "output_type": "display_data"
    },
    {
     "data": {
      "text/html": [
       "'good/morning/Tom'"
      ],
      "text/latex": [
       "'good/morning/Tom'"
      ],
      "text/markdown": [
       "'good/morning/Tom'"
      ],
      "text/plain": [
       "[1] \"good/morning/Tom\""
      ]
     },
     "metadata": {},
     "output_type": "display_data"
    },
    {
     "data": {
      "text/html": [
       "<style>\n",
       ".list-inline {list-style: none; margin:0; padding: 0}\n",
       ".list-inline>li {display: inline-block}\n",
       ".list-inline>li:not(:last-child)::after {content: \"\\00b7\"; padding: 0 .5ex}\n",
       "</style>\n",
       "<ol class=list-inline><li>'1 is good'</li><li>'2 is good'</li><li>'3 is good'</li><li>'4 is good'</li><li>'5 is good'</li><li>'6 is good'</li><li>'7 is good'</li><li>'8 is good'</li><li>'9 is good'</li><li>'10 is good'</li></ol>\n"
      ],
      "text/latex": [
       "\\begin{enumerate*}\n",
       "\\item '1 is good'\n",
       "\\item '2 is good'\n",
       "\\item '3 is good'\n",
       "\\item '4 is good'\n",
       "\\item '5 is good'\n",
       "\\item '6 is good'\n",
       "\\item '7 is good'\n",
       "\\item '8 is good'\n",
       "\\item '9 is good'\n",
       "\\item '10 is good'\n",
       "\\end{enumerate*}\n"
      ],
      "text/markdown": [
       "1. '1 is good'\n",
       "2. '2 is good'\n",
       "3. '3 is good'\n",
       "4. '4 is good'\n",
       "5. '5 is good'\n",
       "6. '6 is good'\n",
       "7. '7 is good'\n",
       "8. '8 is good'\n",
       "9. '9 is good'\n",
       "10. '10 is good'\n",
       "\n",
       "\n"
      ],
      "text/plain": [
       " [1] \"1 is good\"  \"2 is good\"  \"3 is good\"  \"4 is good\"  \"5 is good\" \n",
       " [6] \"6 is good\"  \"7 is good\"  \"8 is good\"  \"9 is good\"  \"10 is good\""
      ]
     },
     "metadata": {},
     "output_type": "display_data"
    }
   ],
   "source": [
    "paste('good', 'morning', 'Tom', sep=' ')\n",
    "paste('good', 'morning', 'Tom', sep='/')\n",
    "paste(1:10, 'is good', sep=' ')"
   ]
  },
  {
   "cell_type": "code",
   "execution_count": 59,
   "metadata": {},
   "outputs": [
    {
     "data": {
      "text/html": [
       "'good'"
      ],
      "text/latex": [
       "'good'"
      ],
      "text/markdown": [
       "'good'"
      ],
      "text/plain": [
       "[1] \"good\""
      ]
     },
     "metadata": {},
     "output_type": "display_data"
    }
   ],
   "source": [
    "str <- 'good morning'\n",
    "substr(str, 1, 4)"
   ]
  },
  {
   "cell_type": "code",
   "execution_count": 60,
   "metadata": {},
   "outputs": [
    {
     "data": {
      "text/html": [
       "'morning'"
      ],
      "text/latex": [
       "'morning'"
      ],
      "text/markdown": [
       "'morning'"
      ],
      "text/plain": [
       "[1] \"morning\""
      ]
     },
     "metadata": {},
     "output_type": "display_data"
    }
   ],
   "source": [
    "substr(str, 6, nchar(str))"
   ]
  },
  {
   "cell_type": "code",
   "execution_count": 61,
   "metadata": {},
   "outputs": [
    {
     "data": {
      "text/html": [
       "'nice morning'"
      ],
      "text/latex": [
       "'nice morning'"
      ],
      "text/markdown": [
       "'nice morning'"
      ],
      "text/plain": [
       "[1] \"nice morning\""
      ]
     },
     "metadata": {},
     "output_type": "display_data"
    }
   ],
   "source": [
    "gsub('good', 'nice', str)"
   ]
  }
 ],
 "metadata": {
  "kernelspec": {
   "display_name": "R",
   "language": "R",
   "name": "ir"
  },
  "language_info": {
   "codemirror_mode": "r",
   "file_extension": ".r",
   "mimetype": "text/x-r-source",
   "name": "R",
   "pygments_lexer": "r",
   "version": "4.0.2"
  }
 },
 "nbformat": 4,
 "nbformat_minor": 4
}
