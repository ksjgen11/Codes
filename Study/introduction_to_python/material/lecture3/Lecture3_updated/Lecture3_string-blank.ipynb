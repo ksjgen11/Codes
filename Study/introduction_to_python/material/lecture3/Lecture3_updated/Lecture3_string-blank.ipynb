{
 "cells": [
  {
   "cell_type": "markdown",
   "metadata": {},
   "source": [
    "# Lecture 3 - Exercise Shell"
   ]
  },
  {
   "cell_type": "markdown",
   "metadata": {},
   "source": [
    "The purpose of this notebook is to guide the solution of the exercises from lecture 3. "
   ]
  },
  {
   "cell_type": "markdown",
   "metadata": {},
   "source": [
    "Exercises: \n",
    "- Write a function that receives a string and returns the length.\n",
    "- Try calling it with strings, numbers, lists\n",
    "- Write a function that receives a variable and converts it to a string.\n",
    "- Try calling it with strings, numbers, ...\n",
    "- Write a function that receives a list and find the list member that is longest as a string\n",
    "(you should call the functions above)"
   ]
  },
  {
   "cell_type": "code",
   "execution_count": 11,
   "metadata": {},
   "outputs": [
    {
     "name": "stdout",
     "output_type": "stream",
     "text": [
      "Inside function: hej\n",
      "After function: hejhej\n"
     ]
    }
   ],
   "source": [
    "# Reminder on the syntax for a function\n",
    "\n",
    "def myfun(invar):\n",
    "    print('Inside function:', invar)\n",
    "    outvar = invar + invar\n",
    "    return outvar\n",
    "\n",
    "var = 'hej'\n",
    "out = myfun(var)\n",
    "print('After function:', out)"
   ]
  },
  {
   "cell_type": "code",
   "execution_count": 17,
   "metadata": {},
   "outputs": [],
   "source": [
    "# Define function that has a string as input and returns the lenght of that input string\n",
    "\n",
    "def len_func(arg):\n",
    "    length=len(arg)\n",
    "    return length\n",
    "\n",
    "# Test the function by calling it with string, a number, and a list\n",
    "\n"
   ]
  },
  {
   "cell_type": "code",
   "execution_count": 18,
   "metadata": {},
   "outputs": [
    {
     "name": "stdout",
     "output_type": "stream",
     "text": [
      "converted string is= Andre\n",
      "string converted number is = 243\n",
      "string converted list is = [2, 3, 4]\n"
     ]
    }
   ],
   "source": [
    "# Define function that has an input and returns that input converted to a string\n",
    "def str_func(arg):\n",
    "    str_arg=str(arg)\n",
    "    return str_arg\n",
    "\n",
    "# Test the function by calling it with string, a number, and a list\n",
    "string='Andre'\n",
    "print('converted string is=',str_func(string))\n",
    "num=243\n",
    "print('string converted number is =',str_func(num))\n",
    "list=[2,3,4]\n",
    "print('string converted list is =',str_func(list))"
   ]
  },
  {
   "cell_type": "code",
   "execution_count": 19,
   "metadata": {},
   "outputs": [
    {
     "name": "stdout",
     "output_type": "stream",
     "text": [
      "maximum length is = 4\n",
      "maximum length is = 6\n"
     ]
    }
   ],
   "source": [
    "# Define function that has a list as input and finds the member that is longest when converted to a string.\n",
    "# How do you inspect the members of a list, one by one?\n",
    "# You should use your functions defined above to convert each member and check their lenght\n",
    "def longest_func(arg):\n",
    "    max_len = -1\n",
    "    for ele in arg:\n",
    "        ele=str_func(ele)\n",
    "        if len_func(ele) > max_len: \n",
    "            max_len = len_func(ele) \n",
    "    return max_len \n",
    "list_a=[23,3777,4]\n",
    "#call here\n",
    "\n",
    "list_b=['kerry','Andres','luma']\n",
    "#call here\n",
    "\n",
    "# Test the function by calling it with a list containing members of different types\n"
   ]
  },
  {
   "cell_type": "raw",
   "metadata": {},
   "source": [
    "Bonus Exercise: \n",
    "- Write a Fraction class to represent rational numbers like 1/2 and -3/8.\n",
    "- Define add and multiply methods that accept another Fraction as a parameter and modify the existing Fraction by adding/multiplying it by that parameter.\n",
    "- Define +, *, ==, and < operators.\n",
    "- Fractions should be stored in reduced form; for example, store 4/12 as 1/3 and 6/-9 as -2/3. Hint: A greatest common divisor function may help."
   ]
  },
  {
   "cell_type": "code",
   "execution_count": 15,
   "metadata": {},
   "outputs": [
    {
     "name": "stdout",
     "output_type": "stream",
     "text": [
      "fraction number is= 4/7\n",
      "addition is= 26/21\n",
      "multiplication is= 8/21\n",
      "input 1 and 2 are equal? False\n",
      "input 1 is greater than input 2? False\n"
     ]
    }
   ],
   "source": [
    "class Fraction:\n",
    "    \n",
    "    def __init__(self,num,den):\n",
    "        if den == 0:\n",
    "            raise ValueError(\"Denominator must not be zero.\")\n",
    "\n",
    "        self.num = num\n",
    "        self.den = den\n",
    "\n",
    "    @staticmethod\n",
    "    def greatest_common_divisor(a,b):\n",
    "        \"\"\"\n",
    "        Returns the greatest number 'n' existing such\n",
    "        that a % n == 0 and b % n == 0.\n",
    "        This number may be one if 'a' and 'b' are coprimes.\n",
    "\n",
    "        >>> Fraction.greatest_common_divisor(20,15)\n",
    "        5\n",
    "        \"\"\"\n",
    "        def common(a,b):\n",
    "            return [i for i in a if i in b]\n",
    "\n",
    "        def div(n):\n",
    "            return [i for i in range(1,n+1) if n % i == 0]\n",
    "\n",
    "        return max(common(div(a),div(b)))\n",
    "\n",
    "    @staticmethod\n",
    "    def invert(fraction):\n",
    "        \"\"\"\n",
    "        Returns a fraction where the numerator is the previous\n",
    "        denominator and vice-versa.\n",
    "\n",
    "        >>> Fraction.invert(Fraction(3,5))\n",
    "        5/3\n",
    "        \"\"\"\n",
    "        return Fraction(fraction.den,fraction.num)\n",
    "\n",
    "    def from_string(text):\n",
    "        \"\"\"\n",
    "        Generates a Fraction object from a string rapresentation\n",
    "        of two integers seperated by '/'.\n",
    "\n",
    "        >>> Fraction.from_string('4/9') + Fraction.from_string('2/18')\n",
    "        5/9\n",
    "        \"\"\"\n",
    "        return Fraction(*[int(i) for i in text.split('/')])\n",
    "\n",
    "    def simplify(self):\n",
    "        \"\"\"\n",
    "        Returns an eqivalent but simpler Fraction.\n",
    "\n",
    "        >>> Fraction.simplify(Fraction(210,20))\n",
    "        21/2\n",
    "        \"\"\"\n",
    "        fact = self.greatest_common_divisor(self.num,\n",
    "                                       self.den)\n",
    "        return Fraction(self.num // fact, self.den // fact)\n",
    "\n",
    "    def __mul__(self,fraction):\n",
    "        \"\"\"\n",
    "        Fraction multiplication.\n",
    "\n",
    "        >>> Fraction(4,3) * Fraction(1,20)\n",
    "        1/15\n",
    "        \"\"\"\n",
    "        return Fraction.simplify(\n",
    "            Fraction(self.num*fraction.num,\n",
    "                       self.den*fraction.den))\n",
    "    \n",
    "    def __eq__(self, other):\n",
    "        firstnum = self.num * other.den\n",
    "        secondnum = other.num * self.den\n",
    "        return firstnum == secondnum\n",
    "    \n",
    "    def __gt__(self, other):\n",
    "        firstnum = self.num * other.den\n",
    "        secondnum = other.num * self.den\n",
    "        return firstnum > secondnum\n",
    "\n",
    "    def __add__(self,fraction):\n",
    "        \"\"\"\n",
    "        Fraction addition.\n",
    "\n",
    "        >>> Fraction(4,9) + Fraction(11,7)\n",
    "        127/63\n",
    "        \"\"\"\n",
    "        common_den = self.greatest_common_divisor(\n",
    "            self.den,fraction.den)\n",
    "        num1 = self.num * fraction.den\n",
    "        num2 = fraction.num * self.den\n",
    "        return Fraction.simplify(\n",
    "            Fraction(num1+num2, fraction.den*self.den))\n",
    "\n",
    "    def __sub__(self,fraction):\n",
    "        \"\"\"\n",
    "        Fraction subtraction.\n",
    "\n",
    "        >>> Fraction(1,2) - Fraction(1,3)\n",
    "        1/6\n",
    "        \"\"\"\n",
    "        return self + Fraction(-fraction.num,\n",
    "                                fraction.den)\n",
    "    def __repr__(self):\n",
    "        \"\"\"\n",
    "        >>> Fraction(5,8)\n",
    "        5/8\n",
    "        \"\"\"\n",
    "        return '{}/{}'.format(self.num, self.den)\n",
    "\n",
    "obj1=Fraction(4,7)\n",
    "print('fraction number is=',obj1)\n",
    "obj2=Fraction(2,3)\n",
    "addition=obj1+obj2\n",
    "print('addition is=',addition)\n",
    "multiplication=obj1*obj2\n",
    "print('multiplication is=',multiplication)\n",
    "print('input 1 and 2 are equal?',obj1==obj2)\n",
    "print('input 1 is greater than input 2?',obj1>obj2)"
   ]
  },
  {
   "cell_type": "code",
   "execution_count": 20,
   "metadata": {},
   "outputs": [
    {
     "name": "stdout",
     "output_type": "stream",
     "text": [
      "I am 30.000000\n"
     ]
    }
   ],
   "source": [
    "# Reminder: A typical class definition may look like this:\n",
    "\n",
    "class SomeClass:\n",
    "    # Class variables\n",
    "    attrib1 = 0\n",
    "    \n",
    "    def __init__(self, initval):\n",
    "        # Init of instance variables\n",
    "        self.attrib2 = initval\n",
    "    \n",
    "    def addme(self, inputvar):\n",
    "        self.attrib2 += inputvar\n",
    "            \n",
    "    def __str__(self):\n",
    "        return 'I am %f' % (self.attrib2)\n",
    "    \n",
    "obj1 = SomeClass(23)\n",
    "obj1.addme(7)\n",
    "print(obj1)"
   ]
  }
 ],
 "metadata": {
  "kernelspec": {
   "display_name": "Python 3",
   "language": "python",
   "name": "python3"
  },
  "language_info": {
   "codemirror_mode": {
    "name": "ipython",
    "version": 3
   },
   "file_extension": ".py",
   "mimetype": "text/x-python",
   "name": "python",
   "nbconvert_exporter": "python",
   "pygments_lexer": "ipython3",
   "version": "3.7.6"
  }
 },
 "nbformat": 4,
 "nbformat_minor": 4
}
