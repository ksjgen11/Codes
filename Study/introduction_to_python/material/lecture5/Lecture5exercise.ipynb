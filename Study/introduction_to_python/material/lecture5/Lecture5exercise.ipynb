{
 "cells": [
  {
   "cell_type": "markdown",
   "metadata": {},
   "source": [
    "# Lecture 5: Exercise"
   ]
  },
  {
   "cell_type": "markdown",
   "metadata": {},
   "source": [
    "See how far you can go:\n",
    "    \n",
    "- Make text file or excel sheet\n",
    "- Write numbers in columns. Call column 1 Height and column 2 Weight in a header line. Put in reasonable values for 5-10 lines of observations.\n",
    "- Import the data in Python\n",
    "- Plot the observations\n",
    "- Check if there is a linear correlation using Pearson regression (find r and p)\n",
    "- Plot the best fitting line\n"
   ]
  },
  {
   "cell_type": "code",
   "execution_count": null,
   "metadata": {},
   "outputs": [],
   "source": []
  }
 ],
 "metadata": {
  "kernelspec": {
   "display_name": "Python 3",
   "language": "python",
   "name": "python3"
  },
  "language_info": {
   "codemirror_mode": {
    "name": "ipython",
    "version": 3
   },
   "file_extension": ".py",
   "mimetype": "text/x-python",
   "name": "python",
   "nbconvert_exporter": "python",
   "pygments_lexer": "ipython3",
   "version": "3.7.6"
  }
 },
 "nbformat": 4,
 "nbformat_minor": 4
}
