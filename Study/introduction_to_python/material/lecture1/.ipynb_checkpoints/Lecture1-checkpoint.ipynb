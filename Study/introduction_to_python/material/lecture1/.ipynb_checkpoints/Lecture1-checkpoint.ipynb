{
 "cells": [
  {
   "cell_type": "markdown",
   "metadata": {},
   "source": [
    "# Lecture 1\n",
    "# Variables, data types, loops, conditionals, ..."
   ]
  },
  {
   "cell_type": "markdown",
   "metadata": {},
   "source": [
    "Python:\n",
    "- Open source general-purpose language.\n",
    "- Object Oriented, Procedural, Functional\n",
    "- Great interactive environment (”interpreter”)\n",
    "- Lots of toolboxes, particularly for Data Science\n",
    "- Can interface with R/Matlab/...\n",
    "\n",
    "Before getting to the above, we need to start with the basics."
   ]
  },
  {
   "cell_type": "code",
   "execution_count": null,
   "metadata": {},
   "outputs": [],
   "source": [
    "print('Hello world')"
   ]
  },
  {
   "cell_type": "markdown",
   "metadata": {},
   "source": [
    "## Data Types"
   ]
  },
  {
   "cell_type": "markdown",
   "metadata": {},
   "source": [
    "Simple types:\n",
    "- None\n",
    "- int, bool, float, complex\n",
    "\n",
    "Sequences:\n",
    "- String, Tuples, byte (immutable)\n",
    "- List, byte array (mutable)\n",
    "\n",
    "Sets:\n",
    "- Set (mutable)\n",
    "- Frozenset (immutable)\n",
    "\n",
    "Mappings:\n",
    "- Dictionary"
   ]
  },
  {
   "cell_type": "code",
   "execution_count": null,
   "metadata": {},
   "outputs": [],
   "source": [
    "a = 3\n",
    "print(a)\n",
    "print(type(a))"
   ]
  },
  {
   "cell_type": "code",
   "execution_count": null,
   "metadata": {},
   "outputs": [],
   "source": [
    "a = 3\n",
    "b = 3+0.0\n",
    "c = False\n",
    "d = a==b\n",
    "print(a, type(a))\n",
    "print(b, type(b))\n",
    "print(c, type(c))\n",
    "print(d, type(d))"
   ]
  },
  {
   "cell_type": "markdown",
   "metadata": {},
   "source": [
    "## Lists"
   ]
  },
  {
   "cell_type": "code",
   "execution_count": null,
   "metadata": {},
   "outputs": [],
   "source": [
    "a = []\n",
    "b = [1, 2, 4]\n",
    "c = [5, \"Hello\", \"World\"]\n",
    "d = a==[]\n",
    "print(a, type(a), len(a))\n",
    "print(b, type(b), len(b))\n",
    "print(c, type(c), len(c))\n",
    "print(d, type(d), len(d))"
   ]
  },
  {
   "cell_type": "code",
   "execution_count": null,
   "metadata": {},
   "outputs": [],
   "source": [
    "help(len)"
   ]
  },
  {
   "cell_type": "markdown",
   "metadata": {},
   "source": [
    "... Matlab users will be disappointed with the help "
   ]
  },
  {
   "cell_type": "markdown",
   "metadata": {},
   "source": [
    "## Inspecting objects"
   ]
  },
  {
   "cell_type": "code",
   "execution_count": null,
   "metadata": {},
   "outputs": [],
   "source": [
    "a = 5\n",
    "type(a)"
   ]
  },
  {
   "cell_type": "code",
   "execution_count": null,
   "metadata": {},
   "outputs": [],
   "source": [
    "dir(a)"
   ]
  },
  {
   "cell_type": "code",
   "execution_count": null,
   "metadata": {},
   "outputs": [],
   "source": [
    "help(a)"
   ]
  },
  {
   "cell_type": "code",
   "execution_count": null,
   "metadata": {},
   "outputs": [],
   "source": [
    "# use tab completion\n",
    "a."
   ]
  },
  {
   "cell_type": "markdown",
   "metadata": {},
   "source": [
    "## Print et al"
   ]
  },
  {
   "cell_type": "code",
   "execution_count": null,
   "metadata": {},
   "outputs": [],
   "source": [
    "a = 4\n",
    "b = 5\n",
    "print('A %d plus %d' % (a,b))\n",
    "print(f'A {a} plus {b}')\n",
    "print('A {} plus {}'.format(4,5))"
   ]
  },
  {
   "cell_type": "markdown",
   "metadata": {},
   "source": [
    "## Variable Assignment - Understanding Reference Semantics \n",
    "When you assign a variable to another variable ..."
   ]
  },
  {
   "cell_type": "code",
   "execution_count": null,
   "metadata": {},
   "outputs": [],
   "source": [
    "a = 4\n",
    "b = a\n",
    "a = 5\n",
    "print(a)\n",
    "print(b)"
   ]
  },
  {
   "cell_type": "code",
   "execution_count": null,
   "metadata": {},
   "outputs": [],
   "source": [
    "a = [1,2,3]\n",
    "b = a\n",
    "a.append(4)\n",
    "print(a)\n",
    "print(b)"
   ]
  },
  {
   "cell_type": "markdown",
   "metadata": {},
   "source": [
    "Above, b keeps it value when a is assigned a new value. Below, b also changes. Why?\n",
    "\n",
    "This is because, that for non-simple data types, Python does not assign the value but rather a reference to the object to the other variable/object. A reference is \"the address in memory\" to where the object is stored. "
   ]
  },
  {
   "cell_type": "markdown",
   "metadata": {},
   "source": [
    "What if we actually want to keep a and b as different objects?"
   ]
  },
  {
   "cell_type": "code",
   "execution_count": null,
   "metadata": {},
   "outputs": [],
   "source": []
  },
  {
   "cell_type": "markdown",
   "metadata": {},
   "source": [
    "## Mutable vs Immutable - List vs String"
   ]
  },
  {
   "cell_type": "code",
   "execution_count": null,
   "metadata": {
    "scrolled": true
   },
   "outputs": [],
   "source": [
    "nus = [1,2,3,4,5,6,7,8]\n",
    "print(type(nus))\n",
    "print(nus[3])                   # indexing: 0 is first entry\n",
    "nus[3] = 'Four'\n",
    "print(nus)"
   ]
  },
  {
   "cell_type": "code",
   "execution_count": null,
   "metadata": {},
   "outputs": [],
   "source": [
    "smiles = \"C(=N)(N)N.C(=O)(O)O\"\n",
    "print(type(smiles))\n",
    "print(smiles[3])\n",
    "smiles[3] = '4'"
   ]
  },
  {
   "cell_type": "code",
   "execution_count": null,
   "metadata": {},
   "outputs": [],
   "source": [
    "i = 3\n",
    "i = 4\n",
    "print(i)\n",
    "welcome = 'Hello'\n",
    "welcome += ' World'\n",
    "print(welcome)"
   ]
  },
  {
   "cell_type": "markdown",
   "metadata": {},
   "source": [
    "So:\n",
    "- You can change the list entry (mutable), but not the string entry (immutable)\n",
    "- You can't really change the integer/string (immutable), so Python instead makes a new integer/string"
   ]
  },
  {
   "cell_type": "markdown",
   "metadata": {},
   "source": [
    "<i> ... it is now time for an exercise!"
   ]
  },
  {
   "cell_type": "markdown",
   "metadata": {},
   "source": [
    "## Conditional"
   ]
  },
  {
   "cell_type": "code",
   "execution_count": null,
   "metadata": {},
   "outputs": [],
   "source": [
    "a = 4\n",
    "b = 5\n",
    "\n",
    "if a == b:\n",
    "    print('%f = %f' % (a,b))\n",
    "else:\n",
    "    print('%f != %f' % (a,b))"
   ]
  },
  {
   "cell_type": "code",
   "execution_count": null,
   "metadata": {},
   "outputs": [],
   "source": [
    "str = 'Big Brother is watching'\n",
    "\n",
    "if 'Brother' in str:\n",
    "    print('Has Brother')"
   ]
  },
  {
   "cell_type": "code",
   "execution_count": null,
   "metadata": {},
   "outputs": [],
   "source": [
    "streng = \"Big Sister is watching\"\n",
    "\n",
    "if 'Brother' in streng:\n",
    "    print('Has Brother')\n",
    "else:\n",
    "    print('No Brother')\n",
    "\n",
    "if 'Brother in string':\n",
    "    print('All strings are True')"
   ]
  },
  {
   "cell_type": "markdown",
   "metadata": {},
   "source": [
    "Note the need for :\n",
    "\n",
    "Note that ' works just like \""
   ]
  },
  {
   "cell_type": "markdown",
   "metadata": {},
   "source": [
    "## Loop\n",
    "\n",
    "Often, we need to perform the same operation multiple times:\n",
    "- iterate over some list\n",
    "- read all lines in files\n",
    "- do statistical test on all variables\n",
    "- analyse all images\n",
    "- ..."
   ]
  },
  {
   "cell_type": "code",
   "execution_count": null,
   "metadata": {},
   "outputs": [],
   "source": [
    "# As an example, lets concatenate a list of integers into one long string:\n",
    "\n",
    "primes = [1,3,5,7,11,13,17,19]\n",
    "\n",
    "primesFor = ''\n",
    "for p in primes:\n",
    " primesFor += str(p)\n",
    "\n",
    "print(primesFor)"
   ]
  },
  {
   "cell_type": "markdown",
   "metadata": {},
   "source": [
    "Let's assume that we downloaded some functions from github/stackoverflow/geektogeek/...\n",
    "\n",
    "As an example, let's open the Lecture1.py file.\n",
    "\n",
    "We can now copy/paste or import the functions."
   ]
  },
  {
   "cell_type": "code",
   "execution_count": null,
   "metadata": {},
   "outputs": [],
   "source": [
    "from Lecture1 import loop_concat\n",
    "\n",
    "print(loop_concat(primes))"
   ]
  },
  {
   "cell_type": "code",
   "execution_count": null,
   "metadata": {},
   "outputs": [],
   "source": [
    "print(join_concat(primes))"
   ]
  },
  {
   "cell_type": "code",
   "execution_count": null,
   "metadata": {},
   "outputs": [],
   "source": []
  }
 ],
 "metadata": {
  "kernelspec": {
   "display_name": "Python 3",
   "language": "python",
   "name": "python3"
  },
  "language_info": {
   "codemirror_mode": {
    "name": "ipython",
    "version": 3
   },
   "file_extension": ".py",
   "mimetype": "text/x-python",
   "name": "python",
   "nbconvert_exporter": "python",
   "pygments_lexer": "ipython3",
   "version": "3.8.3"
  }
 },
 "nbformat": 4,
 "nbformat_minor": 4
}
