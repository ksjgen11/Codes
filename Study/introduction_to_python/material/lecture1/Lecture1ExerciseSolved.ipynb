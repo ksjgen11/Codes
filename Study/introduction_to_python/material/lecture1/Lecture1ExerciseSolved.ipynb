{
 "cells": [
  {
   "cell_type": "markdown",
   "metadata": {},
   "source": [
    "# Lecture 1 - Exercise Solutions"
   ]
  },
  {
   "cell_type": "markdown",
   "metadata": {},
   "source": [
    "The purpose of this notebook is to guide the solution of the exercises from lecture 1. "
   ]
  },
  {
   "cell_type": "markdown",
   "metadata": {},
   "source": [
    "Exercise: \n",
    "Make variables containing your name, height, family members and their ages.\n",
    "Consider choice of data types.\n",
    "Display the variables and their types.\n",
    "Change their values (mutable?).\n",
    "Add a new family member."
   ]
  },
  {
   "cell_type": "code",
   "execution_count": 3,
   "metadata": {},
   "outputs": [
    {
     "name": "stdout",
     "output_type": "stream",
     "text": [
      "Santa Claus <class 'str'>\n",
      "735 <class 'int'>\n"
     ]
    }
   ],
   "source": [
    "# Assign two variables, e.g. myName and myAge, with your name and your age\n",
    "# What are natural data types for these?\n",
    "# How do you inspect the data types that you created?\n",
    "\n",
    "myName = 'Santa Claus'\n",
    "myAge = 735\n",
    "print(myName, type(myName))\n",
    "print(myAge, type(myAge))"
   ]
  },
  {
   "cell_type": "code",
   "execution_count": 5,
   "metadata": {},
   "outputs": [
    {
     "name": "stdout",
     "output_type": "stream",
     "text": [
      "[('Santa Claus', 735), ('Rudolph', 23)]\n"
     ]
    }
   ],
   "source": [
    "# Each family member should have name and age. What is a good container for a fixed number of variables?\n",
    "# The container for you entire family shold be able to change size. What is suitable for that?\n",
    "\n",
    "me = (myName, myAge)\n",
    "helper1 = ('Rudolph',23)\n",
    "family = [me, helper1]\n",
    "print(family)"
   ]
  },
  {
   "cell_type": "code",
   "execution_count": 7,
   "metadata": {},
   "outputs": [
    {
     "name": "stdout",
     "output_type": "stream",
     "text": [
      "[('Santa Claus', 735), ('Rudolph', 23), ('Elf', 345)]\n"
     ]
    }
   ],
   "source": [
    "# How do you add a member to the family container?\n",
    "\n",
    "helper2 = ('Elf', 345)\n",
    "family.append(helper2)\n",
    "print(family)"
   ]
  }
 ],
 "metadata": {
  "kernelspec": {
   "display_name": "Python 3",
   "language": "python",
   "name": "python3"
  },
  "language_info": {
   "codemirror_mode": {
    "name": "ipython",
    "version": 3
   },
   "file_extension": ".py",
   "mimetype": "text/x-python",
   "name": "python",
   "nbconvert_exporter": "python",
   "pygments_lexer": "ipython3",
   "version": "3.7.6"
  }
 },
 "nbformat": 4,
 "nbformat_minor": 4
}
