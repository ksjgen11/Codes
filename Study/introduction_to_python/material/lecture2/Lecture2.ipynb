{
 "cells": [
  {
   "cell_type": "markdown",
   "metadata": {},
   "source": [
    "# Lecture 2: More Data Structures\n",
    "\n",
    "Raghavendra Selvan \n",
    "(raghav@di.ku.dk)"
   ]
  },
  {
   "cell_type": "markdown",
   "metadata": {},
   "source": [
    "### Task 1: List Indexing and Operations\n",
    "\n",
    "Pythonic way of indexing elements in a list can be very handy in manipulations. The advanced indexing it allows is applicable from lists to arrays and now is applicable to even tensors."
   ]
  },
  {
   "cell_type": "code",
   "execution_count": null,
   "metadata": {},
   "outputs": [],
   "source": [
    "# Bringing back the list from previous exercise again\n",
    "\n",
    "nus = [1,2,3,4,5,6,7,8]\n",
    "\n",
    "# Print the length of this list\n",
    "\n",
    "# Print only the second element list \n",
    "\n",
    "# Print the last element\n",
    "\n",
    "# Print every other element, starting from the first\n",
    "\n",
    "# Print every other element, starting from the second\n",
    "\n",
    "# Print the first 3 elements\n",
    "\n",
    "# Print the last 5 elements\n"
   ]
  },
  {
   "cell_type": "code",
   "execution_count": null,
   "metadata": {},
   "outputs": [],
   "source": [
    "# New random array \n",
    "nus = [5, 8, 3, 9, 1, 0, 4]\n",
    "\n",
    "# Use dir() on this list and check what operations are permitted\n",
    "\n",
    "# Print a sorted list\n",
    "\n",
    "# Print a reverse sorted list\n",
    "\n",
    "# Append the list with a another integer\n",
    "\n",
    "# Use any other inbuilt function that you find interesting!\n"
   ]
  },
  {
   "cell_type": "markdown",
   "metadata": {},
   "source": [
    "### Task 2: String indexing and methods\n",
    "\n",
    "Another useful datatype is the string type. Strings can be populated into lists, and other than some of the manipulations we were perform above, some string specialised methods allow for complex manipulations. "
   ]
  },
  {
   "cell_type": "code",
   "execution_count": null,
   "metadata": {},
   "outputs": [],
   "source": [
    "# A sample string list \n",
    "\n",
    "nordics = ['Denmark', 'Finland', 'Iceland', 'Norway', 'Sweden']\n",
    "\n",
    "# Print each country in a separate line\n",
    "\n",
    "# Print only the first 3 characters of each country\n",
    "\n",
    "# Check which of the entries has 'land' in it\n",
    "\n",
    "# Create a new list with capitals of nordics\n",
    "\n",
    "capitals = ['Copenhagen', 'Helsinki', 'Rejkjavik', 'Oslo', 'Stockholm']\n",
    "\n",
    "# How would you combine the two lists into a new one? \n",
    "\n",
    "# Create a new list where each entry is with country_capital: \n",
    "#Ex: 'Denmark_Copenhagen', ....\n",
    "\n",
    "# Again investigate what other methods are available"
   ]
  },
  {
   "cell_type": "code",
   "execution_count": null,
   "metadata": {},
   "outputs": [],
   "source": [
    "# Easy Printing \n",
    "\n",
    "# Using the two lists, print statements like \n",
    "#\"The capital of Iceland is Rejkjavik\", for each country\n"
   ]
  },
  {
   "cell_type": "markdown",
   "metadata": {},
   "source": [
    "### Task 3: Arrays with numpy\n",
    "\n",
    "We have by now seen different datatypes. One of the most commonly encountered datatype is the numerical array. Python has a specialised library with some of the most powerful indexing and advanced methods packaged in numPy. This is an unmissable package that unleashes a trove of possibilities. We delve into some basics here."
   ]
  },
  {
   "cell_type": "code",
   "execution_count": null,
   "metadata": {},
   "outputs": [],
   "source": [
    "# Numpy is not a built-in package; it has to be loaded\n",
    "import numpy as np \n",
    "# This is a standard way of importing packages\n",
    "# And you can import a package using another identifier, \n",
    "# here numpy is being loaded as np. \n",
    "\n",
    "# Once you have numpy loaded, a tab after np. should show\n",
    "# tons of powerful functions that are now at your finger tips\n",
    "\n",
    "# Don't be shy! Read the docs. Invoke any intriguing function\n",
    "# with its help(np.any_function_you_wish)\n",
    "# Ex: help(np.random)"
   ]
  },
  {
   "cell_type": "code",
   "execution_count": null,
   "metadata": {},
   "outputs": [],
   "source": [
    "# A numerical list has to be cast explicitly as a numpy array\n",
    "\n",
    "# Our good old numerical list\n",
    "nus = [1,2,3,4,5,6,7,8]\n",
    "\n",
    "# Check what is its type\n",
    "print(type(nus))\n",
    "\n",
    "# Now let us cast it as a numpy array\n",
    "# Use dir or tab after nus to see what methods and functions are available\n",
    "\n",
    "\n"
   ]
  },
  {
   "cell_type": "code",
   "execution_count": null,
   "metadata": {},
   "outputs": [],
   "source": [
    "# Create a 4x4 array of zeros\n",
    "\n",
    "# Create a 4x4 array of ones\n",
    "\n",
    "# Create a 4x4 diagonal matrix with 1 as diagonal entries\n",
    "\n"
   ]
  },
  {
   "cell_type": "code",
   "execution_count": null,
   "metadata": {},
   "outputs": [],
   "source": [
    "# More numpy-ing\n",
    "\n",
    "# Create a random integer matrix, with entries between 0-9,\n",
    "# of size 4x4 \n",
    "\n",
    "# Print the matrix\n",
    "\n",
    "# Print only the first column\n",
    "\n",
    "# Print the last row\n"
   ]
  },
  {
   "cell_type": "code",
   "execution_count": null,
   "metadata": {},
   "outputs": [],
   "source": [
    "# Make transpose of the matrix"
   ]
  },
  {
   "cell_type": "code",
   "execution_count": null,
   "metadata": {},
   "outputs": [],
   "source": [
    "# Compute the mean value\n",
    "\n",
    "# Compute row-wise mean\n",
    "\n",
    "# Compute column-wise mean"
   ]
  },
  {
   "cell_type": "code",
   "execution_count": null,
   "metadata": {},
   "outputs": [],
   "source": [
    "# Create another matrix of dimensions 4x4\n",
    "\n",
    "# Compute the element-wise product of the two matrices\n",
    "\n",
    "# Compute the matrix product of the two matrices"
   ]
  },
  {
   "cell_type": "code",
   "execution_count": null,
   "metadata": {},
   "outputs": [],
   "source": [
    "# Create a new random matrix of size 1x12\n",
    "\n",
    "# Reshape it into a 2D array of size 3x4 \n",
    "\n",
    "# Reshape it into a 3d array of size 2x2x3\n"
   ]
  },
  {
   "cell_type": "markdown",
   "metadata": {},
   "source": [
    "### Task 3: List comprehension\n",
    "\n",
    "Lists that we encountered above can be used to run complex functions and save the outputs in the same list. \n",
    "\n",
    "Syntax: \\[expression for item in list \\]"
   ]
  },
  {
   "cell_type": "code",
   "execution_count": 21,
   "metadata": {},
   "outputs": [],
   "source": [
    "# Given the first two elements of the Fibonacci series, \n",
    "# using list comprehension extend this list to have the first\n",
    "# 20 in the sequence\n",
    "a = [1,1]\n"
   ]
  },
  {
   "cell_type": "code",
   "execution_count": 25,
   "metadata": {},
   "outputs": [],
   "source": [
    "# Create an array with random integers using numpy of length 10\n",
    "import numpy as np\n",
    "\n",
    "# Using list comprehension square every even number and cube every odd number\n"
   ]
  },
  {
   "cell_type": "markdown",
   "metadata": {},
   "source": [
    "### Linear Algebra module in Numpy Package\n",
    "\n",
    "Most commonly used linear algebra operations are efficiently implemented in Numpy under the linalg package. We will explore very basic functionalities here."
   ]
  },
  {
   "cell_type": "code",
   "execution_count": null,
   "metadata": {},
   "outputs": [],
   "source": [
    "# While you can use all linear algebra functions using np.linalg.... \n",
    "# it quickly gets tedious. \n",
    "\n",
    "# Instead, you can also import just linalg as\n",
    "from numpy import linalg as la"
   ]
  },
  {
   "cell_type": "code",
   "execution_count": null,
   "metadata": {},
   "outputs": [],
   "source": [
    "# Given a square matrix \n",
    "arr = np.random.randint(10,size=(4,4))\n",
    "\n",
    "# Compute the eigen values and eigen vectors using an appropriate \n",
    "# function from linalg module\n",
    "\n",
    "\n",
    "# Compute the inverse of the matrix\n",
    "# Verify if the product of the matrix with its inverse\n",
    "# yields an identity matrix\n"
   ]
  },
  {
   "cell_type": "markdown",
   "metadata": {},
   "source": [
    "## More datatypes\n",
    "\n",
    "Due to time constraint we have not looked at two other commonly encountered datatypes: tuples and dictionaries.\n",
    "\n",
    "Some self-exercises here can highlight their purpose and features."
   ]
  },
  {
   "cell_type": "markdown",
   "metadata": {},
   "source": [
    "## Tuples"
   ]
  },
  {
   "cell_type": "code",
   "execution_count": null,
   "metadata": {},
   "outputs": [],
   "source": [
    "# Declaring a tuple\n",
    "\n",
    "tup = (1,2,3) \n",
    "\n",
    "# Check the type\n",
    "print(type(tup))"
   ]
  },
  {
   "cell_type": "code",
   "execution_count": null,
   "metadata": {},
   "outputs": [],
   "source": [
    "# Append a new element to this tuple\n",
    "tup.append(4)\n",
    "\n",
    "# Did it work? \n",
    "# How else could we do it?\n"
   ]
  },
  {
   "cell_type": "code",
   "execution_count": null,
   "metadata": {},
   "outputs": [],
   "source": [
    "# One reason is that tuples are immutable; you can however concatenate a new\n",
    "# tuple \n",
    "\n",
    "# Let's try:\n",
    "tup = (tup) + (4,)\n",
    "\n",
    "# Did this work? "
   ]
  },
  {
   "cell_type": "markdown",
   "metadata": {},
   "source": [
    "### Dictionaries\n",
    "Useful look-up tables with keys and values can be built using dictionary datatypes.\n",
    "\n",
    "Duplicate keys are not allowed!"
   ]
  },
  {
   "cell_type": "code",
   "execution_count": null,
   "metadata": {},
   "outputs": [],
   "source": [
    "# Some example dictionaries\n",
    "\n",
    "symbol_to_name = {\"H\": \"hydrogen\", \"He\": \"helium\", \"Li\": \"lithium\", \"C\": \"carbon\", \"O\": \"oxygen\", \"N\": \"nitrogen\"}\n",
    "\n",
    "atomic_number_to_name = {1: \"hydrogen\", 6: \"carbon\", 7: \"nitrogen\", 8: \"oxygen\"}\n",
    "\n",
    "nobel_prize_winners = {\n",
    "    (1979, \"physics\"): [\"Glashow\", \"Salam\", \"Weinberg\"],\n",
    "    (1962, \"chemistry\"): [\"Hodgkin\"],\n",
    "    (1984, \"biology\"): [\"McClintock\"]}\n",
    "\n",
    "# Print them to see how they are stored"
   ]
  },
  {
   "cell_type": "code",
   "execution_count": null,
   "metadata": {},
   "outputs": [],
   "source": [
    "# Access values by specifying keys\n",
    "\n",
    "# What is the output of \n",
    "symbol_to_name['H']"
   ]
  },
  {
   "cell_type": "code",
   "execution_count": null,
   "metadata": {},
   "outputs": [],
   "source": [
    "# Logical statements checking for entries\n",
    "\"O\" in symbol_to_name, \"U\" in symbol_to_name"
   ]
  },
  {
   "cell_type": "code",
   "execution_count": null,
   "metadata": {},
   "outputs": [],
   "source": [
    "# Print all keys\n",
    "symbol_to_name.keys()"
   ]
  },
  {
   "cell_type": "code",
   "execution_count": null,
   "metadata": {},
   "outputs": [],
   "source": [
    "# Print all values \n",
    "symbol_to_name.values()"
   ]
  },
  {
   "cell_type": "code",
   "execution_count": null,
   "metadata": {},
   "outputs": [],
   "source": [
    "# Updating the dictionary with additions and deletions\n",
    "symbol_to_name.update({\"P\": \"phosphorous\", \"S\": \"sulfur\"})\n",
    "\n",
    "del symbol_to_name['C']\n",
    "\n",
    "symbol_to_name"
   ]
  }
 ],
 "metadata": {
  "kernelspec": {
   "display_name": "Python 3",
   "language": "python",
   "name": "python3"
  },
  "language_info": {
   "codemirror_mode": {
    "name": "ipython",
    "version": 3
   },
   "file_extension": ".py",
   "mimetype": "text/x-python",
   "name": "python",
   "nbconvert_exporter": "python",
   "pygments_lexer": "ipython3",
   "version": "3.7.4"
  }
 },
 "nbformat": 4,
 "nbformat_minor": 4
}
