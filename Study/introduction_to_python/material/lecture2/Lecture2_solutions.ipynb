{
 "cells": [
  {
   "cell_type": "markdown",
   "metadata": {},
   "source": [
    "# Lecture 2: More Data Structures\n",
    "\n",
    "Raghavendra Selvan \n",
    "(raghav@di.ku.dk)"
   ]
  },
  {
   "cell_type": "markdown",
   "metadata": {},
   "source": [
    "### Task 1: List Indexing and Operations\n",
    "\n",
    "Pythonic way of indexing elements in a list can be very handy in manipulations. The advanced indexing it allows is applicable from lists to arrays and now is applicable to even tensors."
   ]
  },
  {
   "cell_type": "code",
   "execution_count": 1,
   "metadata": {},
   "outputs": [
    {
     "name": "stdout",
     "output_type": "stream",
     "text": [
      "2\n",
      "8\n",
      "[1, 3, 5, 7]\n",
      "[2, 4, 6, 8]\n",
      "[1, 2, 3]\n",
      "[4, 5, 6, 7, 8]\n"
     ]
    }
   ],
   "source": [
    "# Bringing back the list from previous exercise again\n",
    "\n",
    "nus = [1,2,3,4,5,6,7,8]\n",
    "\n",
    "# Print the length of this list\n",
    "(len(nus))\n",
    "# Print only the second element list \n",
    "print(nus[1])\n",
    "# Print the last element\n",
    "print(nus[-1])\n",
    "# Print every other element, starting from the first\n",
    "print(nus[::2])\n",
    "# Print every other element, starting from the second\n",
    "print(nus[1::2])\n",
    "# Print the first 3 elements\n",
    "print(nus[:3])\n",
    "# Print the last 5 elements\n",
    "print(nus[-5:])"
   ]
  },
  {
   "cell_type": "code",
   "execution_count": 6,
   "metadata": {},
   "outputs": [
    {
     "name": "stdout",
     "output_type": "stream",
     "text": [
      "['__add__', '__class__', '__contains__', '__delattr__', '__delitem__', '__dir__', '__doc__', '__eq__', '__format__', '__ge__', '__getattribute__', '__getitem__', '__gt__', '__hash__', '__iadd__', '__imul__', '__init__', '__init_subclass__', '__iter__', '__le__', '__len__', '__lt__', '__mul__', '__ne__', '__new__', '__reduce__', '__reduce_ex__', '__repr__', '__reversed__', '__rmul__', '__setattr__', '__setitem__', '__sizeof__', '__str__', '__subclasshook__', 'append', 'clear', 'copy', 'count', 'extend', 'index', 'insert', 'pop', 'remove', 'reverse', 'sort']\n",
      "[0, 1, 3, 4, 5, 8, 9]\n",
      "[4, 0, 1, 9, 3, 8, 5]\n",
      "[5, 8, 3, 9, 1, 0, 4, 100]\n"
     ]
    }
   ],
   "source": [
    "# New random array \n",
    "nus = [5, 8, 3, 9, 1, 0, 4]\n",
    "\n",
    "# Use dir() on this list and check what operations are permitted\n",
    "print(dir(nus))\n",
    "\n",
    "# Print a sorted list\n",
    "\n",
    "print(sorted(nus))\n",
    "\n",
    "# Print a reverse sorted list\n",
    "print(nus[::-1])\n",
    "\n",
    "# Append the list with a another integer\n",
    "nus = nus+[100]\n",
    "print(nus)\n",
    "\n",
    "# Use any other inbuilt function that you find interesting!\n"
   ]
  },
  {
   "cell_type": "markdown",
   "metadata": {},
   "source": [
    "\n",
    "### Task 2: List of Strings and methods\n",
    "\n",
    "Another useful datatype is the string type. Strings can be populated into lists, and other than some of the manipulations we were perform above, some string specialised methods allow for complex manipulations. "
   ]
  },
  {
   "cell_type": "code",
   "execution_count": 51,
   "metadata": {},
   "outputs": [],
   "source": [
    "nordics = ['Denmark', 'Finland', 'Iceland', 'Norway', 'Sweden']"
   ]
  },
  {
   "cell_type": "code",
   "execution_count": 66,
   "metadata": {},
   "outputs": [
    {
     "data": {
      "text/plain": [
       "True"
      ]
     },
     "execution_count": 66,
     "metadata": {},
     "output_type": "execute_result"
    }
   ],
   "source": [
    "'land' in nordics[1]"
   ]
  },
  {
   "cell_type": "code",
   "execution_count": 9,
   "metadata": {},
   "outputs": [
    {
     "name": "stdout",
     "output_type": "stream",
     "text": [
      "Denmark\n",
      "Finland\n",
      "Iceland\n",
      "Norway\n",
      "Sweden\n",
      "Denmark\n",
      "Finland\n",
      "Iceland\n",
      "Norway\n",
      "Sweden\n",
      "['Sweden', 'Norway', 'Iceland', 'Finland', 'Denmark']\n",
      "Den\n",
      "Fin\n",
      "Ice\n",
      "Nor\n",
      "Swe\n",
      "No land in Denmark and does not have 7 letters!\n",
      "Finland\n",
      "Iceland\n",
      "No land in Norway and does not have 7 letters!\n",
      "No land in Sweden and does not have 7 letters!\n",
      "['Denmark', 'Finland', 'Iceland', 'Norway', 'Sweden', 'Copenhagen', 'Helsinki', 'Rejkjavik', 'Oslo', 'Stockholm']\n"
     ]
    }
   ],
   "source": [
    "# A sample string list \n",
    "\n",
    "nordics = ['Denmark', 'Finland', 'Iceland', 'Norway', 'Sweden']\n",
    "\n",
    "# Print each country in a separate line\n",
    "\n",
    "for i in range(len(nordics)):\n",
    "    print(nordics[i])\n",
    "\n",
    "for i in nordics:\n",
    "    print(i)\n",
    " \n",
    "# Print a reverse sorted list\n",
    "print(sorted(nordics,reverse=True))\n",
    "\n",
    "# Print only the first 3 characters of each country\n",
    "for country in nordics:\n",
    "    print(country[:3])\n",
    "    \n",
    "# Check which of the entries has 'land' in it\n",
    "for country in nordics:\n",
    "    if ( ('land' in country) & (len(country) == 7) ):\n",
    "        print(country)\n",
    "    else:\n",
    "        print('No land in %s and does not have 7 letters!'%country)\n",
    "    \n",
    "\n",
    "# Create a new list with capitals of nordics\n",
    "\n",
    "capitals = ['Copenhagen', 'Helsinki', 'Rejkjavik', 'Oslo', 'Stockholm']\n",
    "\n",
    "# How would you combine the two lists into a new one? \n",
    "new_list = nordics+capitals\n",
    "print(new_list)\n",
    "\n",
    "# Again investigate what other methods are available"
   ]
  },
  {
   "cell_type": "code",
   "execution_count": 10,
   "metadata": {},
   "outputs": [
    {
     "name": "stdout",
     "output_type": "stream",
     "text": [
      "Denmark_Copenhagen\n",
      "Finland_Helsinki\n",
      "Iceland_Rejkjavik\n",
      "Norway_Oslo\n",
      "Sweden_Stockholm\n",
      "Denmark_Copenhagen\n",
      "Finland_Helsinki\n",
      "Iceland_Rejkjavik\n",
      "Norway_Oslo\n",
      "Sweden_Stockholm\n"
     ]
    }
   ],
   "source": [
    "# Create a new list where each entry is with country_capital: \n",
    "#Ex: 'Denmark_Copenhagen', ....\n",
    "\n",
    "for i in range(len(nordics)):\n",
    "    print(nordics[i]+'_'+capitals[i])\n",
    "    \n",
    "for country,city in zip(nordics,capitals):\n",
    "    print(country+'_'+city)"
   ]
  },
  {
   "cell_type": "code",
   "execution_count": null,
   "metadata": {},
   "outputs": [],
   "source": [
    "# Easy Printing \n",
    "\n",
    "# Using the two lists, print statements like \n",
    "#\"The capital of Iceland is Rejkjavik\", for each country\n"
   ]
  },
  {
   "cell_type": "markdown",
   "metadata": {},
   "source": [
    "### Task 3: List comprehension\n",
    "\n",
    "Lists that we encountered above can be used to run complex functions and save the outputs in the same list. \n",
    "\n",
    "Syntax: \\[expression for item in list \\]"
   ]
  },
  {
   "cell_type": "code",
   "execution_count": 17,
   "metadata": {},
   "outputs": [
    {
     "name": "stdout",
     "output_type": "stream",
     "text": [
      "[1, 1, 2, 3, 5, 8, 13, 21, 34, 55, 89, 144, 233, 377, 610, 987, 1597, 2584, 4181, 6765, 10946, 17711]\n"
     ]
    }
   ],
   "source": [
    "# Given the first two elements of the Fibonacci series, \n",
    "# using list comprehension extend this list to have the first\n",
    "# 20 in the sequence\n",
    "a = [1,1]\n",
    "\n",
    "[a.append(a[-1]+a[-2]) for i in range(20)]\n",
    "print(a)"
   ]
  },
  {
   "cell_type": "markdown",
   "metadata": {},
   "source": [
    "### Task 4: Arrays with numpy\n",
    "\n",
    "We have by now seen different datatypes. One of the most commonly encountered datatype is the numerical array. Python has a specialised library with some of the most powerful indexing and advanced methods packaged in numPy. This is an unmissable package that unleashes a trove of possibilities. We delve into some basics here."
   ]
  },
  {
   "cell_type": "code",
   "execution_count": null,
   "metadata": {},
   "outputs": [],
   "source": [
    "# Numpy is not a built-in package; it has to be loaded\n",
    "import numpy as np \n",
    "# This is a standard way of importing packages\n",
    "# And you can import a package using another identifier, \n",
    "# here numpy is being loaded as np. \n",
    "\n",
    "# Once you have numpy loaded, a tab after np. should show\n",
    "# tons of powerful functions that are now at your finger tips\n",
    "\n",
    "# Don't be shy! Read the docs. Invoke any intriguing function\n",
    "# with its help(np.any_function_you_wish)\n",
    "# Ex: help(np.random)"
   ]
  },
  {
   "cell_type": "code",
   "execution_count": 33,
   "metadata": {},
   "outputs": [],
   "source": [
    "import numpy as np"
   ]
  },
  {
   "cell_type": "code",
   "execution_count": 34,
   "metadata": {},
   "outputs": [
    {
     "name": "stdout",
     "output_type": "stream",
     "text": [
      "<class 'list'>\n"
     ]
    },
    {
     "data": {
      "text/plain": [
       "numpy.ndarray"
      ]
     },
     "execution_count": 34,
     "metadata": {},
     "output_type": "execute_result"
    }
   ],
   "source": [
    "# A numerical list has to be cast explicitly as a numpy array\n",
    "\n",
    "# Our good old numerical list\n",
    "nus = [1,2,3,4,5,6,7,8]\n",
    "\n",
    "# Check what is its type\n",
    "print(type(nus))\n",
    "nus\n",
    "# Now let us cast it as a numpy array\n",
    "# Use dir or tab after nus to see what methods and functions are available\n",
    "\n",
    "arr = np.array(nus)\n",
    "type(arr)\n"
   ]
  },
  {
   "cell_type": "code",
   "execution_count": 35,
   "metadata": {},
   "outputs": [
    {
     "name": "stdout",
     "output_type": "stream",
     "text": [
      "[[1. 1. 1. 1.]\n",
      " [1. 1. 1. 1.]\n",
      " [1. 1. 1. 1.]\n",
      " [1. 1. 1. 1.]]\n",
      "[[1. 0. 0. 0.]\n",
      " [0. 1. 0. 0.]\n",
      " [0. 0. 1. 0.]\n",
      " [0. 0. 0. 1.]]\n"
     ]
    }
   ],
   "source": [
    "# Create a 4x4 array of zeros\n",
    "\n",
    "npZeros = np.array([[0,0,0,0],\n",
    "                   [0,0,0,0],\n",
    "                   [0,0,0,0],\n",
    "                  [0,0,0,0]])\n",
    "\n",
    "npZeros = np.zeros((4,4))\n",
    "\n",
    "# Create a 4x4 array of ones\n",
    "\n",
    "npOnes = np.ones((4,4))\n",
    "print(npOnes)\n",
    "# Create a 4x4 diagonal matrix with 1 as diagonal entries\n",
    "npDiag = np.eye(4)\n",
    "print(npDiag)"
   ]
  },
  {
   "cell_type": "code",
   "execution_count": 36,
   "metadata": {},
   "outputs": [
    {
     "data": {
      "text/plain": [
       "array([[ 1,  0,  0,  0],\n",
       "       [ 0,  2,  0,  0],\n",
       "       [ 0,  0, 13,  0],\n",
       "       [ 0,  0,  0, 19]])"
      ]
     },
     "execution_count": 36,
     "metadata": {},
     "output_type": "execute_result"
    }
   ],
   "source": [
    "npDiag = np.diag([1,2,13,19])\n",
    "npDiag"
   ]
  },
  {
   "cell_type": "code",
   "execution_count": 37,
   "metadata": {},
   "outputs": [],
   "source": [
    "import numpy as np\n",
    "np.random.seed(42)"
   ]
  },
  {
   "cell_type": "code",
   "execution_count": 38,
   "metadata": {},
   "outputs": [
    {
     "name": "stdout",
     "output_type": "stream",
     "text": [
      "[[6 3 7 4]\n",
      " [6 9 2 6]\n",
      " [7 4 3 7]\n",
      " [7 2 5 4]]\n",
      "[6 6 7 7]\n",
      "[7 2 5 4]\n"
     ]
    }
   ],
   "source": [
    "# More numpy-ing\n",
    "\n",
    "# Create a random integer matrix, with entries between 0-9,\n",
    "# of size 4x4 \n",
    "arr1 = np.random.randint(0,10,(4,4))\n",
    "# Print the matrix\n",
    "print(arr1)\n",
    "\n",
    "# Print only the first column\n",
    "print(arr1[:,0])\n",
    "# Print the last row\n",
    "print(arr1[-1,:])"
   ]
  },
  {
   "cell_type": "code",
   "execution_count": 39,
   "metadata": {},
   "outputs": [
    {
     "name": "stdout",
     "output_type": "stream",
     "text": [
      "[[6 6 7 7]\n",
      " [3 9 4 2]\n",
      " [7 2 3 5]\n",
      " [4 6 7 4]]\n"
     ]
    },
    {
     "data": {
      "text/plain": [
       "array([[6, 6, 7, 7],\n",
       "       [3, 9, 4, 2],\n",
       "       [7, 2, 3, 5],\n",
       "       [4, 6, 7, 4]])"
      ]
     },
     "execution_count": 39,
     "metadata": {},
     "output_type": "execute_result"
    }
   ],
   "source": [
    "# Make transpose of the matrix\n",
    "print(np.transpose(arr1))\n",
    "arr1.T"
   ]
  },
  {
   "cell_type": "code",
   "execution_count": 40,
   "metadata": {},
   "outputs": [
    {
     "name": "stdout",
     "output_type": "stream",
     "text": [
      "[[6 3 7 4]\n",
      " [6 9 2 6]\n",
      " [7 4 3 7]\n",
      " [7 2 5 4]]\n",
      "[5.   5.75 5.25 4.5 ]\n"
     ]
    },
    {
     "data": {
      "text/plain": [
       "array([6.5 , 4.5 , 4.25, 5.25])"
      ]
     },
     "execution_count": 40,
     "metadata": {},
     "output_type": "execute_result"
    }
   ],
   "source": [
    "print(arr1)\n",
    "# Compute the mean value\n",
    "\n",
    "# Compute row-wise mean\n",
    "print(np.mean(arr1,axis=1))\n",
    "\n",
    "# Compute column-wise mean\n",
    "\n",
    "np.mean(arr1,axis=0)"
   ]
  },
  {
   "cell_type": "code",
   "execution_count": 41,
   "metadata": {},
   "outputs": [
    {
     "name": "stdout",
     "output_type": "stream",
     "text": [
      "[[  6  33  35   4]\n",
      " [  0  99  22  96]\n",
      " [ 63  60  42  98]\n",
      " [126  22  95   8]]\n",
      "[[141 248 237 160]\n",
      " [132 261 271 190]\n",
      " [160 243 254 127]\n",
      " [124 218 203 117]]\n"
     ]
    }
   ],
   "source": [
    "# Create another matrix of dimensions 4x4\n",
    "arr2 = np.random.randint(0,20,(4,4))\n",
    "\n",
    "# Compute the element-wise product of the two matrices\n",
    "print(arr1 * arr2)\n",
    "\n",
    "\n",
    "# Compute the matrix product of the two matrices\n",
    "print(arr1.dot(arr2))\n"
   ]
  },
  {
   "cell_type": "code",
   "execution_count": 54,
   "metadata": {},
   "outputs": [
    {
     "name": "stdout",
     "output_type": "stream",
     "text": [
      "[[16 16 11 13  5  2  8  4 16 13  2  0]]\n"
     ]
    }
   ],
   "source": [
    "# Create a new random matrix of size 1x12\n",
    "arr = np.random.randint(0,20,(1,12))\n",
    "# Reshape it into a 2D array of size 3x4 \n",
    "arr.reshape(3,-1)\n",
    "# Reshape it into a 3d array of size 2x2x3\n",
    "print(arr)\n"
   ]
  },
  {
   "cell_type": "code",
   "execution_count": 55,
   "metadata": {},
   "outputs": [
    {
     "data": {
      "text/plain": [
       "array([[[16, 16, 11],\n",
       "        [13,  5,  2]],\n",
       "\n",
       "       [[ 8,  4, 16],\n",
       "        [13,  2,  0]]])"
      ]
     },
     "execution_count": 55,
     "metadata": {},
     "output_type": "execute_result"
    }
   ],
   "source": [
    "# Reshape it into a 3d array of size 2x2x3\n",
    "arr.reshape((2,2,-1))"
   ]
  },
  {
   "cell_type": "markdown",
   "metadata": {},
   "source": [
    "### Linear Algebra module in Numpy Package\n",
    "\n",
    "Most commonly used linear algebra operations are efficiently implemented in Numpy under the linalg package. We will explore very basic functionalities here."
   ]
  },
  {
   "cell_type": "code",
   "execution_count": null,
   "metadata": {},
   "outputs": [],
   "source": [
    "# While you can use all linear algebra functions using np.linalg.... \n",
    "# it quickly gets tedious. \n",
    "\n",
    "# Instead, you can also import just linalg as\n",
    "from numpy import linalg as la"
   ]
  },
  {
   "cell_type": "code",
   "execution_count": null,
   "metadata": {},
   "outputs": [],
   "source": [
    "# Given a square matrix \n",
    "arr = np.random.randint(10,size=(4,4))\n",
    "\n",
    "# Compute the eigen values and eigen vectors using an appropriate \n",
    "# function from linalg module\n",
    "\n",
    "\n",
    "# Compute the inverse of the matrix\n",
    "# Verify if the product of the matrix with its inverse\n",
    "# yields an identity matrix\n"
   ]
  },
  {
   "cell_type": "markdown",
   "metadata": {},
   "source": [
    "## More datatypes\n",
    "\n",
    "Due to time constraint we have not looked at two other commonly encountered datatypes: tuples and dictionaries.\n",
    "\n",
    "Some self-exercises here can highlight their purpose and features."
   ]
  },
  {
   "cell_type": "markdown",
   "metadata": {},
   "source": [
    "## Tuples"
   ]
  },
  {
   "cell_type": "code",
   "execution_count": null,
   "metadata": {},
   "outputs": [],
   "source": [
    "# Declaring a tuple\n",
    "\n",
    "tup = (1,2,3) \n",
    "\n",
    "# Check the type\n",
    "print(type(tup))"
   ]
  },
  {
   "cell_type": "code",
   "execution_count": null,
   "metadata": {},
   "outputs": [],
   "source": [
    "# Append a new element to this tuple\n",
    "tup.append(4)\n",
    "\n",
    "# Did it work? \n",
    "# How else could we do it?\n"
   ]
  },
  {
   "cell_type": "code",
   "execution_count": null,
   "metadata": {},
   "outputs": [],
   "source": [
    "# One reason is that tuples are immutable; you can however concatenate a new\n",
    "# tuple \n",
    "\n",
    "# Let's try:\n",
    "tup = (tup) + (4,)\n",
    "\n",
    "# Did this work? "
   ]
  },
  {
   "cell_type": "markdown",
   "metadata": {},
   "source": [
    "### Dictionaries\n",
    "Useful look-up tables with keys and values can be built using dictionary datatypes.\n",
    "\n",
    "Duplicate keys are not allowed!"
   ]
  },
  {
   "cell_type": "code",
   "execution_count": 18,
   "metadata": {},
   "outputs": [],
   "source": [
    "# First let's create lists with all data\n",
    "\n",
    "names = ['Me','Someone else','The other']\n",
    "\n",
    "ages = [30,40,10]\n",
    "\n",
    "height = [150, 160, 200]"
   ]
  },
  {
   "cell_type": "code",
   "execution_count": 19,
   "metadata": {},
   "outputs": [],
   "source": [
    "allData = {'names': names,\n",
    "           'ages' : ages,\n",
    "           'height':height\n",
    "          }"
   ]
  },
  {
   "cell_type": "code",
   "execution_count": 20,
   "metadata": {},
   "outputs": [
    {
     "name": "stdout",
     "output_type": "stream",
     "text": [
      "Me\n"
     ]
    }
   ],
   "source": [
    "print(allData['names'][0])"
   ]
  },
  {
   "cell_type": "code",
   "execution_count": 23,
   "metadata": {},
   "outputs": [
    {
     "name": "stdout",
     "output_type": "stream",
     "text": [
      "{'H': 'hydrogen', 'He': 'helium', 'Li': 'lithium', 'C': 'carbon', 'O': 'oxygen', 'N': 'nitrogen'}\n",
      "{1: 'hydrogen', 6: 'carbon', 7: 'nitrogen', 8: 'oxygen'}\n",
      "{(1979, 'physics'): ['Glashow', 'Salam', 'Weinberg'], (1962, 'chemistry'): ['Hodgkin'], (1984, 'biology'): ['McClintock']}\n"
     ]
    }
   ],
   "source": [
    "# Some example dictionaries\n",
    "\n",
    "symbol_to_name = {\"H\": \"hydrogen\", \"He\": \"helium\", \"Li\": \"lithium\", \"C\": \"carbon\", \"O\": \"oxygen\", \"N\": \"nitrogen\"}\n",
    "\n",
    "atomic_number_to_name = {1: \"hydrogen\", 6: \"carbon\", 7: \"nitrogen\", 8: \"oxygen\"}\n",
    "\n",
    "nobel_prize_winners = {\n",
    "    (1979, \"physics\"): [\"Glashow\", \"Salam\", \"Weinberg\"],\n",
    "    (1962, \"chemistry\"): [\"Hodgkin\"],\n",
    "    (1984, \"biology\"): [\"McClintock\"]}\n",
    "\n",
    "# Print them to see how they are stored\n",
    "print(symbol_to_name)\n",
    "print(atomic_number_to_name)\n",
    "print(nobel_prize_winners)"
   ]
  },
  {
   "cell_type": "code",
   "execution_count": 24,
   "metadata": {},
   "outputs": [
    {
     "data": {
      "text/plain": [
       "'hydrogen'"
      ]
     },
     "execution_count": 24,
     "metadata": {},
     "output_type": "execute_result"
    }
   ],
   "source": [
    "# Access values by specifying keys\n",
    "\n",
    "# What is the output of \n",
    "symbol_to_name['H']"
   ]
  },
  {
   "cell_type": "code",
   "execution_count": 25,
   "metadata": {},
   "outputs": [
    {
     "data": {
      "text/plain": [
       "(True, False)"
      ]
     },
     "execution_count": 25,
     "metadata": {},
     "output_type": "execute_result"
    }
   ],
   "source": [
    "# Logical statements checking for entries\n",
    "\"O\" in symbol_to_name, \"U\" in symbol_to_name"
   ]
  },
  {
   "cell_type": "code",
   "execution_count": 26,
   "metadata": {},
   "outputs": [
    {
     "data": {
      "text/plain": [
       "dict_keys(['H', 'He', 'Li', 'C', 'O', 'N'])"
      ]
     },
     "execution_count": 26,
     "metadata": {},
     "output_type": "execute_result"
    }
   ],
   "source": [
    "# Print all keys\n",
    "symbol_to_name.keys()"
   ]
  },
  {
   "cell_type": "code",
   "execution_count": 27,
   "metadata": {},
   "outputs": [
    {
     "data": {
      "text/plain": [
       "dict_values(['hydrogen', 'helium', 'lithium', 'carbon', 'oxygen', 'nitrogen'])"
      ]
     },
     "execution_count": 27,
     "metadata": {},
     "output_type": "execute_result"
    }
   ],
   "source": [
    "# Print all values \n",
    "symbol_to_name.values()\n"
   ]
  },
  {
   "cell_type": "code",
   "execution_count": 31,
   "metadata": {},
   "outputs": [
    {
     "data": {
      "text/plain": [
       "{'H': 'hydrogen',\n",
       " 'He': 'helium',\n",
       " 'Li': 'lithium',\n",
       " 'O': 'oxygen',\n",
       " 'N': 'nitrogen',\n",
       " 'P': 'phosphorous',\n",
       " 'S': 'sulfur'}"
      ]
     },
     "execution_count": 31,
     "metadata": {},
     "output_type": "execute_result"
    }
   ],
   "source": [
    "# Updating the dictionary with additions and deletions\n",
    "symbol_to_name.update({\"P\": \"phosphorous\", \"S\": \"sulfur\"})\n",
    "\n",
    "del symbol_to_name['C']\n",
    "\n",
    "symbol_to_name"
   ]
  },
  {
   "cell_type": "code",
   "execution_count": null,
   "metadata": {},
   "outputs": [],
   "source": []
  }
 ],
 "metadata": {
  "kernelspec": {
   "display_name": "Python 3",
   "language": "python",
   "name": "python3"
  },
  "language_info": {
   "codemirror_mode": {
    "name": "ipython",
    "version": 3
   },
   "file_extension": ".py",
   "mimetype": "text/x-python",
   "name": "python",
   "nbconvert_exporter": "python",
   "pygments_lexer": "ipython3",
   "version": "3.7.4"
  }
 },
 "nbformat": 4,
 "nbformat_minor": 4
}
