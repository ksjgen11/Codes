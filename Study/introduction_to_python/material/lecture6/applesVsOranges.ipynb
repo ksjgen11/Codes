{
 "cells": [
  {
   "cell_type": "markdown",
   "metadata": {},
   "source": [
    "## Putting it all together! \n",
    "\n",
    "In this exercise, we will use the tools we have encountered this far, get acquainted with newer ones and put them to use to develop an elaborate program. \n",
    "\n",
    "\n",
    "### Task\n",
    "Given a dataset of color images (RGB) of different fruit types, we want to build an automated classifier that can distinguish between the different classes. To keep it simple we provide pictures of different varieties of apples and oranges. The task then is, proverbially, *to tell Apples from Oranges*.\n",
    "\n",
    "### Dataset\n",
    "\n",
    "The complete dataset is provided as the archive data.zip. When uncompressed it conists of several directories. The names of these directories are the labels of the fruit type.Each directory has numerous pictures of the fruit type in JPG format."
   ]
  },
  {
   "cell_type": "code",
   "execution_count": null,
   "metadata": {},
   "outputs": [],
   "source": [
    "# Some of the essential Python Packages to be loaded\n",
    "# See how you can load a package using a different name; \n",
    "import numpy as np \n",
    "import glob\n",
    "import matplotlib.pyplot as plt\n",
    "# add any other packages you might need"
   ]
  },
  {
   "cell_type": "code",
   "execution_count": null,
   "metadata": {},
   "outputs": [],
   "source": [
    "# The data is provided in two folders with names\n",
    "# Apples and Oranges.\n",
    "# Read the file names using glob.glob()\n",
    "\n",
    "# Count the number of apples and oranges\n",
    "\n",
    "orFiles = glob.glob('../data/Oranges/*.jpg')\n",
    "nOranges = len(orFiles)\n",
    "\n",
    "apFiles = glob.glob('../data/Apples/*.jpg')\n",
    "nApples = len(apFiles)\n",
    "nFeatures = 3\n",
    "print(\"Dataset contains %d apples and %d oranges\" %(nApples,nOranges))"
   ]
  },
  {
   "cell_type": "code",
   "execution_count": null,
   "metadata": {},
   "outputs": [],
   "source": [
    "# Show some sample oranges and apples using pyplot\n"
   ]
  },
  {
   "cell_type": "code",
   "execution_count": null,
   "metadata": {},
   "outputs": [],
   "source": [
    "# We would like to extract some features \n",
    "# to be able to compare apples vs oranges\n",
    "\n",
    "# Can  you think of what features might be \n",
    "# most useful?\n",
    "\n",
    "\n",
    "# Initialise empty arrays to hold some features\n",
    "orFeatures = np.zeros((nOranges,nFeatures))\n",
    "apFeatures = np.zeros((nApples,nFeatures))"
   ]
  },
  {
   "cell_type": "code",
   "execution_count": null,
   "metadata": {},
   "outputs": [],
   "source": [
    "# We need to assign \"labels\" to distinguish \n",
    "# apples from oranges\n",
    "\n",
    "# Usually the two classes are mapped to two numbers\n",
    "# We use 0 -> oranges and 1 -> apples\n",
    "orLabels = np.zeros(nOranges)\n",
    "apLabels = np.ones(nApples)"
   ]
  },
  {
   "cell_type": "code",
   "execution_count": null,
   "metadata": {},
   "outputs": [],
   "source": [
    "# Feature extraction \n",
    "# One of the basic features that can be extracted is the average intensity\n",
    "# of the R, G, B channels. \n",
    "# Steps:\n",
    "# 1. Load image data\n",
    "# 2. Convert it into numpy array\n",
    "# 3. Extract 3 features \n"
   ]
  },
  {
   "cell_type": "code",
   "execution_count": null,
   "metadata": {},
   "outputs": [],
   "source": [
    "# Visualise the pairwise features\n",
    "plt.scatter(orFeatures[:,0],orFeatures[:,1])\n",
    "plt.scatter(apFeatures[:,0],apFeatures[:,1])"
   ]
  },
  {
   "cell_type": "code",
   "execution_count": null,
   "metadata": {},
   "outputs": [],
   "source": [
    "# make the dataset\n",
    "\n",
    "# Combine features of both oranges and apples into\n",
    "# a single array. Same for labels. \n",
    "X = np.concatenate((orFeatures,apFeatures),axis=0)\n",
    "Y = np.concatenate((orLabels,apLabels))\n",
    "\n",
    "# Let us shuffle the data! \n",
    "shuffleIdx = np.random.permutation(len(Y))\n",
    "xShuffle = X[shuffleIdx]\n",
    "yShuffle = Y[shuffleIdx]\n",
    "\n"
   ]
  },
  {
   "cell_type": "code",
   "execution_count": null,
   "metadata": {},
   "outputs": [],
   "source": [
    "# Split the data into training and test data\n",
    "N = len(yShuffle)\n",
    "nTrain = int(0.6*N)\n",
    "nTest = N - nTrain\n",
    "\n",
    "# Let us use only the first two features. \n",
    "xTrain, yTrain = xShuffle[:nTrain,:2], yShuffle[:nTrain]\n",
    "xTest, yTest = xShuffle[nTrain:,:2], yShuffle[nTrain:]"
   ]
  },
  {
   "cell_type": "code",
   "execution_count": null,
   "metadata": {},
   "outputs": [],
   "source": [
    "# Now that our data is ready. Let us use a classifier.\n",
    "\n",
    "\n",
    "# We will use another linear classifier\n",
    "# Logistic regression learns a linear boundary \n",
    "# to classify binary class of inputs\n",
    "\n",
    "from sklearn.linear_model import LogisticRegression"
   ]
  },
  {
   "cell_type": "code",
   "execution_count": null,
   "metadata": {},
   "outputs": [],
   "source": [
    "clf = LogisticRegression(random_state=0,solver='lbfgs').fit(xTrain, yTrain)\n",
    "\n",
    "# Print the model coefficients.\n",
    "print(\"Logistic regression parameters: \",clf.coef_[0],clf.intercept_[0])\n"
   ]
  },
  {
   "cell_type": "code",
   "execution_count": null,
   "metadata": {},
   "outputs": [],
   "source": [
    "# Check the performance on the training dataset\n",
    "yTrPred = clf.predict(xTrain)\n",
    "accTrain = sum(yTrPred == yTrain)/nTrain\n",
    "print(\"Training accuracy is: %.2f\"%accTrain)"
   ]
  },
  {
   "cell_type": "code",
   "execution_count": null,
   "metadata": {},
   "outputs": [],
   "source": [
    "# Check the performance on the training dataset\n",
    "yTsPred = clf.predict(xTest)\n",
    "accTest = sum(yTsPred == yTest)/nTest\n",
    "print(\"Test accuracy is: %.2f\"%accTest)"
   ]
  },
  {
   "cell_type": "code",
   "execution_count": null,
   "metadata": {},
   "outputs": [],
   "source": [
    "w = clf.coef_[0]\n",
    "a = -w[0] / w[1]\n",
    "xMax = X[:,0].max()+10\n",
    "xMin = X[:,0].min()-10\n",
    "xx = np.linspace(xMax, xMin) \n",
    "yy = a * xx - (clf.intercept_[0]) / w[1]\n",
    "\n",
    "plt.plot(xx, yy, 'k-')\n",
    "plt.scatter(xTrain[:,0],xTrain[:,1],c=yTrain,cmap='Accent')\n",
    "\n",
    "plt.scatter(xTest[:,0],xTest[:,1],c=yTest,cmap='Accent')"
   ]
  }
 ],
 "metadata": {
  "kernelspec": {
   "display_name": "Python 3",
   "language": "python",
   "name": "python3"
  },
  "language_info": {
   "codemirror_mode": {
    "name": "ipython",
    "version": 3
   },
   "file_extension": ".py",
   "mimetype": "text/x-python",
   "name": "python",
   "nbconvert_exporter": "python",
   "pygments_lexer": "ipython3",
   "version": "3.7.4"
  }
 },
 "nbformat": 4,
 "nbformat_minor": 4
}
