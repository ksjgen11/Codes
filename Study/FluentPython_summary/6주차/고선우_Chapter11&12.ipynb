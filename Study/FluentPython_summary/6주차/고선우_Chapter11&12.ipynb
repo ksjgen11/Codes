{
 "cells": [
  {
   "cell_type": "markdown",
   "metadata": {},
   "source": [
    "# 11. Interfaces: From Protocols to ABCs"
   ]
  },
  {
   "cell_type": "markdown",
   "metadata": {},
   "source": [
    "## 11.1 파이썬에서의 인터페이스와 프로토콜"
   ]
  },
  {
   "cell_type": "markdown",
   "metadata": {},
   "source": [
    "**프로토콜** → 파이썬과 같은 동적 자료형을 제공하는 언어에서 다형성을 제공하는 비공식 인터페이스\n",
    "\n",
    "**인터페이스** → 클래스가 상속하거나 구현한 공개 속성(메서드나 데이터 속성)들의 집합.  \n",
    "보충하자면, 시스템에서 어떤 역할을 할 수 있게 해주는 객체의 공개 메서드의 일부\n",
    "\n",
    "프로토콜은 상속과 무관하며, 인터페이스지만 비공식적이다. 즉 문서와 관례에 따라 정의되지만, 공식 인터페이스처럼 강제할 수 없다."
   ]
  },
  {
   "cell_type": "markdown",
   "metadata": {},
   "source": [
    "## 11.2 파이썬은 시퀀스를 찾아낸다"
   ]
  },
  {
   "cell_type": "code",
   "execution_count": 2,
   "metadata": {},
   "outputs": [
    {
     "name": "stdout",
     "output_type": "stream",
     "text": [
      "10\n",
      "0\n",
      "10\n",
      "20\n"
     ]
    }
   ],
   "source": [
    "class Foo :\n",
    "    def __getitem__(self, pos) :\n",
    "        return range(0, 30, 10)[pos]\n",
    "\n",
    "f = Foo()\n",
    "print(f[1])\n",
    "for i in f : print(i)"
   ]
  },
  {
   "cell_type": "markdown",
   "metadata": {},
   "source": [
    "위의 Foo 클래스는 abc.Sequence를 상속하지 않으며, 시퀀스 프로토콜 메서드 중 \\_\\_getitem\\_\\_() 메서드 하나만 구현한다.  \n",
    "\\_\\_iter\\_\\_() 메서드는 구현되어 있지 않지만, 대체 수단인 \\_\\_getitem\\_\\_() 메서드가 구현되어 있으므로 Foo 객체를 반복할 수 있다.\n",
    "\n",
    "시퀀스 프로토콜의 중요성을 보여주는 예시라 할 수 있겠다."
   ]
  },
  {
   "cell_type": "markdown",
   "metadata": {},
   "source": [
    "## 11.3 표준 라이브러리의 ABC"
   ]
  },
  {
   "cell_type": "markdown",
   "metadata": {},
   "source": [
    "파이썬 2.6 이후 표준 라이브러리에 ABC가 포함되었다. 대부분의 ABC 패키지는 collectoins.abc 모듈에 정의되어 있고, 이 모듈에 정의된 ABC들이 가장 많이 사용된다."
   ]
  },
  {
   "cell_type": "markdown",
   "metadata": {},
   "source": [
    "대표적인 클래스로는 Iterable, Container, Sized, Sequence, Mapping, Set, MappingView, Callable, Hashable, Iterator 등이 있다."
   ]
  },
  {
   "cell_type": "markdown",
   "metadata": {},
   "source": [
    "# 12. Built-in Types Inheritance and Multiple Inheritance"
   ]
  },
  {
   "cell_type": "markdown",
   "metadata": {},
   "source": [
    "## 12.1 내장 자료형의 상속"
   ]
  },
  {
   "cell_type": "markdown",
   "metadata": {},
   "source": [
    "파이썬 2.2 이전까지는 list나 dict 등 내장 자료형을 상속할 수 없었다. 2.2 이후부터는 내장 자료형을 상속할 수 있게 되었지만, C언어로 작성된 내장 클래스의 코드는 사용자가 오버라이드한 코드를 호출하지 않으므로 각별한 주의가 필요하다.\n",
    "\n",
    "공식적으로 CPythonㅇ느 내장 자료형의 서브클래스에서 오버라이드한 메서드가 언제 호출되는지, 혹은 호출되지 않는지에 대해 명확한 규칙을 정의하지 않는다. 일반적으로 서브클래스에서 오버라이드한 메서드는 같은 객체의 다른 내장 메서드에 의해 결코 호출되지 않는다.\n",
    "\n",
    "아래 예시 코드를 통해 이 문제를 확인할 수 있다."
   ]
  },
  {
   "cell_type": "code",
   "execution_count": 5,
   "metadata": {
    "scrolled": true
   },
   "outputs": [
    {
     "name": "stdout",
     "output_type": "stream",
     "text": [
      "{'one': 1}\n",
      "{'one': 1, 'two': [2, 2]}\n",
      "{'one': 1, 'two': [2, 2], 'three': 3}\n"
     ]
    }
   ],
   "source": [
    "class DoppelDict(dict):\n",
    "    def __setitem__(self, key, value):\n",
    "        super().__setitem__(key, [value] * 2)\n",
    "        \n",
    "dd = DoppelDict(one=1)\n",
    "print(dd)\n",
    "dd['two'] = 2\n",
    "print(dd)\n",
    "dd.update(three=3)\n",
    "print(dd)"
   ]
  },
  {
   "cell_type": "markdown",
   "metadata": {},
   "source": [
    "[] 연산자는 오버라이드한 \\_\\_setitem\\_\\_()을 호출하므로 'two'가 복제된 [2, 2]에 매핑되지만, \\_\\_setitem\\_\\_()를 호출하지 않는 update() 메서드를 이용한 'three'는 그렇지 않다."
   ]
  },
  {
   "cell_type": "markdown",
   "metadata": {},
   "source": [
    "내장 자료형은 '슈퍼클래스에서 구현된 메서드 안에서 호출하더라도 메서드 검색은 대상 객체(self)의 클래스에서 시작해야 한다'는 객체지향 프로그래밍의 기본 규칙을 어기고 있다. (단, \\_\\_missing\\_\\_() 메서드는 예외적인 상황을 처리하는 메서드이므로 문서화된 대로 작동한다.)"
   ]
  },
  {
   "cell_type": "markdown",
   "metadata": {},
   "source": [
    "그리고 이는, collections.UserDict를 상속하는 방식으로 해결할 수 있다."
   ]
  },
  {
   "cell_type": "markdown",
   "metadata": {},
   "source": [
    "## 10.2 다중 상속"
   ]
  },
  {
   "cell_type": "markdown",
   "metadata": {},
   "source": [
    "다중 상속을 지원하는 언어에서는 별개의 상위 클래스가 동일한 이름으로 메서드를 구현할 때 발생하는 이름 충돌 문제를 해결해야 한다. 이를 **다이아몬드 문제**라고 한다."
   ]
  },
  {
   "cell_type": "code",
   "execution_count": 6,
   "metadata": {},
   "outputs": [],
   "source": [
    "class A:\n",
    "    def ping(self):\n",
    "        print('ping:', self)\n",
    "\n",
    "class B(A):\n",
    "    def pong(self):\n",
    "        print('pong:', self)\n",
    "\n",
    "class C(A):\n",
    "    def pong(self):\n",
    "        print('PONG:', self)\n",
    "\n",
    "class D(B, C):\n",
    "    def ping(self):\n",
    "        super().ping()\n",
    "        print('post-ping:', self)\n",
    "\n",
    "    def pingpong(self):\n",
    "        self.ping()\n",
    "        super().ping()\n",
    "        self.pong()\n",
    "        super().pong()\n",
    "        C.pong(self)"
   ]
  },
  {
   "cell_type": "code",
   "execution_count": 8,
   "metadata": {},
   "outputs": [
    {
     "name": "stdout",
     "output_type": "stream",
     "text": [
      "pong: <__main__.D object at 0x0000020F440270F0>\n",
      "None\n",
      "PONG: <__main__.D object at 0x0000020F440270F0>\n",
      "None\n"
     ]
    }
   ],
   "source": [
    "d = D()\n",
    "print(d.pong())   #1\n",
    "print(C.pong(d))  #2"
   ]
  },
  {
   "cell_type": "markdown",
   "metadata": {},
   "source": [
    "B 클래스와 C 클래스 모두 pong() 메서드를 구현하고 있지만, C.pong() 메서드는 대문자로 출력한다.\n",
    "\n",
    "이런 상황에서, D 객체에서 d.pong()을 호출하면 실제 어느 pong() 메서드가 호출될 것인가? 실제로 실험을 해 보면, B 클래스의 메서드가 호출됨을 알 수 있다.(#1)\n",
    "\n",
    "이러한 모호성은 클래스명을 직접 명시함으로써 해결할 수 있다. (#2)"
   ]
  },
  {
   "cell_type": "markdown",
   "metadata": {},
   "source": [
    "파이썬이 상속 그래프를 조회할 때는 특정한 순서를 따르므로, d.pong()과 같은 호출은 사실 동작이 정해져 있는 호출이다. 이 조회 순서를 **메서드 결정 순서(Method Resolution Order)**라고 하며, 이는 \\_\\_mro\\_\\_ 속성을 이용해 확인할 수 있다."
   ]
  },
  {
   "cell_type": "code",
   "execution_count": 9,
   "metadata": {},
   "outputs": [
    {
     "data": {
      "text/plain": [
       "(__main__.D, __main__.B, __main__.C, __main__.A, object)"
      ]
     },
     "execution_count": 9,
     "metadata": {},
     "output_type": "execute_result"
    }
   ],
   "source": [
    "D.__mro__"
   ]
  },
  {
   "cell_type": "markdown",
   "metadata": {},
   "source": [
    "다중 상속의 필요성에 대해 의문을 가질 수도 있지만, 다중 상속이 잘못된 것은 아니다. 파이썬 표준 라이브러리에서는 collections.abs 패키지에서 다중 상속을 많이 사용하지만 이것이 논란거리가 되지는 않는다. 다중 상속을 올바르게 다루는지 알아보기 위해서는, 다음의 8가지 원칙을 준수하는지 확인해 보는 것이 좋다.\n",
    "\n",
    "1. 인터페이스 상속과 구현 상속을 구분한다.\n",
    "2. ABC를 이용해서 인터페이스를 명확히 한다.\n",
    "3. 코드를 재사용하기 위해 믹스인을 사용한다.\n",
    "4. 이름을 통해 믹스인임을 명확히 한다.\n",
    "5. ABC가 믹스인이 될 수는 있지만, 믹스인이라고 해서 ABC인 것은 아니다.\n",
    "6. 두 개 이상의 구상 클래스에서 상속받지 않는다.\n",
    "7. 사용자에게 집합 클래스를 제공한다.\n",
    "8. 클래스 상속보다 객체 구성을 사용한다."
   ]
  }
 ],
 "metadata": {
  "kernelspec": {
   "display_name": "Python 3",
   "language": "python",
   "name": "python3"
  },
  "language_info": {
   "codemirror_mode": {
    "name": "ipython",
    "version": 3
   },
   "file_extension": ".py",
   "mimetype": "text/x-python",
   "name": "python",
   "nbconvert_exporter": "python",
   "pygments_lexer": "ipython3",
   "version": "3.7.1"
  }
 },
 "nbformat": 4,
 "nbformat_minor": 2
}
