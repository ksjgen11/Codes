{
 "cells": [
  {
   "cell_type": "markdown",
   "metadata": {},
   "source": [
    "# Interface: From protocol to ABC\n",
    "\n",
    "ABC = Abstract Base Class -> auditing whether expression based on the interface\n",
    "\n",
    "## inferface and protocol under the python culture\n",
    " - Even though python doesn't have 'interface' keyword, but all classes have interface regardless ABC\n",
    " - Interface is methods set which come from inheritance or expression in public. __getitem__(), __add__() are also included\n",
    " - 'Protected' and 'Private' characteristics are not included in interface.\n",
    " - interface is the part of public methods of objects = 'object as file', 'iterable' \n",
    " procotol = methods set to complete certain goal. (private interface)\n",
    " sequence protocol is one of the critical inferface of python.\n",
    " \n",
    "## python can find sequences\n"
   ]
  },
  {
   "cell_type": "code",
   "execution_count": 1,
   "metadata": {},
   "outputs": [],
   "source": [
    "class Foo:\n",
    "    def __getitem__(self, pos):\n",
    "        return range(0, 30, 10)[pos]\n"
   ]
  },
  {
   "cell_type": "code",
   "execution_count": 2,
   "metadata": {},
   "outputs": [
    {
     "data": {
      "text/plain": [
       "10"
      ]
     },
     "execution_count": 2,
     "metadata": {},
     "output_type": "execute_result"
    }
   ],
   "source": [
    "f = Foo()\n",
    "f[1]"
   ]
  },
  {
   "cell_type": "code",
   "execution_count": 3,
   "metadata": {},
   "outputs": [
    {
     "name": "stdout",
     "output_type": "stream",
     "text": [
      "0\n",
      "10\n",
      "20\n"
     ]
    }
   ],
   "source": [
    "for i in f:print(i) #instead __iter__(), __getitem__() works iterably. python calls the method by integer index from 0"
   ]
  },
  {
   "cell_type": "code",
   "execution_count": 4,
   "metadata": {},
   "outputs": [
    {
     "data": {
      "text/plain": [
       "True"
      ]
     },
     "execution_count": 4,
     "metadata": {},
     "output_type": "execute_result"
    }
   ],
   "source": [
    "20 in f # python investigates all objects to use 'in'"
   ]
  },
  {
   "cell_type": "code",
   "execution_count": 5,
   "metadata": {},
   "outputs": [
    {
     "data": {
      "text/plain": [
       "False"
      ]
     },
     "execution_count": 5,
     "metadata": {},
     "output_type": "execute_result"
    }
   ],
   "source": [
    "15 in f "
   ]
  },
  {
   "cell_type": "markdown",
   "metadata": {},
   "source": [
    "## Munkey Patching to express sequences at runtime\n",
    "\n",
    " - mutable sequence should support __setitem__() method.\n",
    " "
   ]
  },
  {
   "cell_type": "code",
   "execution_count": 6,
   "metadata": {},
   "outputs": [],
   "source": [
    "import collections\n",
    "from random import shuffle\n",
    "\n",
    "Card = collections.namedtuple('Card', ['rank', 'suit']) # 개별 카드를 나타내는 클래스 구현 ->Card(rank, suit) tuple 로 구현, global 변수\n",
    "\n",
    "class FrenchDeck:\n",
    "    ranks = [str(n) for n in range(2, 11)] + list('JQKA') # card number 구현 2~10, JQKA in rank 변수\n",
    "    suits = 'Spades Diamonds Clubs Hearts'.split() # Card 무늬 표시, split 으로 각자 나눔\n",
    "\n",
    "    def __init__(self): # Card 변수에서 입력된 값 사용하여 카드 변수 생성 ->chapter 2 지능형리스트 사용함. 데카르트곱!\n",
    "        self._cards = [Card(rank, suit) for suit in self.suits\n",
    "                                        for rank in self.ranks]\n",
    "\n",
    "    def __len__(self): # 갖고 있는 카드의 수 반환\n",
    "        return len(self._cards)\n",
    "\n",
    "    def __getitem__(self, position): # 카드 indexing, 카드는 2~A 로 순서대로, Spade ~ 순서대로\n",
    "        return self._cards[position]\n"
   ]
  },
  {
   "cell_type": "code",
   "execution_count": 7,
   "metadata": {},
   "outputs": [
    {
     "ename": "TypeError",
     "evalue": "'FrenchDeck' object does not support item assignment",
     "output_type": "error",
     "traceback": [
      "\u001b[0;31m---------------------------------------------------------------------------\u001b[0m",
      "\u001b[0;31mTypeError\u001b[0m                                 Traceback (most recent call last)",
      "\u001b[0;32m<ipython-input-7-b0f6848dc353>\u001b[0m in \u001b[0;36m<module>\u001b[0;34m\u001b[0m\n\u001b[1;32m      1\u001b[0m \u001b[0mdeck\u001b[0m \u001b[0;34m=\u001b[0m \u001b[0mFrenchDeck\u001b[0m\u001b[0;34m(\u001b[0m\u001b[0;34m)\u001b[0m\u001b[0;34m\u001b[0m\u001b[0;34m\u001b[0m\u001b[0m\n\u001b[0;32m----> 2\u001b[0;31m \u001b[0mshuffle\u001b[0m\u001b[0;34m(\u001b[0m\u001b[0mdeck\u001b[0m\u001b[0;34m)\u001b[0m\u001b[0;34m\u001b[0m\u001b[0;34m\u001b[0m\u001b[0m\n\u001b[0m",
      "\u001b[0;32m~/anaconda3/lib/python3.8/random.py\u001b[0m in \u001b[0;36mshuffle\u001b[0;34m(self, x, random)\u001b[0m\n\u001b[1;32m    305\u001b[0m                 \u001b[0;31m# pick an element in x[:i+1] with which to exchange x[i]\u001b[0m\u001b[0;34m\u001b[0m\u001b[0;34m\u001b[0m\u001b[0;34m\u001b[0m\u001b[0m\n\u001b[1;32m    306\u001b[0m                 \u001b[0mj\u001b[0m \u001b[0;34m=\u001b[0m \u001b[0mrandbelow\u001b[0m\u001b[0;34m(\u001b[0m\u001b[0mi\u001b[0m\u001b[0;34m+\u001b[0m\u001b[0;36m1\u001b[0m\u001b[0;34m)\u001b[0m\u001b[0;34m\u001b[0m\u001b[0;34m\u001b[0m\u001b[0m\n\u001b[0;32m--> 307\u001b[0;31m                 \u001b[0mx\u001b[0m\u001b[0;34m[\u001b[0m\u001b[0mi\u001b[0m\u001b[0;34m]\u001b[0m\u001b[0;34m,\u001b[0m \u001b[0mx\u001b[0m\u001b[0;34m[\u001b[0m\u001b[0mj\u001b[0m\u001b[0;34m]\u001b[0m \u001b[0;34m=\u001b[0m \u001b[0mx\u001b[0m\u001b[0;34m[\u001b[0m\u001b[0mj\u001b[0m\u001b[0;34m]\u001b[0m\u001b[0;34m,\u001b[0m \u001b[0mx\u001b[0m\u001b[0;34m[\u001b[0m\u001b[0mi\u001b[0m\u001b[0;34m]\u001b[0m\u001b[0;34m\u001b[0m\u001b[0;34m\u001b[0m\u001b[0m\n\u001b[0m\u001b[1;32m    308\u001b[0m         \u001b[0;32melse\u001b[0m\u001b[0;34m:\u001b[0m\u001b[0;34m\u001b[0m\u001b[0;34m\u001b[0m\u001b[0m\n\u001b[1;32m    309\u001b[0m             \u001b[0m_int\u001b[0m \u001b[0;34m=\u001b[0m \u001b[0mint\u001b[0m\u001b[0;34m\u001b[0m\u001b[0;34m\u001b[0m\u001b[0m\n",
      "\u001b[0;31mTypeError\u001b[0m: 'FrenchDeck' object does not support item assignment"
     ]
    }
   ],
   "source": [
    "deck = FrenchDeck()\n",
    "shuffle(deck)"
   ]
  },
  {
   "cell_type": "code",
   "execution_count": 8,
   "metadata": {},
   "outputs": [
    {
     "data": {
      "text/plain": [
       "[Card(rank='2', suit='Hearts'),\n",
       " Card(rank='9', suit='Spades'),\n",
       " Card(rank='Q', suit='Clubs'),\n",
       " Card(rank='K', suit='Diamonds'),\n",
       " Card(rank='3', suit='Hearts')]"
      ]
     },
     "execution_count": 8,
     "metadata": {},
     "output_type": "execute_result"
    }
   ],
   "source": [
    "# Monkey patching in runtime\n",
    "def set_card(deck, position, card): # self in first argument is only convension. But when writing on the file, using self is better for other programmers.\n",
    "    deck._cards[position] = card\n",
    "FrenchDeck.__setitem__ = set_card\n",
    "shuffle(deck)\n",
    "deck[:5]"
   ]
  },
  {
   "cell_type": "markdown",
   "metadata": {},
   "source": [
    "Monkey patching is replacing class or module in runtime without code changing.\n",
    "It is possible that we know _card characteristic, and _cards is mutable sequence. \n",
    "\n",
    "Goose typing = If the metaclass of cls is abc.ABCMeta, usage of isinstance(obj, cls) is Ok.\n"
   ]
  },
  {
   "cell_type": "code",
   "execution_count": 9,
   "metadata": {},
   "outputs": [
    {
     "data": {
      "text/plain": [
       "True"
      ]
     },
     "execution_count": 9,
     "metadata": {},
     "output_type": "execute_result"
    }
   ],
   "source": [
    "class Struggle:\n",
    "    def __len__(self):return 23\n",
    "    \n",
    "from collections import abc\n",
    "isinstance(Struggle(), abc.Sized)"
   ]
  },
  {
   "cell_type": "markdown",
   "metadata": {},
   "source": [
    "- registrasion/inheritance is not needed. But __len__() method should be expressed in statements(callable without argument) and meaning(return 0 or positive integer means 'length' of object) limits"
   ]
  },
  {
   "cell_type": "code",
   "execution_count": null,
   "metadata": {},
   "outputs": [],
   "source": [
    "try: # assume it is string\n",
    "    field_names = field.names.replace(',', ' ').split() # replce comma to space, and then split list of names.\n",
    "except AttributeError: # replace() is not expressed or return object which cannot call split() method\n",
    "    pass # iterable names. \n",
    "field_names = tuple(field_names) # confirm names are iterable and then make tuple to maintain copy."
   ]
  },
  {
   "cell_type": "markdown",
   "metadata": {},
   "source": [
    "WE must not make new ABC. Only use previous ABC by inheritance."
   ]
  },
  {
   "cell_type": "code",
   "execution_count": 17,
   "metadata": {},
   "outputs": [],
   "source": [
    "import collections\n",
    "\n",
    "Card = collections.namedtuple('Card', ['rank', 'suit']) # 개별 카드를 나타내는 클래스 구현 ->Card(rank, suit) tuple 로 구현, global 변수\n",
    "\n",
    "class FrenchDeck2(collections.MutableSequence):\n",
    "    ranks = [str(n) for n in range(2, 11)] + list('JQKA') # card number 구현 2~10, JQKA in rank 변수\n",
    "    suits = 'Spades Diamonds Clubs Hearts'.split() # Card 무늬 표시, split 으로 각자 나눔\n",
    "\n",
    "    def __init__(self): # Card 변수에서 입력된 값 사용하여 카드 변수 생성 ->chapter 2 지능형리스트 사용함. 데카르트곱!\n",
    "        self._cards = [Card(rank, suit) for suit in self.suits\n",
    "                                        for rank in self.ranks]\n",
    "\n",
    "    def __len__(self): # 갖고 있는 카드의 수 반환\n",
    "        return len(self._cards)\n",
    "\n",
    "    def __getitem__(self, position): # 카드 indexing, 카드는 2~A 로 순서대로, Spade ~ 순서대로\n",
    "        return self._cards[position]\n",
    "    \n",
    "    def __setitem__(self, position, value): # only __setitem__() method is needed to shuffle cards\n",
    "        self._cards[position] = value\n",
    "        \n",
    "    def __delitem__(self, position): # MutableSequence is herited, so __delitem__() and insert() methods should be expressed.\n",
    "        del self._cards[position]\n",
    "        \n",
    "    def insert(self, position, value):\n",
    "        self._cards.insert(position, value)\n"
   ]
  },
  {
   "cell_type": "code",
   "execution_count": 22,
   "metadata": {},
   "outputs": [
    {
     "name": "stdout",
     "output_type": "stream",
     "text": [
      "[Card(rank='J', suit='Clubs')]\n"
     ]
    }
   ],
   "source": [
    "deck2 = FrenchDeck2()\n",
    "shuffle(deck2)\n",
    "print(deck2[:1])"
   ]
  },
  {
   "cell_type": "markdown",
   "metadata": {},
   "source": [
    "- most popular ABC is collections.abc module\n",
    "- following by numbers\n"
   ]
  },
  {
   "cell_type": "code",
   "execution_count": 23,
   "metadata": {},
   "outputs": [],
   "source": [
    "import abc\n",
    "class Tombola(abc.ABC): #To define ABC, abc.ABC is inherited.\n",
    "    \n",
    "    @abc.abstractmethod # decorate abstractmethods\n",
    "    def load(self, iterable):\n",
    "        '''adding items from iterable'''\n",
    "        \n",
    "    @abc.abstractmethod\n",
    "    def pick(self):\n",
    "        '''return after removing one item randomly. \"Lookup Error\" would be raised when call this method with empty object'''\n",
    "    # announce the raising 'lookup error' when no item.\n",
    "    def loaded(self):\n",
    "        '''return True at least one time contained, else return False'''\n",
    "        return bool(self.inspect()) # The method must use the interface defined in ABC\n",
    "    \n",
    "    def inspect(self):\n",
    "        '''return tuples consist of contained items'''\n",
    "        items = []\n",
    "        while True:\n",
    "            try:\n",
    "                items.append(self.pick())\n",
    "            except LookupError:\n",
    "                break\n",
    "        self.load(items)\n",
    "        return tuple(sorted(items))\n",
    "    "
   ]
  },
  {
   "cell_type": "code",
   "execution_count": 25,
   "metadata": {},
   "outputs": [
    {
     "data": {
      "text/plain": [
       "__main__.Fake"
      ]
     },
     "execution_count": 25,
     "metadata": {},
     "output_type": "execute_result"
    }
   ],
   "source": [
    "\n",
    "class Fake(Tombola):\n",
    "    def pick(self):\n",
    "        return 13\n",
    "    \n",
    "Fake"
   ]
  },
  {
   "cell_type": "code",
   "execution_count": 26,
   "metadata": {},
   "outputs": [
    {
     "ename": "TypeError",
     "evalue": "Can't instantiate abstract class Fake with abstract methods load",
     "output_type": "error",
     "traceback": [
      "\u001b[0;31m---------------------------------------------------------------------------\u001b[0m",
      "\u001b[0;31mTypeError\u001b[0m                                 Traceback (most recent call last)",
      "\u001b[0;32m<ipython-input-26-a646eb69a2f6>\u001b[0m in \u001b[0;36m<module>\u001b[0;34m\u001b[0m\n\u001b[0;32m----> 1\u001b[0;31m \u001b[0mf\u001b[0m \u001b[0;34m=\u001b[0m \u001b[0mFake\u001b[0m\u001b[0;34m(\u001b[0m\u001b[0;34m)\u001b[0m\u001b[0;34m\u001b[0m\u001b[0;34m\u001b[0m\u001b[0m\n\u001b[0m",
      "\u001b[0;31mTypeError\u001b[0m: Can't instantiate abstract class Fake with abstract methods load"
     ]
    }
   ],
   "source": [
    "f = Fake()"
   ]
  },
  {
   "cell_type": "code",
   "execution_count": 27,
   "metadata": {},
   "outputs": [],
   "source": [
    "import random\n",
    "\n",
    "class BingoCage(Tombola):\n",
    "    \n",
    "    def __init__(self, items):\n",
    "        self._randomizer = random.SystemRandom()\n",
    "        self._items = []\n",
    "        self.load(items)\n",
    "        \n",
    "    def load(self, items):\n",
    "        self._items.extend(items)\n",
    "        self._randomizer.shuffle(self._items)\n",
    "        \n",
    "    def pick(self):\n",
    "        try:\n",
    "            return self._items.pop()\n",
    "        except IndexError:\n",
    "            raise LookupError('pick from empty BingoCage')\n",
    "            \n",
    "    def __call__(self):\n",
    "        self.pick()\n",
    "        \n",
    "class LotteryBlower(Tombola):\n",
    "    \n",
    "    def __init__(self, iterable):\n",
    "        self._balls = list(iterable)\n",
    "        \n",
    "    def load(self, iterable):\n",
    "        self._balls.extend(iterable)\n",
    "        \n",
    "    def pick(self):\n",
    "        try:\n",
    "            position = random.randrange(len(self._balls))\n",
    "        except ValueError:\n",
    "            raise LookupError('pick from empty BingoCage')\n",
    "        return self._balls.pop(position)\n",
    "    \n",
    "    def loaded(self):\n",
    "        return bool(self._balls)\n",
    "    \n",
    "    def inspect(self):\n",
    "        return tuple(sorted(self._balls))"
   ]
  },
  {
   "cell_type": "code",
   "execution_count": 28,
   "metadata": {},
   "outputs": [],
   "source": [
    "from random import randrange\n",
    "@Tombola.register\n",
    "class TomboList(list):\n",
    "    \n",
    "    def pick(self):\n",
    "        if self:\n",
    "            position = randrange(len(self))\n",
    "            return self.pop(position)\n",
    "        else:\n",
    "            raise LookupError('pop from empty TomboList')\n",
    "            \n",
    "    load = list.extend\n",
    "    \n",
    "    def loaded(self):\n",
    "        return bool(self)\n",
    "    \n",
    "    def inspect(self):\n",
    "        return tuple(sorted(self))\n",
    "    \n"
   ]
  },
  {
   "cell_type": "code",
   "execution_count": 29,
   "metadata": {},
   "outputs": [
    {
     "data": {
      "text/plain": [
       "True"
      ]
     },
     "execution_count": 29,
     "metadata": {},
     "output_type": "execute_result"
    }
   ],
   "source": [
    "issubclass(TomboList, Tombola)"
   ]
  },
  {
   "cell_type": "code",
   "execution_count": 30,
   "metadata": {},
   "outputs": [
    {
     "data": {
      "text/plain": [
       "True"
      ]
     },
     "execution_count": 30,
     "metadata": {},
     "output_type": "execute_result"
    }
   ],
   "source": [
    "t = TomboList(range(100))\n",
    "isinstance(t, Tombola)"
   ]
  },
  {
   "cell_type": "code",
   "execution_count": 31,
   "metadata": {},
   "outputs": [
    {
     "data": {
      "text/plain": [
       "(__main__.TomboList, list, object)"
      ]
     },
     "execution_count": 31,
     "metadata": {},
     "output_type": "execute_result"
    }
   ],
   "source": [
    "TomboList.__mro__"
   ]
  }
 ],
 "metadata": {
  "kernelspec": {
   "display_name": "Python 3",
   "language": "python",
   "name": "python3"
  },
  "language_info": {
   "codemirror_mode": {
    "name": "ipython",
    "version": 3
   },
   "file_extension": ".py",
   "mimetype": "text/x-python",
   "name": "python",
   "nbconvert_exporter": "python",
   "pygments_lexer": "ipython3",
   "version": "3.8.3"
  }
 },
 "nbformat": 4,
 "nbformat_minor": 4
}
