{
 "cells": [
  {
   "cell_type": "code",
   "execution_count": null,
   "metadata": {},
   "outputs": [],
   "source": []
  },
  {
   "cell_type": "markdown",
   "metadata": {},
   "source": [
    "# 인터페이스:프로토콜에서 ABC까지"
   ]
  },
  {
   "cell_type": "markdown",
   "metadata": {},
   "source": [
    "### Access Modifier : 파이썬은 다른언어와 달리 접근 제어자가 없고, 작명법으로 접근을 제어할 수 있다\n",
    "- public : 접두사에 아무 밑줄이 없다\n",
    "- private : 접두사에 두개의 밑줄(__\\)을 적용\n",
    "- protected : 접두사에 한개의 밑줄(_) 을 적용"
   ]
  },
  {
   "cell_type": "code",
   "execution_count": 1,
   "metadata": {},
   "outputs": [],
   "source": [
    "class Example:\n",
    "    def __init__(self):\n",
    "        pass\n",
    "    \n",
    "    def public(self):\n",
    "        print('public')\n",
    "        \n",
    "    def __private(self):\n",
    "        print('private')\n",
    "        \n",
    "    def _protected(self):\n",
    "        print('protected')"
   ]
  },
  {
   "cell_type": "markdown",
   "metadata": {},
   "source": [
    "### Get Set : private한 속성값이 있을 때 그것을 가져오기 위해서 get,set메소드를 사용"
   ]
  },
  {
   "cell_type": "code",
   "execution_count": null,
   "metadata": {},
   "outputs": [],
   "source": [
    "class Person:\n",
    "    def __init__(self):\n",
    "        self.__name = 'hong'\n",
    "        \n",
    "    def get_name(self):\n",
    "        return self.__name\n",
    "    \n",
    "    def set_name(self,name):\n",
    "        self.__name = name \n",
    "    "
   ]
  },
  {
   "cell_type": "markdown",
   "metadata": {},
   "source": [
    "### @property get set 메소드를 만들면 함수가 너무 많아지고 복잡해지기에 데코레이터를 사용하여 접근\n",
    "- get의 역할은 @property\n",
    "- set의 역할은 @setter"
   ]
  },
  {
   "cell_type": "code",
   "execution_count": 2,
   "metadata": {},
   "outputs": [],
   "source": [
    "class Person:\n",
    "    def __init__(self):\n",
    "        self.__name = 'hong'\n",
    "    \n",
    "    @property    \n",
    "    def name(self):\n",
    "        return self.__name\n",
    "    \n",
    "    @name.setter\n",
    "    def name(self, name):\n",
    "        self.__name = name"
   ]
  },
  {
   "cell_type": "code",
   "execution_count": 3,
   "metadata": {},
   "outputs": [
    {
     "name": "stdout",
     "output_type": "stream",
     "text": [
      "hong\n"
     ]
    }
   ],
   "source": [
    "person = Person()\n",
    "print(person.name)"
   ]
  },
  {
   "cell_type": "code",
   "execution_count": 4,
   "metadata": {},
   "outputs": [
    {
     "name": "stdout",
     "output_type": "stream",
     "text": [
      "park\n"
     ]
    }
   ],
   "source": [
    "person.name = 'park'\n",
    "print(person.name)"
   ]
  },
  {
   "cell_type": "markdown",
   "metadata": {},
   "source": [
    "# 인터페이스란?\n",
    "시스템에서 어떤 역할을 할 수 있게 해주는 객체의 공개 메서드의 일부"
   ]
  },
  {
   "cell_type": "markdown",
   "metadata": {},
   "source": [
    "# 추상클래스 \n",
    "파이썬은 추상클래스라는 기능을 제공<br>\n",
    "추상 클래스는 메서드의 목록만 가진 클래스이며, 상속받는 서브 클래스에서 메서드 구현을 강제하기 위해 사용<br>\n",
    "유지보수의 편리성 - 상속과정에서 발생하는 실수 방지하기 위해"
   ]
  },
  {
   "cell_type": "code",
   "execution_count": null,
   "metadata": {},
   "outputs": [],
   "source": [
    "from abc import *\n",
    " \n",
    "class 추상클래스이름(metaclass=ABCMeta):\n",
    "    @abstractmethod\n",
    "    def 메서드이름(self):\n",
    "        코드     "
   ]
  },
  {
   "cell_type": "markdown",
   "metadata": {},
   "source": [
    "추상화 시키고자 하는 메서드에 데코레이터로 @abstractmethod 를 선언해 주면 된다.\n",
    "\n",
    "이렇게 적용하게 되면, BaseClass를 상속받는 모든 파생 클래스에서 해당 메서드를 선언해서 구현하지 않으면, 에러를 발생시키게 된다.\n",
    "\n",
    "\n"
   ]
  },
  {
   "cell_type": "code",
   "execution_count": null,
   "metadata": {},
   "outputs": [],
   "source": [
    "from abc import *\n",
    "\n",
    "# 추상 클래스\n",
    "class Jobs(metaclass=ABCMeta):\n",
    "\n",
    "# 추상 메소드\n",
    "    @abstractmethod\n",
    "    def stats(self):\n",
    "        pass \n",
    "        # 자식 클래스에서 기능을 구현하기 위해 추상 메소드는 pass 를 사용하여 빈 메소드로 해줍니다\n",
    "    @abstractmethod\n",
    "    def item(self):\n",
    "        pass"
   ]
  },
  {
   "cell_type": "code",
   "execution_count": null,
   "metadata": {},
   "outputs": [],
   "source": [
    "class Warrior(Jobs):\n",
    "    def stats(self, str, dex, int, luk, ad, ap):\n",
    "        self.str = str\n",
    "        self.dex = dex\n",
    "        self.int = int\n",
    "        self.luk = luk\n",
    "        self.ad = ad\n",
    "        self.ap = ap\n",
    "        print('전사 직업 능력치')\n",
    "        print('힘: {0}'.format(self.str, self.dex))\n",
    "        print('민첩: {0}'.format(self.dex))\n",
    "        print('지력: {0}'.format(self.int))\n",
    "        print('운: {0}'.format(self.luk))\n",
    "        print('물리 공격력: {0}'.format(self.ad))\n",
    "        print('마법 공격력: {0}'.format(self.ap))\n",
    "\n",
    "    def item(self):\n",
    "        print('소지중인 아이템: 검')\n",
    "\n",
    "class Wizard(Jobs):\n",
    "    def stats(self, str, dex, int, luk, ad, ap):\n",
    "        self.str = str\n",
    "        self.dex = dex\n",
    "        self.int = int\n",
    "        self.luk = luk\n",
    "        self.ad = ad\n",
    "        self.ap = ap\n",
    "        print('마법사 직업 능력치')\n",
    "        print('힘: {0}'.format(self.str))\n",
    "        print('민첩: {0}'.format(self.dex))\n",
    "        print('지력: {0}'.format(self.int))\n",
    "        print('운: {0}'.format(self.luk))\n",
    "        print('물리 공격력: {0}'.format(self.ad))\n",
    "        print('마법 공격력: {0}'.format(self.ap))\n",
    "\n",
    "    def item(self):\n",
    "        print('소지중인 아이템: 지팡이')\n",
    "\n",
    "\n",
    "# 전사 능력치        \n",
    "test1 = Warrior()\n",
    "test1.stats(30, 10, 10, 10, 40, 10)\n",
    "# 전사가 소지중인 아이템\n",
    "test1.item()\n",
    "\n",
    "# 마법사 능력치\n",
    "test2 = Wizard()\n",
    "test2.stats(10, 10, 30, 10, 10, 50)\n",
    "# 마법사가 소지중인 아이템\n",
    "test2.item()"
   ]
  },
  {
   "cell_type": "markdown",
   "metadata": {},
   "source": [
    "# 12.2 다중 상속과 메서드 결정 순서\n",
    "다중 상속을 지원하는 언어에서는 별개의 상위클래스가 동일한 이름으로 메서드를 구현할 때\n",
    "발생하는 이름 충돌 문제를 해결해야 한다. [예제 12-4] 와 [그림 12-1] 에서 보여주는 것처럼\n",
    "이런 이름 충돌 문제를 ‘ 다이아몬드 문제 ’ 라고 한다."
   ]
  },
  {
   "cell_type": "code",
   "execution_count": null,
   "metadata": {},
   "outputs": [],
   "source": [
    "class A:\n",
    "    def ping(self ):\n",
    "        print('ping:', self)\n",
    "        \n",
    "class B(A):\n",
    "    def pong(self):\n",
    "        print(‘pong:1, self)\n",
    "        \n",
    "class C(A):\n",
    "    def pong(self):\n",
    "        print('PONG:', self)\n",
    "        \n",
    "class D(B, C):\n",
    "    def ping(self):\n",
    "        super().ping()\n",
    "        print('post-ping:', self)\n",
    "\n",
    "    def pingpong(self):\n",
    "        self.ping()\n",
    "        super().ping()\n",
    "        self,pong()\n",
    "        super().pong()\n",
    "        C.pong(self)"
   ]
  },
  {
   "cell_type": "code",
   "execution_count": null,
   "metadata": {},
   "outputs": [],
   "source": [
    "파이썬이 상속 그래프를 조회할 때는 특정한 순서를 따르므로, d.pong ( ) 과 같은 호출의 모호\n",
    "함이 해결된다. 이 순서를 메서드 결정 순서*止*\n",
    "Resolution Order (MRQ) 라고\n",
    "한다. 클래스에 있\n",
    "는 _rnro_ 속성은 현재 클래스부터 object 클래스까지 슈퍼클래스들의 MRO 를 튜플 형태로\n",
    "저장한다. D 클래스의 _mro_ 는 다음과 같다."
   ]
  }
 ],
 "metadata": {
  "kernelspec": {
   "display_name": "Python 3",
   "language": "python",
   "name": "python3"
  },
  "language_info": {
   "codemirror_mode": {
    "name": "ipython",
    "version": 3
   },
   "file_extension": ".py",
   "mimetype": "text/x-python",
   "name": "python",
   "nbconvert_exporter": "python",
   "pygments_lexer": "ipython3",
   "version": "3.8.5"
  }
 },
 "nbformat": 4,
 "nbformat_minor": 4
}
