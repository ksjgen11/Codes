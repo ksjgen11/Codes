{
 "cells": [
  {
   "cell_type": "markdown",
   "metadata": {},
   "source": [
    "# Chapter 2 - 시퀀스\n",
    "\n",
    "## 내장 시퀀스\n",
    "- 컨테이너 시퀀스(list, tuple, collections.deque 등) -> 서로 다른 자료형 가능\n",
    "- 균일 시퀀스(str, bytes, bytearray, memoryview, array.array 등) -> 하나의 자료형만 가능\n",
    "- 가변 시퀀스(list, bytearray, array.array, collections.deque, memoryview 등)\n",
    "- 불변 시퀀스(tuple, str, bytes 등)\n",
    "\n",
    "## 지능형 리스트"
   ]
  },
  {
   "cell_type": "code",
   "execution_count": 1,
   "metadata": {},
   "outputs": [
    {
     "name": "stdout",
     "output_type": "stream",
     "text": [
      "Yun\n",
      "[71, 111, 111, 110]\n"
     ]
    }
   ],
   "source": [
    "x = \"Yun\"\n",
    "dummy = [ord(x) for x in \"Goon\"]\n",
    "\n",
    "print(x)\n",
    "print(dummy)"
   ]
  },
  {
   "cell_type": "markdown",
   "metadata": {},
   "source": [
    "## 제너레이터 표현식"
   ]
  },
  {
   "cell_type": "code",
   "execution_count": 1,
   "metadata": {},
   "outputs": [
    {
     "name": "stdout",
     "output_type": "stream",
     "text": [
      "black S\n",
      "black M\n",
      "black L\n",
      "white S\n",
      "white M\n",
      "white L\n"
     ]
    }
   ],
   "source": [
    "colors = ['black', 'white']\n",
    "sizes = list(\"SML\")\n",
    "\n",
    "for tshirt in ('%s %s' % (c, s) for c in colors\n",
    "                                for s in sizes):\n",
    "    print(tshirt)"
   ]
  },
  {
   "cell_type": "markdown",
   "metadata": {},
   "source": [
    "## 튜플 언패킹"
   ]
  },
  {
   "cell_type": "code",
   "execution_count": 3,
   "metadata": {},
   "outputs": [
    {
     "name": "stdout",
     "output_type": "stream",
     "text": [
      "12 78\n",
      "78 12\n"
     ]
    }
   ],
   "source": [
    "pos = (12, 78)\n",
    "x, y = pos\n",
    "\n",
    "print(x, y)\n",
    "\n",
    "x, y = y, x\n",
    "\n",
    "print(x, y)"
   ]
  },
  {
   "cell_type": "code",
   "execution_count": 4,
   "metadata": {},
   "outputs": [
    {
     "name": "stdout",
     "output_type": "stream",
     "text": [
      "0 1 [2, 3, 4]\n"
     ]
    }
   ],
   "source": [
    "a, b, *rest = range(5)\n",
    "print(a, b, rest)"
   ]
  },
  {
   "cell_type": "code",
   "execution_count": 5,
   "metadata": {},
   "outputs": [
    {
     "name": "stdout",
     "output_type": "stream",
     "text": [
      "123 asdf 12.345 zxcv\n"
     ]
    }
   ],
   "source": [
    "a, b, (c, d) = (123, 'asdf', (12.345, 'zxcv'))\n",
    "print(a, b, c, d)"
   ]
  },
  {
   "cell_type": "markdown",
   "metadata": {},
   "source": [
    "## 명명된 튜플"
   ]
  },
  {
   "cell_type": "code",
   "execution_count": 6,
   "metadata": {},
   "outputs": [
    {
     "name": "stdout",
     "output_type": "stream",
     "text": [
      "City(name='Tokyo', country='JP', population=36.933, coordinates=(35.689722, 139.691667))\n"
     ]
    }
   ],
   "source": [
    "from collections import namedtuple\n",
    "\n",
    "City = namedtuple('City', 'name country population coordinates')\n",
    "tokyo = City('Tokyo', 'JP', 36.933, (35.689722, 139.691667))\n",
    "print(tokyo)"
   ]
  },
  {
   "cell_type": "code",
   "execution_count": 7,
   "metadata": {},
   "outputs": [
    {
     "name": "stdout",
     "output_type": "stream",
     "text": [
      "('name', 'country', 'population', 'coordinates')\n"
     ]
    }
   ],
   "source": [
    "print(City._fields)"
   ]
  },
  {
   "cell_type": "markdown",
   "metadata": {},
   "source": [
    "## 슬라이싱"
   ]
  },
  {
   "cell_type": "code",
   "execution_count": 10,
   "metadata": {},
   "outputs": [
    {
     "name": "stdout",
     "output_type": "stream",
     "text": [
      "[10, 20]\n",
      "[30, 40, 50, 60]\n",
      "[60, 50, 40, 30, 20, 10]\n",
      "[10, 20, -1, -2, 60]\n"
     ]
    }
   ],
   "source": [
    "l = [10, 20, 30, 40, 50, 60]\n",
    "\n",
    "print(l[:2])\n",
    "print(l[2:])\n",
    "print(l[::-1])\n",
    "\n",
    "l[2:5] = [-1, -2]\n",
    "\n",
    "print(l)"
   ]
  },
  {
   "cell_type": "markdown",
   "metadata": {},
   "source": [
    "## 시퀀스의 복합 할당"
   ]
  },
  {
   "cell_type": "code",
   "execution_count": 11,
   "metadata": {},
   "outputs": [
    {
     "name": "stdout",
     "output_type": "stream",
     "text": [
      "140149215683680\n",
      "[1, 2, 3, 1, 2, 3]\n",
      "140149215683680\n",
      "140149215857632\n",
      "(1, 2, 3, 1, 2, 3)\n",
      "140149259283488\n"
     ]
    }
   ],
   "source": [
    "l = [1, 2, 3]\n",
    "print(id(l))\n",
    "\n",
    "l *= 2\n",
    "print(l)\n",
    "print(id(l))\n",
    "\n",
    "t = (1, 2, 3)\n",
    "print(id(t))\n",
    "\n",
    "t *= 2\n",
    "print(t)\n",
    "print(id(t))"
   ]
  },
  {
   "cell_type": "markdown",
   "metadata": {},
   "source": [
    "## bisect"
   ]
  },
  {
   "cell_type": "code",
   "execution_count": null,
   "metadata": {},
   "outputs": [],
   "source": [
    "import bisect\n",
    "\n",
    "breakpoints = [60, 70, 80, 90]\n",
    "grades = 'FDCBA'\n",
    "\n",
    "for i in [33, 99, 77, 70, ]"
   ]
  }
 ],
 "metadata": {
  "kernelspec": {
   "display_name": "Python 3",
   "language": "python",
   "name": "python3"
  },
  "language_info": {
   "codemirror_mode": {
    "name": "ipython",
    "version": 3
   },
   "file_extension": ".py",
   "mimetype": "text/x-python",
   "name": "python",
   "nbconvert_exporter": "python",
   "pygments_lexer": "ipython3",
   "version": "3.7.8"
  }
 },
 "nbformat": 4,
 "nbformat_minor": 4
}
