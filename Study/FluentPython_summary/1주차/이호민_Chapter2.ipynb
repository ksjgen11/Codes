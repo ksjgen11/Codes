{
 "cells": [
  {
   "cell_type": "markdown",
   "metadata": {},
   "source": [
    "# 전문가를 위한 파이썬\n",
    "\n",
    "## part 2\n",
    "\n",
    "## 챕터2\n",
    "\n",
    "### 시퀀스\n",
    "* 컨테이너 시퀀스\n",
    "    - 서로 다른 자료형의 항목들을 담을 수 있는 list, tuple, collections.deque형\n",
    "* 균일 시퀀스\n",
    "    - 단 하나의 자료형만을 담을 수 있는 str, bytes, bytearray, memoryview, array.array형\n",
    "* 가변 시퀀스\n",
    "    - list, bytearray, array.array, collections.deque, memoryview형\n",
    "* 불변 시퀀스\n",
    "    - tuple, str, bytes형\n",
    "\n",
    "### 지능형 시퀀스\n",
    "* 지능형 리스트나 제너레이터 표현식을 사용하면 시퀀스를 간단히 생성할 수 있다. 이러한 코드들은 가독성이 좋고 때로는 실행 속도도 빠른 코드를 만들 수 있다."
   ]
  },
  {
   "cell_type": "code",
   "execution_count": 1,
   "metadata": {},
   "outputs": [
    {
     "name": "stdout",
     "output_type": "stream",
     "text": [
      "[33, 64, 35, 36, 37, 94, 38, 42]\n"
     ]
    }
   ],
   "source": [
    "#ver1\n",
    "symbols='!@#$%^&*'\n",
    "codes=[]\n",
    "for symbol in symbols:\n",
    "    codes.append(ord(symbol))\n",
    "print(codes)"
   ]
  },
  {
   "cell_type": "code",
   "execution_count": 2,
   "metadata": {},
   "outputs": [
    {
     "name": "stdout",
     "output_type": "stream",
     "text": [
      "[33, 64, 35, 36, 37, 94, 38, 42]\n"
     ]
    }
   ],
   "source": [
    "#ver2\n",
    "symbols='!@#$%^&*'\n",
    "codes=[ord(symbol) for symbol in symbols]\n",
    "print(codes)"
   ]
  },
  {
   "cell_type": "markdown",
   "metadata": {},
   "source": [
    "* 위의 두 버전의 코드는 같은 역할을 하지만 그 길이나 코드의 의도가 확실하게 드러나는 쪽은 ver2쪽이다.\n",
    "\n",
    "* 파이썬 3버전 부터는 지능형 리스트, 제너레이터 표현식, 그리고 이와 동급인 지능형 집합과 지능협 딕셔너리는 함수터럼 고유한 지역 범위를 가져 메모르 누수를 발생시키지 않는다.\n",
    "\n",
    "* map()고 filter()함수를 이용해서 수행할 수 있는 작업은 기능적으로 문제가 있는 파이썬 lambdaa를 억지로 끼워 넣지 않고도 지능형 리스트를 이용해서 모두 구현 가능하다."
   ]
  },
  {
   "cell_type": "code",
   "execution_count": 3,
   "metadata": {},
   "outputs": [
    {
     "name": "stdout",
     "output_type": "stream",
     "text": [
      "[64, 94, 42]\n"
     ]
    }
   ],
   "source": [
    "#ver1\n",
    "symbols='!@#$%^&*'\n",
    "beyond_ascii=[ord(s) for s in symbols if ord(s)>40]\n",
    "print(beyond_ascii)"
   ]
  },
  {
   "cell_type": "code",
   "execution_count": 4,
   "metadata": {},
   "outputs": [
    {
     "name": "stdout",
     "output_type": "stream",
     "text": [
      "[64, 94, 42]\n"
     ]
    }
   ],
   "source": [
    "#ver2\n",
    "symbols='!@#$%^&*'\n",
    "beyond_ascii=list(filter(lambda c:c>40, map(ord, symbols)))\n",
    "print(beyond_ascii)"
   ]
  },
  {
   "cell_type": "markdown",
   "metadata": {},
   "source": [
    "* 위의 두 버전의 코드도 같은 역할을 하지만 ver2는 lambda를 사용하지 않는다.\n",
    "* lambda에 기능적인 문제가 있다고 하는 이유 (https://youngwonhan-family.tistory.com/5)\n",
    "    - TraceBack 결과로 부터 어떤 함수에서 발생했는지 알 수 없다.\n",
    "    - lambda는 이름이 없는 익명함수로 존재한다. 이름이 없으므로 오류가 발생한 경우 함수 추적이 불가하다."
   ]
  },
  {
   "cell_type": "markdown",
   "metadata": {},
   "source": [
    "### 튜플 언패킹"
   ]
  },
  {
   "cell_type": "code",
   "execution_count": 10,
   "metadata": {},
   "outputs": [
    {
     "name": "stdout",
     "output_type": "stream",
     "text": [
      "1 [2, 3]\n",
      "4 [5, 6, 7]\n"
     ]
    }
   ],
   "source": [
    "for a, *b in [(1, 2, 3), (4, 5, 6, 7)]:\n",
    "    print(a, b)"
   ]
  },
  {
   "cell_type": "code",
   "execution_count": 4,
   "metadata": {},
   "outputs": [
    {
     "name": "stdout",
     "output_type": "stream",
     "text": [
      "1\n",
      "[2, 3]\n",
      "4\n",
      "5\n"
     ]
    }
   ],
   "source": [
    "a, *b, c, d=[1, 2, 3, 4, 5]\n",
    "print(a)\n",
    "print(b)\n",
    "print(c)\n",
    "print(d)"
   ]
  },
  {
   "cell_type": "code",
   "execution_count": 9,
   "metadata": {
    "scrolled": true
   },
   "outputs": [
    {
     "name": "stdout",
     "output_type": "stream",
     "text": [
      "1\n",
      "[2, 3]\n",
      "4\n",
      "5\n"
     ]
    }
   ],
   "source": [
    "a, *b, c, d=range(1, 6)\n",
    "print(a)\n",
    "print(b)\n",
    "print(c)\n",
    "print(d)"
   ]
  },
  {
   "cell_type": "markdown",
   "metadata": {},
   "source": [
    "* 위의 방식과도 같은 언팩킹도 가능하다.\n",
    "* 참고할만한 추가사항 [https://www.python.org/dev/peps/pep-3132/]"
   ]
  },
  {
   "cell_type": "markdown",
   "metadata": {},
   "source": [
    "### 튜플은 단순한 불변 리스트가 아니다\n",
    "* namedtuple에 대해서는 위에서 설명했다.\n",
    "\n",
    "* 튜플은 과연 불변인가?"
   ]
  },
  {
   "cell_type": "code",
   "execution_count": 5,
   "metadata": {},
   "outputs": [
    {
     "name": "stdout",
     "output_type": "stream",
     "text": [
      "error!!\n",
      "(1, 2, [3, 4, 5, 6])\n"
     ]
    }
   ],
   "source": [
    "try:\n",
    "    t=(1,2,[3,4])\n",
    "    t[2]+=[5,6]\n",
    "except:\n",
    "    print(\"error!!\")\n",
    " \n",
    "print(t)"
   ]
  },
  {
   "cell_type": "markdown",
   "metadata": {},
   "source": [
    "* 위와 같은 코드에서 t[2]에 [5, 6]을 더하는 행위는 분명 에러를 발생시킨다. 하지만 tuple의 값을 변했음을 알 수 있다.\n",
    "    - 이는 tuple이 완전 불변이 아님을 알 수 있고 아래의 상황을 조심해야 한다.\n",
    "    - 1. 가변 객체를 튜블과 같은 불변 객체에 넣는 것을 좋은 생각이 아니다.\n",
    "    - 2. 복합 할당은 원자적인 연상이 아니다.(아래의 예제에서 일부 연산이 수행된 후 예외가 발생했다.)\n",
    "    - 3. 파이썬 바이트코드를 살펴보는 것은 그리 어렵지 않으며 내부에서 어떤 일이 발생하고 있는지 살펴보는 데 도움이 된다."
   ]
  },
  {
   "cell_type": "code",
   "execution_count": 6,
   "metadata": {},
   "outputs": [
    {
     "name": "stdout",
     "output_type": "stream",
     "text": [
      "  1           0 LOAD_NAME                0 (s)\n",
      "              2 LOAD_NAME                1 (a)\n",
      "              4 DUP_TOP_TWO\n",
      "              6 BINARY_SUBSCR\n",
      "              8 LOAD_NAME                2 (b)\n",
      "             10 INPLACE_ADD\n",
      "             12 ROT_THREE\n",
      "             14 STORE_SUBSCR\n",
      "             16 LOAD_CONST               0 (None)\n",
      "             18 RETURN_VALUE\n"
     ]
    }
   ],
   "source": [
    "import dis\n",
    "dis.dis('s[a]+=b')"
   ]
  },
  {
   "cell_type": "markdown",
   "metadata": {},
   "source": [
    "### 시퀀스의 복합 할당\n",
    "\n",
    "* ```+=``` 과 ```*=``` 등의 복합 할당 연산자를 작동하도록 하는 특수 메서드는 ```__iadd__()``` 와 ```__imul()__``` 이다. 그런데 이 메서드가 구현되어있지 않으면 파이썬은 대신 ```__add__()``` 와 ```__mul__()``` 메서드를 호출한다.\n",
    "* ```__iadd__()``` 의 구현 여부에 따라 ```a+=b``` 와 같은 연산에서 a 변수가 가리키는 객체의 정체성이 바뀔수도 있고 바뀌지 않을 수도 있다.\n",
    "* 일반적으로 가변 시퀀스에 대해서는 ```__iadd__()``` 메서드를 구현해서 += 연산자가 기존 객체의 내용을 변경하게 만드는 것이 좋다.\n",
    "* 불변 시퀀스에 경우에는 이 연산을 수행할 수 없다.\n",
    "\n",
    "* 아래는 ```*=``` 연산자를 가변 시퀀스와 불변 시퀀스에 적용한 예이다."
   ]
  },
  {
   "cell_type": "code",
   "execution_count": 16,
   "metadata": {
    "scrolled": true
   },
   "outputs": [
    {
     "name": "stdout",
     "output_type": "stream",
     "text": [
      "2335173769224\n",
      "[1, 2, 3, 1, 2, 3]\n",
      "2335173769224\n"
     ]
    }
   ],
   "source": [
    "l=[1, 2, 3]\n",
    "print(id(l))\n",
    "l*=2\n",
    "print(l)\n",
    "print(id(l))\n",
    "\n",
    "# 리스트의 경우 초기 리스트의 id와 연산 후 리스트의 id가 같다. 즉 같은 객체이다."
   ]
  },
  {
   "cell_type": "code",
   "execution_count": 15,
   "metadata": {},
   "outputs": [
    {
     "name": "stdout",
     "output_type": "stream",
     "text": [
      "2335173512648\n",
      "(1, 2, 3, 1, 2, 3)\n",
      "2335173551016\n"
     ]
    }
   ],
   "source": [
    "t=(1, 2, 3)\n",
    "print(id(t))\n",
    "t*=2\n",
    "print(t)\n",
    "print(id(t))\n",
    "\n",
    "# 튜플의 경우 초기 튜플의 id와 연산 후 튜플의 id가 다르다. 즉 연산 후 새로운 객체가 만들어졌다."
   ]
  },
  {
   "cell_type": "markdown",
   "metadata": {},
   "source": [
    "### list.sort()와 sorted() 내장 함수\n",
    "* list.sort() 메서드는 사본을 만들지 않고 리스트 내부를 변경해서 정렬한다. 때문에 sort()메서드는 타깃 객체를 변경하고 새로운 리스트를 생성하지 않았음을 알려주기 위해 None을 반환한다.\n",
    "\n",
    "* 이와는 반대로 sorted() 내장 함수는 새로운 리스트를 생성해서 반환한다.\n",
    "\n",
    "* 아래의 예제를 참고"
   ]
  },
  {
   "cell_type": "code",
   "execution_count": 8,
   "metadata": {},
   "outputs": [
    {
     "name": "stdout",
     "output_type": "stream",
     "text": [
      "['apple', 'banana', 'grape', 'raspberry']\n",
      "['grape', 'raspberry', 'apple', 'banana']\n",
      "['raspberry', 'grape', 'banana', 'apple']\n",
      "['grape', 'apple', 'banana', 'raspberry']\n",
      "['raspberry', 'banana', 'grape', 'apple']\n",
      "['grape', 'raspberry', 'apple', 'banana']\n",
      "None\n",
      "['apple', 'banana', 'grape', 'raspberry']\n"
     ]
    }
   ],
   "source": [
    "fruits=['grape', 'raspberry', 'apple', 'banana']\n",
    "print(sorted(fruits))\n",
    "print(fruits)\n",
    "print(sorted(fruits, reverse=True))\n",
    "print(sorted(fruits, key=len))\n",
    "print(sorted(fruits, key=len, reverse=True))\n",
    "print(fruits)\n",
    "print(fruits.sort())\n",
    "print(fruits)"
   ]
  },
  {
   "cell_type": "markdown",
   "metadata": {},
   "source": [
    "### bisect 모듈\n",
    "\n",
    "* 위 모듈은 ```bisect()``` 과 ```insort()``` 함수를 제공한다.\n",
    "    * ```bisect()``` 는 이진 검색 알고리즘을 이용해서 시퀀스를 검색한다.\n",
    "    * ```insert()``` 는 정렬된 시퀀스 안에 항목을 삽입한다."
   ]
  },
  {
   "cell_type": "code",
   "execution_count": 20,
   "metadata": {},
   "outputs": [
    {
     "name": "stdout",
     "output_type": "stream",
     "text": [
      "DEMO: bisect_right\n",
      "haystack ->  1  4  5  6  8 12 15 20 21 23 23 26 29 30\n",
      "31 @ 14  | | | | | | | | | | | | | |31\n",
      "30 @ 14  | | | | | | | | | | | | | |30\n",
      "29 @ 13  | | | | | | | | | | | | |29\n",
      "23 @ 11  | | | | | | | | | | |23\n",
      "22 @  9  | | | | | | | | |22\n",
      "10 @  5  | | | | |10\n",
      " 8 @  5  | | | | |8 \n",
      " 5 @  3  | | |5 \n",
      " 2 @  1  |2 \n",
      " 1 @  1  |1 \n",
      " 0 @  0 0 \n"
     ]
    }
   ],
   "source": [
    "import bisect\n",
    "import sys\n",
    "\n",
    "HAYSTACK = [1, 4, 5, 6, 8, 12, 15, 20, 21, 23, 23, 26, 29, 30]\n",
    "NEEDLES = [0, 1, 2, 5, 8, 10, 22, 23, 29, 30, 31]\n",
    "\n",
    "ROW_FMT = '{0:2d} @ {1:2d} {2}{0:<2d}'\n",
    "\n",
    "def demo(bisect_fn):\n",
    "    for needle in reversed(NEEDLES):\n",
    "        position = bisect_fn(HAYSTACK, needle)\n",
    "        offset = position * ' |'\n",
    "        print(ROW_FMT.format(needle, position, offset))\n",
    "            \n",
    "if __name__ == '__main__':\n",
    "    if sys.argv[-1] == 'left':\n",
    "        bisect_fn = bisect.bisect_left\n",
    "    else:\n",
    "        bisect_fn = bisect.bisect\n",
    "    print('DEMO:', bisect_fn.__name__)\n",
    "    print('haystack ->', ' '.join('%2d' % n for n in HAYSTACK))\n",
    "    demo(bisect_fn)\n"
   ]
  },
  {
   "cell_type": "markdown",
   "metadata": {},
   "source": [
    "* 정렬 연산을 계속 하는것을 효율적이지 못하기 때문에 정렬된 상태를 유지하는 것이 좋다. 때문에 ```insort()``` 가 만들어졌다.\n",
    "* ```insort(seq, item)``` 은 ```seq``` 를 오른차순으로 유지한체 ```item``` 을 ```seq``` 에 삽입한다."
   ]
  },
  {
   "cell_type": "code",
   "execution_count": 21,
   "metadata": {},
   "outputs": [
    {
     "name": "stdout",
     "output_type": "stream",
     "text": [
      "10 -> [10]\n",
      " 0 -> [0, 10]\n",
      " 6 -> [0, 6, 10]\n",
      " 8 -> [0, 6, 8, 10]\n",
      " 7 -> [0, 6, 7, 8, 10]\n",
      " 2 -> [0, 2, 6, 7, 8, 10]\n",
      "10 -> [0, 2, 6, 7, 8, 10, 10]\n"
     ]
    }
   ],
   "source": [
    "import bisect\n",
    "import random\n",
    "\n",
    "SIZE = 7\n",
    "\n",
    "random.seed(1729)\n",
    "\n",
    "my_list = []\n",
    "for i in range(SIZE):\n",
    "    new_item = random.randrange(SIZE*2)\n",
    "    bisect.insort(my_list, new_item)\n",
    "    print('%2d ->' % new_item, my_list)"
   ]
  },
  {
   "cell_type": "markdown",
   "metadata": {},
   "source": [
    "### 리스트가 답이 아닐 때\n",
    "\n",
    "* 리스트형은 융통성 있고 사용하기 편하지만, 세부 요구사항에 따라 더 나은 자료형도 있다.\n",
    "* 배열이나 메모리 뷰, NumPy, SciPy, queue나 deque등 많은 자료형이 있으니 세부 요구사항에 대해서 잘 생각해보고 자료형을 선택해서 사용하도록 하자."
   ]
  },
  {
   "cell_type": "code",
   "execution_count": null,
   "metadata": {},
   "outputs": [],
   "source": []
  }
 ],
 "metadata": {
  "kernelspec": {
   "display_name": "Python 3",
   "language": "python",
   "name": "python3"
  },
  "language_info": {
   "codemirror_mode": {
    "name": "ipython",
    "version": 3
   },
   "file_extension": ".py",
   "mimetype": "text/x-python",
   "name": "python",
   "nbconvert_exporter": "python",
   "pygments_lexer": "ipython3",
   "version": "3.7.1"
  }
 },
 "nbformat": 4,
 "nbformat_minor": 2
}
