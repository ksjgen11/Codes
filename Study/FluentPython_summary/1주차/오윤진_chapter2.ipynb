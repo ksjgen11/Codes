{
 "cells": [
  {
   "cell_type": "markdown",
   "metadata": {},
   "source": [
    "#내장 시퀀스\n",
    "\n",
    " 컨테이너 시퀀스 : 서로 다른 자료형의 항목들 담을 수 있음\n",
    "  ex) list, tuple, collections, deque\n",
    " 균일 시퀀스 : 단 하나의 자료형만 담을 수 있음\n",
    "  ex) str, bytes, bytearray, memoryview, array\n",
    "  \n",
    " 가변 시퀀스 : 수정 가능\n",
    "  ex) list, bytearray, array, collections, deque, memoryview\n",
    " 불변 시퀀스 : 수정 불가능\n",
    "  ex) tuple, str,bytes"
   ]
  },
  {
   "cell_type": "code",
   "execution_count": null,
   "metadata": {},
   "outputs": [],
   "source": [
    "# 문자열>유니코드 코드 포인트 리스트\n",
    "\n",
    "symbols='!@#$%^&*'\n",
    "codes=[]\n",
    "for symbol in symbols:\n",
    "    codes.append(ord(symbol))\n",
    "print(codes)\n",
    "\n",
    ">>>[33, 64, 35, 36, 37, 94, 38, 42]\n",
    "\n",
    "#지능형 리스트를 이용한 코드\n",
    "\n",
    "symbols='!@#$%^&*'\n",
    "codes=[ord(symbol) for symbol in symbols] \n",
    "print(codes)\n",
    "\n",
    ">>>[33, 64, 35, 36, 37, 94, 38, 42]\n",
    "\n",
    "\n",
    "#지능형리스트, 제너레이터 표현식, 지능형 집합, 지응형 딕셔너리는 함수처럼 고유한 지역 범위를 가진다."
   ]
  },
  {
   "cell_type": "code",
   "execution_count": null,
   "metadata": {},
   "outputs": [],
   "source": [
    "#지능형 리스트를 이용한 코드\n",
    "symbols='!@#$%^&*'\n",
    "beyond_ascii=[ord(s) for s in symbols if ord(s)>40]\n",
    "print(beyond_ascii)\n",
    "\n",
    ">>>[64, 94, 42]\n",
    "\n",
    "#map(), filter() 를 이용한 코드\n",
    "symbols='!@#$%^&*'\n",
    "beyond_ascii=list(filter(lambda c:c>40, map(ord, symbols)))  #lambda 사용\n",
    "print(beyond_ascii)\n",
    "\n",
    ">>>[64, 94, 42]\n",
    "\n",
    "\n",
    "#지능형 리스트를 이용하면 lambd 사용하지 않아도 됨. lambda는 기능적으로 문제가 있음."
   ]
  },
  {
   "cell_type": "code",
   "execution_count": null,
   "metadata": {},
   "outputs": [],
   "source": [
    "# 2.2.3. 데카르트 곱\n",
    "\n",
    "#지능형 리스트\n",
    "colors = ['black', 'white']\n",
    "sizes = list(\"SML\")\n",
    "\n",
    "for tshirt in ['%s %s' % (c, s) for c in colors\n",
    "                                for s in sizes]:\n",
    "    print(tshirt)\n",
    "\n",
    "#제너레이터 표현식\n",
    "colors = ['black', 'white']\n",
    "sizes = list(\"SML\")\n",
    "\n",
    "for tshirt in ('%s %s' % (c, s) for c in colors\n",
    "                                for s in sizes):\n",
    "    print(tshirt)"
   ]
  },
  {
   "cell_type": "markdown",
   "metadata": {},
   "source": [
    "2.2.4. 제너레이터 표현식\n",
    "\n",
    "다른 생성자에 전달할 리스트를 통째로 만들지 않고 반복자 프로토콜을 이용해 항목을 하나씩 만든다.\n",
    "\n",
    "시퀀스형(튜플, 배열) 초기화 할 때 지능형 리스트보다 제너레이터 표현식이 메모리를 더 적게 사용함.\n",
    "\n",
    "지능형 리스트 : [] -> 제너레이터 표현식 : ()"
   ]
  },
  {
   "cell_type": "markdown",
   "metadata": {},
   "source": [
    "2.3. 튜플\n",
    "\n",
    "레코드\n",
    " 튜플을 필드명이 없는 저장데이터로 사용할 수 있다.\n",
    " 변하지 않는 데이터 저장히기 좋음.\n",
    " 항목의 순서 중요 : 항목의 위치가 의미 결정하기 때문\n",
    " 언패킹 이용해 쓰기 편함.\n",
    "\n",
    "언패킹\n",
    " 튜플 안의 정보를 전달해주기 위한 방법\n",
    "\n",
    "명명된 튜플 namedtuple()\n",
    " class name, field name을 갖는 subclass를 생성하는 함수\n",
    " >> key와 index로 접근 가능\n",
    "\n",
    "불변 리스트\n"
   ]
  },
  {
   "cell_type": "code",
   "execution_count": null,
   "metadata": {},
   "outputs": [],
   "source": [
    "#2.3.2. 튜플 언패킹\n",
    "\n",
    "#2개 이상의 변수에 동시에 값을 동시에 할당하기\n",
    "xy1=(10,11)\n",
    "xy2=[20,21]\n",
    "x1,y1=xy1\n",
    "x2,y2=xy2\n",
    "print(x1,y1,x2,y2) >>> 10 11 20 21\n",
    "\n",
    "# *를 이용한 언패킹\n",
    "a, *b, c, d=[1, 2, 3, 4, 5]\n",
    "print(a) >>> 1\n",
    "print(b) >>> [2,3]\n",
    "print(c) >>> 4\n",
    "print(d) >>> 5"
   ]
  },
  {
   "cell_type": "code",
   "execution_count": null,
   "metadata": {},
   "outputs": [],
   "source": [
    "#namedtuple\n",
    "\n",
    "Card = collections.namedtuple('Card' ,['rank','suit'])\n",
    "  #'Card': class name  \n",
    "  #['rank','suit'] : list of field name\n",
    "\n",
    "#field name 구분\n",
    "Point1 = namedtuple('Point', ['x','y'])\n",
    "Point2 = namedtuple('Point', 'x y')\n",
    "Point2 = namedtuple('Point', 'x, y')\n"
   ]
  },
  {
   "cell_type": "markdown",
   "metadata": {},
   "source": [
    "2.4. 슬라이싱\n",
    "\n",
    "s[a:b:c]\n",
    " s[a]부터 s[b-1]까지 c 보폭으로 이동\n",
    "\n",
    "다차원 슬라이싱, 생략 기호\n",
    " x[i, ...] == x[i,:,:,:,]  #x가 4차원 배열일 때"
   ]
  },
  {
   "cell_type": "code",
   "execution_count": null,
   "metadata": {},
   "outputs": [],
   "source": [
    "#시퀀스 덧셈, 곱셈 연산자\n",
    "\n",
    "#시퀀스 * 숫자\n",
    "l=[1,2,3]\n",
    "l*5  # [1,2,3,1,2,3,1,2,3,1,2,3,1,2,3]\n",
    "\n",
    "5*'abcd'  #'abcdabcdabcdabcdabcd'\n"
   ]
  },
  {
   "cell_type": "code",
   "execution_count": null,
   "metadata": {},
   "outputs": [],
   "source": [
    "시퀀스 복합 할당"
   ]
  },
  {
   "cell_type": "code",
   "execution_count": null,
   "metadata": {},
   "outputs": [],
   "source": [
    "list.sort(), sorted()"
   ]
  },
  {
   "cell_type": "code",
   "execution_count": null,
   "metadata": {},
   "outputs": [],
   "source": [
    "bisect"
   ]
  },
  {
   "cell_type": "code",
   "execution_count": null,
   "metadata": {},
   "outputs": [],
   "source": [
    "리스트 적합하지 않을 때\n",
    "\n",
    "배열\n",
    "메모리 뷰\n",
    "NumPy, SciPy\n",
    "덱, 큐"
   ]
  }
 ],
 "metadata": {
  "kernelspec": {
   "display_name": "Python 3",
   "language": "python",
   "name": "python3"
  },
  "language_info": {
   "codemirror_mode": {
    "name": "ipython",
    "version": 3
   },
   "file_extension": ".py",
   "mimetype": "text/x-python",
   "name": "python",
   "nbconvert_exporter": "python",
   "pygments_lexer": "ipython3",
   "version": "3.8.2"
  }
 },
 "nbformat": 4,
 "nbformat_minor": 4
}
