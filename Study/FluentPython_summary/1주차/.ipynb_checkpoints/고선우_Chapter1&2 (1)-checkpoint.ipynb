{
 "cells": [
  {
   "cell_type": "markdown",
   "metadata": {},
   "source": [
    "# <div style=\"text-align: center\"> 전문가를 위한 Python 정리 문서 </div>\n",
    "### <div style=\"text-align: right\"> Written by. Sunwoo Go (xy-plane) <br/> <br/> Be created: 2020. 07. 11 <br/> Last modified: 2020. 09. 05 </div>"
   ]
  },
  {
   "cell_type": "markdown",
   "metadata": {},
   "source": [
    "### ※ 마크다운 작성법은 [여기](https://www.acmicpc.net/blog/view/1)로!  \n",
    "#### 근데 몇몇 html 태그는 깃헙에서 안 먹히는 듯하다... (눈물)"
   ]
  },
  {
   "cell_type": "markdown",
   "metadata": {},
   "source": [
    "-------------------------------"
   ]
  },
  {
   "cell_type": "markdown",
   "metadata": {},
   "source": [
    "# 0. 일정표"
   ]
  },
  {
   "cell_type": "markdown",
   "metadata": {},
   "source": [
    "1주차 : 1, 2단원 정리  \n",
    "2주차 : (추가 예정)"
   ]
  },
  {
   "cell_type": "markdown",
   "metadata": {},
   "source": [
    "# 1. Intro"
   ]
  },
  {
   "cell_type": "markdown",
   "metadata": {},
   "source": [
    "특별 메서드를 클래스 내에 구현하면 파이썬의 내장 기능들을 그대로 가져다 사용할 수 있다. 대충 C++의 연산자 오버로딩과 비슷하다고 보면 될 듯.  \n",
    "\n",
    "이 메서드들은 클래스 내부나 콘솔 코드에서 직접 호출하는 것이 아닌, 파이썬 인터프리터가 호출한다.\n",
    "\n",
    "객체 내의 특별 메서드들은 $\\text{__method__}$와 같이 메서드 이름 양 옆에 언더바(\\_) 두 개씩을 달아야 한다.  \n",
    "\n",
    "### ※ \\_\\_repr\\_\\_ vs. \\_\\_str\\_\\_\n",
    "$\\text{__repr__}$: 디버깅 로그에 사용되는 문자열 형식  \n",
    "$\\text{__str__}$: 사용자에게 보여줄 때 사용되는 문자열 형식. 만약 이 메서드가 구현되어 있지 않을 때는 위의 $\\text{__repr__}$가 호출된다.  \n",
    "\n",
    "len(), abs(), pow() 등등은 메서드로 불리지 않는다. 일종의 **연산자**처럼 다룬다."
   ]
  },
  {
   "cell_type": "markdown",
   "metadata": {},
   "source": [
    "# 2. Data Structure"
   ]
  },
  {
   "cell_type": "markdown",
   "metadata": {},
   "source": [
    "## 2.1 List\n",
    "### 가. List Comprehension"
   ]
  },
  {
   "cell_type": "markdown",
   "metadata": {},
   "source": [
    "대충 리스트를 간단하게 초기화시킬 수 있는 방법이다. 자세한 설명은 예제 몇 개로 대체한다."
   ]
  },
  {
   "cell_type": "code",
   "execution_count": 2,
   "metadata": {},
   "outputs": [
    {
     "name": "stdout",
     "output_type": "stream",
     "text": [
      "1. [0, 1, 2, 3, 4, 5, 6, 7, 8, 9]\n",
      "2. [0, 7, 14, 21, 28, 35, 42, 49]\n",
      "3. [(0, 0), (0, 1), (1, 0), (1, 1), (2, 0), (2, 1)]\n",
      "4. [1, 2, 3, 4, 5, 6, 7, 8, 9]\n",
      "5. [(3, 4, 5), (5, 12, 13), (6, 8, 10), (8, 15, 17), (9, 12, 15)]\n"
     ]
    }
   ],
   "source": [
    "list1 = [x for x in range(10)]\n",
    "print('1.', list1)\n",
    "\n",
    "list2 = [x for x in range(50) if x % 7 == 0]\n",
    "print('2.', list2)\n",
    "\n",
    "list3 = [(x, y) for x in range(3) for y in range(2)]\n",
    "print('3.', list3)\n",
    "\n",
    "mat = [[1, 2, 3], [4, 5, 6], [7, 8, 9]]\n",
    "list4 = [x for i in mat for x in i]\n",
    "print('4.', list4)\n",
    "\n",
    "list5 = [(x, y, z) for x in range(1, 20)\n",
    "                   for y in range(x, 20)\n",
    "                   for z in range(y, 20) if x * x + y * y == z * z]\n",
    "print('5.', list5)"
   ]
  },
  {
   "cell_type": "markdown",
   "metadata": {},
   "source": [
    "$\\text{list1:}$ 0부터 9까지의 정수가 들어간다.  \n",
    "$\\text{list2:}$ 0부터 49까지의 정수 중 7의 배수가 들어간다.  \n",
    "$\\text{list3:}$ 0, 1, 2와 0, 1을 조합한 모든 튜플이 들어간다.  \n",
    "$\\text{list4:}$ mat를 1차원으로 바꾼다  \n",
    "$\\text{list5:}$ 1 이상 20 미만의 범위에서 $x < y < z$인 피타고라스 쌍 $(x, y, z)$를 찾는다.  "
   ]
  },
  {
   "cell_type": "markdown",
   "metadata": {},
   "source": [
    "#### ※ 주의할 점\n",
    "2차원 이상의 리스트를 초기화시킬 때, **주의해야 할 것이 있다.** 다음의 코드를 보자."
   ]
  },
  {
   "cell_type": "code",
   "execution_count": 20,
   "metadata": {},
   "outputs": [
    {
     "name": "stdout",
     "output_type": "stream",
     "text": [
      "arr1: [[0, 0], [0, 0], [0, 0]]\n",
      "new arr1: [[0, 5], [0, 0], [0, 0]]\n",
      "arr1[0] id: 1579273126984\n",
      "arr1[1] id: 1579274409544 \n",
      "\n",
      "arr2: [[0, 0], [0, 0], [0, 0]]\n",
      "new arr2: [[0, 5], [0, 5], [0, 5]]\n",
      "arr2[0] id: 1579272854600\n",
      "arr2[1] id: 1579272854600\n"
     ]
    }
   ],
   "source": [
    "arr1 = [[0] * 2 for i in range(3)]\n",
    "print('arr1:', arr1)\n",
    "arr1[0][1] = 5\n",
    "print('new arr1:', arr1)\n",
    "print('arr1[0] id:', id(arr1[0]))\n",
    "print('arr1[1] id:', id(arr1[1]), '\\n')\n",
    "\n",
    "arr2 = [[0] * 2] * 3  # Not Good\n",
    "print('arr2:', arr2)\n",
    "arr2[0][1] = 5\n",
    "print('new arr2:', arr2)\n",
    "print('arr2[0] id:', id(arr2[0]))\n",
    "print('arr2[1] id:', id(arr2[1]))"
   ]
  },
  {
   "cell_type": "markdown",
   "metadata": {},
   "source": [
    "여기에서 $\\text{arr1}$과 $\\text{arr2}$는 똑같은 방식으로 초기화된 것처럼 보인다. 하지만 리스트 내의 어느 한 값을 변경시켜 보면, $\\text{arr2}$는 이상한 결과가 나오는 것을 볼 수 있다. 정확히는 **리스트 내의 같은 위치의 값이 모두 변경된다!**  \n",
    "이는 사실 $\\text{arr2}$ 선언 시에 사용한 곱셈 연산이, 동일한 객체를 여러 개 생성하였기 때문이다. 실제로 각 행의 id(주솟값)을 조사해 보면, arr2의 경우 0행과 1행의 주솟값이 동일하게 나온다. 그래서 한 객체만 변경해도 나머지 모두가 같이 변경되었던 것이다.  \n",
    "\n",
    "후자의 방법은 의도치 않은 동작을 하기 때문에, 동일한 객체를 여러 번 참조해야 하는 상황이 아니라면 사용하지 말자. (나도 이것 때문에 코딩을 하다가 여러 번 틀린 적이 있었다...ㅜㅜ)  \n",
    "더불어, 시퀀스에 곱셈 연산을 할 경우 **동일 객체가 여러 번 참조된다**는 것을 꼭 기억하자."
   ]
  },
  {
   "cell_type": "markdown",
   "metadata": {},
   "source": [
    "### 나. Slicing"
   ]
  },
  {
   "cell_type": "code",
   "execution_count": 27,
   "metadata": {},
   "outputs": [
    {
     "name": "stdout",
     "output_type": "stream",
     "text": [
      "12\n",
      "012345678\n",
      "0123456789 0123456789 0123456789\n",
      "5678901234\n",
      "1357\n",
      "9876543210\n"
     ]
    }
   ],
   "source": [
    "st = '0123456789'\n",
    "print(st[1:3])\n",
    "print(st[:-1])\n",
    "print(st, st[:], st[::])\n",
    "print(st[5:] + st[:5])\n",
    "print(st[1:8:2])\n",
    "print(st[::-1])  # Revese\n",
    "# print(st['1'])  ->  Error!"
   ]
  },
  {
   "cell_type": "markdown",
   "metadata": {},
   "source": [
    "슬라이싱은 $\\text{myseq[a:b:c]}$와 같은 형태로 가능하며, $a$번째 인덱스에서 시작하여 $b$번째 인덱스 미만일 동안 $c$칸씩 건너뛰는 구문이다. $a, b, c$에는 정수(즉 음의 정수도 가능하다)가 들어가거나, 아무 값이 안 들어갈 수도 있다. 그 외의 자료형은 들어갈 수 없다.  \n",
    "\n",
    "슬라이싱 연산은 상당히 직관적으로 작동하므로 몇 번 사용하다보면 익숙해질 것이다.\n",
    "\n",
    "참고로, 이를 이용해 어떤 자료형의 순서를 거꾸로 뒤집는 것을 [::-1]로 간단하게 구현할 수 있다."
   ]
  },
  {
   "cell_type": "markdown",
   "metadata": {},
   "source": [
    "## 2.2 Tuple"
   ]
  },
  {
   "cell_type": "markdown",
   "metadata": {},
   "source": [
    "솔직히 튜플 기본 성질이나 튜플 내의 메서드 종류는 다 알 것이고, 그렇지 않더라도 어차피 책에 잘 정리되어 있기 때문에 여기에 따로 적지는 않는다.  \n",
    "다만 한 가지, $\\texttt{namedtuple}$(명명된 튜플)에 대해선 간략하게 짚고 넘어가자."
   ]
  },
  {
   "cell_type": "code",
   "execution_count": 1,
   "metadata": {
    "scrolled": false
   },
   "outputs": [
    {
     "name": "stdout",
     "output_type": "stream",
     "text": [
      "Res1: Result(Class='Python', Grade='F')\n",
      "tmp: Classname(A=1, B=2)\n",
      "mycard: Card(rank=2, suit='Spade')\n",
      "mycard2: Card(rank=3, suit='Heart')\n"
     ]
    }
   ],
   "source": [
    "from collections import namedtuple\n",
    "\n",
    "#1\n",
    "Result = namedtuple('Result', 'Class Grade')\n",
    "Res1 = Result('Python', 'F')\n",
    "print('Res1:', Res1)\n",
    "\n",
    "#2\n",
    "mytuple = namedtuple('Classname', 'A B')\n",
    "tmp = mytuple(1, 2)\n",
    "# tmp2 = Classname(1, 2)  ->  Error!!\n",
    "print('tmp:', tmp)\n",
    "\n",
    "#3\n",
    "Card = namedtuple('Card', ['rank', 'suit'])\n",
    "mycard_data = (2, 'Spade')\n",
    "mycard = Card._make(mycard_data)\n",
    "print('mycard:', mycard)\n",
    "\n",
    "#4\n",
    "mycard2 = [3, 'Heart']\n",
    "mycard2 = Card(*mycard2)  # Using tuple unpacking\n",
    "print('mycard2:', mycard2)"
   ]
  },
  {
   "cell_type": "markdown",
   "metadata": {},
   "source": [
    "$\\texttt{namedtuple}$은 $\\texttt{collections}$를 import하여 사용 가능하다.  \n",
    "\n",
    "$\\text{tuplename = namedtuple(Classname, fieldname_list)}$와 같은 형식으로 사용하면 되고, 이때 fieldname_list 자리에는 \\#1처럼 공백으로 구분된 문자열이나 \\#3처럼 리스트, 튜플 같은 시퀀스가 올 수 있다. 만약 시퀀스를 이용했다면, \\#4와 같이 해당 시퀀스를 이용하여 객체를 선언할 수도 있다. (문자열을 이용한 경우에는 튜플로만 선언할 수 있다.) 참고로 \\#2에서 보듯이 tuplename과 Classname은 달라도 상관없다.  \n",
    "\n",
    "선언 시에는 $\\text{name = tuplename(...)}$ 혹은 $\\text{name = tuplename._make(...)}$의 형식으로 하면 되는데, 후자의 경우 \\_make() 내에 들어가는 인자가 하나여야 하기에 튜플 등으로 묶어줘야 한다. 두 방법은 완전히 같으므로 길이가 더 짧은 전자의 방식을 애용하도록 하자."
   ]
  },
  {
   "cell_type": "markdown",
   "metadata": {},
   "source": [
    "#### ※ 주의할 점\n",
    "튜플 내에 가변 객체를 넣고 해당 가변 객체를 변경할 경우, **오류가 뜨는 것과 동시에 변경이 된다.** 이게 무슨 말인가 싶겠지만, 말 그대로다. 아래 코드를 보자."
   ]
  },
  {
   "cell_type": "code",
   "execution_count": 22,
   "metadata": {},
   "outputs": [
    {
     "ename": "TypeError",
     "evalue": "'tuple' object does not support item assignment",
     "output_type": "error",
     "traceback": [
      "\u001b[1;31m---------------------------------------------------------------------------\u001b[0m",
      "\u001b[1;31mTypeError\u001b[0m                                 Traceback (most recent call last)",
      "\u001b[1;32m<ipython-input-22-226e7290c54e>\u001b[0m in \u001b[0;36m<module>\u001b[1;34m\u001b[0m\n\u001b[0;32m      1\u001b[0m \u001b[0mt\u001b[0m \u001b[1;33m=\u001b[0m \u001b[1;33m(\u001b[0m\u001b[1;36m1\u001b[0m\u001b[1;33m,\u001b[0m \u001b[1;36m2\u001b[0m\u001b[1;33m,\u001b[0m \u001b[1;33m[\u001b[0m\u001b[1;36m3\u001b[0m\u001b[1;33m,\u001b[0m \u001b[1;36m4\u001b[0m\u001b[1;33m]\u001b[0m\u001b[1;33m)\u001b[0m\u001b[1;33m\u001b[0m\u001b[1;33m\u001b[0m\u001b[0m\n\u001b[1;32m----> 2\u001b[1;33m \u001b[0mt\u001b[0m\u001b[1;33m[\u001b[0m\u001b[1;36m2\u001b[0m\u001b[1;33m]\u001b[0m \u001b[1;33m+=\u001b[0m \u001b[1;33m[\u001b[0m\u001b[1;36m5\u001b[0m\u001b[1;33m,\u001b[0m \u001b[1;36m6\u001b[0m\u001b[1;33m]\u001b[0m\u001b[1;33m\u001b[0m\u001b[1;33m\u001b[0m\u001b[0m\n\u001b[0m\u001b[0;32m      3\u001b[0m \u001b[0mprint\u001b[0m\u001b[1;33m(\u001b[0m\u001b[0mt\u001b[0m\u001b[1;33m)\u001b[0m\u001b[1;33m\u001b[0m\u001b[1;33m\u001b[0m\u001b[0m\n",
      "\u001b[1;31mTypeError\u001b[0m: 'tuple' object does not support item assignment"
     ]
    }
   ],
   "source": [
    "t = (1, 2, [3, 4])\n",
    "t[2] += [5, 6]"
   ]
  },
  {
   "cell_type": "code",
   "execution_count": 23,
   "metadata": {},
   "outputs": [
    {
     "name": "stdout",
     "output_type": "stream",
     "text": [
      "(1, 2, [3, 4, 5, 6])\n"
     ]
    }
   ],
   "source": [
    "print(t)"
   ]
  },
  {
   "cell_type": "markdown",
   "metadata": {},
   "source": [
    "분명히, 오류가 났음에도 불구하고 t의 값은 변경이 되었다! 이렇게 되는 이유는 우선 튜플 내의 가변 객체 변경 연산이 먼저 실행이 되고 나서 튜플 변경 연산을 실행하기 때문이다. 그래서 일단 변경은 되었으나, 튜플 변경에서 오류를 내어 위와 같은 결과가 나오는 것이다. (p.83~84)  \n",
    "\n",
    "이런 이유로, 불변 객체 내에 가변 객체를 넣는 것 또한 피하여야 한다."
   ]
  },
  {
   "cell_type": "markdown",
   "metadata": {},
   "source": [
    "## 2.3 시퀀스 정렬\n",
    "### 가. list.sort() vs. sorted()"
   ]
  },
  {
   "cell_type": "code",
   "execution_count": 45,
   "metadata": {},
   "outputs": [
    {
     "name": "stdout",
     "output_type": "stream",
     "text": [
      "sorted(arr): [-10, -9, -1, 0, 1, 1, 2, 3, 6, 8]\n",
      "arr: [1, 2, 3, 0, -1, -9, 8, 6, 1, -10]\n",
      "Reverse sorted(arr): [8, 6, 3, 2, 1, 1, 0, -1, -9, -10]\n",
      "abs sorted(arr): [0, 1, -1, 1, 2, 3, 6, 8, -9, -10] \n",
      "\n",
      "arr.sort(): None\n",
      "arr: [-10, -9, -1, 0, 1, 1, 2, 3, 6, 8]\n"
     ]
    }
   ],
   "source": [
    "arr = [1, 2, 3, 0, -1, -9, 8,  6, 1, -10]  # List Comprehension\n",
    "print('sorted(arr):', sorted(arr))\n",
    "print('arr:', arr)\n",
    "print('Reverse sorted(arr):', sorted(arr, reverse=True))\n",
    "print('abs sorted(arr):', sorted(arr, key=abs), '\\n')\n",
    "\n",
    "print('arr.sort():', arr.sort())\n",
    "print('arr:', arr)"
   ]
  },
  {
   "cell_type": "markdown",
   "metadata": {},
   "source": [
    "$\\text{sorted()}:$ 새로운 객체를 반환하고, 원래 리스트는 변하지 않는다.  \n",
    "$\\text{list.sort()}:$ $\\texttt{None}$을 반환하고, 원래 리스트가 변한다.  \n",
    "\n",
    "이때 함수의 인자로 $\\text{key}$와 $\\text{reverse}$가 선택적으로 들어갈 수 있다(즉 들어가도 되고 안 들어가도 된다). $\\text{reverse}$에는 $\\texttt{True}$와 $\\texttt{False}$가 들어갈 수 있고, $\\text{key}$에는 함수의 이름이 들어간다. 기본값은 각각 $\\texttt{False}$, $\\texttt{None}$이다."
   ]
  },
  {
   "cell_type": "markdown",
   "metadata": {},
   "source": [
    "## 2.4 그 외 자료구조"
   ]
  },
  {
   "cell_type": "markdown",
   "metadata": {},
   "source": [
    "$\\texttt{Array}:$ C언어의 배열과 똑같다고 생각하면 된다. 가변 시퀀스에서 사용하는 연산을 그대로 사용할 수 있다. 수로만 이루어진 시퀀스의 경우, 리스트보다는 배열$(\\texttt{Array})$이 훨씬 효율적이다.  \n",
    "\n",
    "$\\texttt{queue}:$ 한쪽에서만 삽입 및 삭제가 가능한 자료구조. $\\texttt{collections}$ 내의 $\\texttt{queue}$ 모듈을 import하여 사용 가능하다. 더 세분화하여, $\\texttt{Queue}$, $\\texttt{PriorityQueue}$ 클래스 등이 들어 있다. 후자는 우선순위 큐라 불리는 것으로, 특정한 기준을 통해 정렬된 순서로 삽입 및 삭제가 이루어지는 자료구조다.\n",
    "\n",
    "$\\texttt{deque}:$ 양쪽에서 삽입 및 삭제가 가능한 자료구조. $\\texttt{collections}$ 내의 $\\texttt{deque}$ 모듈을 import하여 사용 가능하다.    \n",
    "\n",
    "※ 참고) $\\texttt{heapq}$는 특정 자료구조를 제공하진 않지만, 가변 시퀀스를 우선순위 큐로 사용할 수 있게끔 해 주는 $\\texttt{heappush}()$와 $\\texttt{heappop}()$ 등의 함수를 사용할 수 있다."
   ]
  }
 ],
 "metadata": {
  "kernelspec": {
   "display_name": "Python 3",
   "language": "python",
   "name": "python3"
  },
  "language_info": {
   "codemirror_mode": {
    "name": "ipython",
    "version": 3
   },
   "file_extension": ".py",
   "mimetype": "text/x-python",
   "name": "python",
   "nbconvert_exporter": "python",
   "pygments_lexer": "ipython3",
   "version": "3.7.1"
  }
 },
 "nbformat": 4,
 "nbformat_minor": 2
}
