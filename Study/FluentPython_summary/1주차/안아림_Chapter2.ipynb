{
 "cells": [
  {
   "cell_type": "markdown",
   "metadata": {},
   "source": [
    "## 챕터2 시퀀스\n",
    "\n",
    "### 지능형 리스트와 제너레이터 표현식\n",
    "* 지능형 리스트와 가독성\n",
    "    - 지능형 리스트는 항목을 필터링 및 변환함으로써 시퀀스나 기타 반복 가능한 자료형으로부터 리스트를 만든다.\n",
    "    - map() 혹은 filter() 사용시 가독성은 떨어진다.\n",
    "\n",
    "* 데카르트 곱\n",
    "\n",
    "* 제너레이터 표현식\n",
    "\n",
    "### 튜플은 단순한 불편 리스트가 아니다\n",
    "* 래코드로서의 튜플\n",
    "    - 튜플 안에서 항목의 위치가 항목의 의미를 나타내므로 튜플을 정렬하면 정보가 파괴된다.\n",
    "\n",
    "* 튜플 언패킹\n",
    "    - 튜플 언패킹은 **병렬 할당**을 할 때 가장 눈에 띈다.\n",
    "    - **병렬 할당**은 반복형 데이터를 변수로 구성된 튜플에 할당하는 것을 말한다.\n",
    "\n",
    "* 내포된 튜플 언패킹\n",
    "\n",
    "* 명명된 튜플\n",
    "    - 명명된 튜플은 튜플에서 상속받은 속성 외에 _fields 클래스 속성, _make(iterable) 클래스 메서드, _asdict() 객체 메서드를 보여준다.\n",
    "\n",
    "* 불변 리스트로서의 튜플\n",
    "\n",
    "### 슬라이싱\n",
    "* 슬라이스 객체\n",
    "    - s[a:b:c]는 c 보폭만큼씩 항목을 건너뛰게 만든다.\n",
    "    - a:b:c 표기법은 인덱스 연산을 수행하는 [] 안에서만 사용할 수 있으며, slice(a,b,c) 객체를 생성한다.\n",
    "\n",
    "### 시퀀스에 덧셈과 곱셈 연산자 사용하기\n",
    "\n",
    "### list.sort()와 sorted() 함수\n",
    "    - list.sort() 메서드는 사본을 만들지 않고 리스트 내부를 변경해서 정렬한다.\n",
    "    - sort() 메서드는 타깃 객체를 변경하고 새로운 리스트를 생성하지 않았음을 알려주기 위해 None을 반환한다.\n",
    "\n",
    "### 정렬된 시퀀스를 bisect로 관리하기\n",
    "* bisect()로 검색하기\n",
    "    - bisect(haystack, needle)은 정렬된 시퀀스인 haystack 안에서 오름차순 정렬 상태를 유지한 채로 needle을 추가할 수 있는 위치를 찾아낸다.\n",
    "    - 즉, 해당 위치 앞에는 needle보다 같거나 작은 항목이 온다."
   ]
  },
  {
   "cell_type": "code",
   "execution_count": 1,
   "metadata": {},
   "outputs": [],
   "source": [
    "# 예제 2- 17 정렬된 시퀀스에서 항목을 추가할 위치를 찾아내는 bisect\n",
    "import bisect\n",
    "import sys\n",
    "\n",
    "HAYSTACK = [1, 4, 5, 6, 8, 12, 15, 20, 21, 23, 23, 26, 29, 30]\n",
    "NEEDLES = [0, 1, 2, 5, 8, 10, 22, 23, 29, 30, 31]\n",
    "\n",
    "ROW_FMT = '{0:2d} @ {1:2d}  {2}{0:<2d}'\n",
    "\n",
    "def demo(bisect_fn):\n",
    "    for needle in reversed(NEEDLES):\n",
    "        position = bisect_fn(HAYSTACK, needle)\n",
    "        offset = position * '|'\n",
    "        print(ROW_FMT.format(needle, position, offset))\n",
    "        \n",
    "    if __name__ == '__main__':\n",
    "        if sys.argv[-1] == 'left':\n",
    "            bisect_fn = bisect.bisect_left\n",
    "        else:\n",
    "            bisect_fn = bisect.bisect\n",
    "            \n",
    "        print('DEMO:', bisect_fn.__name__)\n",
    "        print('haystack ->', ''.join('%2d' % n for n in HAYSTACK))\n",
    "        demo(bisect_fn)"
   ]
  },
  {
   "cell_type": "markdown",
   "metadata": {},
   "source": [
    "### 리스트가 답이 아닐 때\n",
    "* 배열\n",
    "    - 배열은 pop(), insert(), extend() 등을 포함해서 가변 시퀀스가 제공하는 모든 연산을 지원하며, 빠르게 파일에 저장하고 읽어올 수 있는 frombytes()와 tofile() 메서드도 추가 제공한다.\n",
    "\n",
    "* 메모리 뷰\n",
    "    - **메모리 뷰는 본질적으로 (math를 포함하지 않은) 파이썬 자체에 들어 있는 NumPy 배열 구조체를 일반화한 것이다. 메모리 뷰는 PIL 이미지, SQLlite 데이터베이스, NumPy 배열 등 데이터 구조체를 복사하지 않고 메모리를 공유할 수 있게 해준다. 데이터셋이 커지는 경우 이것은 아주 중요한 기법이다.**\n",
    "\n",
    "* NumPy와 SciPy\n",
    "    - NumPy는 숫자 뿐만 아니라 사용자 정의 레코드도 저장할 수 있는 다차원 동형 배열 및 행렬을 구현하고 요소 단위에서 효율적으로 연산할 수 있게 해준다.\n",
    "    - SciPy는 NumPy를 기반으로 작성된 라이브러리, 선형대수학, 수치해석, 통계학에 나오는 여러 과학 알고리즘을 제공한다.\n",
    "\n",
    "* 덱 및 기타 큐\n",
    "    - 덱(collections.deque) 클래스는 큐의 양쪽 어디에서든 빠르게 삽입 및 삭제할 수 있도록 설계된 스레드 안전한 양방향 큐다."
   ]
  },
  {
   "cell_type": "code",
   "execution_count": 6,
   "metadata": {},
   "outputs": [],
   "source": [
    "# 예제 2-23 덱 이용하기\n",
    "from collections import deque\n",
    "from keras.preprocessing import sequence\n",
    "from keras.preprocessing.sequence import pad_sequences"
   ]
  },
  {
   "cell_type": "code",
   "execution_count": 8,
   "metadata": {},
   "outputs": [
    {
     "data": {
      "text/plain": [
       "deque([0, 1, 2, 3, 4, 5, 6, 7, 8, 9])"
      ]
     },
     "execution_count": 8,
     "metadata": {},
     "output_type": "execute_result"
    }
   ],
   "source": [
    "dq = deque(range(10), maxlen=10)\n",
    "dq"
   ]
  },
  {
   "cell_type": "code",
   "execution_count": 10,
   "metadata": {},
   "outputs": [
    {
     "data": {
      "text/plain": [
       "deque([4, 5, 6, 7, 8, 9, 0, 1, 2, 3])"
      ]
     },
     "execution_count": 10,
     "metadata": {},
     "output_type": "execute_result"
    }
   ],
   "source": [
    "dq.rotate(3)\n",
    "# rotate() 메서드는 양수 인수를 받으면 오른쪽 끝에 있는 항목을 지정한 개수만큼 왼쪽 끝으로, \n",
    "#음수 인수를 받으면 왼쪽 끝에 있는 항목을 지정한 개수만큼 오른쪽 끝으로 이동시킨다.\n",
    "dq"
   ]
  },
  {
   "cell_type": "code",
   "execution_count": 11,
   "metadata": {},
   "outputs": [
    {
     "data": {
      "text/plain": [
       "deque([-1, 4, 5, 6, 7, 8, 9, 0, 1, 2])"
      ]
     },
     "execution_count": 11,
     "metadata": {},
     "output_type": "execute_result"
    }
   ],
   "source": [
    "dq.appendleft(-1)\n",
    "dq"
   ]
  },
  {
   "cell_type": "code",
   "execution_count": 13,
   "metadata": {},
   "outputs": [
    {
     "data": {
      "text/plain": [
       "deque([9, 0, 1, 2, 11, 22, 33, 11, 22, 33])"
      ]
     },
     "execution_count": 13,
     "metadata": {},
     "output_type": "execute_result"
    }
   ],
   "source": [
    "dq.extend([11, 22, 33])\n",
    "dq"
   ]
  },
  {
   "cell_type": "code",
   "execution_count": 15,
   "metadata": {},
   "outputs": [
    {
     "data": {
      "text/plain": [
       "deque([40, 30, 20, 10, 40, 30, 20, 10, 9, 0])"
      ]
     },
     "execution_count": 15,
     "metadata": {},
     "output_type": "execute_result"
    }
   ],
   "source": [
    "dq.extendleft([10, 20, 30, 40])\n",
    "# extendleft(iter)는 iter 인수에서 생성되는 항목을 덱의 왼쪽에 하나씩 차례대로 추가한다. 따라서 항목이 역순으로 추가된다.\n",
    "dq"
   ]
  }
 ],
 "metadata": {
  "kernelspec": {
   "display_name": "Python 3",
   "language": "python",
   "name": "python3"
  },
  "language_info": {
   "codemirror_mode": {
    "name": "ipython",
    "version": 3
   },
   "file_extension": ".py",
   "mimetype": "text/x-python",
   "name": "python",
   "nbconvert_exporter": "python",
   "pygments_lexer": "ipython3",
   "version": "3.7.4"
  }
 },
 "nbformat": 4,
 "nbformat_minor": 2
}
