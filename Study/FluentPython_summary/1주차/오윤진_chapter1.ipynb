{
 "cells": [
  {
   "cell_type": "raw",
   "metadata": {},
   "source": [
    "__ : dunder (double underbar)"
   ]
  },
  {
   "cell_type": "code",
   "execution_count": null,
   "metadata": {},
   "outputs": [],
   "source": [
    "# 1.1 카드 한 벌\n",
    "import collections #collections라는 명칭의 코드 파일 불러오기\n",
    "...\n",
    "class FrenchDeck :\n",
    "    ranks = [str(n) for n in range(2,11)]+list('JQKA') #할당된 순서대로 >> 2가 처음\n",
    "    suits = 'spades diamonds clubs hearts'.split() #spades가 처음\n",
    "    \n",
    "    def __init__(self) :   #(rank;숫자,suit;모양) 쌍들을 집합으로\n",
    "        self._cards = [Card(rank, suit) for suit in self.suits\n",
    "                                        for rank in self.ranks]\n",
    "    def __len__(self) :   #(rank,suit)쌍을 문자열로 반환\n",
    "        return len(self._cards)\n",
    "    def __getitem__(self,position):   #어떤 위치에 있는 카드,n번째 : position= n-1\n",
    "        return self._cards[position] #슬라이싱 가능"
   ]
  },
  {
   "cell_type": "markdown",
   "metadata": {},
   "source": [
    "1.1의 카드 정렬\n",
    "\n",
    "각 모양의 랭크를 숫자로 표시(suit_values) >> 각 카드에 랭크 부여 >> sorted\n",
    "\n",
    "카드의 랭크 :    FrenchDeck.ranks.index(card,rank)*len(suit_values)+suit_values"
   ]
  },
  {
   "cell_type": "markdown",
   "metadata": {},
   "source": [
    "특별메서드(dunder)은 인터프린터가 호출하기 위한 것임.\n",
    "직접 __함수__(변수) 라는 명령어 써서 호출하지 않음.\n",
    "\n",
    "my_object.__len__()로 호출 x\n",
    "len(my_object) >> my_object가 사용자 정의 클래스의 객체임 >> __len__() 호출\n",
    "\n",
    "내장 자료형(list, str, bytearray) >> len()는 ob_size 필드 값 반환\n",
    "*ob_size 필드 값 : 메모리에 있는 모든 가변 크기의 내장 객체\n",
    "\n",
    "__init__() 메서드만 코드에서 직접 호출함.\n",
    " : 구현한 __init__()가 슈퍼클래스의 __init__() 호출\n",
    " \n",
    "특별 메서드 호출하고 싶으면 len(),iter(),str() 같은 내장 함수 호출\n",
    "(but 내장함수가 특별 메서드 호출 하지 않는 경우도 있음)"
   ]
  },
  {
   "cell_type": "code",
   "execution_count": null,
   "metadata": {},
   "outputs": [],
   "source": [
    "#1.2. 2차원 유클리드 벡터 클래스\n",
    "\n",
    "Vector(2,4)+Vector(2,1) >>> Vector(4,5)\n",
    "abs(Vecor(3,4)) >>> 5 #abs() : 절댓값 반환, complex도 값을 하나만 반환\n",
    "Vector(3,4)*3 >>> Vector(9.12)\n",
    "\n",
    "#위 계산들을 특별 메서드로 구현\n",
    "\n",
    "class Vector :\n",
    "    def __init__(self, x=0, y=0) : #벡터의 x,y 값 저장(?)\n",
    "        self.x=x ; self.y=y\n",
    "    def __repr__(self) :  #벡터 값 문자열로 반환\n",
    "        return 'Vector(%r,%r)' %(self.x, self.y)\n",
    "    def __abs__(self) :  #hypot()을 이용해 크기 반환\n",
    "        return hypot(self.x, self.y)\n",
    "    def __bool__(self):  #크기 0 > 벡터 존재하지 않음 > False\n",
    "        return bool(abs(self))\n",
    "    def __add__(self,other):  #2개 벡터 더해 반환\n",
    "        x=self.x + other.x\n",
    "        y=self.y + other.y\n",
    "        return Vector(x,y)\n",
    "    def __mul__(self,scalar) :  #스칼라곱 한 벡터 반환\n",
    "        return Vector(self.x*scalar, self.y*scalar)"
   ]
  },
  {
   "cell_type": "raw",
   "metadata": {},
   "source": [
    "# __repr__()\n",
    "\n",
    " repr()이 객체를 문자열로 변환시키기 위해 __repr__() 호출\n",
    " 만약 __repr__() 없으면 <Vector object at 0x10e100070> 이런 식으로 객체 출력 됨\n",
    " 대화형 콘솔, 디버거는 포맷 문자열처럼 repr(평가된 표현식의 결과) 호출\n",
    " \n",
    " __str__()과 비교\n",
    "   __repr__() : repr()에 의해 호출, 명확한 문자열 반환\n",
    "   __str__() : 생성자에 의해 호출, print()에 의해 암묵적으로 사용, 적당한 형태의 문자열 반환\n",
    "  \n",
    "  만약 __str__, __repr__ 중 하나만 만들어야 된다면 __repr__()을!\n",
    "  파이썬 인터프린터가 __str__() 없으면 __repr__()을 호출함\n",
    " \n",
    "#__add__(), __mul__()\n",
    "\n",
    " 2개의 피연산자(x,y)를 변경하지 않고 vector 객체를 새로 만들어 반환\n",
    "\n",
    "#불리언 값, __bool__()\n",
    "\n",
    " bool형 객체(True, False)\n",
    " if/while/and/or/not의 피연산자로 사용되면 어떤 객체든 가능 >> bool(x) >> bool형 객체 반환\n",
    " \n",
    " if) __bool__() 나 __len__() 구현 안 됨 >> 사용자 정의 클래스 객체는 True\n",
    "\n",
    " __bool__() : 불리언형 반환 해야 함\n",
    "           의 결과를 bool(x)가 이용\n",
    " __len__() : __bool__() 없으면 호출 됨\n",
    "             0이나 0이 아닌 값 반환 >> bool()이 0이면 False, 0 아니면 True"
   ]
  },
  {
   "cell_type": "markdown",
   "metadata": {},
   "source": [
    "1.3.특별 메서드 개요 (책의 표 참고)\n",
    "\n",
    " *역순 산술 연산자 : a*b -> b*a 되었을 때 사용\n",
    " *복합 할당 산술 연산자 : a=a*b -> a*=b 로 표현"
   ]
  },
  {
   "cell_type": "markdown",
   "metadata": {},
   "source": [
    "1.4. len() \n",
    "\n",
    " len()는 메서드 아님 (실용성 때문에)\n",
    " len(x): x가 내장형 객체 >> 메서드 호출x >> c언어 구조체의 필드 읽어오기만 >> 아주 빨리 실행 됨\n",
    " \n",
    " len(), abs()는 메서드 아님\n",
    "  but. __len__()로 len() 메서드 정의 가능"
   ]
  },
  {
   "cell_type": "markdown",
   "metadata": {},
   "source": [
    "1.5. 요약\n",
    "\n",
    "특별 메서드 >> 사용자 정의 객체를 내장형 객체처럼 작동하게 함\n",
    "\n",
    "객체는 자신을 문자열 형태로 제공해야 함. >> __repr__(), __str__()가 데이터 모델에 존재\n",
    " 1) 디버깅&로그에 사용하는\n",
    " 2) 사용자에게 보여주기 위한\n",
    "\n",
    "시퀀스 흉내내기 위해 특별메서드 많이 사용함."
   ]
  }
 ],
 "metadata": {
  "kernelspec": {
   "display_name": "Python 3",
   "language": "python",
   "name": "python3"
  },
  "language_info": {
   "codemirror_mode": {
    "name": "ipython",
    "version": 3
   },
   "file_extension": ".py",
   "mimetype": "text/x-python",
   "name": "python",
   "nbconvert_exporter": "python",
   "pygments_lexer": "ipython3",
   "version": "3.8.2"
  }
 },
 "nbformat": 4,
 "nbformat_minor": 4
}
