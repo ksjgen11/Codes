{
 "cells": [
  {
   "cell_type": "markdown",
   "metadata": {},
   "source": [
    "# 전문가를 위한 파이썬\n",
    "\n",
    "## part 1\n",
    "\n",
    "## 챕터1\n",
    "\n",
    "### 특별 메서드\n",
    "* (https://corikachu.github.io/articles/python/python-magic-method) 의 설명을 참고\n",
    "* 특별 메서드를 구현하면 사용자 정의 객체도 내장형 객체처럼 작동하게 할 수 있다.\n",
    "* 시퀀스를 흉내 내기 위해 특별 메서드가 널리 사용된다.\n",
    "* 시퀀스란? (https://python.bakyeono.net/chapter-5-2.html) + 파트 2에서 설명\n",
    "    - 데이터에 번호를 붙여 나열한 것\n",
    "* namedtuple 이란? (https://m.blog.naver.com/sw4r/221488347735)\n",
    "    - 보통의 튜플의 경우에는 인덱스를 통해서 튜플에 접근이 가능한데, namedtuple을 사용하게 되면 키 값으로 접근이 가능하다. 마치 딕셔너리와 같이 작동한다고도 볼 수 있겠다. 하지만 튜플의 성질을 가지는 것이다."
   ]
  },
  {
   "cell_type": "code",
   "execution_count": 1,
   "metadata": {},
   "outputs": [],
   "source": [
    "import collections\n",
    "\n",
    "Card=collections.namedtuple('Card', ['rank', 'suit'])\n",
    "\n",
    "class FrenchDeck:\n",
    "    ranks=[str(n) for n in range(2, 11)]+list(\"JQKA\")\n",
    "    suits='spades diamonds club hearts'.split()\n",
    "    \n",
    "    def __init__(self):\n",
    "        self._cards=[Card(rank, suit) for suit in self.suits for rank in self.ranks]\n",
    "    \n",
    "    def __len__(self):\n",
    "        return len(self._cards)\n",
    "    \n",
    "    def __getitem__(self, position):\n",
    "        return self._cards[position]"
   ]
  },
  {
   "cell_type": "code",
   "execution_count": 2,
   "metadata": {},
   "outputs": [
    {
     "name": "stdout",
     "output_type": "stream",
     "text": [
      "Card(rank='7', suit='diamonds')\n"
     ]
    }
   ],
   "source": [
    "print(Card('7', 'diamonds'))"
   ]
  },
  {
   "cell_type": "code",
   "execution_count": 3,
   "metadata": {},
   "outputs": [
    {
     "data": {
      "text/plain": [
       "52"
      ]
     },
     "execution_count": 3,
     "metadata": {},
     "output_type": "execute_result"
    }
   ],
   "source": [
    "deck=FrenchDeck()\n",
    "len(deck)"
   ]
  },
  {
   "cell_type": "markdown",
   "metadata": {},
   "source": [
    "* 슬라이싱"
   ]
  },
  {
   "cell_type": "code",
   "execution_count": 4,
   "metadata": {},
   "outputs": [
    {
     "data": {
      "text/plain": [
       "[Card(rank='2', suit='spades'),\n",
       " Card(rank='3', suit='spades'),\n",
       " Card(rank='4', suit='spades')]"
      ]
     },
     "execution_count": 4,
     "metadata": {},
     "output_type": "execute_result"
    }
   ],
   "source": [
    "deck[:3]"
   ]
  },
  {
   "cell_type": "code",
   "execution_count": 5,
   "metadata": {},
   "outputs": [
    {
     "data": {
      "text/plain": [
       "[Card(rank='A', suit='spades'),\n",
       " Card(rank='A', suit='diamonds'),\n",
       " Card(rank='A', suit='club'),\n",
       " Card(rank='A', suit='hearts')]"
      ]
     },
     "execution_count": 5,
     "metadata": {},
     "output_type": "execute_result"
    }
   ],
   "source": [
    "deck[12::13]"
   ]
  },
  {
   "cell_type": "markdown",
   "metadata": {},
   "source": [
    "* 반복문"
   ]
  },
  {
   "cell_type": "code",
   "execution_count": 6,
   "metadata": {},
   "outputs": [
    {
     "name": "stdout",
     "output_type": "stream",
     "text": [
      "Card(rank='3', suit='spades')\n",
      "Card(rank='3', suit='diamonds')\n",
      "Card(rank='3', suit='club')\n",
      "Card(rank='3', suit='hearts')\n"
     ]
    }
   ],
   "source": [
    "for card in deck:\n",
    "    if card.rank == '3':\n",
    "        print(card)"
   ]
  },
  {
   "cell_type": "code",
   "execution_count": 7,
   "metadata": {},
   "outputs": [
    {
     "name": "stdout",
     "output_type": "stream",
     "text": [
      "Card(rank='A', suit='club')\n",
      "Card(rank='K', suit='club')\n",
      "Card(rank='Q', suit='club')\n",
      "Card(rank='J', suit='club')\n",
      "Card(rank='10', suit='club')\n",
      "Card(rank='9', suit='club')\n",
      "Card(rank='8', suit='club')\n",
      "Card(rank='7', suit='club')\n",
      "Card(rank='6', suit='club')\n",
      "Card(rank='5', suit='club')\n",
      "Card(rank='4', suit='club')\n",
      "Card(rank='3', suit='club')\n",
      "Card(rank='2', suit='club')\n"
     ]
    }
   ],
   "source": [
    "for card in reversed(deck):\n",
    "    if card.suit == 'club':\n",
    "        print(card)"
   ]
  },
  {
   "cell_type": "markdown",
   "metadata": {},
   "source": [
    "* 위와 같이 FrenchDeck에 __len__()과 __getitem__()을 구현함으로써 표준 파이썬 시퀀스 처럼 작동하게 만들었다.\n",
    "* 덕분에 random의 choice(), reversed(), sorted()와 같은 표준 라이브러리를 사용할 수 있다."
   ]
  },
  {
   "cell_type": "code",
   "execution_count": null,
   "metadata": {},
   "outputs": [],
   "source": []
  }
 ],
 "metadata": {
  "kernelspec": {
   "display_name": "Python 3",
   "language": "python",
   "name": "python3"
  },
  "language_info": {
   "codemirror_mode": {
    "name": "ipython",
    "version": 3
   },
   "file_extension": ".py",
   "mimetype": "text/x-python",
   "name": "python",
   "nbconvert_exporter": "python",
   "pygments_lexer": "ipython3",
   "version": "3.7.1"
  }
 },
 "nbformat": 4,
 "nbformat_minor": 2
}
