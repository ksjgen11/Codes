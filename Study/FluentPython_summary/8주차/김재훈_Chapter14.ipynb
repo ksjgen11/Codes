{
 "cells": [
  {
   "cell_type": "markdown",
   "metadata": {},
   "source": [
    "# 반복형 반복자 제너레이터"
   ]
  },
  {
   "cell_type": "markdown",
   "metadata": {},
   "source": [
    "파이썬의 컬렉션은 모두 반복형\n",
    "- for 루프\n",
    "- 컬렉션형 생성과 확장\n",
    "- 텍스트 파일을 한 줄씩 반복\n",
    "- 지능형 리스트/딕셔너리/집합\n",
    "- 튜플 언패킹\n",
    "- 함수 호출시 \\*를 사용해서 실제 매개변수를 언패킹"
   ]
  },
  {
   "cell_type": "markdown",
   "metadata": {},
   "source": [
    "반복형\n",
    "iter() 내장 함수가 반복자를 "
   ]
  },
  {
   "cell_type": "markdown",
   "metadata": {},
   "source": [
    "iterator는 다음과 같은 두개의 메서드를 정의한다\n",
    "- __next__() 다음에 사용할 항목을 반환한다.\n",
    "- __iter__() self를 반환하고, 반복형이 필요한 곳에 반복자를 사용할 수 있게 해준다."
   ]
  },
  {
   "cell_type": "code",
   "execution_count": 12,
   "metadata": {},
   "outputs": [],
   "source": [
    "import re\n",
    "import reprlib\n",
    "\n",
    "RE_WORD = re.compile('\\w+')\n",
    "\n",
    "class Sentence:\n",
    "    def __init__(self, text):\n",
    "        self.text = text\n",
    "        self.words = RE_WORD.findall(text)\n",
    "        \n",
    "    def __getitem__(self, index):\n",
    "        return self.words[index]\n",
    "    \n",
    "    def __len__(self):\n",
    "        return len(self.words)\n",
    "    \n",
    "    def __repr__(self):\n",
    "        return 'Sentence(%s)'% reprlib.repr(self.text)\n",
    "    "
   ]
  },
  {
   "cell_type": "code",
   "execution_count": 9,
   "metadata": {},
   "outputs": [],
   "source": [
    "s3 = ('Pig and Pepper')"
   ]
  },
  {
   "cell_type": "code",
   "execution_count": 10,
   "metadata": {},
   "outputs": [
    {
     "data": {
      "text/plain": [
       "<str_iterator at 0x7f2f1151ceb0>"
      ]
     },
     "execution_count": 10,
     "metadata": {},
     "output_type": "execute_result"
    }
   ],
   "source": [
    "it = iter(s3); it"
   ]
  },
  {
   "cell_type": "code",
   "execution_count": 11,
   "metadata": {},
   "outputs": [
    {
     "data": {
      "text/plain": [
       "'P'"
      ]
     },
     "execution_count": 11,
     "metadata": {},
     "output_type": "execute_result"
    }
   ],
   "source": [
    "next(it)"
   ]
  },
  {
   "cell_type": "code",
   "execution_count": 13,
   "metadata": {},
   "outputs": [
    {
     "data": {
      "text/plain": [
       "'i'"
      ]
     },
     "execution_count": 13,
     "metadata": {},
     "output_type": "execute_result"
    }
   ],
   "source": [
    "next(it)"
   ]
  },
  {
   "cell_type": "code",
   "execution_count": 14,
   "metadata": {},
   "outputs": [
    {
     "data": {
      "text/plain": [
       "['g', ' ', 'a', 'n', 'd', ' ', 'P', 'e', 'p', 'p', 'e', 'r']"
      ]
     },
     "execution_count": 14,
     "metadata": {},
     "output_type": "execute_result"
    }
   ],
   "source": [
    "list(it)"
   ]
  },
  {
   "cell_type": "code",
   "execution_count": 15,
   "metadata": {},
   "outputs": [
    {
     "data": {
      "text/plain": [
       "['P', 'i', 'g', ' ', 'a', 'n', 'd', ' ', 'P', 'e', 'p', 'p', 'e', 'r']"
      ]
     },
     "execution_count": 15,
     "metadata": {},
     "output_type": "execute_result"
    }
   ],
   "source": [
    "list(iter(s3))"
   ]
  },
  {
   "cell_type": "markdown",
   "metadata": {},
   "source": [
    "# Iterator \n",
    "- 다음 항목을 반환하거나, 다음 항목이 없을때 StopIteration 예외를 발생시키는, 인수를 받지 않는 __next__() 메서드를 구현하는 객체, \n",
    "- 파이썬 iterator 는 \\__iter__() 메서드도 구현하므로 iterable하기도 함"
   ]
  },
  {
   "cell_type": "markdown",
   "metadata": {},
   "source": [
    "## 반복형(iterable)과 반복자(iterator)를 만드는데 있어서 흔히 발생하는 오류는 둘을 혼동하기 때문에 발생함\n",
    "- 반복형(iterable) : 호출될때마다 새로 생성하는 \\__iter__ 메서드를 가지고 있는 것\n",
    "- 반복자(iterator) : 개별항목을 반환하는 \\__next__ 메서드와 self를 반환하는 \\__iter__ 메서드를 가지고 있음 <bR>\n",
    "따라서 반복자는 반복형이지만, 반복형은 반복자가 아니다\n",
    "    \n",
    "따라서 반복형에 단순히 \\__next__() 메서드를 구현해서 iterator로 만들고 싶을 수도 있으나. 이는 전형적인 안티패턴이다.<br>\n",
    "iterator는 다음과 같은 용도에만 사용하여야 한다\n",
    "- 집합 객체의 내부 표현을 노출시키지 않고 내용에 접근하는 경우\n",
    "- 집합 객체의 다중 반복을 지원하는 경우\n",
    " \n",
    " "
   ]
  },
  {
   "cell_type": "code",
   "execution_count": null,
   "metadata": {},
   "outputs": [],
   "source": []
  }
 ],
 "metadata": {
  "kernelspec": {
   "display_name": "Python 3",
   "language": "python",
   "name": "python3"
  },
  "language_info": {
   "codemirror_mode": {
    "name": "ipython",
    "version": 3
   },
   "file_extension": ".py",
   "mimetype": "text/x-python",
   "name": "python",
   "nbconvert_exporter": "python",
   "pygments_lexer": "ipython3",
   "version": "3.8.3"
  }
 },
 "nbformat": 4,
 "nbformat_minor": 4
}
