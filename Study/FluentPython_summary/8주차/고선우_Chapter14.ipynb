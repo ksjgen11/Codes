{
 "cells": [
  {
   "cell_type": "markdown",
   "metadata": {},
   "source": [
    "# 14. Iterables, Iterators, and Generators"
   ]
  },
  {
   "cell_type": "markdown",
   "metadata": {},
   "source": [
    "## 14.1 반복형과 반복자"
   ]
  },
  {
   "cell_type": "markdown",
   "metadata": {},
   "source": [
    "### **반복형**  \n",
    "iter() 내장 함수가 반복자를 가져올 수 있는 모든 객체와 반복자를 반환하는 iter() 메서드를 구현하는 객체는 반복형이다. 0에서 시작하는 인덱스를 받는 getitem() 메서드를 구현하는 객체인 시퀀스도 마찬가지다."
   ]
  },
  {
   "cell_type": "markdown",
   "metadata": {},
   "source": [
    "반복형과 반복자의 관계를 명확히 하는 것은 중요하다. 파이썬은 반복형 객체에서 반복자를 가져온다.  \n",
    "다음은 문자열을 반복하는 간단한 for 루프다. 여기서 'ABC' 문자열은 반복형이다. 반복자가 보이지 않지만, 내부 어딘가에 있다."
   ]
  },
  {
   "cell_type": "code",
   "execution_count": 1,
   "metadata": {},
   "outputs": [
    {
     "name": "stdout",
     "output_type": "stream",
     "text": [
      "A\n",
      "B\n",
      "C\n"
     ]
    }
   ],
   "source": [
    "s = 'ABC'\n",
    "for char in s :\n",
    "    print(char)"
   ]
  },
  {
   "cell_type": "markdown",
   "metadata": {},
   "source": [
    "이를 for 문 대신 while 문을 이용해서 흉내내려 한다면 다음과 같이 작성해야 한다."
   ]
  },
  {
   "cell_type": "code",
   "execution_count": 3,
   "metadata": {},
   "outputs": [
    {
     "name": "stdout",
     "output_type": "stream",
     "text": [
      "A\n",
      "B\n",
      "C\n"
     ]
    }
   ],
   "source": [
    "s = 'ABC'\n",
    "it = iter(s)\n",
    "while True :\n",
    "    try :\n",
    "        print(next(it))\n",
    "    except StopIteration :\n",
    "        del it\n",
    "        break"
   ]
  },
  {
   "cell_type": "markdown",
   "metadata": {},
   "source": [
    "여기서 $\\texttt{StopIteration}$은 반복자가 모두 소진되었음을 알려 준다. 이 예외는 for 루프 및 지능형 리스트, 튜플 언패킹 등 다른 반복 과정에서 내부적으로 처리된다."
   ]
  },
  {
   "cell_type": "markdown",
   "metadata": {},
   "source": [
    "반복자에 대한 표준 인터페이스는 다음과 같은 두 메서드를 정의한다.\n",
    "\n",
    "* \\_\\_next\\_\\_(): 다음에 사용할 항목을 반환한다. 더 이상 항목이 남아있지 않으면 StopIteration을 발생시킨다.\n",
    "* \\_\\_iter\\_\\_(): self를 반환한다. 그러면 for 루프 등 반복형이 필요한 곳에 반복자를 사용할 수 있게 해 준다."
   ]
  },
  {
   "cell_type": "markdown",
   "metadata": {},
   "source": [
    "### **반복자**  \n",
    "다음 항목을 반환하거나, 다음 항목이 없을 때 $\\texttt{StopIteration}$ 예외를 발생시키는, 인수를 받지 않는 \\_\\_next\\_\\_() 메서드를 구현하는 객체. 파이썬 반복자는 \\_\\_iter()\\_\\_ 메서드도 구현하므로 **반복형**이기도 하다."
   ]
  }
 ],
 "metadata": {
  "kernelspec": {
   "display_name": "Python 3",
   "language": "python",
   "name": "python3"
  },
  "language_info": {
   "codemirror_mode": {
    "name": "ipython",
    "version": 3
   },
   "file_extension": ".py",
   "mimetype": "text/x-python",
   "name": "python",
   "nbconvert_exporter": "python",
   "pygments_lexer": "ipython3",
   "version": "3.7.1"
  }
 },
 "nbformat": 4,
 "nbformat_minor": 2
}
