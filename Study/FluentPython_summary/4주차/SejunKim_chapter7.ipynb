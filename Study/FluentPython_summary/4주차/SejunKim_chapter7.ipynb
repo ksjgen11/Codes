{
 "cells": [
  {
   "cell_type": "markdown",
   "metadata": {},
   "source": [
    "# 함수 데커레이터와 클로저\n",
    "\n",
    "함수 데커레이터는 소스 코드의 함수를 '표시'해서 작동을 개선할 수 있게 함\n",
    "데커레이터를 사용하기 위해서는 클로저를 알아야 함\n",
    "nonlocal 의 필요성\n",
    "클로저는 콜백을 이용한 효율적인 비동기 프로그래밍과 필요에 따라 함수형 스타일로 코딩하는 데도 필수적임\n",
    "\n",
    "## 데커레이터 기본 지식\n",
    " - 데커레이터 : 다른 함수를 인수로 받는 콜러블\n",
    " - runtime 에 프로그램 행위를 변경하는 metaprogramming 시 상당히 편리함\n",
    "  - 1. 데커레이터는 데커레이트된 함수를 다른 함수로 대체하는 능력이 있음\n",
    "  - 2. 데커레이터는 모듈이 실행될 때 바로 실행됨\n",
    " "
   ]
  },
  {
   "cell_type": "code",
   "execution_count": null,
   "metadata": {},
   "outputs": [],
   "source": [
    "@decorate\n",
    "def target():\n",
    "    print('running target')"
   ]
  },
  {
   "cell_type": "code",
   "execution_count": null,
   "metadata": {},
   "outputs": [],
   "source": [
    "def target():\n",
    "    print('running target')\n",
    "    \n",
    "target = decorate(target)"
   ]
  },
  {
   "cell_type": "code",
   "execution_count": 3,
   "metadata": {},
   "outputs": [
    {
     "name": "stdout",
     "output_type": "stream",
     "text": [
      "running inner()\n"
     ]
    },
    {
     "data": {
      "text/plain": [
       "<function __main__.deco.<locals>.inner()>"
      ]
     },
     "execution_count": 3,
     "metadata": {},
     "output_type": "execute_result"
    }
   ],
   "source": [
    "def deco(func):\n",
    "    def inner():\n",
    "        print('running inner()')\n",
    "    return inner\n",
    "\n",
    "@deco \n",
    "def target():  # target() 을 deco 로 decorate\n",
    "    print('running target()')\n",
    "\n",
    "target() # if run the decorated target(), inner() is run\n",
    "target"
   ]
  },
  {
   "cell_type": "markdown",
   "metadata": {},
   "source": [
    "## 파이썬이 데커레이트를 실행하는 시점\n",
    " - 데커레이트된 함수가 정의된 직후에 실행됨 -> 모듈을 로딩하는 시점(import time)\n",
    "  - 일반적으로 데커레이터를 정의하는 모듈과 데커레이터를 적용하는 모듈은 분리해서 구현\n",
    "  - 대부분의 데커레이터는 내부 함수를 정의해서 반환"
   ]
  },
  {
   "cell_type": "code",
   "execution_count": 14,
   "metadata": {},
   "outputs": [
    {
     "name": "stdout",
     "output_type": "stream",
     "text": [
      "running register(<function f1 at 0x00000250554858B0>)\n",
      "running register(<function f2 at 0x0000025056554160>)\n",
      "running main()\n",
      "registry-> [<function f1 at 0x00000250554858B0>, <function f2 at 0x0000025056554160>]\n",
      "running f1()\n",
      "running f2()\n",
      "running f3()\n"
     ]
    }
   ],
   "source": [
    "registry = []\n",
    "\n",
    "def register(func):\n",
    "    print('running register(%s)' %func) #decorated function printed\n",
    "    registry.append(func)\n",
    "    return func # Function is had to return. \n",
    "\n",
    "@register\n",
    "def f1():\n",
    "    print('running f1()') \n",
    "\n",
    "@register\n",
    "def f2():\n",
    "    print('running f2()')\n",
    "    \n",
    "def f3():\n",
    "    print('running f3()')\n",
    "\n",
    "def main():\n",
    "    print('running main()')\n",
    "    print('registry->', registry)\n",
    "    f1()  # decorated function is only run when it is called obviously. It shows differences between runtime and import time.\n",
    "    f2()\n",
    "    f3()\n",
    "\n",
    "if __name__ == '__main__':\n",
    "    main() # main() function is run when this python script is run by script.\n",
    "    "
   ]
  },
  {
   "cell_type": "code",
   "execution_count": 5,
   "metadata": {},
   "outputs": [
    {
     "ename": "ModuleNotFoundError",
     "evalue": "No module named 'registration'",
     "output_type": "error",
     "traceback": [
      "\u001b[1;31m---------------------------------------------------------------------------\u001b[0m",
      "\u001b[1;31mModuleNotFoundError\u001b[0m                       Traceback (most recent call last)",
      "\u001b[1;32m<ipython-input-5-fdcebca61d7f>\u001b[0m in \u001b[0;36m<module>\u001b[1;34m\u001b[0m\n\u001b[1;32m----> 1\u001b[1;33m \u001b[1;32mimport\u001b[0m \u001b[0mregistration\u001b[0m\u001b[1;33m\u001b[0m\u001b[1;33m\u001b[0m\u001b[0m\n\u001b[0m",
      "\u001b[1;31mModuleNotFoundError\u001b[0m: No module named 'registration'"
     ]
    }
   ],
   "source": [
    "import registration"
   ]
  },
  {
   "cell_type": "code",
   "execution_count": null,
   "metadata": {},
   "outputs": [],
   "source": [
    "promos = []\n",
    "\n",
    "def promotion(promo_func):\n",
    "    promos.append(promo_func)\n",
    "    return promo_func\n",
    "\n",
    "@promotion\n",
    "def fidelity(order): #1st discount rule\n",
    "    '''충성포인트 1000점 이상 고객은 전체 주문에 5% 할인'''\n",
    "    \n",
    "    return order.total() * 0.05 if order.customer.fidelity >= 1000 else 0\n",
    "\n",
    "@promotion\n",
    "def bulk_item(order): #2nd discount rule\n",
    "    '''하나의 주문에서 20개 이상의 동일 상품을 구입 시 그 상품에 대해 10% 할인'''\n",
    "    discount = 0\n",
    "    for item in order.cart:\n",
    "        if item.quantity >=20:\n",
    "            discount += item.total() *0.1\n",
    "        \n",
    "    return discount\n",
    "\n",
    "@promotion\n",
    "def large_order(order): #3rd discount rule\n",
    "    '''서로 다른 상품을 10종류 이상 주문하면 전체 주문에 7% 할인'''\n",
    "        \n",
    "    distinct_items = {item.product for item in order.cart}\n",
    "    if len(distinct_items) >=10:\n",
    "        return order.total() *0.07\n",
    "        \n",
    "    return 0 \n",
    "\n",
    "def best_promo(order):\n",
    "    '''return max discount'''\n",
    "    return max(promo(order) for promo in promos) # 제너레이터표현식을 이용해서 promos 에 있는 각 함수를 order에 적용하고, 최대할인액 계산\n"
   ]
  },
  {
   "cell_type": "markdown",
   "metadata": {},
   "source": [
    "프로모션 전략 함수명이 특별한 형태로 있을 필요가 없음\n",
    "데커레이트된 함수의 목적을 명확히 알려줌. 임시로 프로모션 배제 시 데커레이트만 주석처리하면 됨\n",
    "프로모션 할인 전략을 구현한 함수는 데커레이터가 적용되는 한 어느 모듈에서든 정의할 수 있다\n",
    "\n",
    "## 변수 범위 규칙\n",
    " - 파이썬은 변수가 선언되어 있기를 요구하지 않지만 함수 본체 안에서 할당된 변수는 지역 변수로 판단한다\n",
    " \n",
    " ## 클로저\n",
    " - 클로저는 내포된 함수 안에서만 의미가 있음 but 익명함수와 동일한 개념은 아님\n",
    " - 클로저는 함수 본체에서 정의하지 않고 참조하는 비전역 함수를 포함한 확장 범위를 가진 함수임. 함수가 익명함수인지 여부는 중요하지 않음"
   ]
  },
  {
   "cell_type": "code",
   "execution_count": 6,
   "metadata": {},
   "outputs": [],
   "source": [
    "class Averager():\n",
    "    \n",
    "    def __init__(self):\n",
    "        self.series = []\n",
    "        \n",
    "    def __call__(self, new_value):\n",
    "        self.series.append(new_value)\n",
    "        total = sum(self.series)\n",
    "        return total/len(self.series)"
   ]
  },
  {
   "cell_type": "code",
   "execution_count": 7,
   "metadata": {},
   "outputs": [
    {
     "data": {
      "text/plain": [
       "10.0"
      ]
     },
     "execution_count": 7,
     "metadata": {},
     "output_type": "execute_result"
    }
   ],
   "source": [
    "avg = Averager()\n",
    "avg(10)"
   ]
  },
  {
   "cell_type": "code",
   "execution_count": 10,
   "metadata": {},
   "outputs": [],
   "source": [
    "def make_averager():\n",
    "    series = []  # 자유변수\n",
    "    \n",
    "    def averager(new_value):\n",
    "        series.append(new_value)\n",
    "        total = sum(series)\n",
    "        return total/len(series)\n",
    "    \n",
    "    return averager  \n"
   ]
  },
  {
   "cell_type": "code",
   "execution_count": 11,
   "metadata": {},
   "outputs": [
    {
     "data": {
      "text/plain": [
       "10.0"
      ]
     },
     "execution_count": 11,
     "metadata": {},
     "output_type": "execute_result"
    }
   ],
   "source": [
    "avg = make_averager()\n",
    "avg(10)\n"
   ]
  },
  {
   "cell_type": "code",
   "execution_count": 12,
   "metadata": {},
   "outputs": [
    {
     "data": {
      "text/plain": [
       "('new_value', 'total')"
      ]
     },
     "execution_count": 12,
     "metadata": {},
     "output_type": "execute_result"
    }
   ],
   "source": [
    "avg.__code__.co_varnames"
   ]
  },
  {
   "cell_type": "code",
   "execution_count": 13,
   "metadata": {},
   "outputs": [
    {
     "data": {
      "text/plain": [
       "('series',)"
      ]
     },
     "execution_count": 13,
     "metadata": {},
     "output_type": "execute_result"
    }
   ],
   "source": [
    "avg.__code__.co_freevars"
   ]
  },
  {
   "cell_type": "code",
   "execution_count": 14,
   "metadata": {},
   "outputs": [
    {
     "data": {
      "text/plain": [
       "(<cell at 0x0000024C17E810D0: list object at 0x0000024C17F2B680>,)"
      ]
     },
     "execution_count": 14,
     "metadata": {},
     "output_type": "execute_result"
    }
   ],
   "source": [
    "avg.__closure__"
   ]
  },
  {
   "cell_type": "markdown",
   "metadata": {},
   "source": [
    "클로저는 함수를 정의할 때 존재하던 자유 변수에 대한 바인딩을 유지하는 함수임. 따라서 함수를 정의하는 범위가 사라진 후에 함수를 호출해도 자유변수에 접근할 수 있음 -> 함수가 '비전역' 외부변수를 다루는 경우는 그 함수가 다른 함수 안에 정의된 경우뿐임\n",
    "\n",
    "## nonlocal 선언\n",
    "\n",
    " - 변수가 수치형이나 어떤 가변형일 때 +=1 문은 실제로는 변수 = 변수 + 1 을 의미하므로 변수가 지역변수가 됨\n",
    " 이 문제를 해결하기 위해 nonlocal 이 소개됨"
   ]
  },
  {
   "cell_type": "code",
   "execution_count": 15,
   "metadata": {},
   "outputs": [],
   "source": [
    "def make_averager():\n",
    "    count = 0\n",
    "    total = 0\n",
    "    \n",
    "    def averager(new_value):\n",
    "        nonlocal count, total\n",
    "        count +=1\n",
    "        total += new_value\n",
    "        return total/count\n",
    "    \n",
    "    return averager"
   ]
  },
  {
   "cell_type": "code",
   "execution_count": 1,
   "metadata": {},
   "outputs": [],
   "source": [
    "import time\n",
    "\n",
    "def clock(func):\n",
    "    def clocked(*args): #임의 개수의 인수를 받을 수 있음\n",
    "        t0 = time.perf_counter()\n",
    "        result = func(*args) # clocked() 에 대한 클로저에 자유변수 func가 들어가야 이 코드가 작동함\n",
    "        elapsed = time.perf_counter() - t0\n",
    "        name = func.__name__\n",
    "        arg_str = ', '.join(repr(arg) for arg in args)\n",
    "        print('[%0.8fs] %s(%s) -> %r' % (elapsed, name, arg_str, result))\n",
    "        return result\n",
    "    return clocked #내부함수를 반환해서 데커레이트된 함수를 대체함"
   ]
  },
  {
   "cell_type": "code",
   "execution_count": 17,
   "metadata": {},
   "outputs": [
    {
     "name": "stdout",
     "output_type": "stream",
     "text": [
      "**************************************** Calling snooze(.123)\n",
      "[0.12545530s] snooze(0.123) -> None\n",
      "**************************************** Calling factorial(6)\n",
      "[0.00000100s] factorial(1) -> 1\n",
      "[0.00001830s] factorial(2) -> 2\n",
      "[0.00002820s] factorial(3) -> 6\n",
      "[0.00003760s] factorial(4) -> 24\n",
      "[0.00026380s] factorial(5) -> 120\n",
      "[0.00028320s] factorial(6) -> 720\n",
      "6! = 720\n"
     ]
    }
   ],
   "source": [
    "import time\n",
    "\n",
    "@clock\n",
    "def snooze(seconds):\n",
    "    time.sleep(seconds)\n",
    "    \n",
    "@clock\n",
    "def factorial(n):\n",
    "    return 1 if n <2 else n*factorial(n-1)\n",
    "\n",
    "if __name__ == '__main__':\n",
    "    print('*'*40, 'Calling snooze(.123)')\n",
    "    snooze(.123)\n",
    "    print('*'*40, \"Calling factorial(6)\")\n",
    "    print('6! =', factorial(6))"
   ]
  },
  {
   "cell_type": "code",
   "execution_count": 2,
   "metadata": {},
   "outputs": [],
   "source": [
    "import time\n",
    "import functools\n",
    "\n",
    "def clock(func):\n",
    "    @functools.wraps(func)\n",
    "    def clocked(*args, **kwargs):\n",
    "        t0 = time.time()\n",
    "        result = func(*args, **kwargs)\n",
    "        elapsed = time.time() - t0\n",
    "        name = func.__name__\n",
    "        arg_lst = []\n",
    "        if args:\n",
    "            arg_lst.append(', '.join(repr(arg) for arg in args))\n",
    "        if kwargs:\n",
    "            pairs = ['%s=%r' %(k, w) for k, w in sorted(kwargs.items())]\n",
    "            arg_lst.append(', '.join(pairs))\n",
    "        arg_str = ', '.join(arg_lst)\n",
    "        print('[%0.8fs] %s(%s) -> %r' % (elapsed, name, arg_str, result))\n",
    "        return result\n",
    "    return clocked\n",
    "\n",
    "       "
   ]
  },
  {
   "cell_type": "markdown",
   "metadata": {},
   "source": [
    "## 표준 라이브러리에서 제공하는 데커레이터\n",
    " - property(), classmethod(), staticmethod()\n",
    " \n",
    " - functools.wraps()\n",
    " - lru_cache()\n",
    " - singledispatch()\n",
    " \n",
    " functool.lru_cache() ->memoization 을 구현함 -> 이전에 실행한 값비싼 함수의 결과를 저장하여 이전에 계산된 인수에 대해 다시 계산할 필요가 없음"
   ]
  },
  {
   "cell_type": "code",
   "execution_count": 3,
   "metadata": {},
   "outputs": [
    {
     "name": "stdout",
     "output_type": "stream",
     "text": [
      "[0.00000000s] fibonacci(0) -> 0\n",
      "[0.00000000s] fibonacci(1) -> 1\n",
      "[0.00000000s] fibonacci(2) -> 1\n",
      "[0.00000000s] fibonacci(1) -> 1\n",
      "[0.00000000s] fibonacci(0) -> 0\n",
      "[0.00000000s] fibonacci(1) -> 1\n",
      "[0.00099611s] fibonacci(2) -> 1\n",
      "[0.00099611s] fibonacci(3) -> 2\n",
      "[0.00099611s] fibonacci(4) -> 3\n",
      "[0.00000000s] fibonacci(1) -> 1\n",
      "[0.00000000s] fibonacci(0) -> 0\n",
      "[0.00000000s] fibonacci(1) -> 1\n",
      "[0.00000000s] fibonacci(2) -> 1\n",
      "[0.00000000s] fibonacci(3) -> 2\n",
      "[0.00000000s] fibonacci(0) -> 0\n",
      "[0.00000000s] fibonacci(1) -> 1\n",
      "[0.00000000s] fibonacci(2) -> 1\n",
      "[0.00000000s] fibonacci(1) -> 1\n",
      "[0.00000000s] fibonacci(0) -> 0\n",
      "[0.00000000s] fibonacci(1) -> 1\n",
      "[0.00000000s] fibonacci(2) -> 1\n",
      "[0.00000000s] fibonacci(3) -> 2\n",
      "[0.00000000s] fibonacci(4) -> 3\n",
      "[0.00000000s] fibonacci(5) -> 5\n",
      "[0.00099611s] fibonacci(6) -> 8\n",
      "8\n"
     ]
    }
   ],
   "source": [
    "@clock\n",
    "def fibonacci(n):\n",
    "    if n<2:\n",
    "        return n\n",
    "    return fibonacci(n-2)+fibonacci(n-1)\n",
    "\n",
    "if __name__ == '__main__':\n",
    "    print(fibonacci(6))\n",
    "    "
   ]
  },
  {
   "cell_type": "code",
   "execution_count": 5,
   "metadata": {},
   "outputs": [
    {
     "name": "stdout",
     "output_type": "stream",
     "text": [
      "[0.00000020s] fibonacci(0) -> 0\n",
      "[0.00000030s] fibonacci(1) -> 1\n",
      "[0.00009810s] fibonacci(2) -> 1\n",
      "[0.00000080s] fibonacci(3) -> 2\n",
      "[0.00029220s] fibonacci(4) -> 3\n",
      "[0.00000050s] fibonacci(5) -> 5\n",
      "[0.00030960s] fibonacci(6) -> 8\n",
      "[0.00000050s] fibonacci(7) -> 13\n",
      "[0.00048630s] fibonacci(8) -> 21\n",
      "[0.00000060s] fibonacci(9) -> 34\n",
      "[0.00054960s] fibonacci(10) -> 55\n",
      "[0.00000050s] fibonacci(11) -> 89\n",
      "[0.00056960s] fibonacci(12) -> 144\n",
      "[0.00000080s] fibonacci(13) -> 233\n",
      "[0.00058750s] fibonacci(14) -> 377\n",
      "[0.00000040s] fibonacci(15) -> 610\n",
      "[0.00060530s] fibonacci(16) -> 987\n",
      "[0.00000040s] fibonacci(17) -> 1597\n",
      "[0.00062300s] fibonacci(18) -> 2584\n",
      "[0.00000040s] fibonacci(19) -> 4181\n",
      "[0.00064170s] fibonacci(20) -> 6765\n",
      "[0.00000050s] fibonacci(21) -> 10946\n",
      "[0.00066000s] fibonacci(22) -> 17711\n",
      "[0.00000040s] fibonacci(23) -> 28657\n",
      "[0.00067820s] fibonacci(24) -> 46368\n",
      "[0.00000050s] fibonacci(25) -> 75025\n",
      "[0.00069670s] fibonacci(26) -> 121393\n",
      "[0.00000040s] fibonacci(27) -> 196418\n",
      "[0.00071480s] fibonacci(28) -> 317811\n",
      "[0.00000040s] fibonacci(29) -> 514229\n",
      "[0.00073320s] fibonacci(30) -> 832040\n",
      "832040\n"
     ]
    }
   ],
   "source": [
    "import functools\n",
    "#functools.lru_cache(maxsize=128,typed=False) ->원래 모양\n",
    "#maxsize 가 가득차면 오래된 결과를 버리고 공간 확보, 최적 성능을 위해 maxsize 는 2의 제곱\n",
    "#Typed 가 True 면 자료형마다 결과를 따로 저장\n",
    "#결과 저장을 위해 dictionary 사용 ->hashable\n",
    "\n",
    "@functools.lru_cache()\n",
    "@clock #누적된 데커레이터 ->clock 으로 데커레이트된 함수에 lru_chche() 가 적용된다\n",
    "def fibonacci(n):\n",
    "    if n<2:\n",
    "        return n\n",
    "    return fibonacci(n-2)+fibonacci(n-1)\n",
    "\n",
    "if __name__ == '__main__':\n",
    "    print(fibonacci(30))"
   ]
  },
  {
   "cell_type": "code",
   "execution_count": 7,
   "metadata": {},
   "outputs": [],
   "source": [
    "import html\n",
    "from functools import singledispatch\n",
    "from collections import abc\n",
    "import numbers\n",
    "\n",
    "@singledispatch  #객체형을 다룰 함수 표시\n",
    "def htmlize(obj):\n",
    "    content = html.escape(repr(obj))\n",
    "    return '<pre>{}</pre>'.format(content)\n",
    "\n",
    "@htmlize.register(str) # 기반함수.register form 으로 데커레이트\n",
    "def _(text):\n",
    "    content = html.escape(text).replace('\\n', '<br>\\n')\n",
    "    return '<p>{0}</p>'.format(content)\n",
    "\n",
    "@htmlize.register(numbers.Integral) # 추상 베이스 클래스를 등록하면 호환되는 자료형을 폭넓게 지원가능함\n",
    "def _(n):\n",
    "    return '<pre>{0} (0x{0:x})</pre>'.format(n)\n",
    "\n",
    "@htmlize.register(tuple) # 동일한 함수로 여러 자료형 지원\n",
    "@htmlize.register(abc.MutableSequence)\n",
    "def _(seq):\n",
    "    inner = '</li>\\n<li>'.join(htmlize(item) for item in seq)\n",
    "    return '<ul>\\n<li>' + inner + '</li>\\n</ul>'\n"
   ]
  },
  {
   "cell_type": "code",
   "execution_count": 8,
   "metadata": {},
   "outputs": [
    {
     "data": {
      "text/plain": [
       "'<pre>{1, 2, 3}</pre>'"
      ]
     },
     "execution_count": 8,
     "metadata": {},
     "output_type": "execute_result"
    }
   ],
   "source": [
    "htmlize({1,2,3})"
   ]
  },
  {
   "cell_type": "code",
   "execution_count": 9,
   "metadata": {},
   "outputs": [
    {
     "data": {
      "text/plain": [
       "'<pre>&lt;built-in function abs&gt;</pre>'"
      ]
     },
     "execution_count": 9,
     "metadata": {},
     "output_type": "execute_result"
    }
   ],
   "source": [
    "htmlize(abs)"
   ]
  },
  {
   "cell_type": "code",
   "execution_count": 10,
   "metadata": {},
   "outputs": [
    {
     "data": {
      "text/plain": [
       "'<p>Heimlich &amp; Co.<br>\\n- a game</p>'"
      ]
     },
     "execution_count": 10,
     "metadata": {},
     "output_type": "execute_result"
    }
   ],
   "source": [
    "htmlize('Heimlich & Co.\\n- a game')"
   ]
  },
  {
   "cell_type": "code",
   "execution_count": 12,
   "metadata": {},
   "outputs": [
    {
     "data": {
      "text/plain": [
       "'<pre>42 (0x2a)</pre>'"
      ]
     },
     "execution_count": 12,
     "metadata": {},
     "output_type": "execute_result"
    }
   ],
   "source": [
    "htmlize(42)"
   ]
  },
  {
   "cell_type": "code",
   "execution_count": 13,
   "metadata": {},
   "outputs": [
    {
     "name": "stdout",
     "output_type": "stream",
     "text": [
      "<ul>\n",
      "<li><p>alpha</p></li>\n",
      "<li><pre>66 (0x42)</pre></li>\n",
      "<li><pre>{1, 2, 3}</pre></li>\n",
      "</ul>\n"
     ]
    }
   ],
   "source": [
    "print(htmlize(['alpha', 66, {3,2,1}]))"
   ]
  },
  {
   "cell_type": "markdown",
   "metadata": {},
   "source": [
    "## 누적된 데커레이터\n",
    "\n",
    "하나의 함수 f() 에 두 데커레이터 @d1 @d2 를 차례로 적용하면 f = d1(d2(f)) 와 같음"
   ]
  },
  {
   "cell_type": "code",
   "execution_count": 15,
   "metadata": {},
   "outputs": [
    {
     "name": "stdout",
     "output_type": "stream",
     "text": [
      "running register(<function f1 at 0x0000025055510AF0>)\n"
     ]
    }
   ],
   "source": [
    "registry = []\n",
    "\n",
    "def register(func):\n",
    "    print('running register(%s)' %func) #decorated function printed\n",
    "    registry.append(func)\n",
    "    return func # Function is had to return. \n",
    "\n",
    "@register\n",
    "def f1():\n",
    "    print('running f1()') \n",
    "\n",
    "\n",
    "\n",
    "def main():\n",
    "    print('running main()')\n",
    "    print('registry->', registry)\n",
    "    f1()  # decorated function is only run when it is called obviously. It shows differences between runtime and import time.\n",
    "    "
   ]
  },
  {
   "cell_type": "code",
   "execution_count": 5,
   "metadata": {},
   "outputs": [
    {
     "name": "stdout",
     "output_type": "stream",
     "text": [
      "running register(active = False)->decorate(<function f1 at 0x000001F73CB0BB80>)\n",
      "running register(active = True)->decorate(<function f2 at 0x000001F73CB0B8B0>)\n"
     ]
    },
    {
     "data": {
      "text/plain": [
       "{<function __main__.f2()>}"
      ]
     },
     "execution_count": 5,
     "metadata": {},
     "output_type": "execute_result"
    }
   ],
   "source": [
    "#실제로는 데커레이터가 아니라 데커레이터 팩토리\n",
    "registry = set() # 함수 추가 및 제거를 빠르게 하기 위해 집합형으로 사용\n",
    "\n",
    "def register(active=True): # 선택적 키워드 받음\n",
    "    def decorate(func): #실제 데커레이터\n",
    "        print('running register(active = %s)->decorate(%s)' %(active, func)) #함수를 인수로 받음\n",
    "        if active:\n",
    "            registry.add(func)\n",
    "        else:\n",
    "            registry.discard(func) #함수가 registry 에 들어있는데 false 면 제거\n",
    "            \n",
    "        return func #데커레이터이므로 함수를 반환\n",
    "    return decorate #데커레이터 팩토리는 데커레이터 반환\n",
    "    \n",
    "\n",
    "@register(active=False)\n",
    "def f1():\n",
    "    print('running f1()') \n",
    "\n",
    "@register()\n",
    "def f2():\n",
    "    print('running f2()') \n",
    "\n",
    "def f3():\n",
    "    print('running f3()')\n",
    "\n",
    "def main():\n",
    "    print('running main()')\n",
    "    print('registry->', registry)\n",
    "    f1()  # decorated function is only run when it is called obviously. It shows differences between runtime and import time.\n",
    "    \n",
    "registry"
   ]
  },
  {
   "cell_type": "code",
   "execution_count": 6,
   "metadata": {},
   "outputs": [
    {
     "name": "stdout",
     "output_type": "stream",
     "text": [
      "running register(active = True)->decorate(<function f3 at 0x000001F73CB0BCA0>)\n"
     ]
    },
    {
     "data": {
      "text/plain": [
       "<function __main__.f3()>"
      ]
     },
     "execution_count": 6,
     "metadata": {},
     "output_type": "execute_result"
    }
   ],
   "source": [
    "register()(f3)"
   ]
  },
  {
   "cell_type": "code",
   "execution_count": 7,
   "metadata": {},
   "outputs": [
    {
     "data": {
      "text/plain": [
       "{<function __main__.f2()>, <function __main__.f3()>}"
      ]
     },
     "execution_count": 7,
     "metadata": {},
     "output_type": "execute_result"
    }
   ],
   "source": [
    "registry"
   ]
  },
  {
   "cell_type": "code",
   "execution_count": 8,
   "metadata": {},
   "outputs": [
    {
     "name": "stdout",
     "output_type": "stream",
     "text": [
      "running register(active = False)->decorate(<function f2 at 0x000001F73CB0B8B0>)\n"
     ]
    },
    {
     "data": {
      "text/plain": [
       "<function __main__.f2()>"
      ]
     },
     "execution_count": 8,
     "metadata": {},
     "output_type": "execute_result"
    }
   ],
   "source": [
    "register(active=False)(f2)"
   ]
  },
  {
   "cell_type": "code",
   "execution_count": 9,
   "metadata": {},
   "outputs": [
    {
     "data": {
      "text/plain": [
       "{<function __main__.f3()>}"
      ]
     },
     "execution_count": 9,
     "metadata": {},
     "output_type": "execute_result"
    }
   ],
   "source": [
    "registry"
   ]
  },
  {
   "cell_type": "markdown",
   "metadata": {},
   "source": [
    "### 매개변수화된 clock decorator"
   ]
  },
  {
   "cell_type": "code",
   "execution_count": 11,
   "metadata": {},
   "outputs": [
    {
     "name": "stdout",
     "output_type": "stream",
     "text": [
      "[0.13467073s] snooze(0.123) -> None\n",
      "[0.13559604s] snooze(0.123) -> None\n",
      "[0.13732576s] snooze(0.123) -> None\n"
     ]
    }
   ],
   "source": [
    "import time\n",
    "\n",
    "DEFAULT_FMT = '[{elapsed:0.8f}s] {name}({args}) -> {result}'\n",
    "def clock(fmt=DEFAULT_FMT): #decorator factory\n",
    "    def decorate(func):  #real decorator\n",
    "        def clocked(*_args):#wrapping decorated functions\n",
    "            t0 = time.time()\n",
    "            _result = func(*_args) # 실제 결과가 저장됨\n",
    "            elapsed = time.time() - t0\n",
    "            name = func.__name__\n",
    "            args = ', '.join(repr(arg) for arg in _args)\n",
    "            result = repr(_result) #result 를 출력하기 위해 _result 를 문자열로 표현\n",
    "            print(fmt.format(**locals())) # **locals() 가 있으면 fmt 가 clocked의 지역변수를 모두 참조할 수 있음\n",
    "            return _result #원래 함수가 반환하는 값을 반환해야 함\n",
    "        return clocked #내부함수를 반환해서 데커레이트된 함수를 대체함\n",
    "    return decorate\n",
    "\n",
    "if __name__ =='__main__':\n",
    "    \n",
    "    @clock() #기본 문자열 사용\n",
    "    def snooze(seconds):\n",
    "        time.sleep(seconds)\n",
    "    \n",
    "    for i in range(3):\n",
    "        snooze(.123)\n",
    "    "
   ]
  },
  {
   "cell_type": "code",
   "execution_count": 14,
   "metadata": {},
   "outputs": [
    {
     "name": "stdout",
     "output_type": "stream",
     "text": [
      "snooze: 0.12672805786132812s\n",
      "snooze: 0.13689589500427246s\n",
      "snooze: 0.12332677841186523s\n"
     ]
    }
   ],
   "source": [
    "@clock('{name}: {elapsed}s')\n",
    "def snooze(seconds):\n",
    "        time.sleep(seconds)\n",
    "    \n",
    "for i in range(3):\n",
    "    snooze(.123)\n",
    "    "
   ]
  },
  {
   "cell_type": "code",
   "execution_count": 15,
   "metadata": {},
   "outputs": [
    {
     "name": "stdout",
     "output_type": "stream",
     "text": [
      "snooze(0.123) dt= 0.137s\n",
      "snooze(0.123) dt= 0.137s\n",
      "snooze(0.123) dt= 0.138s\n"
     ]
    }
   ],
   "source": [
    "@clock('{name}({args}) dt= {elapsed:0.3f}s')\n",
    "def snooze(seconds):\n",
    "        time.sleep(seconds)\n",
    "    \n",
    "for i in range(3):\n",
    "    snooze(.123)"
   ]
  },
  {
   "cell_type": "markdown",
   "metadata": {},
   "source": [
    "일반적으로 데커레이터는 클래스와 클래스가 래핑하는 컴포넌트를 이용해서 구현하는 것이 좋다"
   ]
  }
 ],
 "metadata": {
  "kernelspec": {
   "display_name": "Python 3",
   "language": "python",
   "name": "python3"
  },
  "language_info": {
   "codemirror_mode": {
    "name": "ipython",
    "version": 3
   },
   "file_extension": ".py",
   "mimetype": "text/x-python",
   "name": "python",
   "nbconvert_exporter": "python",
   "pygments_lexer": "ipython3",
   "version": "3.8.3"
  }
 },
 "nbformat": 4,
 "nbformat_minor": 4
}
