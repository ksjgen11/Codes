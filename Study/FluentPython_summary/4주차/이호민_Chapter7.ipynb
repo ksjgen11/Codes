{
 "cells": [
  {
   "cell_type": "markdown",
   "metadata": {},
   "source": [
    "# 전문가를 위한 파이썬\n",
    "\n",
    "## part 3\n",
    "\n",
    "## 챕터7\n",
    "\n",
    "### 데커레이터\n",
    "\n",
    "* 함수 데커레이터는 소스 코드에 있는 함수를 '표시'해서 함수의 작동을 개선할 수 있게 해준다. 강력한 기능이지만, 데커레이터를 자유자재로 사용하려면 먼저 클러저를 알아야 한다.\n",
    "* 파이썬 3.0에 추가된 ```nonlocal```은 최근에 추가된 예약 키워드 중 하나다. 자기만의 데커레이터를 구현하고자 한다면 클로저를 속속들이 이해해야 하며, 그러고 나면 ```nonlocal```이 필요해진다.\n",
    "* 데커레이터에서 사용하는 것 외에도, 클로저는 콜백을 이용한 효율적인 비동기 프로그래밍과 필요에 따라 함수형 스타일로 코딩하는 데에도 필수적이다."
   ]
  },
  {
   "cell_type": "markdown",
   "metadata": {},
   "source": [
    "### 데커레이터 기본 지식\n",
    "\n",
    "* 데커레이터는 다른 함수를 인수로 받는 콜러블이다. 데커레이터는 데커레이트된 함수에 어떤 처리를 수행하고, 함수를 반환하거나 함수를 다른 함수나 콜러블 객체로 대체한다."
   ]
  },
  {
   "cell_type": "code",
   "execution_count": 7,
   "metadata": {
    "scrolled": false
   },
   "outputs": [],
   "source": [
    "@decorate\n",
    "def target():\n",
    "    print('running target()')"
   ]
  },
  {
   "cell_type": "code",
   "execution_count": 8,
   "metadata": {
    "scrolled": true
   },
   "outputs": [],
   "source": [
    "def target():\n",
    "    print('running target()')\n",
    "target=decorate(target)"
   ]
  },
  {
   "cell_type": "markdown",
   "metadata": {},
   "source": [
    "* 위 두 코드는 동일하게 작동한다.\n",
    "* 데커레이터는 다름 함수를 인수로 전달해서 호출하는 일반적인 콜러블과 동일하다.\n",
    "* 그렇지만 런타임에 프로그램 행위를 변경하는 \"메타프로그래밍\"을 할 때 데커레이터가 상당히 편리하다."
   ]
  },
  {
   "cell_type": "markdown",
   "metadata": {},
   "source": [
    "### 파이썬이 데커레이터를 실행하는 시점\n",
    "\n",
    "* 데커레이터의 핵심 특징은 테커레이트된 함수가 정의된 직후에 실행된다는 것이다. 이는 일반적으로 파이썬 모듈을 로딩하는 시점, 즉 \"임포트 타임\"에 실행된다."
   ]
  },
  {
   "cell_type": "code",
   "execution_count": 11,
   "metadata": {},
   "outputs": [
    {
     "name": "stdout",
     "output_type": "stream",
     "text": [
      "running register(<function f1 at 0x00000186313EFB70>)\n",
      "running register(<function f2 at 0x0000018631408048>)\n",
      "running main()\n",
      "registry -> [<function f1 at 0x00000186313EFB70>, <function f2 at 0x0000018631408048>]\n",
      "running f1()\n",
      "running f2()\n",
      "running f3()\n"
     ]
    }
   ],
   "source": [
    "registry=[]\n",
    "\n",
    "def register(func):\n",
    "    print('running register(%s)' %func)\n",
    "    registry.append(func)\n",
    "    return func\n",
    "\n",
    "@register\n",
    "def f1():\n",
    "    print('running f1()')\n",
    "    \n",
    "@register\n",
    "def f2():\n",
    "    print('running f2()')\n",
    "\n",
    "def f3():\n",
    "    print('running f3()')\n",
    "    \n",
    "def main():\n",
    "    print('running main()')\n",
    "    print('registry ->', registry)\n",
    "    f1()\n",
    "    f2()\n",
    "    f3()\n",
    "\n",
    "if __name__=='__main__':\n",
    "    main()"
   ]
  },
  {
   "cell_type": "markdown",
   "metadata": {},
   "source": [
    "### 데커레이터로 개선한 전략 패턴\n",
    "\n",
    "* 6.1절의 예제 6-6의 코드를 개선할 수 있다."
   ]
  },
  {
   "cell_type": "code",
   "execution_count": 13,
   "metadata": {},
   "outputs": [],
   "source": [
    "promos=[]\n",
    "\n",
    "def promotion(promo_func):\n",
    "    promos.append(promo_func)\n",
    "    return promo_func\n",
    "\n",
    "@promotion\n",
    "def fidelity_promo(order):\n",
    "    return order.total()*0.05 if order.customer.fidelity>=1000 else 0\n",
    "\n",
    "\n",
    "@promotion\n",
    "def bulkitem_promo(order):\n",
    "    discount=0\n",
    "    for item in order.cart:\n",
    "      if item.quantity>=20:\n",
    "          discount+=item.total()*.1\n",
    "    return discount\n",
    "\n",
    "@promotion\n",
    "def largeorder_promo(self, order):\n",
    "    distinct_items={item.product for item in order.cart}\n",
    "    if len(distinct_items)>=10:\n",
    "        return order.total*.07\n",
    "    return 0\n",
    "\n",
    "def best_promo(order):\n",
    "    return max(promo(order) for promo in promos)"
   ]
  },
  {
   "cell_type": "markdown",
   "metadata": {},
   "source": [
    "### 변수 범위 규칙\n",
    "\n",
    "* 아래는 테스트 이다."
   ]
  },
  {
   "cell_type": "code",
   "execution_count": 15,
   "metadata": {},
   "outputs": [
    {
     "name": "stdout",
     "output_type": "stream",
     "text": [
      "3\n"
     ]
    },
    {
     "ename": "NameError",
     "evalue": "name 'b' is not defined",
     "output_type": "error",
     "traceback": [
      "\u001b[1;31m---------------------------------------------------------------------------\u001b[0m",
      "\u001b[1;31mNameError\u001b[0m                                 Traceback (most recent call last)",
      "\u001b[1;32m<ipython-input-15-25d665eb58d1>\u001b[0m in \u001b[0;36m<module>\u001b[1;34m\u001b[0m\n\u001b[0;32m      3\u001b[0m     \u001b[0mprint\u001b[0m\u001b[1;33m(\u001b[0m\u001b[0mb\u001b[0m\u001b[1;33m)\u001b[0m\u001b[1;33m\u001b[0m\u001b[1;33m\u001b[0m\u001b[0m\n\u001b[0;32m      4\u001b[0m \u001b[1;33m\u001b[0m\u001b[0m\n\u001b[1;32m----> 5\u001b[1;33m \u001b[0mf1\u001b[0m\u001b[1;33m(\u001b[0m\u001b[1;36m3\u001b[0m\u001b[1;33m)\u001b[0m\u001b[1;33m\u001b[0m\u001b[1;33m\u001b[0m\u001b[0m\n\u001b[0m",
      "\u001b[1;32m<ipython-input-15-25d665eb58d1>\u001b[0m in \u001b[0;36mf1\u001b[1;34m(a)\u001b[0m\n\u001b[0;32m      1\u001b[0m \u001b[1;32mdef\u001b[0m \u001b[0mf1\u001b[0m\u001b[1;33m(\u001b[0m\u001b[0ma\u001b[0m\u001b[1;33m)\u001b[0m\u001b[1;33m:\u001b[0m\u001b[1;33m\u001b[0m\u001b[1;33m\u001b[0m\u001b[0m\n\u001b[0;32m      2\u001b[0m     \u001b[0mprint\u001b[0m\u001b[1;33m(\u001b[0m\u001b[0ma\u001b[0m\u001b[1;33m)\u001b[0m\u001b[1;33m\u001b[0m\u001b[1;33m\u001b[0m\u001b[0m\n\u001b[1;32m----> 3\u001b[1;33m     \u001b[0mprint\u001b[0m\u001b[1;33m(\u001b[0m\u001b[0mb\u001b[0m\u001b[1;33m)\u001b[0m\u001b[1;33m\u001b[0m\u001b[1;33m\u001b[0m\u001b[0m\n\u001b[0m\u001b[0;32m      4\u001b[0m \u001b[1;33m\u001b[0m\u001b[0m\n\u001b[0;32m      5\u001b[0m \u001b[0mf1\u001b[0m\u001b[1;33m(\u001b[0m\u001b[1;36m3\u001b[0m\u001b[1;33m)\u001b[0m\u001b[1;33m\u001b[0m\u001b[1;33m\u001b[0m\u001b[0m\n",
      "\u001b[1;31mNameError\u001b[0m: name 'b' is not defined"
     ]
    }
   ],
   "source": [
    "def f1(a):\n",
    "    print(a)\n",
    "    print(b)\n",
    "\n",
    "f1(3)"
   ]
  },
  {
   "cell_type": "code",
   "execution_count": 16,
   "metadata": {},
   "outputs": [
    {
     "name": "stdout",
     "output_type": "stream",
     "text": [
      "3\n",
      "6\n"
     ]
    }
   ],
   "source": [
    "b=6\n",
    "f1(3)"
   ]
  },
  {
   "cell_type": "markdown",
   "metadata": {},
   "source": [
    "* 당연하게도 b에 값을 할당하고 실행하면 정상적으로 작동한다.\n",
    "* 하지만 다음 예제를 보자"
   ]
  },
  {
   "cell_type": "code",
   "execution_count": 18,
   "metadata": {
    "scrolled": false
   },
   "outputs": [
    {
     "name": "stdout",
     "output_type": "stream",
     "text": [
      "3\n"
     ]
    },
    {
     "ename": "UnboundLocalError",
     "evalue": "local variable 'b' referenced before assignment",
     "output_type": "error",
     "traceback": [
      "\u001b[1;31m---------------------------------------------------------------------------\u001b[0m",
      "\u001b[1;31mUnboundLocalError\u001b[0m                         Traceback (most recent call last)",
      "\u001b[1;32m<ipython-input-18-4029dd8a83a1>\u001b[0m in \u001b[0;36m<module>\u001b[1;34m\u001b[0m\n\u001b[0;32m      5\u001b[0m     \u001b[0mb\u001b[0m\u001b[1;33m=\u001b[0m\u001b[1;36m9\u001b[0m\u001b[1;33m\u001b[0m\u001b[1;33m\u001b[0m\u001b[0m\n\u001b[0;32m      6\u001b[0m \u001b[1;33m\u001b[0m\u001b[0m\n\u001b[1;32m----> 7\u001b[1;33m \u001b[0mf2\u001b[0m\u001b[1;33m(\u001b[0m\u001b[1;36m3\u001b[0m\u001b[1;33m)\u001b[0m\u001b[1;33m\u001b[0m\u001b[1;33m\u001b[0m\u001b[0m\n\u001b[0m",
      "\u001b[1;32m<ipython-input-18-4029dd8a83a1>\u001b[0m in \u001b[0;36mf2\u001b[1;34m(a)\u001b[0m\n\u001b[0;32m      2\u001b[0m \u001b[1;32mdef\u001b[0m \u001b[0mf2\u001b[0m\u001b[1;33m(\u001b[0m\u001b[0ma\u001b[0m\u001b[1;33m)\u001b[0m\u001b[1;33m:\u001b[0m\u001b[1;33m\u001b[0m\u001b[1;33m\u001b[0m\u001b[0m\n\u001b[0;32m      3\u001b[0m     \u001b[0mprint\u001b[0m\u001b[1;33m(\u001b[0m\u001b[0ma\u001b[0m\u001b[1;33m)\u001b[0m\u001b[1;33m\u001b[0m\u001b[1;33m\u001b[0m\u001b[0m\n\u001b[1;32m----> 4\u001b[1;33m     \u001b[0mprint\u001b[0m\u001b[1;33m(\u001b[0m\u001b[0mb\u001b[0m\u001b[1;33m)\u001b[0m\u001b[1;33m\u001b[0m\u001b[1;33m\u001b[0m\u001b[0m\n\u001b[0m\u001b[0;32m      5\u001b[0m     \u001b[0mb\u001b[0m\u001b[1;33m=\u001b[0m\u001b[1;36m9\u001b[0m\u001b[1;33m\u001b[0m\u001b[1;33m\u001b[0m\u001b[0m\n\u001b[0;32m      6\u001b[0m \u001b[1;33m\u001b[0m\u001b[0m\n",
      "\u001b[1;31mUnboundLocalError\u001b[0m: local variable 'b' referenced before assignment"
     ]
    }
   ],
   "source": [
    "b=6\n",
    "def f2(a):\n",
    "    print(a)\n",
    "    print(b)\n",
    "    b=9\n",
    "\n",
    "f2(3)"
   ]
  },
  {
   "cell_type": "markdown",
   "metadata": {},
   "source": [
    "* ???두번째 print문의 b가 출력되지 않고 error을 내는 것을 알 수 있다.\n",
    "* 파이썬이 함수 본체를 컴파일할 때 b가 함수 안에서 할당되므로 b를 지역 변수로 판단한다."
   ]
  },
  {
   "cell_type": "markdown",
   "metadata": {},
   "source": [
    "### 간단한 데커레이터 구현하기\n",
    "\n",
    "* 다음은 데커레이트된 함수를 호출할 때마다 시간을 측정해서 실행에 소요된 시간, 전달된 인수, 반환값을 출력하는 테커레이터다."
   ]
  },
  {
   "cell_type": "code",
   "execution_count": 26,
   "metadata": {},
   "outputs": [],
   "source": [
    "import time\n",
    "\n",
    "def clock(func):\n",
    "    def clocked(*args):\n",
    "        t0=time.perf_counter()\n",
    "        result=func(*args)\n",
    "        elapsed=time.perf_counter()-t0\n",
    "        name=func.__name__\n",
    "        arg_str=', '.join(repr(arg) for arg in args)\n",
    "        print('[%0.8fs] %s(%s) -> %r' % (elapsed, name, arg_str, result))\n",
    "        return result\n",
    "    return clocked"
   ]
  },
  {
   "cell_type": "code",
   "execution_count": 27,
   "metadata": {},
   "outputs": [
    {
     "name": "stdout",
     "output_type": "stream",
     "text": [
      "[0.12385070s] snooze(0.123) -> None\n",
      "[0.00000040s] factorial(1) -> 1\n",
      "[0.00018970s] factorial(2) -> 2\n",
      "[0.00040470s] factorial(3) -> 6\n",
      "[0.00064060s] factorial(4) -> 24\n",
      "[0.00086400s] factorial(5) -> 120\n",
      "[0.00109540s] factorial(6) -> 720\n",
      "720\n"
     ]
    }
   ],
   "source": [
    "@clock\n",
    "def snooze(seconds):\n",
    "  time.sleep(seconds)\n",
    "\n",
    "@clock\n",
    "def factorial(n):\n",
    "  return 1 if n<2 else n*factorial(n-1)\n",
    "\n",
    "snooze(.123)\n",
    "print(factorial(6))"
   ]
  },
  {
   "cell_type": "markdown",
   "metadata": {},
   "source": [
    "### ```functools.lru_cache()```를 이용한 메모이제이션\n",
    "\n",
    "* ```functools.lru_cache()```를 사용한 예제와 아닌 예제를 살펴보자."
   ]
  },
  {
   "cell_type": "code",
   "execution_count": 29,
   "metadata": {},
   "outputs": [
    {
     "name": "stdout",
     "output_type": "stream",
     "text": [
      "[0.00000030s] fibo(0) -> 0\n",
      "[0.00000030s] fibo(1) -> 1\n",
      "[0.00009750s] fibo(2) -> 1\n",
      "[0.00000030s] fibo(1) -> 1\n",
      "[0.00000030s] fibo(0) -> 0\n",
      "[0.00000020s] fibo(1) -> 1\n",
      "[0.00002590s] fibo(2) -> 1\n",
      "[0.00005180s] fibo(3) -> 2\n",
      "[0.00017680s] fibo(4) -> 3\n",
      "[0.00000020s] fibo(1) -> 1\n",
      "[0.00000020s] fibo(0) -> 0\n",
      "[0.00000020s] fibo(1) -> 1\n",
      "[0.00002500s] fibo(2) -> 1\n",
      "[0.00004940s] fibo(3) -> 2\n",
      "[0.00000020s] fibo(0) -> 0\n",
      "[0.00000020s] fibo(1) -> 1\n",
      "[0.00002460s] fibo(2) -> 1\n",
      "[0.00000020s] fibo(1) -> 1\n",
      "[0.00000030s] fibo(0) -> 0\n",
      "[0.00000020s] fibo(1) -> 1\n",
      "[0.00002480s] fibo(2) -> 1\n",
      "[0.00004940s] fibo(3) -> 2\n",
      "[0.00009810s] fibo(4) -> 3\n",
      "[0.00017190s] fibo(5) -> 5\n",
      "[0.00037370s] fibo(6) -> 8\n",
      "[0.00000020s] fibo(1) -> 1\n",
      "[0.00000020s] fibo(0) -> 0\n",
      "[0.00000020s] fibo(1) -> 1\n",
      "[0.00002520s] fibo(2) -> 1\n",
      "[0.00004980s] fibo(3) -> 2\n",
      "[0.00000020s] fibo(0) -> 0\n",
      "[0.00000020s] fibo(1) -> 1\n",
      "[0.00002430s] fibo(2) -> 1\n",
      "[0.00000020s] fibo(1) -> 1\n",
      "[0.00000020s] fibo(0) -> 0\n",
      "[0.00000020s] fibo(1) -> 1\n",
      "[0.00002460s] fibo(2) -> 1\n",
      "[0.00004860s] fibo(3) -> 2\n",
      "[0.00009750s] fibo(4) -> 3\n",
      "[0.00017140s] fibo(5) -> 5\n",
      "[0.00000020s] fibo(0) -> 0\n",
      "[0.00000020s] fibo(1) -> 1\n",
      "[0.00005150s] fibo(2) -> 1\n",
      "[0.00000020s] fibo(1) -> 1\n",
      "[0.00000020s] fibo(0) -> 0\n",
      "[0.00000020s] fibo(1) -> 1\n",
      "[0.00002450s] fibo(2) -> 1\n",
      "[0.00004880s] fibo(3) -> 2\n",
      "[0.00012510s] fibo(4) -> 3\n",
      "[0.00000020s] fibo(1) -> 1\n",
      "[0.00000020s] fibo(0) -> 0\n",
      "[0.00000020s] fibo(1) -> 1\n",
      "[0.00002440s] fibo(2) -> 1\n",
      "[0.00004890s] fibo(3) -> 2\n",
      "[0.00000020s] fibo(0) -> 0\n",
      "[0.00000020s] fibo(1) -> 1\n",
      "[0.00002440s] fibo(2) -> 1\n",
      "[0.00000020s] fibo(1) -> 1\n",
      "[0.00000020s] fibo(0) -> 0\n",
      "[0.00000020s] fibo(1) -> 1\n",
      "[0.00003920s] fibo(2) -> 1\n",
      "[0.00006410s] fibo(3) -> 2\n",
      "[0.00011240s] fibo(4) -> 3\n",
      "[0.00018540s] fibo(5) -> 5\n",
      "[0.00033490s] fibo(6) -> 8\n",
      "[0.00053060s] fibo(7) -> 13\n",
      "[0.00092930s] fibo(8) -> 21\n",
      "21\n"
     ]
    }
   ],
   "source": [
    "@clock\n",
    "def fibo(n):\n",
    "  if n<2:\n",
    "    return n\n",
    "  return fibo(n-2)+fibo(n-1)\n",
    "\n",
    "print(fibo(8))"
   ]
  },
  {
   "cell_type": "code",
   "execution_count": 30,
   "metadata": {},
   "outputs": [
    {
     "name": "stdout",
     "output_type": "stream",
     "text": [
      "[0.00000030s] fibo(0) -> 0\n",
      "[0.00000050s] fibo(1) -> 1\n",
      "[0.00017930s] fibo(2) -> 1\n",
      "[0.00000070s] fibo(3) -> 2\n",
      "[0.00021120s] fibo(4) -> 3\n",
      "[0.00000060s] fibo(5) -> 5\n",
      "[0.00024090s] fibo(6) -> 8\n",
      "[0.00000050s] fibo(7) -> 13\n",
      "[0.00027090s] fibo(8) -> 21\n",
      "21\n"
     ]
    }
   ],
   "source": [
    "import functools\n",
    "\n",
    "@functools.lru_cache()\n",
    "@clock\n",
    "def fibo(n):\n",
    "  if n<2:\n",
    "    return n\n",
    "  return fibo(n-2)+fibo(n-1)\n",
    "\n",
    "print(fibo(8))"
   ]
  },
  {
   "cell_type": "markdown",
   "metadata": {},
   "source": [
    "* 알고리즘을 처음 접할때는 메모이제이션이 쉽지 않은 개념이었는데 이런 방법도 있다니 흥미로웠다."
   ]
  },
  {
   "cell_type": "markdown",
   "metadata": {},
   "source": [
    "### 단일 디스패치를 이용한 범용 함수\n",
    "\n",
    "* 파이썬 3.4에서 새로 소개된 ```functools.singledispatch()``` 데커레이터는 각 모듈이 전체 해결책에 기여할 수 있게 해주며, 편집할 수 없는 클래스에 대해서도 특화된 함수를 쉽게 제공할 수 있게 해준다."
   ]
  },
  {
   "cell_type": "code",
   "execution_count": null,
   "metadata": {},
   "outputs": [],
   "source": []
  }
 ],
 "metadata": {
  "kernelspec": {
   "display_name": "Python 3",
   "language": "python",
   "name": "python3"
  },
  "language_info": {
   "codemirror_mode": {
    "name": "ipython",
    "version": 3
   },
   "file_extension": ".py",
   "mimetype": "text/x-python",
   "name": "python",
   "nbconvert_exporter": "python",
   "pygments_lexer": "ipython3",
   "version": "3.7.1"
  }
 },
 "nbformat": 4,
 "nbformat_minor": 2
}
