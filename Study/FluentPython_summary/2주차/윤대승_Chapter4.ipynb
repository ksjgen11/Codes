{
 "cells": [
  {
   "cell_type": "markdown",
   "metadata": {},
   "source": [
    "# Chapter 4 - 텍스트와 바이트\n",
    "\n",
    "문자열은 문자의 열이다. 그럼 '문자'는?<br>\n",
    "현재 문자를 가장 잘 정의한 것은 유니코드 문자이다. 유니코드 표준은 **문자의 단위 원소**와 **특정 바이트 표현**을 명확히 구분한다.<br>\n",
    "\n",
    "#### **문자의 단위 원소(코드 포인트)**\n",
    "10진수 0부터 1114111까지의 숫자이며 유니코드 표준에서는 'U+' 접두사를 붙여 4자리에서 6자리 사이의 16진수로 표현한다.\n",
    "\n",
    "#### **특정 바이트 표현**\n",
    "문자를 표현하는 실제 바이트는 사용하는 **인코딩**(코드 포인트를 바이트 시퀀스로 변환하는 알고리즘)에 따라 달라진다.\n",
    "\n",
    "코드 포인트 -> 바이트 (인코딩)<br>\n",
    "바이트 -> 코드 포인트 (디코딩)<br>\n",
    "\n",
    "## 바이트에 대한 기본 지식"
   ]
  },
  {
   "cell_type": "code",
   "execution_count": 1,
   "metadata": {},
   "outputs": [
    {
     "name": "stdout",
     "output_type": "stream",
     "text": [
      "<class 'str'> a\n",
      "<class 'str'> a\n",
      "\n",
      "b'caf\\xc3\\xa9'\n",
      "<class 'int'> 99\n",
      "<class 'bytes'> b'c'\n",
      "\n",
      "bytearray(b'caf\\xc3\\xa9')\n",
      "<class 'int'> 99\n",
      "<class 'bytearray'> bytearray(b'c')\n"
     ]
    }
   ],
   "source": [
    "s1 = 'abcd'\n",
    "print(type(s1[0]), s1[0]) # 0번 인덱스 원소에 접근해도 자료형은 str\n",
    "print(type(s1[:1]), s1[:1]) # 슬라이싱해도 자료형은 str\n",
    "print()\n",
    "\n",
    "s2 = bytes('café', encoding='utf_8')\n",
    "print(s2) # 바이트 자료형\n",
    "print(type(s2[0]), s2[0]) # 0번 인덱스 원소에 접근하면 자료형은 int\n",
    "print(type(s2[:1]), s2[:1]) # 슬라이싱하면 자료형은 bytes\n",
    "print()\n",
    "\n",
    "s3 = bytearray(s2)\n",
    "print(s3) # 바이트 어레이\n",
    "print(type(s3[0]), s3[0]) # 위와 동일\n",
    "print(type(s3[:1]), s3[:1]) # 위와 동일"
   ]
  },
  {
   "cell_type": "code",
   "execution_count": 2,
   "metadata": {},
   "outputs": [
    {
     "name": "stdout",
     "output_type": "stream",
     "text": [
      "99 97 102 195 169 \n",
      "b'caf\\xc3\\xa9'\n"
     ]
    }
   ],
   "source": [
    "for i in s2:\n",
    "    print(i, end=' ') # 이진 시퀀스는 실제로 정수형의 시퀀스\n",
    "    \n",
    "print()\n",
    "print(s2) # 리터럴 표기법에 의하면 화면에 출력가능한 아스키 문자는 아스키 문자 그대로,\n",
    "          # 탭, 개행문자, 캐리지 리턴, 백슬래시는 이스케이프 시퀀스로,\n",
    "          # 그 외의 값은 16진수 이스케이프 시퀀스로 출력한다"
   ]
  },
  {
   "cell_type": "markdown",
   "metadata": {},
   "source": [
    "## 인코딩/디코팅 문제 이해하기\n",
    "\n",
    "- UnicodeEncodeError 처리하기"
   ]
  },
  {
   "cell_type": "code",
   "execution_count": 3,
   "metadata": {},
   "outputs": [
    {
     "name": "stdout",
     "output_type": "stream",
     "text": [
      "b'S\\xc3\\xa3o Paulo'\n",
      "b'\\xff\\xfeS\\x00\\xe3\\x00o\\x00 \\x00P\\x00a\\x00u\\x00l\\x00o\\x00'\n",
      "b'S\\xe3o Paulo'\n"
     ]
    },
    {
     "ename": "UnicodeEncodeError",
     "evalue": "'charmap' codec can't encode character '\\xe3' in position 1: character maps to <undefined>",
     "output_type": "error",
     "traceback": [
      "\u001b[0;31m---------------------------------------------------------------------------\u001b[0m",
      "\u001b[0;31mUnicodeEncodeError\u001b[0m                        Traceback (most recent call last)",
      "\u001b[0;32m<ipython-input-3-c0871d73a1d9>\u001b[0m in \u001b[0;36m<module>\u001b[0;34m\u001b[0m\n\u001b[1;32m      3\u001b[0m \u001b[0mprint\u001b[0m\u001b[0;34m(\u001b[0m\u001b[0mcity\u001b[0m\u001b[0;34m.\u001b[0m\u001b[0mencode\u001b[0m\u001b[0;34m(\u001b[0m\u001b[0;34m'utf_16'\u001b[0m\u001b[0;34m)\u001b[0m\u001b[0;34m)\u001b[0m\u001b[0;34m\u001b[0m\u001b[0;34m\u001b[0m\u001b[0m\n\u001b[1;32m      4\u001b[0m \u001b[0mprint\u001b[0m\u001b[0;34m(\u001b[0m\u001b[0mcity\u001b[0m\u001b[0;34m.\u001b[0m\u001b[0mencode\u001b[0m\u001b[0;34m(\u001b[0m\u001b[0;34m'iso8859_1'\u001b[0m\u001b[0;34m)\u001b[0m\u001b[0;34m)\u001b[0m\u001b[0;34m\u001b[0m\u001b[0;34m\u001b[0m\u001b[0m\n\u001b[0;32m----> 5\u001b[0;31m \u001b[0mprint\u001b[0m\u001b[0;34m(\u001b[0m\u001b[0mcity\u001b[0m\u001b[0;34m.\u001b[0m\u001b[0mencode\u001b[0m\u001b[0;34m(\u001b[0m\u001b[0;34m'cp437'\u001b[0m\u001b[0;34m)\u001b[0m\u001b[0;34m)\u001b[0m\u001b[0;34m\u001b[0m\u001b[0;34m\u001b[0m\u001b[0m\n\u001b[0m",
      "\u001b[0;32m/srv/conda/envs/notebook/lib/python3.7/encodings/cp437.py\u001b[0m in \u001b[0;36mencode\u001b[0;34m(self, input, errors)\u001b[0m\n\u001b[1;32m     10\u001b[0m \u001b[0;34m\u001b[0m\u001b[0m\n\u001b[1;32m     11\u001b[0m     \u001b[0;32mdef\u001b[0m \u001b[0mencode\u001b[0m\u001b[0;34m(\u001b[0m\u001b[0mself\u001b[0m\u001b[0;34m,\u001b[0m\u001b[0minput\u001b[0m\u001b[0;34m,\u001b[0m\u001b[0merrors\u001b[0m\u001b[0;34m=\u001b[0m\u001b[0;34m'strict'\u001b[0m\u001b[0;34m)\u001b[0m\u001b[0;34m:\u001b[0m\u001b[0;34m\u001b[0m\u001b[0;34m\u001b[0m\u001b[0m\n\u001b[0;32m---> 12\u001b[0;31m         \u001b[0;32mreturn\u001b[0m \u001b[0mcodecs\u001b[0m\u001b[0;34m.\u001b[0m\u001b[0mcharmap_encode\u001b[0m\u001b[0;34m(\u001b[0m\u001b[0minput\u001b[0m\u001b[0;34m,\u001b[0m\u001b[0merrors\u001b[0m\u001b[0;34m,\u001b[0m\u001b[0mencoding_map\u001b[0m\u001b[0;34m)\u001b[0m\u001b[0;34m\u001b[0m\u001b[0;34m\u001b[0m\u001b[0m\n\u001b[0m\u001b[1;32m     13\u001b[0m \u001b[0;34m\u001b[0m\u001b[0m\n\u001b[1;32m     14\u001b[0m     \u001b[0;32mdef\u001b[0m \u001b[0mdecode\u001b[0m\u001b[0;34m(\u001b[0m\u001b[0mself\u001b[0m\u001b[0;34m,\u001b[0m\u001b[0minput\u001b[0m\u001b[0;34m,\u001b[0m\u001b[0merrors\u001b[0m\u001b[0;34m=\u001b[0m\u001b[0;34m'strict'\u001b[0m\u001b[0;34m)\u001b[0m\u001b[0;34m:\u001b[0m\u001b[0;34m\u001b[0m\u001b[0;34m\u001b[0m\u001b[0m\n",
      "\u001b[0;31mUnicodeEncodeError\u001b[0m: 'charmap' codec can't encode character '\\xe3' in position 1: character maps to <undefined>"
     ]
    }
   ],
   "source": [
    "city = 'São Paulo'\n",
    "print(city.encode('utf_8'))\n",
    "print(city.encode('utf_16'))\n",
    "print(city.encode('iso8859_1'))\n",
    "print(city.encode('cp437'))"
   ]
  },
  {
   "cell_type": "code",
   "execution_count": 4,
   "metadata": {},
   "outputs": [
    {
     "name": "stdout",
     "output_type": "stream",
     "text": [
      "b'So Paulo'\n",
      "b'S?o Paulo'\n",
      "b'S&#227;o Paulo'\n"
     ]
    }
   ],
   "source": [
    "print(city.encode('cp437', errors='ignore'))\n",
    "print(city.encode('cp437', errors='replace'))\n",
    "print(city.encode('cp437', errors='xmlcharrefreplace'))"
   ]
  },
  {
   "cell_type": "markdown",
   "metadata": {},
   "source": [
    "- UnicodeDecodeError 처리하기"
   ]
  },
  {
   "cell_type": "code",
   "execution_count": 5,
   "metadata": {},
   "outputs": [
    {
     "name": "stdout",
     "output_type": "stream",
     "text": [
      "Montréal\n",
      "Montrιal\n",
      "MontrИal\n"
     ]
    },
    {
     "ename": "UnicodeDecodeError",
     "evalue": "'utf-8' codec can't decode byte 0xe9 in position 5: invalid continuation byte",
     "output_type": "error",
     "traceback": [
      "\u001b[0;31m---------------------------------------------------------------------------\u001b[0m",
      "\u001b[0;31mUnicodeDecodeError\u001b[0m                        Traceback (most recent call last)",
      "\u001b[0;32m<ipython-input-5-e256f4f1aae0>\u001b[0m in \u001b[0;36m<module>\u001b[0;34m\u001b[0m\n\u001b[1;32m      3\u001b[0m \u001b[0mprint\u001b[0m\u001b[0;34m(\u001b[0m\u001b[0moctets\u001b[0m\u001b[0;34m.\u001b[0m\u001b[0mdecode\u001b[0m\u001b[0;34m(\u001b[0m\u001b[0;34m'iso8859_7'\u001b[0m\u001b[0;34m)\u001b[0m\u001b[0;34m)\u001b[0m\u001b[0;34m\u001b[0m\u001b[0;34m\u001b[0m\u001b[0m\n\u001b[1;32m      4\u001b[0m \u001b[0mprint\u001b[0m\u001b[0;34m(\u001b[0m\u001b[0moctets\u001b[0m\u001b[0;34m.\u001b[0m\u001b[0mdecode\u001b[0m\u001b[0;34m(\u001b[0m\u001b[0;34m'koi8_r'\u001b[0m\u001b[0;34m)\u001b[0m\u001b[0;34m)\u001b[0m\u001b[0;34m\u001b[0m\u001b[0;34m\u001b[0m\u001b[0m\n\u001b[0;32m----> 5\u001b[0;31m \u001b[0mprint\u001b[0m\u001b[0;34m(\u001b[0m\u001b[0moctets\u001b[0m\u001b[0;34m.\u001b[0m\u001b[0mdecode\u001b[0m\u001b[0;34m(\u001b[0m\u001b[0;34m'utf8'\u001b[0m\u001b[0;34m)\u001b[0m\u001b[0;34m)\u001b[0m\u001b[0;34m\u001b[0m\u001b[0;34m\u001b[0m\u001b[0m\n\u001b[0m",
      "\u001b[0;31mUnicodeDecodeError\u001b[0m: 'utf-8' codec can't decode byte 0xe9 in position 5: invalid continuation byte"
     ]
    }
   ],
   "source": [
    "octets = b'Montr\\xe9al'\n",
    "print(octets.decode('cp1252'))\n",
    "print(octets.decode('iso8859_7'))\n",
    "print(octets.decode('koi8_r'))\n",
    "print(octets.decode('utf8'))"
   ]
  },
  {
   "cell_type": "code",
   "execution_count": 6,
   "metadata": {},
   "outputs": [
    {
     "name": "stdout",
     "output_type": "stream",
     "text": [
      "Montr�al\n"
     ]
    }
   ],
   "source": [
    "print(octets.decode('utf8', errors='replace'))"
   ]
  },
  {
   "cell_type": "markdown",
   "metadata": {},
   "source": [
    "- BOM: 유용한 깨진 문자\n",
    "\n",
    "BOM은 바이트 순서 표시(Byte Order Mark)로, 리틀엔디언/빅엔디언으로 발생하는 혼란을 방지하기 위해 UTF-16 인코딩은 ZWNBSP(Zero Width No-Break SPace, U+FEFF)를 인코딩된 텍스트 앞에 붙이는데, 이 문자는 화면에 출력되지 않는다.<br>\n",
    "리틀엔디언 컴퓨터에서는 b'\\\\xff\\\\xfe'로 인코딩되는데, UTF-16에 U+FFFE에 해당하는 문자는 없으므로 리틀엔디언으로 인코딩 되었음을 알 수 있다.<br>\n",
    "\n",
    "## 기본 인코딩에 의존하지 말라\n",
    "\n",
    "유니코드 샌드위치 모델을 따를 것. 그리고 프로그램 안에서 늘 인코딩을 명시할 것.\n",
    "\n",
    "## 제대로 비교하기 위해 유니코드 정규화하기\n",
    "\n",
    "코드 포인트 U+0301은 COMBINING ACUTE ACCENT이며 'e' 다음에 U+0301이 오면 'é'를 만든다.<br>\n",
    "유니코드 표준에서는 'é'와 'e\\u0301' 두 개의 시퀀스를 '규범적으로 동일하다'고 하며, 애플리케이션은 이 두 시퀀스를 동일하게 처리해야 한다.<br>\n",
    "그렇지만 파이썬은 서로 다른 두 개의 시퀀스로 보고, 이 둘을 서로 동일하지 않다고 판단한다."
   ]
  },
  {
   "cell_type": "code",
   "execution_count": 20,
   "metadata": {},
   "outputs": [
    {
     "name": "stdout",
     "output_type": "stream",
     "text": [
      "café café\n",
      "café café\n",
      "café café\n",
      "\n",
      "4 5\n",
      "4 4\n",
      "5 5\n",
      "\n",
      "False\n",
      "True\n",
      "True\n"
     ]
    }
   ],
   "source": [
    "from unicodedata import normalize\n",
    "\n",
    "s1 = 'café'\n",
    "s2 = 'cafe\\u0301'\n",
    "\n",
    "print(s1, s2)\n",
    "print(normalize('NFC', s1), normalize('NFC', s2))\n",
    "print(normalize('NFD', s1), normalize('NFD', s2))\n",
    "print()\n",
    "\n",
    "print(len(s1), len(s2))\n",
    "print(len(normalize('NFC', s1)), len(normalize('NFC', s2)))\n",
    "print(len(normalize('NFD', s1)), len(normalize('NFD', s2)))\n",
    "print()\n",
    "\n",
    "print(s1 == s2)\n",
    "print(normalize('NFC', s1) == normalize('NFC', s2))\n",
    "print(normalize('NFD', s1) == normalize('NFD', s2))"
   ]
  },
  {
   "cell_type": "markdown",
   "metadata": {},
   "source": [
    "## 유니코드 텍스트 정렬하기\n",
    "\n",
    "문자열의 경우 각 단어의 코드 포인터를 비교하는데, 불행히도 이런 방식은 비아스키 문자를 사용하는 경우 부적절한 결과가 발생할 수 있다."
   ]
  },
  {
   "cell_type": "code",
   "execution_count": 1,
   "metadata": {},
   "outputs": [
    {
     "name": "stdout",
     "output_type": "stream",
     "text": [
      "['acerola', 'atemoia', 'açaí', 'caju', 'cajá']\n"
     ]
    }
   ],
   "source": [
    "fruits = ['açaí', 'acerola', 'atemoia', 'cajá', 'caju']\n",
    "print(sorted(fruits))"
   ]
  },
  {
   "cell_type": "markdown",
   "metadata": {},
   "source": [
    "포르투갈어 등 라틴 알파벳을 사용하는 언어에서는 정렬할 때 악센트와 갈고리형 기호가 거의 영향을 미치지 않는다.<br>\n",
    "따라서 'cajá'는 'caja'로 처리하여 'caju'보다 먼저 나와야 한다.<br>\n",
    "이는 PyUCA를 사용하면 된다."
   ]
  },
  {
   "cell_type": "code",
   "execution_count": 2,
   "metadata": {},
   "outputs": [
    {
     "ename": "ModuleNotFoundError",
     "evalue": "No module named 'pyuca'",
     "output_type": "error",
     "traceback": [
      "\u001b[0;31m---------------------------------------------------------------------------\u001b[0m",
      "\u001b[0;31mModuleNotFoundError\u001b[0m                       Traceback (most recent call last)",
      "\u001b[0;32m<ipython-input-2-fd4278c66552>\u001b[0m in \u001b[0;36m<module>\u001b[0;34m\u001b[0m\n\u001b[0;32m----> 1\u001b[0;31m \u001b[0;32mimport\u001b[0m \u001b[0mpyuca\u001b[0m\u001b[0;34m\u001b[0m\u001b[0;34m\u001b[0m\u001b[0m\n\u001b[0m\u001b[1;32m      2\u001b[0m \u001b[0mcoll\u001b[0m \u001b[0;34m=\u001b[0m \u001b[0mpyuca\u001b[0m\u001b[0;34m.\u001b[0m\u001b[0mCollator\u001b[0m\u001b[0;34m(\u001b[0m\u001b[0;34m)\u001b[0m\u001b[0;34m\u001b[0m\u001b[0;34m\u001b[0m\u001b[0m\n\u001b[1;32m      3\u001b[0m \u001b[0;34m\u001b[0m\u001b[0m\n\u001b[1;32m      4\u001b[0m \u001b[0msorted_fruits\u001b[0m \u001b[0;34m=\u001b[0m \u001b[0msorted\u001b[0m\u001b[0;34m(\u001b[0m\u001b[0mfruits\u001b[0m\u001b[0;34m,\u001b[0m \u001b[0mkey\u001b[0m\u001b[0;34m=\u001b[0m\u001b[0mcoll\u001b[0m\u001b[0;34m.\u001b[0m\u001b[0msort_key\u001b[0m\u001b[0;34m)\u001b[0m\u001b[0;34m\u001b[0m\u001b[0;34m\u001b[0m\u001b[0m\n\u001b[1;32m      5\u001b[0m \u001b[0mprint\u001b[0m\u001b[0;34m(\u001b[0m\u001b[0msorted_fruits\u001b[0m\u001b[0;34m)\u001b[0m\u001b[0;34m\u001b[0m\u001b[0;34m\u001b[0m\u001b[0m\n",
      "\u001b[0;31mModuleNotFoundError\u001b[0m: No module named 'pyuca'"
     ]
    }
   ],
   "source": [
    "import pyuca # 모듈이 없으면 설치해야 한다\n",
    "coll = pyuca.Collator()\n",
    "\n",
    "sorted_fruits = sorted(fruits, key=coll.sort_key)\n",
    "print(sorted_fruits)"
   ]
  }
 ],
 "metadata": {
  "kernelspec": {
   "display_name": "Python 3",
   "language": "python",
   "name": "python3"
  },
  "language_info": {
   "codemirror_mode": {
    "name": "ipython",
    "version": 3
   },
   "file_extension": ".py",
   "mimetype": "text/x-python",
   "name": "python",
   "nbconvert_exporter": "python",
   "pygments_lexer": "ipython3",
   "version": "3.7.8"
  }
 },
 "nbformat": 4,
 "nbformat_minor": 4
}
