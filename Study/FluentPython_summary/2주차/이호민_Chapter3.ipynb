{
 "cells": [
  {
   "cell_type": "markdown",
   "metadata": {},
   "source": [
    "# 전문가를 위한 파이썬\n",
    "\n",
    "## part 2\n",
    "\n",
    "## 챕터3\n",
    "\n",
    "### 딕셔너리와 집합\n",
    "\n",
    "* 딕셔너리"
   ]
  },
  {
   "cell_type": "code",
   "execution_count": 1,
   "metadata": {},
   "outputs": [
    {
     "data": {
      "text/plain": [
       "True"
      ]
     },
     "execution_count": 1,
     "metadata": {},
     "output_type": "execute_result"
    }
   ],
   "source": [
    "my_dict={}\n",
    "import collections\n",
    "isinstance(my_dict, collections.abc.Mapping)"
   ]
  },
  {
   "cell_type": "markdown",
   "metadata": {},
   "source": [
    "* 표준 라이브러리에서 제공하는 매핑형은 모두 dict를 이용해서 구현하므로, 키가 \"해시 가능\"해야 한다는 제한을 갖고 있다.(키만 해시 가능하면 된다. 값은 상관 없다.)\n",
    "* 해시 가능하다는 말의 의미 : 수명 주기 동안 결코 변하지 않는 해시값을 갖고 있고(```__hash__()``` 메서드가 필요하다) 다른 객체와 비교할 우 있으면(```__eq__()``` 메서드가 필요하다), 객체를 해시 가능하다고 한다. 동일하다고 판단되는 객체는 반드시 해시값이 동일해야 한다.\n",
    "* 튜플은 불변형이지만, 해시 불가능한 객체를 참조할 수 있기 때문에 \"파이썬이 제공하는 불변 내장 객체는 모두 해시 가능하다.\"는 정확하지 않은 설명이다."
   ]
  },
  {
   "cell_type": "markdown",
   "metadata": {},
   "source": [
    "### 지능형 딕셔너리\n",
    "\n",
    "* 지능형 리스트와 제너레이터 표현식 구문이 지능형 딕셔너리에도 적용된다.(지능형 집합도 마찬가지다.)"
   ]
  },
  {
   "cell_type": "code",
   "execution_count": 7,
   "metadata": {},
   "outputs": [
    {
     "name": "stdout",
     "output_type": "stream",
     "text": [
      "{'China': 86, 'India': 91, 'United States': 1, 'Indonesia': 62, 'Brazil': 55, 'Pakistan': 92, 'Bangladesh': 880, 'Nigeria': 234, 'Russia': 7, 'Japan': 81}\n"
     ]
    },
    {
     "data": {
      "text/plain": [
       "{1: 'UNITED STATES', 62: 'INDONESIA', 55: 'BRAZIL', 7: 'RUSSIA'}"
      ]
     },
     "execution_count": 7,
     "metadata": {},
     "output_type": "execute_result"
    }
   ],
   "source": [
    "DIAL_CODES = [\n",
    "     (86, 'China'),\n",
    "     (91, 'India'),\n",
    "     (1, 'United States'),\n",
    "     (62, 'Indonesia'),\n",
    "     (55, 'Brazil'),\n",
    "     (92, 'Pakistan'),\n",
    "     (880, 'Bangladesh'),\n",
    "     (234, 'Nigeria'),\n",
    "     (7, 'Russia'),\n",
    "     (81, 'Japan'),\n",
    "]\n",
    "country_code = {country: code for code, country in DIAL_CODES}\n",
    "print(country_code)\n",
    "{code: country.upper() for country, code in country_code.items()if code < 66}"
   ]
  },
  {
   "cell_type": "markdown",
   "metadata": {},
   "source": [
    "### 존재하지 않는 키를 ```setdefault()```로 처리하기\n",
    "\n",
    "* 존재하지 않는 키 ```k```로 ```d[k]```를 접근하면 ```dict```는 오류를 발생시킨다.\n",
    "* ```KeyError```를 처리하는 것보다 기본값을 사용하는 것이 더 편리한 경우에는 ```d[k]``` 대신 ```d.get(k, default)```를 사용한다.\n",
    "* 값을 갱신할 필요가 있고, 존재하지 않는 키를 조회할 경우가 있다면 ```setdefault(k, [default])```를 이용하는 것이 효율적이다. 이 함수는 ```k in d```가 참이면 ```d[k]```를 반환하고 아니면 ```d[k] = default```로 설정하고 반환한다.  "
   ]
  },
  {
   "cell_type": "code",
   "execution_count": null,
   "metadata": {},
   "outputs": [],
   "source": [
    "#ver1\n",
    "my_dict.setdefault(key, []).append(new_value)\n",
    "\n",
    "#ver2\n",
    "if key not in my_dict : my_dict[key] = []\n",
    "my_dict[key].append(new_value)"
   ]
  },
  {
   "cell_type": "markdown",
   "metadata": {},
   "source": [
    "* ver1과 ver2는 같은 결과를 내지만 ver1은 한번만 검색해서 ver2의 모든 과정을 수행하고 ver2의 경우 키를 두번(단어가 없을 때는 세 번)검색하게 된다."
   ]
  },
  {
   "cell_type": "markdown",
   "metadata": {},
   "source": [
    "### defaultdict : 존재하지 않는 키에 대한 또 다른 처리 방법\n",
    "\n",
    "* ```collections.defaultdict```을 이용해서 해결하는 방법이다. ```defaultdict```는 존재하지 않는 키로 검색할 때 요청 항목에 따라 항목을 생성하도록 설정되어 있다."
   ]
  },
  {
   "cell_type": "code",
   "execution_count": null,
   "metadata": {},
   "outputs": [],
   "source": [
    "import collections\n",
    "my_dict = collections.defaultdict()\n",
    "print(my_dict[new_key])\n",
    "print(my_dict.get(another_new_key))"
   ]
  },
  {
   "cell_type": "markdown",
   "metadata": {},
   "source": [
    "### ```__missing__()``` 메서드\n",
    "\n",
    "* ```dict``` 클래스를 상속하고 ```__missing__()``` 메서드를 정의하면, ```dict.__getitem__()``` 표준 메서드가 키를 반견할 수 없을 때 ```KeyError```를 발생시키지 않고 ```__missing__()``` 메서드를 호출한다."
   ]
  },
  {
   "cell_type": "code",
   "execution_count": 15,
   "metadata": {},
   "outputs": [],
   "source": [
    "class StrKeyDict0(dict) :\n",
    "\n",
    "    def __missing__(self, key) :\n",
    "        if isinstance(key, str) : raise KeyError(key)\n",
    "        return self[str(key)]\n",
    "\n",
    "    def get(self, key, default = None) :\n",
    "        try : return self[key]\n",
    "        except KeyError : return default\n",
    "\n",
    "    def __contains__(self, key) :\n",
    "        return key in self.keys() or str(key) in self.keys()"
   ]
  },
  {
   "cell_type": "markdown",
   "metadata": {},
   "source": [
    "### dict 와 set의 성능\n",
    "\n",
    "* ```list```에 비해서 매우 효율적이다. 해시 테이블 덕분에 자료형의 크기와 관계없이 거의 일정한 검색 시간이 걸린다.\n",
    "* 다만 ```dict```와 ```set```에 요소를 추가하면 요소들의 순서가 바뀔수 있다는걸 주의하자."
   ]
  }
 ],
 "metadata": {
  "kernelspec": {
   "display_name": "Python 3",
   "language": "python",
   "name": "python3"
  },
  "language_info": {
   "codemirror_mode": {
    "name": "ipython",
    "version": 3
   },
   "file_extension": ".py",
   "mimetype": "text/x-python",
   "name": "python",
   "nbconvert_exporter": "python",
   "pygments_lexer": "ipython3",
   "version": "3.7.1"
  }
 },
 "nbformat": 4,
 "nbformat_minor": 2
}
