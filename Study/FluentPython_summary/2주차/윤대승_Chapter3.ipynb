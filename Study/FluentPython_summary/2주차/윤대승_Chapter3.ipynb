{
 "cells": [
  {
   "cell_type": "markdown",
   "metadata": {},
   "source": [
    "# Chapter 3 - 딕셔너리와 집합\n",
    "\n",
    "dict는 파이썬 구현의 핵심 부분, 중요한 역할을 맡고 있어서 상당히 최적화 되어있다.<br>\n",
    "딕셔너리 뒤에는 해시 테이블이라는 엔진이 있으며 set도 해시 테이블을 이용해서 구현한다.<br>\n",
    "\n",
    "## 일반적인 매핑형\n",
    "\n",
    "표준 라이브러리에서 제공하는 매핑형은 모두 dict를 이용해서 구현.<br>\n",
    "키가 **해시 가능**해야 한다는 제한이 있다.<br>\n",
    "<br>\n",
    "해시 가능하다: 수명 주기동안 결코 변하지 않는 해시값을 갖고 있고(\\_\\_hash\\_\\_() 필요) 다른 객체와 비교할 수 있으면(\\_\\_eq\\_\\_() 필요), 객체를 해시 가능하다고 한다.\n",
    "<br>\n",
    "\n",
    "## 지능형 딕셔너리"
   ]
  },
  {
   "cell_type": "code",
   "execution_count": 1,
   "metadata": {},
   "outputs": [
    {
     "name": "stdout",
     "output_type": "stream",
     "text": [
      "{'China': 86, 'India': 91, 'South Korea': 82}\n"
     ]
    }
   ],
   "source": [
    "DIAL_CODES = [\n",
    "    (86, 'China'),\n",
    "    (91, 'India'),\n",
    "    (82, 'South Korea'),\n",
    "]\n",
    "\n",
    "country_code = { country: code for code, country in DIAL_CODES }\n",
    "print(country_code)"
   ]
  },
  {
   "cell_type": "code",
   "execution_count": 2,
   "metadata": {},
   "outputs": [
    {
     "name": "stdout",
     "output_type": "stream",
     "text": [
      "{123: ['asdf'], 456: ['zxcv'], 789: ['qwer'], 159: ['yuio'], 357: ['ghjk']}\n"
     ]
    }
   ],
   "source": [
    "# 딕셔너리에 존재하지 않는 키에 접근할 땐 setdefault()로 처리하는 것이 좋다.\n",
    "\n",
    "# 안 좋은 예\n",
    "my_dict = { 123: ['asdf'], 456: ['zxcv'], 789: ['qwer'] }\n",
    "\n",
    "if 159 not in my_dict:\n",
    "    my_dict[159] = []\n",
    "my_dict[159].append('yuio')\n",
    "\n",
    "# 좋은 예\n",
    "my_dict.setdefault(357, []).append('ghjk')\n",
    "\n",
    "print(my_dict)"
   ]
  },
  {
   "cell_type": "markdown",
   "metadata": {},
   "source": [
    "## \\_\\_missing\\_\\_() 메서드\n",
    "\n",
    "dict 클래스를 상속하고 \\_\\_missing\\_\\_() 메서드를 정의하면 dict.\\_\\_getitem\\_\\_() 표준 메서드가 키를 발견할 수 없을 때 KeyError를 발생하지 않고 \\_\\_missing\\_\\_() 메서드를 호출한다."
   ]
  },
  {
   "cell_type": "code",
   "execution_count": 3,
   "metadata": {},
   "outputs": [
    {
     "name": "stdout",
     "output_type": "stream",
     "text": [
      "asdf\n",
      "asdf\n",
      "Wa Sans!\n"
     ]
    }
   ],
   "source": [
    "class StrKeyDict0(dict):\n",
    "    def __missing__(self, key):\n",
    "        if isinstance(key, str):\n",
    "            raise KeyError(key)\n",
    "        return self[str(key)]\n",
    "    \n",
    "    def get(self, key, default=None):\n",
    "        try:\n",
    "            return self[key]\n",
    "        except:\n",
    "            return default\n",
    "        \n",
    "    def __contains__(self, key):\n",
    "        return key in self.keys() or str(key) in self.keys()\n",
    "\n",
    "    \n",
    "s = StrKeyDict0()\n",
    "s['123'] = 'asdf'\n",
    "s['456'] = 'zxcv'\n",
    "\n",
    "print(s[123]) # missing 메서드가 호출되어 '123'을 찾게 된다\n",
    "print(s.get(123, '@_@')) # key가 없으면 default 값인 '@_@'가 출력\n",
    "if 123 in s:\n",
    "    print('Wa Sans!') # 123이 없으면 '123'을 찾게 된다"
   ]
  },
  {
   "cell_type": "markdown",
   "metadata": {},
   "source": [
    "## 불변 매핑\n",
    "\n",
    "사용자가 실수로 매핑을 변경하지 못하도록 보장하고 싶을 때 사용한다.<br>\n",
    "파이썬 3.3 이후 types 모듈은 MappingProxyType이라는 래퍼 클래스를 제공한다."
   ]
  },
  {
   "cell_type": "code",
   "execution_count": 4,
   "metadata": {},
   "outputs": [
    {
     "name": "stdout",
     "output_type": "stream",
     "text": [
      "{1: 'A'}\n"
     ]
    }
   ],
   "source": [
    "from types import MappingProxyType\n",
    "\n",
    "d = { 1: 'A' }\n",
    "d_proxy = MappingProxyType(d)\n",
    "print(d_proxy)"
   ]
  },
  {
   "cell_type": "code",
   "execution_count": 5,
   "metadata": {},
   "outputs": [
    {
     "ename": "TypeError",
     "evalue": "'mappingproxy' object does not support item assignment",
     "output_type": "error",
     "traceback": [
      "\u001b[0;31m---------------------------------------------------------------------------\u001b[0m",
      "\u001b[0;31mTypeError\u001b[0m                                 Traceback (most recent call last)",
      "\u001b[0;32m<ipython-input-5-f585899a63cb>\u001b[0m in \u001b[0;36m<module>\u001b[0;34m\u001b[0m\n\u001b[0;32m----> 1\u001b[0;31m \u001b[0md_proxy\u001b[0m\u001b[0;34m[\u001b[0m\u001b[0;36m2\u001b[0m\u001b[0;34m]\u001b[0m \u001b[0;34m=\u001b[0m \u001b[0;34m'B'\u001b[0m\u001b[0;34m\u001b[0m\u001b[0;34m\u001b[0m\u001b[0m\n\u001b[0m",
      "\u001b[0;31mTypeError\u001b[0m: 'mappingproxy' object does not support item assignment"
     ]
    }
   ],
   "source": [
    "d_proxy[2] = 'B'"
   ]
  },
  {
   "cell_type": "code",
   "execution_count": 6,
   "metadata": {},
   "outputs": [
    {
     "name": "stdout",
     "output_type": "stream",
     "text": [
      "{1: 'A', 2: 'B'}\n"
     ]
    }
   ],
   "source": [
    "d[2] = 'B'\n",
    "print(d_proxy)"
   ]
  },
  {
   "cell_type": "markdown",
   "metadata": {},
   "source": [
    "## 집합\n",
    "\n",
    "집합은 중복을 허용하지 않는다. 해시 테이블을 사용하기 때문에 각 요소는 해시 가능해야 한다.<br>\n",
    "set은 해시 가능하지 않지만 frozenset은 해시 가능하므로 set이 frozenset을 요소로 가질 수 있다.<br>\n",
    "<br>\n",
    "공집합을 표현할 땐 {}를 사용할 수 없다(딕셔너리가 만들어짐). set()을 사용하자.<br>\n",
    "set([1, 2, 3])으로 생성자를 호출할 수도 있지만 {1, 2, 3}과 같이 리터럴 집합 구문을 사용할 수도 있다.<br>\n",
    "생성자를 명시하면 **생성자를 가져오기 위해 집합명을 검색하고, 리스트를 생성하고, 이 리스트를 생성자에 전달해야 하므로 더 느리다**.<br>\n",
    "\n",
    "## 지능형 집합\n",
    "\n",
    "지능형 딕셔너리와 비슷하게 지능형 집합도 가능하다."
   ]
  },
  {
   "cell_type": "code",
   "execution_count": 2,
   "metadata": {},
   "outputs": [
    {
     "name": "stdout",
     "output_type": "stream",
     "text": [
      "{5, 6, 7, 8, 9}\n"
     ]
    }
   ],
   "source": [
    "s = { i for i in range(10) }\n",
    "s &= { i for i in range(5, 15) }\n",
    "\n",
    "print(s)"
   ]
  },
  {
   "cell_type": "code",
   "execution_count": null,
   "metadata": {},
   "outputs": [],
   "source": []
  }
 ],
 "metadata": {
  "kernelspec": {
   "display_name": "Python 3",
   "language": "python",
   "name": "python3"
  },
  "language_info": {
   "codemirror_mode": {
    "name": "ipython",
    "version": 3
   },
   "file_extension": ".py",
   "mimetype": "text/x-python",
   "name": "python",
   "nbconvert_exporter": "python",
   "pygments_lexer": "ipython3",
   "version": "3.7.6"
  }
 },
 "nbformat": 4,
 "nbformat_minor": 4
}
