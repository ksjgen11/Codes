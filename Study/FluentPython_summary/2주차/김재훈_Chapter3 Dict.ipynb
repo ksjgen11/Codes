{
 "cells": [
  {
   "cell_type": "markdown",
   "metadata": {},
   "source": [
    "# 딕셔너리와 집합"
   ]
  },
  {
   "cell_type": "code",
   "execution_count": null,
   "metadata": {},
   "outputs": [],
   "source": [
    "dict 형은 파이썬의 핵심이다 \n",
    "해시테이블을 기반으로 상당히 빠르다 따라서 순서가 정해져있지 않다 대신 메모리를 많이 사용한다."
   ]
  },
  {
   "cell_type": "markdown",
   "metadata": {},
   "source": [
    "## dict compreshension"
   ]
  },
  {
   "cell_type": "code",
   "execution_count": 224,
   "metadata": {},
   "outputs": [],
   "source": [
    "# list of tuple\n",
    "DIAL_CODES = [(86, 'china'),(91, 'inida'),(1,'united states')] \n",
    "# list of tuple 의 값을 하나씩 뽑아서 unpacking을 하고 딕셔너리를 만든다 이때 키값은 country로 바꾼다\n",
    "country_code = {country: code for code,country in DIAL_CODES}\n",
    "# 딕셔너리의 키,값을 하나씩 뽑아서 새로운 딕셔너리를 만드는데 이때 code에 조건 값이 붙는다.\n",
    "d = {code : country.upper() for country, code in country_code.items() if code<90}"
   ]
  },
  {
   "cell_type": "markdown",
   "metadata": {},
   "source": [
    "### 딕셔너리 관련 메소드"
   ]
  },
  {
   "cell_type": "code",
   "execution_count": 227,
   "metadata": {},
   "outputs": [
    {
     "data": {
      "text/plain": [
       "'CHINA'"
      ]
     },
     "execution_count": 227,
     "metadata": {},
     "output_type": "execute_result"
    }
   ],
   "source": [
    "d.get(86) # 키를 이용해서 값을 가져온다"
   ]
  },
  {
   "cell_type": "code",
   "execution_count": 228,
   "metadata": {},
   "outputs": [
    {
     "data": {
      "text/plain": [
       "dict_items([(86, 'CHINA'), (1, 'UNITED STATES')])"
      ]
     },
     "execution_count": 228,
     "metadata": {},
     "output_type": "execute_result"
    }
   ],
   "source": [
    "d.items() # 키와 값 쌍으로 등록된 뷰를 가져온다."
   ]
  },
  {
   "cell_type": "code",
   "execution_count": 229,
   "metadata": {},
   "outputs": [
    {
     "data": {
      "text/plain": [
       "dict_keys([86, 1])"
      ]
     },
     "execution_count": 229,
     "metadata": {},
     "output_type": "execute_result"
    }
   ],
   "source": [
    "d.keys() # key에 대한 뷰를  가져온다.\n",
    "bd.values() # value에 대한 뷰를 가져온다"
   ]
  },
  {
   "cell_type": "markdown",
   "metadata": {},
   "source": [
    "## dict.update(key = value)"
   ]
  },
  {
   "cell_type": "code",
   "execution_count": 5,
   "metadata": {},
   "outputs": [
    {
     "data": {
      "text/plain": [
       "{'a': 90, 'b': 20, 'c': 30, 'd': 40}"
      ]
     },
     "execution_count": 5,
     "metadata": {},
     "output_type": "execute_result"
    }
   ],
   "source": [
    "x = {'a': 10, 'b': 20, 'c': 30, 'd': 40}\n",
    "x.update(a=90);x #update(키=값)은 이름 그대로 딕셔너리에서 키의 값을 수정합니다."
   ]
  },
  {
   "cell_type": "code",
   "execution_count": 6,
   "metadata": {},
   "outputs": [
    {
     "data": {
      "text/plain": [
       "{'a': 90, 'b': 20, 'c': 30, 'd': 40, 'e': 50}"
      ]
     },
     "execution_count": 6,
     "metadata": {},
     "output_type": "execute_result"
    }
   ],
   "source": [
    "x.update(e=50);x # 만약 딕셔너리에 키가 없으면 키-값 쌍을 추가합니다 "
   ]
  },
  {
   "cell_type": "code",
   "execution_count": null,
   "metadata": {},
   "outputs": [],
   "source": []
  },
  {
   "cell_type": "markdown",
   "metadata": {},
   "source": [
    "## dict.setdefault()\n",
    " - 검색 키가 존재하면 해당 키에 대한 값을 가져오고, 존재하지 않으면 기본값으로 해당키를 생성한 후 기본값을 반환한다"
   ]
  },
  {
   "cell_type": "code",
   "execution_count": 1,
   "metadata": {},
   "outputs": [
    {
     "data": {
      "text/plain": [
       "{'a': 10, 'b': 20, 'c': 30, 'd': 40, 'e': None}"
      ]
     },
     "execution_count": 1,
     "metadata": {},
     "output_type": "execute_result"
    }
   ],
   "source": [
    "x = {'a': 10, 'b': 20, 'c': 30, 'd': 40}\n",
    "x.setdefault('e')\n",
    "x\n",
    "#키값이 존재하지 않을 때 default value의 설정이나 default dict에 대해서 알아보자"
   ]
  },
  {
   "cell_type": "markdown",
   "metadata": {},
   "source": [
    "## collections.defaultdict()\n",
    " - 검색할때 키 값이 존재하지 않으면 어떤 특별한 값을 반환하는 매핑 [3.4 p118]"
   ]
  },
  {
   "cell_type": "markdown",
   "metadata": {},
   "source": [
    "## collection.OrderedDict()\n",
    " - 키를 삽입한 순서대로 유지함으로써 항목을 반복하는 순서를 예측할 수 있음 [3.5 p123]\n",
    " - popitem(last = True)를 통해 처음 삽입한 항목을 꺼내거나 혹은 반대로 마지막에 삽입한 항목을 꺼낼 수 있음 "
   ]
  }
 ],
 "metadata": {
  "kernelspec": {
   "display_name": "Python 3",
   "language": "python",
   "name": "python3"
  },
  "language_info": {
   "codemirror_mode": {
    "name": "ipython",
    "version": 3
   },
   "file_extension": ".py",
   "mimetype": "text/x-python",
   "name": "python",
   "nbconvert_exporter": "python",
   "pygments_lexer": "ipython3",
   "version": "3.8.5"
  }
 },
 "nbformat": 4,
 "nbformat_minor": 4
}
