{
 "cells": [
  {
   "cell_type": "markdown",
   "metadata": {},
   "source": [
    "# Tuple "
   ]
  },
  {
   "cell_type": "markdown",
   "metadata": {},
   "source": [
    "2-3-1 레코드(저장된 데이터의 Set, 데이터 객체 하나)로서의 튜플 : \n",
    "> 튜플은 단순한 불변하는 리스트가 아니다, 물론 튜플은 불변 리스트로 사용할 수 있지만, 필드명이 없는 레코드(저장데이터)로 사용할 수도 있다.\n",
    "> - 물론 주민등록번호같이 변하지 않는 정보를 튜플로 저장하면 정보가 변하지 않아서 저장하기에 좋다.\n",
    "> - 튜플의 각 항목은 레코드(저장된데이터)의 필드 하나를 의미하며 항목의 위치가 의미를 결정하므로 항목의 순서가 중요하다.\n",
    "> - 튜플은 언팩킹 기능이 있기 때문에 레코드(저장된데이터)로 사용하여 필요한 정보만 빼서 사용하기도 편리하다. "
   ]
  },
  {
   "cell_type": "markdown",
   "metadata": {},
   "source": [
    "2-3-2 튜플 언패킹 : *을 이용함"
   ]
  },
  {
   "cell_type": "code",
   "execution_count": 5,
   "metadata": {},
   "outputs": [
    {
     "data": {
      "text/plain": [
       "(2, 4)"
      ]
     },
     "execution_count": 5,
     "metadata": {},
     "output_type": "execute_result"
    }
   ],
   "source": [
    "divmod(20,8)"
   ]
  },
  {
   "cell_type": "code",
   "execution_count": 202,
   "metadata": {},
   "outputs": [
    {
     "data": {
      "text/plain": [
       "(2, 4)"
      ]
     },
     "execution_count": 202,
     "metadata": {},
     "output_type": "execute_result"
    }
   ],
   "source": [
    "t = (20,8); divmod(*t)"
   ]
  },
  {
   "cell_type": "code",
   "execution_count": 204,
   "metadata": {},
   "outputs": [
    {
     "name": "stdout",
     "output_type": "stream",
     "text": [
      "2 4\n"
     ]
    }
   ],
   "source": [
    "quo, rem = divmod(*t); print(quo , rem)"
   ]
  },
  {
   "cell_type": "code",
   "execution_count": 201,
   "metadata": {},
   "outputs": [
    {
     "data": {
      "text/plain": [
       "'idrs.pub'"
      ]
     },
     "execution_count": 201,
     "metadata": {},
     "output_type": "execute_result"
    }
   ],
   "source": [
    "# _를 이용해 관심없는 부분은 언패킹때 무시하는 placeholder\n",
    "import os\n",
    "_, filename = os.path.split('home/jaehoon/idrs.pub'); filename"
   ]
  },
  {
   "cell_type": "code",
   "execution_count": 209,
   "metadata": {},
   "outputs": [
    {
     "data": {
      "text/plain": [
       "(0, 1, [2, 3, 4])"
      ]
     },
     "execution_count": 209,
     "metadata": {},
     "output_type": "execute_result"
    }
   ],
   "source": [
    "# *을 이용해 초과항목을 잡아내는 placeholder\n",
    "a,b, *rest = range(5) ;a,b,rest"
   ]
  },
  {
   "cell_type": "code",
   "execution_count": 208,
   "metadata": {},
   "outputs": [
    {
     "data": {
      "text/plain": [
       "(0, [1, 2, 3], 4)"
      ]
     },
     "execution_count": 208,
     "metadata": {},
     "output_type": "execute_result"
    }
   ],
   "source": [
    "a,*rest,b = range(5) ; a, rest, b."
   ]
  },
  {
   "cell_type": "markdown",
   "metadata": {},
   "source": [
    "# NamedTuple\n",
    "2.3.4 튜플은 매우 편리하다, 그러나 레코드로 사용하기 부족해서 때로는 필드에 이름을 붙일 필요가 있다.<br>\n",
    "Named Tuple은 field name을 갖는 튜플이다 \n",
    "> collection.namedtuple()\n",
    "> - Subclass를 생성하는 함수이다 (class name 과 field name들을 포함하는 class) \n",
    "> - 따라서 불변의 순서를 갖는 dictionary 와 비슷한 자료형 , 키와 인덱스로 접근 가능 , 메모리 효율"
   ]
  },
  {
   "cell_type": "code",
   "execution_count": null,
   "metadata": {},
   "outputs": [],
   "source": [
    "> 서브클래스 Card의 예시\n",
    "Card = collections.namedtuple('Card' ,['rank','suit'])\n",
    "# namedtuple을 정의하기위해서는 두가지를 설정해줘야 함 classname과 list of field name\n",
    "-> 'Card': class name  \n",
    "-> ['rank','suit'] : list of field name"
   ]
  },
  {
   "cell_type": "code",
   "execution_count": 216,
   "metadata": {},
   "outputs": [
    {
     "data": {
      "text/plain": [
       "City(name='Tokyo', country='jp', population=36933, coordinates=(35, 139))"
      ]
     },
     "execution_count": 216,
     "metadata": {},
     "output_type": "execute_result"
    }
   ],
   "source": [
    "> 서브클래스 City의 예시\n",
    "\n",
    "City = collections.namedtuple('City', 'name country population coordinates')\n",
    "tokyo = City('Tokyo','jp',36933,(35,139));tokyo"
   ]
  },
  {
   "cell_type": "code",
   "execution_count": 217,
   "metadata": {},
   "outputs": [
    {
     "data": {
      "text/plain": [
       "(35, 139)"
      ]
     },
     "execution_count": 217,
     "metadata": {},
     "output_type": "execute_result"
    }
   ],
   "source": [
    "tokyo.coordinates"
   ]
  },
  {
   "cell_type": "code",
   "execution_count": 218,
   "metadata": {},
   "outputs": [
    {
     "data": {
      "text/plain": [
       "'jp'"
      ]
     },
     "execution_count": 218,
     "metadata": {},
     "output_type": "execute_result"
    }
   ],
   "source": [
    "tokyo[1]"
   ]
  },
  {
   "cell_type": "markdown",
   "metadata": {},
   "source": [
    "> 필드 이름의 구분"
   ]
  },
  {
   "cell_type": "code",
   "execution_count": 139,
   "metadata": {},
   "outputs": [],
   "source": [
    "from collections import namedtuple\n",
    "# 리스트로 구분\n",
    "Point1 = namedtuple('Point', ['x','y'])\n",
    "# 띄어쓰기로 구분\n",
    "Point2 = namedtuple('Point', 'x y')\n",
    "# 콤마로 구분\n",
    "Point3 = namedtuple('Point', 'x, y')\n",
    "# 중복되거나 예약어를 사용해야 하는 경우  rename = True로 하면 알아서 바꿔줌\n",
    "Point4 = namedtuple('Point', 'x, y, x, class', rename = True)"
   ]
  },
  {
   "cell_type": "code",
   "execution_count": 142,
   "metadata": {},
   "outputs": [
    {
     "name": "stdout",
     "output_type": "stream",
     "text": [
      "Point(x=1, y=2) Point(x=1, y=2) Point(x=1, y=2) Point(x=1, y=2, _2=3, _3='june')\n"
     ]
    }
   ],
   "source": [
    "print( Point1(1,2), Point2(1,2), Point3(1,2), Point4(1,2,3,'june'))"
   ]
  },
  {
   "cell_type": "markdown",
   "metadata": {},
   "source": [
    "> 중요 Ditionary 를 Unpacking하여 named tuple로 작성 **을 이용함"
   ]
  },
  {
   "cell_type": "code",
   "execution_count": 152,
   "metadata": {},
   "outputs": [
    {
     "data": {
      "text/plain": [
       "Point(x=40, y=3)"
      ]
     },
     "execution_count": 152,
     "metadata": {},
     "output_type": "execute_result"
    }
   ],
   "source": [
    "temp_dict = {'x': 40 ,'y':3}\n",
    "point = Point1(**temp_dict)\n",
    "point"
   ]
  },
  {
   "cell_type": "code",
   "execution_count": null,
   "metadata": {},
   "outputs": [],
   "source": []
  },
  {
   "cell_type": "markdown",
   "metadata": {},
   "source": [
    "# 1.4 왜 len()은 메서드가 아닐까에 대한 대답? 이거는 아직 못찾음"
   ]
  },
  {
   "cell_type": "code",
   "execution_count": null,
   "metadata": {},
   "outputs": [],
   "source": []
  },
  {
   "cell_type": "markdown",
   "metadata": {},
   "source": [
    "# List"
   ]
  },
  {
   "cell_type": "code",
   "execution_count": null,
   "metadata": {},
   "outputs": [],
   "source": [
    "list에는 여러 자료형을 넣을 수 있지만, 보통 공통된 연산을 위해 같은 자료형을 넣는다 \n",
    " + tuple 은 다른 자료형을 종종 넣음 ; 각 항목이 하나의 필드이며 서로 독립적이고 자연스러움"
   ]
  },
  {
   "cell_type": "markdown",
   "metadata": {},
   "source": [
    "### List Comprehension\n",
    "시퀀스용 자료형을 생성하는 강력한 표기법"
   ]
  },
  {
   "cell_type": "code",
   "execution_count": 1,
   "metadata": {},
   "outputs": [],
   "source": [
    "colors = ['black', 'white']\n",
    "sizes = [ 's','m','l']"
   ]
  },
  {
   "cell_type": "code",
   "execution_count": 4,
   "metadata": {},
   "outputs": [
    {
     "data": {
      "text/plain": [
       "[('black', 's'),\n",
       " ('white', 's'),\n",
       " ('black', 'm'),\n",
       " ('white', 'm'),\n",
       " ('black', 'l'),\n",
       " ('white', 'l')]"
      ]
     },
     "execution_count": 4,
     "metadata": {},
     "output_type": "execute_result"
    }
   ],
   "source": [
    "tshirts = [(color,size) for size in sizes for color in colors]; tshirts"
   ]
  },
  {
   "cell_type": "markdown",
   "metadata": {},
   "source": [
    "### list.sort()와 sorted()  [ 2.7 ] "
   ]
  },
  {
   "cell_type": "code",
   "execution_count": null,
   "metadata": {},
   "outputs": [],
   "source": [
    "list.sort()는 복사본을 만들지 않고 리스트 내부를 변경해서 정렬\n",
    "sort()는 타깃 객체(list)를 변경하고 새로운 리스트를 변경하지 않음 -> None을 반환함(새로운객체가 생성되지 않음을 호출자에 알려주는 관례)\n",
    "\n",
    "sorted() 내장함수는 새로운 리스트를 생성해서 반환함\n",
    "인자로 반복가능한 모든 객체를 받을 수 잇음\n",
    "\n",
    "list.sort()와 sorted()모두 두개의 선택 키워드를 인수로 받음\n",
    "    - reverse : 내림차순 기본값은 False\n",
    "    - key : 정렬에 사용할 키를 생성하기 위해 ??"
   ]
  },
  {
   "cell_type": "code",
   "execution_count": 1,
   "metadata": {},
   "outputs": [
    {
     "name": "stdout",
     "output_type": "stream",
     "text": [
      "['apple', 'banana', 'grape', 'raspberry']\n",
      "['grape', 'raspberry', 'apple', 'banana']\n",
      "['raspberry', 'grape', 'banana', 'apple']\n",
      "['grape', 'apple', 'banana', 'raspberry']\n",
      "['raspberry', 'banana', 'grape', 'apple']\n",
      "['grape', 'raspberry', 'apple', 'banana']\n",
      "None\n",
      "['apple', 'banana', 'grape', 'raspberry']\n"
     ]
    }
   ],
   "source": [
    "fruits=['grape', 'raspberry', 'apple', 'banana']\n",
    "print(sorted(fruits))\n",
    "print(fruits)\n",
    "print(sorted(fruits, reverse=True))\n",
    "print(sorted(fruits, key=len))\n",
    "print(sorted(fruits, key=len, reverse=True))\n",
    "print(fruits)\n",
    "print(fruits.sort())\n",
    "print(fruits)"
   ]
  },
  {
   "cell_type": "code",
   "execution_count": null,
   "metadata": {},
   "outputs": [],
   "source": []
  },
  {
   "cell_type": "code",
   "execution_count": null,
   "metadata": {},
   "outputs": [],
   "source": []
  },
  {
   "cell_type": "markdown",
   "metadata": {},
   "source": [
    "# 딕셔너리와 집합"
   ]
  },
  {
   "cell_type": "code",
   "execution_count": null,
   "metadata": {},
   "outputs": [],
   "source": [
    "dict 형은 파이썬의 핵심이다 \n",
    "해시테이블을 기반으로 상당히 빠르다 따라서 순서가 정해져있지 않다 대신 메모리를 많이 사용한다."
   ]
  },
  {
   "cell_type": "markdown",
   "metadata": {},
   "source": [
    "## dict compreshension"
   ]
  },
  {
   "cell_type": "code",
   "execution_count": 224,
   "metadata": {},
   "outputs": [],
   "source": [
    "# list of tuple\n",
    "DIAL_CODES = [(86, 'china'),(91, 'inida'),(1,'united states')] \n",
    "# list of tuple 의 값을 하나씩 뽑아서 unpacking을 하고 딕셔너리를 만든다 이때 키값은 country로 바꾼다\n",
    "country_code = {country: code for code,country in DIAL_CODES}\n",
    "# 딕셔너리의 키,값을 하나씩 뽑아서 새로운 딕셔너리를 만드는데 이때 code에 조건 값이 붙는다.\n",
    "d = {code : country.upper() for country, code in country_code.items() if code<90}"
   ]
  },
  {
   "cell_type": "markdown",
   "metadata": {},
   "source": [
    "### 딕셔너리 관련 메소드"
   ]
  },
  {
   "cell_type": "code",
   "execution_count": 227,
   "metadata": {},
   "outputs": [
    {
     "data": {
      "text/plain": [
       "'CHINA'"
      ]
     },
     "execution_count": 227,
     "metadata": {},
     "output_type": "execute_result"
    }
   ],
   "source": [
    "d.get(86) # 키를 이용해서 값을 가져온다"
   ]
  },
  {
   "cell_type": "code",
   "execution_count": 228,
   "metadata": {},
   "outputs": [
    {
     "data": {
      "text/plain": [
       "dict_items([(86, 'CHINA'), (1, 'UNITED STATES')])"
      ]
     },
     "execution_count": 228,
     "metadata": {},
     "output_type": "execute_result"
    }
   ],
   "source": [
    "d.items() # 키와 값 쌍으로 등록된 뷰를 가져온다."
   ]
  },
  {
   "cell_type": "code",
   "execution_count": 229,
   "metadata": {},
   "outputs": [
    {
     "data": {
      "text/plain": [
       "dict_keys([86, 1])"
      ]
     },
     "execution_count": 229,
     "metadata": {},
     "output_type": "execute_result"
    }
   ],
   "source": [
    "d.keys() # key에 대한 뷰를  가져온다.\n",
    "bd.values() # value에 대한 뷰를 가져온다"
   ]
  },
  {
   "cell_type": "markdown",
   "metadata": {},
   "source": [
    "## dict.update(key = value)"
   ]
  },
  {
   "cell_type": "code",
   "execution_count": 5,
   "metadata": {},
   "outputs": [
    {
     "data": {
      "text/plain": [
       "{'a': 90, 'b': 20, 'c': 30, 'd': 40}"
      ]
     },
     "execution_count": 5,
     "metadata": {},
     "output_type": "execute_result"
    }
   ],
   "source": [
    "x = {'a': 10, 'b': 20, 'c': 30, 'd': 40}\n",
    "x.update(a=90);x #update(키=값)은 이름 그대로 딕셔너리에서 키의 값을 수정합니다."
   ]
  },
  {
   "cell_type": "code",
   "execution_count": 6,
   "metadata": {},
   "outputs": [
    {
     "data": {
      "text/plain": [
       "{'a': 90, 'b': 20, 'c': 30, 'd': 40, 'e': 50}"
      ]
     },
     "execution_count": 6,
     "metadata": {},
     "output_type": "execute_result"
    }
   ],
   "source": [
    "x.update(e=50);x # 만약 딕셔너리에 키가 없으면 키-값 쌍을 추가합니다 "
   ]
  },
  {
   "cell_type": "code",
   "execution_count": null,
   "metadata": {},
   "outputs": [],
   "source": []
  },
  {
   "cell_type": "markdown",
   "metadata": {},
   "source": [
    "## dict.setdefault()\n",
    " - 검색 키가 존재하면 해당 키에 대한 값을 가져오고, 존재하지 않으면 기본값으로 해당키를 생성한 후 기본값을 반환한다"
   ]
  },
  {
   "cell_type": "code",
   "execution_count": 1,
   "metadata": {},
   "outputs": [
    {
     "data": {
      "text/plain": [
       "{'a': 10, 'b': 20, 'c': 30, 'd': 40, 'e': None}"
      ]
     },
     "execution_count": 1,
     "metadata": {},
     "output_type": "execute_result"
    }
   ],
   "source": [
    "x = {'a': 10, 'b': 20, 'c': 30, 'd': 40}\n",
    "x.setdefault('e')\n",
    "x\n",
    "#키값이 존재하지 않을 때 default value의 설정이나 default dict에 대해서 알아보자"
   ]
  },
  {
   "cell_type": "markdown",
   "metadata": {},
   "source": [
    "## collections.defaultdict()\n",
    " - 검색할때 키 값이 존재하지 않으면 어떤 특별한 값을 반환하는 매핑 [3.4 p118]"
   ]
  },
  {
   "cell_type": "markdown",
   "metadata": {},
   "source": [
    "## collection.OrderedDict()\n",
    " - 키를 삽입한 순서대로 유지함으로써 항목을 반복하는 순서를 예측할 수 있음 [3.5 p123]\n",
    " - popitem(last = True)를 통해 처음 삽입한 항목을 꺼내거나 혹은 반대로 마지막에 삽입한 항목을 꺼낼 수 있음 "
   ]
  }
 ],
 "metadata": {
  "kernelspec": {
   "display_name": "Python 3",
   "language": "python",
   "name": "python3"
  },
  "language_info": {
   "codemirror_mode": {
    "name": "ipython",
    "version": 3
   },
   "file_extension": ".py",
   "mimetype": "text/x-python",
   "name": "python",
   "nbconvert_exporter": "python",
   "pygments_lexer": "ipython3",
   "version": "3.8.5"
  }
 },
 "nbformat": 4,
 "nbformat_minor": 4
}
