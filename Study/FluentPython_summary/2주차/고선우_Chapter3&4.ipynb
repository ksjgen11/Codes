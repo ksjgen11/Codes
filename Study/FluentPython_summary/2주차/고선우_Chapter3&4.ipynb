{
 "cells": [
  {
   "cell_type": "markdown",
   "metadata": {},
   "source": [
    "# 3. Dictionary and Set"
   ]
  },
  {
   "cell_type": "markdown",
   "metadata": {},
   "source": [
    "## 3.1 Dictionary\n",
    "### 가. Dict 소개"
   ]
  },
  {
   "cell_type": "code",
   "execution_count": 42,
   "metadata": {},
   "outputs": [
    {
     "data": {
      "text/plain": [
       "True"
      ]
     },
     "execution_count": 42,
     "metadata": {},
     "output_type": "execute_result"
    }
   ],
   "source": [
    "my_dict = {}\n",
    "import collections\n",
    "isinstance(my_dict, collections.abc.Mapping)"
   ]
  },
  {
   "cell_type": "markdown",
   "metadata": {},
   "source": [
    "$\\texttt{dict}$ 형은 $\\texttt{collections.abc.Mapping}$ 클래스의 인스턴스이다.  \n",
    "※ 참고 ─ $\\text{isinstance(object, class)}$ 함수는 $\\text{object}$가 $\\texttt{class}$의 인스턴스인지를 판단하는 함수이다.\n",
    "\n",
    "한편, 표준 라이브러리에서 제공하는 매핑형은 모두 $\\texttt{dict}$를 이용해서 구현하므로, 키가 **해시 가능**해야 한다(값은 상관 없다).  \n",
    "\n",
    "※ 참고 ─ 해시 가능하다의 정의는 다음과 같다: 수명 주기 동안 결코 변하지 않는 해시값을 갖고 있고(다른 말로 \\_\\_hash\\_\\_() 메서드가 필요), 다른 객체와 비교할 수 있으면(다른 말로 \\_\\_eq\\_\\_() 메서드가 필요) 객체를 해시 가능하다고 한다."
   ]
  },
  {
   "cell_type": "markdown",
   "metadata": {},
   "source": [
    "### 나. Dict 생성"
   ]
  },
  {
   "cell_type": "markdown",
   "metadata": {},
   "source": [
    "* 일반적인 생성 방법"
   ]
  },
  {
   "cell_type": "code",
   "execution_count": 60,
   "metadata": {
    "scrolled": false
   },
   "outputs": [
    {
     "name": "stdout",
     "output_type": "stream",
     "text": [
      "True\n"
     ]
    }
   ],
   "source": [
    "a = dict(one = 1, two = 2, three = 3)\n",
    "b = {'one': 1, 'two': 2, 'three': 3}\n",
    "c = dict(zip(['one', 'two', 'three'], [1, 2, 3]))\n",
    "d = dict([('one', 1), ('two', 2), ('three', 3)])\n",
    "e = dict({'three': 3, 'one': 1, 'two': 2})\n",
    "print(a == b == c == d == e)"
   ]
  },
  {
   "cell_type": "markdown",
   "metadata": {},
   "source": [
    "여기서 $\\text{zip(*iterable)}$은 동일한 개수로 이루어진 자료형을 묶어 주는 역할을 하는 함수이다.  \n",
    "$\\texttt{dict}$ 자료형은 넣는 순서에 상관없다는 것을 주목하자."
   ]
  },
  {
   "cell_type": "markdown",
   "metadata": {},
   "source": [
    "* Dict Comprehension"
   ]
  },
  {
   "cell_type": "code",
   "execution_count": 41,
   "metadata": {
    "scrolled": true
   },
   "outputs": [
    {
     "name": "stdout",
     "output_type": "stream",
     "text": [
      "{'China': 86, 'India': 91, 'United States': 1, 'Indonesia': 62, 'Brazil': 55, 'Russia': 7}\n"
     ]
    }
   ],
   "source": [
    "Dial_Codes = [\n",
    "    (86, 'China'),\n",
    "    (91, 'India'),\n",
    "    (1, 'United States'),\n",
    "    (62, 'Indonesia'),\n",
    "    (55, 'Brazil'),\n",
    "    (7, 'Russia')\n",
    "]\n",
    "country_code = {country: code for code, country in Dial_Codes}\n",
    "print(country_code)"
   ]
  },
  {
   "cell_type": "markdown",
   "metadata": {},
   "source": [
    "List Comprehension과 비슷하다."
   ]
  },
  {
   "cell_type": "markdown",
   "metadata": {},
   "source": [
    "## 3.2 융통성 있는 키(key) 조회\n",
    "### 가. setdefault"
   ]
  },
  {
   "cell_type": "code",
   "execution_count": 57,
   "metadata": {},
   "outputs": [],
   "source": [
    "#1\n",
    "my_dict.setdefault(key, []).append(new_value)\n",
    "\n",
    "#2\n",
    "if key not in my_dict : my_dict[key] = []\n",
    "my_dict[eky].append(new_value)"
   ]
  },
  {
   "cell_type": "markdown",
   "metadata": {},
   "source": [
    "존재하지 않는 키 $k$로 $d[k]$를 접근할 경우 $\\texttt{dict}$ 형은 $\\texttt{KeyError}$를 발생시킨다.  \n",
    "\n",
    "값을 갱신할 필요가 있고, 존재하지 않는 키를 조회할 경우가 있다면 $\\text{setdefault(k, [default])}$를 이용하는 것이 효율적이다. 이 함수는 $\\text{k in d}$가 참이면 $d[k]$를 반환하고 아니면 $d[k]$ $=$ $\\text{default}$로 설정하고 반환한다.  \n",
    "\n",
    "1#과 2#은 같은 결과를 내는 코드이지만, 위의 코드는 단 한 번의 검색을 하는 것에 비해 아래 코드는 같은 키를 최대 3번까지 검색하게 된다."
   ]
  },
  {
   "cell_type": "markdown",
   "metadata": {},
   "source": [
    "### 나. defaultdict  "
   ]
  },
  {
   "cell_type": "code",
   "execution_count": 65,
   "metadata": {},
   "outputs": [],
   "source": [
    "import collections\n",
    "mydict = collections.defaultdict()\n",
    "print(mydict[new_key])\n",
    "print(mydict.get(another_new_key))  # None"
   ]
  },
  {
   "cell_type": "markdown",
   "metadata": {},
   "source": [
    "혹은 $\\texttt{collections.defaultdict}$을 이용하는 방법도 있다. 이 녀석은 존재하지 않는 키로 검색할 때 요청에 따라 항목을 생성하는 놈이다.  \n",
    "\n",
    "동작 원리는 다음과 같다: $\\texttt{defaultdict}$ 객체를 생성할 때 존재하지 않는 키 인수로 \\_\\_getitem\\_\\_()을 호출할 때마다 기본값을 생성하기 위해 사용되는 콜러블을 제공한다.  \n",
    "\n",
    "따라서 $mydict[k]$를 호출하면 기본값을 생성하지만, mydict.get(k)는 $\\texttt{None}$을 반환하게 된다. 이 점 **주의**하자."
   ]
  },
  {
   "cell_type": "markdown",
   "metadata": {},
   "source": [
    "### 다. \\_\\_missing\\_\\_()"
   ]
  },
  {
   "cell_type": "code",
   "execution_count": 66,
   "metadata": {},
   "outputs": [],
   "source": [
    "class StrKeyDict0(dict) :\n",
    "\n",
    "    def __missing__(self, key) :\n",
    "        if isinstance(key, str) : raise KeyError(key)\n",
    "        return self[str(key)]\n",
    "\n",
    "    def get(self, key, default = None) :\n",
    "        try : return self[key]\n",
    "        except KeyError : return default\n",
    "\n",
    "    def __contains__(self, key) :\n",
    "        return key in self.keys() or str(key) in self.keys()"
   ]
  },
  {
   "cell_type": "markdown",
   "metadata": {},
   "source": [
    "$\\texttt{dict}$ 클래스를 상속하고 \\_\\_missing\\_\\_() 메서드를 정의하는 방법도 있다."
   ]
  },
  {
   "cell_type": "markdown",
   "metadata": {},
   "source": [
    "## 3.3 그 외 매핑형"
   ]
  },
  {
   "cell_type": "markdown",
   "metadata": {},
   "source": [
    "$\\texttt{OrderedDict} :$ 키를 삽입한 순서대로 유지함으로써 항목을 반복하는 순서를 예측할 수 있게 해 준다.  \n",
    "\n",
    "$\\texttt{ChainMap} :$ 매핑들의 목록을 담고 있으며 한꺼번에 모두 검색 가능하다. 각 매핑을 차례대로 검색하고, 그중 하나에서라도 키가 검색되면 검색 성공.\n",
    "\n",
    "$\\texttt{Counter} :$ 모든 키에 정수형 카운터가 달려 있음. 기존 키를 갱신할 때마다 카운터가 증가한다.\n",
    "\n",
    "$\\texttt{UserDict} :$ $\\texttt{dict}$보다 $\\texttt{UserDict}$를 상속해서 매핑형을 만드는 게 쉽다고 한다. 내장 클래스를 상속할 때 문제가 발생한다는데, 이에 대해선 12장에서 배우는 듯. 여튼 이 클래스가 $\\texttt{Mapping}$ 클래스를 상속하므로 매핑의 모든 기능을 가진다. 아래는 이를 사용한 예시 코드."
   ]
  },
  {
   "cell_type": "code",
   "execution_count": 67,
   "metadata": {},
   "outputs": [],
   "source": [
    "import collections\n",
    "\n",
    "class StrKeyDict(collections.UserDict) :\n",
    "\n",
    "    def __missing__(self, key) :\n",
    "        if isinstance(key, str) : raise KeyError(key)\n",
    "        return self[str(key)]\n",
    "\n",
    "    def __contains__(self, key) :\n",
    "        return str(key) in self.data\n",
    "\n",
    "    def __setitem__(self, key, item) :\n",
    "        self.data[str(key)] = item"
   ]
  },
  {
   "cell_type": "markdown",
   "metadata": {},
   "source": [
    "$\\texttt{MappingProxyType} :$ 불변 매핑으로, 원래 매핑의 동적인 뷰를 제공하나 읽기 전용이다."
   ]
  },
  {
   "cell_type": "markdown",
   "metadata": {},
   "source": [
    "## 3.4 Set\n",
    "### 가. Set 소개"
   ]
  },
  {
   "cell_type": "markdown",
   "metadata": {},
   "source": [
    "집합형은 비교적 최근에 추가되었고, 자주 사용되는 편은 아니다. $\\texttt{set}$, 그리고 이의 불변형인 $\\texttt{frozenset}$이 있다.  \n",
    "\n",
    "집합은 고유한 객체의 모음으로, 기본적으로 **중복 항목을 제거**한다. (C++의 set과 유사함을 알 수 있다.) 이때 집합의 각 요소는 반드시 해시 가능해야 한다. 그래서 불변형인 $\\texttt{frozenset}$은 $\\texttt{set}$의 원소로 사용할 수 있다. 물론 반대는 불가능. (이 무슨...?)  \n",
    "\n",
    "집합이라는 이름 그대로, 수학에서의 집합 연산(합집합, 교집합 등)을 파이썬에서도 그대로 사용할 수 있다."
   ]
  },
  {
   "cell_type": "code",
   "execution_count": 68,
   "metadata": {},
   "outputs": [
    {
     "name": "stdout",
     "output_type": "stream",
     "text": [
      "<class 'set'>\n",
      "{1}\n",
      "set()\n"
     ]
    }
   ],
   "source": [
    "s = {1}\n",
    "print(type(s))\n",
    "print(s)\n",
    "s.pop()\n",
    "print(s)"
   ]
  },
  {
   "cell_type": "markdown",
   "metadata": {},
   "source": [
    "위 코드에서 보듯이 수학 집합 표기법과 동일하게 중괄호({})로 표기하면 된다. 그런데 공집합의 경우, {}라고 나타내면 빈 딕셔너리가 되므로 $\\text{set()}$이라 표기하여야 한다.  \n",
    "\n",
    "참고로 set([1, 2, 3])보다 {1, 2, 3}이 더 빠르다.\n",
    "\n",
    "집합형의 메서드 종류 또한 생략한다. 그냥 책을 보자."
   ]
  },
  {
   "cell_type": "markdown",
   "metadata": {},
   "source": [
    "### 나. Set Comprehension"
   ]
  },
  {
   "cell_type": "code",
   "execution_count": 71,
   "metadata": {},
   "outputs": [
    {
     "name": "stdout",
     "output_type": "stream",
     "text": [
      "{9, 3, 5, 7}\n"
     ]
    }
   ],
   "source": [
    "s = {x for x in range(3, 10, 2)}\n",
    "print(s)"
   ]
  },
  {
   "cell_type": "markdown",
   "metadata": {},
   "source": [
    "List/Dict Comprehension과 비슷하다."
   ]
  },
  {
   "cell_type": "markdown",
   "metadata": {},
   "source": [
    "## 3.5 Dict and Set vs. List"
   ]
  },
  {
   "cell_type": "markdown",
   "metadata": {},
   "source": [
    "$\\texttt{dict}$과 $\\texttt{set}$은 ($\\texttt{list}$에 비해) 굉장히 **효율적**이다.  \n",
    "$\\texttt{list}$의 경우, 항목 검색 시 자료형의 크기에 비례하는 시간이 걸리지만, $\\texttt{dict}$과 $\\texttt{set}$의 경우 자료형의 크기에 관계없이 거의 일정한 시간이 걸린다. $→$ 어떻게? 해시 테이블 덕분!  \n",
    "\n",
    "해시 테이블은 희소 배열(sparse array) 형태를 띤다. 즉 속도를 얻고자 메모리를 포기한 케이스  \n",
    "\n",
    "참고) $\\texttt{dict}$과 $\\texttt{set}$에 요소를 추가하면 다른 요소의 순서가 바뀔 수 있다."
   ]
  },
  {
   "cell_type": "markdown",
   "metadata": {},
   "source": [
    "# 4. Text and Bytes"
   ]
  },
  {
   "cell_type": "markdown",
   "metadata": {},
   "source": [
    "## 4.1 문자"
   ]
  },
  {
   "cell_type": "code",
   "execution_count": 4,
   "metadata": {},
   "outputs": [
    {
     "name": "stdout",
     "output_type": "stream",
     "text": [
      "len(s) = 4\n",
      "b = b'caf\\xc3\\xa9'\n",
      "len(b) = 5\n",
      "café\n"
     ]
    }
   ],
   "source": [
    "s = 'café'\n",
    "print('len(s) =', len(s))\n",
    "\n",
    "b = s.encode('utf8')\n",
    "print('b =', b)\n",
    "print('len(b) =', len(b))\n",
    "\n",
    "print(b.decode('utf8'))"
   ]
  },
  {
   "cell_type": "markdown",
   "metadata": {},
   "source": [
    "문자열 = '문자'의 열. 그렇다면 '문자' = ? $→$ 이에 대한 답이 바로 **유니코드**  \n",
    "Python3의 str 객체는 유니코드 문자지만 Python2의 str은 유니코드가 아니다.  \n",
    "\n",
    "코드 포인트 : 문자의 단위 원소. 10진수로 0~1,114,111까지의 수. 여기다가 'U+'를 앞에 붙여서 유니코드를 표현함.  \n",
    "인코딩 : 코드 포인트 $→$ 바이트 / 디코딩 : 바이트 $→$ 코드 포인트\n",
    "\n",
    "여러 가지 인코딩 방식이 있기 때문에, 잘못된 코덱(인코딩과 디코딩을 합쳐 부르는 말)을 사용할 경우 에러가 날 수 있다. 이 에러를 핸들링하는 건 당장은 필요 없을 듯하여 생략."
   ]
  },
  {
   "cell_type": "markdown",
   "metadata": {},
   "source": [
    "## 4.2 바이트"
   ]
  },
  {
   "cell_type": "markdown",
   "metadata": {},
   "source": [
    "이진 시퀀스를 나타내는 내장 자료형에는 불변형 $\\texttt{bytes}$와 가변형 $\\texttt{bytearray}$ 두 가지가 존재한다.  \n",
    "\n",
    "$\\texttt{struct}$ 모듈을 이용해서 패킹된 바이트를 다양한 형의 필드로 구성된 튜플로 분석하고, 반대로 튜플을 패킹된 바이트로 변환할 수 있다."
   ]
  },
  {
   "cell_type": "markdown",
   "metadata": {},
   "source": [
    "## 4.3 번외(?)"
   ]
  },
  {
   "cell_type": "markdown",
   "metadata": {},
   "source": [
    "텍스트를 처리하는 가장 좋은 방법 : **유니코드 샌드위치**  \n",
    "* 입력 시에는 가능한 한 빨리 $\\texttt{bytes}$를 $\\texttt{str}$로 변환\n",
    "* 중간 처리 과정에서는 100% $\\texttt{str}$만 사용하는 것이 좋다.\n",
    "* 출력 시에는 가능한 한 늦게 $\\texttt{str}$를 $\\texttt{bytes}$로 변환\n",
    "\n",
    "이 과정에서 인코딩 방식에 항상 주의하자."
   ]
  },
  {
   "cell_type": "markdown",
   "metadata": {},
   "source": [
    "...나머지는 여기에 적을 만한 내용은 아닌 것 같아 생략한다."
   ]
  }
 ],
 "metadata": {
  "kernelspec": {
   "display_name": "Python 3",
   "language": "python",
   "name": "python3"
  },
  "language_info": {
   "codemirror_mode": {
    "name": "ipython",
    "version": 3
   },
   "file_extension": ".py",
   "mimetype": "text/x-python",
   "name": "python",
   "nbconvert_exporter": "python",
   "pygments_lexer": "ipython3",
   "version": "3.7.1"
  }
 },
 "nbformat": 4,
 "nbformat_minor": 2
}
