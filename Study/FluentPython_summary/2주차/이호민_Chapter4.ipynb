{
 "cells": [
  {
   "cell_type": "markdown",
   "metadata": {},
   "source": [
    "# 전문가를 위한 파이썬\n",
    "\n",
    "## part 2\n",
    "\n",
    "## 챕터4\n",
    "\n",
    "### 문자 문제\n",
    "\n",
    "* 문자열은 문자의 열이라고 볼 수 있다. 그러면 \"문자\"의 정의는 무엇일까?\n",
    "    -> 현재 \"문자\"를 가장 잘 정의한 것은 유니코드 문자다.\n",
    "* 파이썬 3 ```str```에서 가져오는 항목도 유니코드 문자다."
   ]
  },
  {
   "cell_type": "code",
   "execution_count": 3,
   "metadata": {},
   "outputs": [
    {
     "name": "stdout",
     "output_type": "stream",
     "text": [
      "4\n",
      "b'caf\\xc3\\xa9'\n",
      "5\n",
      "café\n"
     ]
    }
   ],
   "source": [
    "s = 'café'\n",
    "print(len(s))\n",
    "\n",
    "b = s.encode('utf8')\n",
    "print(b)\n",
    "print(len(b))\n",
    "\n",
    "print(b.decode('utf8'))"
   ]
  },
  {
   "cell_type": "markdown",
   "metadata": {},
   "source": [
    "* 파이썬 3의 ```bytes```는 단지 이전의 ```str``` 클래스의 이름을 변경한 것이 아니며, 이와 밀접하게 연관되어 있는 ```bytearray``` 형도 있다."
   ]
  },
  {
   "cell_type": "markdown",
   "metadata": {},
   "source": [
    "### 바이트에 대한 기본 지식\n",
    "\n",
    "* 이진 시퀀스를 나타내는 내장 자요형은 불변인 ```bytes```와 가변인 ```bytearray```가 있다.\n",
    "* ```struct``` 모듈은 패킹된 바이트를 다양한 형의 필드로 구성된 튜블로 분석하고, 이와 반대로 튜플을 패킹된 바이트로 변환하는 함수를 제공한다."
   ]
  },
  {
   "cell_type": "code",
   "execution_count": 5,
   "metadata": {},
   "outputs": [
    {
     "name": "stdout",
     "output_type": "stream",
     "text": [
      "b'caf\\xc3\\xa9'\n",
      "99\n",
      "b'c'\n",
      "bytearray(b'caf\\xc3\\xa9')\n",
      "bytearray(b'\\xa9')\n"
     ]
    }
   ],
   "source": [
    "cafe = bytes('café', encoding='utf_8')\n",
    "print(cafe)\n",
    "print(cafe[0])\n",
    "print(cafe[:1])\n",
    "cafe_arr = bytearray(cafe)\n",
    "print(cafe_arr)\n",
    "print(cafe_arr[-1:])"
   ]
  },
  {
   "cell_type": "markdown",
   "metadata": {},
   "source": [
    "### BOM : 유용한 깨진 문자"
   ]
  },
  {
   "cell_type": "code",
   "execution_count": 6,
   "metadata": {},
   "outputs": [
    {
     "name": "stdout",
     "output_type": "stream",
     "text": [
      "b'\\xff\\xfeE\\x00l\\x00 \\x00N\\x00i\\x00\\xf1\\x00o\\x00'\n"
     ]
    }
   ],
   "source": [
    "u16 = 'El Niño'.encode('utf_16')\n",
    "print(u16)"
   ]
  },
  {
   "cell_type": "markdown",
   "metadata": {},
   "source": [
    "* ```b'\\xff\\xfe'``` 문자가 앞에 나온 것을 볼 수 있다. 이 문자가 바로 바이트 순서 표시(BOM)로, 인코딩한 인텔 CPU의 '리틀엔디언'바이트 순서를 나타낸다.\n",
    "* BOM은 리틀엔디언/빅엔디언으로 발생하는 혼란을 방지하기 위해 UTF-16 인코딩은 ZWNBSP(Zero Width No-Break SPace, U+FEFF)를 인코딩된 텍스트 앞에 붙이는데, 이 문자는 화면에 출력되지 않는다.\n",
    "* 리틀엔디언 컴퓨터에서 이 문자는 ```b'\\xff\\xfe'```(십진수 255, 254)로 인코딩된다.\n",
    "* UTF-16에 U+FFFE에 해당하는 문자는 없으므로 바으트 시퀀스 ```b'\\xff\\xfe'```는 리틀엔디언으로 인코딩된 ZERO WIDTH NO-BREAK SPACE 문자를 나타내며, 코덱은 어떤 바이트 순서를 사용해야 할지 알 수 있다."
   ]
  },
  {
   "cell_type": "markdown",
   "metadata": {},
   "source": [
    "### 유니코드 샌드위치\n",
    "\n",
    "* 텍스트를 처리하는 지금까지 최고의 방법\n",
    "  - 입력할 때 가능하면 빨리 ```bytes```를 ```str```로 변환 -> 중간 처리 과정에서 100% ```str```사용 -> 출력할 때 가능한 한 늦게 ```str```을 ```bytes```로 인코딩"
   ]
  },
  {
   "cell_type": "code",
   "execution_count": null,
   "metadata": {},
   "outputs": [],
   "source": []
  }
 ],
 "metadata": {
  "kernelspec": {
   "display_name": "Python 3",
   "language": "python",
   "name": "python3"
  },
  "language_info": {
   "codemirror_mode": {
    "name": "ipython",
    "version": 3
   },
   "file_extension": ".py",
   "mimetype": "text/x-python",
   "name": "python",
   "nbconvert_exporter": "python",
   "pygments_lexer": "ipython3",
   "version": "3.7.1"
  }
 },
 "nbformat": 4,
 "nbformat_minor": 2
}
