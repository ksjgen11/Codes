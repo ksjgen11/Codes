{
 "cells": [
  {
   "cell_type": "markdown",
   "metadata": {},
   "source": [
    "# 5. First-Class Function"
   ]
  },
  {
   "cell_type": "markdown",
   "metadata": {},
   "source": [
    "## 5.1 객체로서의 함수\n",
    "### 가. 일급 객체"
   ]
  },
  {
   "cell_type": "markdown",
   "metadata": {},
   "source": [
    "**일급 객체**의 정의  \n",
    "1. 런타임에 생성 가능  \n",
    "2. 데이터 구조체의 변수나 요소에 할당 가능  \n",
    "3. 함수 인수로 전달 가능  \n",
    "4. 함수 결과로 반환 가능  \n",
    "$→$ **함수**도 일급 객체!"
   ]
  },
  {
   "cell_type": "code",
   "execution_count": 4,
   "metadata": {},
   "outputs": [
    {
     "name": "stdout",
     "output_type": "stream",
     "text": [
      "30! = 265252859812191058636308480000000\n",
      "reuturns n!\n",
      "type: <class 'function'>\n"
     ]
    }
   ],
   "source": [
    "def factorial(n) :\n",
    "    '''reuturns n!'''\n",
    "    return 1 if n < 2 else n * factorial(n-1)\n",
    "\n",
    "print('30! =', factorial(30))\n",
    "print(factorial.__doc__)\n",
    "print('type:', type(factorial))"
   ]
  },
  {
   "cell_type": "markdown",
   "metadata": {},
   "source": [
    "\\_\\_doc\\_\\_ : 객체의 도움말 텍스트를 생성하는 메서드"
   ]
  },
  {
   "cell_type": "code",
   "execution_count": 6,
   "metadata": {},
   "outputs": [
    {
     "name": "stdout",
     "output_type": "stream",
     "text": [
      "<function factorial at 0x00000277ADBCF620>\n",
      "5! = 120\n"
     ]
    }
   ],
   "source": [
    "fac = factorial\n",
    "print(fac)\n",
    "print('5! =', fac(5))"
   ]
  },
  {
   "cell_type": "markdown",
   "metadata": {},
   "source": [
    "$\\text{factorial}$ 함수를 다른 변수($\\text{fac}$)에 할당하면, $\\text{fac}$을 통해 함수를 호출할 수 있다. $→$ 함수를 **객체**로서 다룬다."
   ]
  },
  {
   "cell_type": "markdown",
   "metadata": {},
   "source": [
    "### 나. 고위 함수"
   ]
  },
  {
   "cell_type": "markdown",
   "metadata": {},
   "source": [
    "고위 함수(Higher-Order Function) : 함수를 인수로 받거나, 함수를 결과로 반환하는 함수 ex) $\\text{map()}$, $\\text{sorted()}$ 등"
   ]
  },
  {
   "cell_type": "markdown",
   "metadata": {},
   "source": [
    "### 다. Lambda Function"
   ]
  },
  {
   "cell_type": "code",
   "execution_count": 20,
   "metadata": {},
   "outputs": [
    {
     "name": "stdout",
     "output_type": "stream",
     "text": [
      "[0, 1, 4, 9, 16, 25, 36]\n"
     ]
    }
   ],
   "source": [
    "print(list(map(lambda x: x * x, range(7))))"
   ]
  },
  {
   "cell_type": "markdown",
   "metadata": {},
   "source": [
    "위는 람다 함수의 예시이다."
   ]
  },
  {
   "cell_type": "markdown",
   "metadata": {},
   "source": [
    "## 5.2 Callable\n",
    "### 가. 콜러블 객체"
   ]
  },
  {
   "cell_type": "markdown",
   "metadata": {},
   "source": [
    "호출 가능한 객체들의 종류에는 다음의 것들이 있다.  \n",
    "1. 사용자 정의 함수 : $\\texttt{def}$문 혹은 람다 표현식으로 생성  \n",
    "2. 내장 함수 : $\\texttt{len}$() 등  \n",
    "3. 내장 메서드 / 메서드  \n",
    "4. 클래스 / 클래스 객체  \n",
    "5. 제너레이터 함수 : $\\texttt{yield}$ 키워드를 사용하는 함수나 메서드 $→$ 14장에서 설명 예정"
   ]
  },
  {
   "cell_type": "markdown",
   "metadata": {},
   "source": [
    "### 나. 사용자 정의 콜러블"
   ]
  },
  {
   "cell_type": "markdown",
   "metadata": {},
   "source": [
    "\\_\\_call\\_\\_() 메스드를 구현하면 콜러블이 된다. 아래 예제를 보자."
   ]
  },
  {
   "cell_type": "code",
   "execution_count": 21,
   "metadata": {},
   "outputs": [],
   "source": [
    "import random\n",
    "\n",
    "class BingoCage:\n",
    "    def __init__(self, items):\n",
    "        self._items = list(items)\n",
    "        random.shuffle(self._items)\n",
    "\n",
    "    def pick(self):\n",
    "        try:\n",
    "            return self._items.pop()\n",
    "        except IndexError:\n",
    "            raise LookupError('Pick from empty BingoCage')\n",
    "\n",
    "    def __call__(self):\n",
    "        return self.pick()"
   ]
  },
  {
   "cell_type": "code",
   "execution_count": 23,
   "metadata": {},
   "outputs": [
    {
     "name": "stdout",
     "output_type": "stream",
     "text": [
      "2\n",
      "0\n",
      "1\n",
      "True\n"
     ]
    },
    {
     "ename": "LookupError",
     "evalue": "Pick from empty BingoCage",
     "output_type": "error",
     "traceback": [
      "\u001b[1;31m---------------------------------------------------------------------------\u001b[0m",
      "\u001b[1;31mIndexError\u001b[0m                                Traceback (most recent call last)",
      "\u001b[1;32m<ipython-input-21-ca3bac8def5e>\u001b[0m in \u001b[0;36mpick\u001b[1;34m(self)\u001b[0m\n\u001b[0;32m      9\u001b[0m         \u001b[1;32mtry\u001b[0m\u001b[1;33m:\u001b[0m\u001b[1;33m\u001b[0m\u001b[1;33m\u001b[0m\u001b[0m\n\u001b[1;32m---> 10\u001b[1;33m             \u001b[1;32mreturn\u001b[0m \u001b[0mself\u001b[0m\u001b[1;33m.\u001b[0m\u001b[0m_items\u001b[0m\u001b[1;33m.\u001b[0m\u001b[0mpop\u001b[0m\u001b[1;33m(\u001b[0m\u001b[1;33m)\u001b[0m\u001b[1;33m\u001b[0m\u001b[1;33m\u001b[0m\u001b[0m\n\u001b[0m\u001b[0;32m     11\u001b[0m         \u001b[1;32mexcept\u001b[0m \u001b[0mIndexError\u001b[0m\u001b[1;33m:\u001b[0m\u001b[1;33m\u001b[0m\u001b[1;33m\u001b[0m\u001b[0m\n",
      "\u001b[1;31mIndexError\u001b[0m: pop from empty list",
      "\nDuring handling of the above exception, another exception occurred:\n",
      "\u001b[1;31mLookupError\u001b[0m                               Traceback (most recent call last)",
      "\u001b[1;32m<ipython-input-23-66d5410b7471>\u001b[0m in \u001b[0;36m<module>\u001b[1;34m\u001b[0m\n\u001b[0;32m      4\u001b[0m \u001b[0mprint\u001b[0m\u001b[1;33m(\u001b[0m\u001b[0mbingo\u001b[0m\u001b[1;33m(\u001b[0m\u001b[1;33m)\u001b[0m\u001b[1;33m)\u001b[0m\u001b[1;33m\u001b[0m\u001b[1;33m\u001b[0m\u001b[0m\n\u001b[0;32m      5\u001b[0m \u001b[0mprint\u001b[0m\u001b[1;33m(\u001b[0m\u001b[0mcallable\u001b[0m\u001b[1;33m(\u001b[0m\u001b[0mbingo\u001b[0m\u001b[1;33m)\u001b[0m\u001b[1;33m)\u001b[0m\u001b[1;33m\u001b[0m\u001b[1;33m\u001b[0m\u001b[0m\n\u001b[1;32m----> 6\u001b[1;33m \u001b[0mprint\u001b[0m\u001b[1;33m(\u001b[0m\u001b[0mbingo\u001b[0m\u001b[1;33m(\u001b[0m\u001b[1;33m)\u001b[0m\u001b[1;33m)\u001b[0m\u001b[1;33m\u001b[0m\u001b[1;33m\u001b[0m\u001b[0m\n\u001b[0m",
      "\u001b[1;32m<ipython-input-21-ca3bac8def5e>\u001b[0m in \u001b[0;36m__call__\u001b[1;34m(self)\u001b[0m\n\u001b[0;32m     13\u001b[0m \u001b[1;33m\u001b[0m\u001b[0m\n\u001b[0;32m     14\u001b[0m     \u001b[1;32mdef\u001b[0m \u001b[0m__call__\u001b[0m\u001b[1;33m(\u001b[0m\u001b[0mself\u001b[0m\u001b[1;33m)\u001b[0m\u001b[1;33m:\u001b[0m\u001b[1;33m\u001b[0m\u001b[1;33m\u001b[0m\u001b[0m\n\u001b[1;32m---> 15\u001b[1;33m         \u001b[1;32mreturn\u001b[0m \u001b[0mself\u001b[0m\u001b[1;33m.\u001b[0m\u001b[0mpick\u001b[0m\u001b[1;33m(\u001b[0m\u001b[1;33m)\u001b[0m\u001b[1;33m\u001b[0m\u001b[1;33m\u001b[0m\u001b[0m\n\u001b[0m",
      "\u001b[1;32m<ipython-input-21-ca3bac8def5e>\u001b[0m in \u001b[0;36mpick\u001b[1;34m(self)\u001b[0m\n\u001b[0;32m     10\u001b[0m             \u001b[1;32mreturn\u001b[0m \u001b[0mself\u001b[0m\u001b[1;33m.\u001b[0m\u001b[0m_items\u001b[0m\u001b[1;33m.\u001b[0m\u001b[0mpop\u001b[0m\u001b[1;33m(\u001b[0m\u001b[1;33m)\u001b[0m\u001b[1;33m\u001b[0m\u001b[1;33m\u001b[0m\u001b[0m\n\u001b[0;32m     11\u001b[0m         \u001b[1;32mexcept\u001b[0m \u001b[0mIndexError\u001b[0m\u001b[1;33m:\u001b[0m\u001b[1;33m\u001b[0m\u001b[1;33m\u001b[0m\u001b[0m\n\u001b[1;32m---> 12\u001b[1;33m             \u001b[1;32mraise\u001b[0m \u001b[0mLookupError\u001b[0m\u001b[1;33m(\u001b[0m\u001b[1;34m'Pick from empty BingoCage'\u001b[0m\u001b[1;33m)\u001b[0m\u001b[1;33m\u001b[0m\u001b[1;33m\u001b[0m\u001b[0m\n\u001b[0m\u001b[0;32m     13\u001b[0m \u001b[1;33m\u001b[0m\u001b[0m\n\u001b[0;32m     14\u001b[0m     \u001b[1;32mdef\u001b[0m \u001b[0m__call__\u001b[0m\u001b[1;33m(\u001b[0m\u001b[0mself\u001b[0m\u001b[1;33m)\u001b[0m\u001b[1;33m:\u001b[0m\u001b[1;33m\u001b[0m\u001b[1;33m\u001b[0m\u001b[0m\n",
      "\u001b[1;31mLookupError\u001b[0m: Pick from empty BingoCage"
     ]
    }
   ],
   "source": [
    "bingo = BingoCage(range(3))\n",
    "print(bingo.pick())\n",
    "print(bingo())\n",
    "print(bingo())\n",
    "print(callable(bingo))\n",
    "print(bingo())"
   ]
  },
  {
   "cell_type": "markdown",
   "metadata": {},
   "source": [
    "위 코드에서 \\_\\_call\\_\\_() 메서드를 통해 $\\text{bingo.pick}$()을 줄여서 $\\text{bingo}$()로 사용할 수 있다.  \n",
    "또한 이때 $\\text{callable(bingo)}$ = $\\text{True}$가 됨을 알 수 있다."
   ]
  },
  {
   "cell_type": "markdown",
   "metadata": {},
   "source": [
    "## 5.3 함수의 속성"
   ]
  },
  {
   "cell_type": "code",
   "execution_count": 25,
   "metadata": {
    "scrolled": false
   },
   "outputs": [
    {
     "name": "stdout",
     "output_type": "stream",
     "text": [
      "['__annotations__', '__call__', '__class__', '__closure__', '__code__', '__defaults__', '__delattr__', '__dict__', '__dir__', '__doc__', '__eq__', '__format__', '__ge__', '__get__', '__getattribute__', '__globals__', '__gt__', '__hash__', '__init__', '__init_subclass__', '__kwdefaults__', '__le__', '__lt__', '__module__', '__name__', '__ne__', '__new__', '__qualname__', '__reduce__', '__reduce_ex__', '__repr__', '__setattr__', '__sizeof__', '__str__', '__subclasshook__']\n"
     ]
    }
   ],
   "source": [
    "print(dir(factorial))"
   ]
  },
  {
   "cell_type": "code",
   "execution_count": 27,
   "metadata": {},
   "outputs": [
    {
     "name": "stdout",
     "output_type": "stream",
     "text": [
      "['__annotations__', '__call__', '__closure__', '__code__', '__defaults__', '__get__', '__globals__', '__kwdefaults__', '__name__', '__qualname__']\n"
     ]
    }
   ],
   "source": [
    "class C: pass\n",
    "obj = C()\n",
    "def func(): pass\n",
    "print(sorted(set(dir(func)) - set(dir(obj))))"
   ]
  },
  {
   "cell_type": "markdown",
   "metadata": {},
   "source": [
    "위 코드를 통해 **사용자 정의 객체에는 없지만 함수에는 존재하는 속성**들을 구할 수 있다. (집합 연산을 이용해 굉장히 간단하게 구한 코드)  \n",
    "책에서는 이 중 \\_\\_defaults\\_\\_, \\_\\_code\\_\\_, \\_\\_annotations\\_\\_에 대해 설명했다.  \n",
    "\n",
    "\\_\\_annotations\\_\\_ : $\\texttt{dict}$ 자료형으로, 매개변수 및 반환값에 대한 주석  \n",
    "\\_\\_defaults\\_\\_ : $\\texttt{tuple}$ 자료형으로, 형식 매개변수의 기본값  \n",
    "\\_\\_code\\_\\_ : 코드 자료형으로, 바이트코드로 컴파일된 함수 메타데이터 및 함수 본체"
   ]
  },
  {
   "cell_type": "code",
   "execution_count": 4,
   "metadata": {},
   "outputs": [],
   "source": [
    "def tag(name, *content, cls=None, **attrs) :\n",
    "    '''하나 이상의 HTML 태그를 생성한다.'''\n",
    "    if cls is not None :\n",
    "        attrs['class'] = cls\n",
    "    if attrs :\n",
    "        attr_str = ''.join(' %s=\"%s\"' % (attr, value)\n",
    "                           for attr, value in sorted(attrs.items()))\n",
    "    else :\n",
    "        attr_str = ''\n",
    "    if content :\n",
    "        return '\\n'.join('<%s%s>%s</%s>' % (name, attr_str, c, name)\n",
    "                         for c in content)\n",
    "    else :\n",
    "        return '<%s%s />' % (name, attr_str)"
   ]
  },
  {
   "cell_type": "markdown",
   "metadata": {},
   "source": [
    "여기서 \\*content라고 쓴 이유는 이후의 cls를 **키워드 전용 매개변수**로 사용하기 위함이다.  \n",
    "한편 맨 앞의 name 변수의 경우, 위치에 따라 전달되므로 이러한 변수들을 **위치 매개변수**라고 한다.  \n",
    "또한 \\*\\*attrs의 경우, 함수 정의 부분에서 명시되지 않은 파라미터 명을 가진 키워드 인수들이 전달된다.  \n",
    "이때 아래에서 보듯이, 맨 앞의 name 또한 키워드 인수로 호출할 수 있다. (물론 당연히 name 키워드로 호출해야 한다.)"
   ]
  },
  {
   "cell_type": "code",
   "execution_count": 13,
   "metadata": {
    "scrolled": true
   },
   "outputs": [
    {
     "name": "stdout",
     "output_type": "stream",
     "text": [
      "<br />\n",
      "<p>Hello</p>\n",
      "<p>World</p>\n",
      "<p id=\"33\">Hello</p>\n",
      "<p class=\"sidebar\">Hello</p>\n",
      "<p class=\"sidebar\">World</p>\n",
      "<img content=\"test\" />\n"
     ]
    }
   ],
   "source": [
    "print(tag('br'))\n",
    "print(tag('p', 'Hello', 'World'))\n",
    "print(tag('p', 'Hello', id=33)) # id -> **attrs\n",
    "print(tag('p', 'Hello', 'World', cls='sidebar'))\n",
    "print(tag(content='test', name='img'))"
   ]
  },
  {
   "cell_type": "markdown",
   "metadata": {},
   "source": [
    "가변 개수의 위치 인수를 받지 않고 키워드 전용 인수만을 전달하고 싶다면, 아래와 같이 \\*만 쓰면 된다."
   ]
  },
  {
   "cell_type": "code",
   "execution_count": 15,
   "metadata": {},
   "outputs": [
    {
     "data": {
      "text/plain": [
       "(1, 3)"
      ]
     },
     "execution_count": 15,
     "metadata": {},
     "output_type": "execute_result"
    }
   ],
   "source": [
    "def f(a, *, b) :\n",
    "    return a, b\n",
    "f(1, b=3)"
   ]
  },
  {
   "cell_type": "markdown",
   "metadata": {},
   "source": [
    "# 6. Design Patterns in First-Class Function"
   ]
  },
  {
   "cell_type": "markdown",
   "metadata": {},
   "source": [
    "## 6.1 전략 패턴의 리팩토링"
   ]
  },
  {
   "cell_type": "markdown",
   "metadata": {},
   "source": [
    "**전략 패턴**의 정의 (책 《디자인 패턴》에서 발췌)\n",
    "> 일련의 알고리즘을 정의하고 각각을 하나의 클래스 안에 넣어서 교체하기 쉽게 만든다.  \n",
    "> 전략을 이용하면 사용하는 클라이언트에 따라 알고리즘을 독립적으로 변경할 수 있다."
   ]
  },
  {
   "cell_type": "markdown",
   "metadata": {},
   "source": [
    "고전적인 전략에는 세 가지 구성 요소가 있다.  \n",
    "* **콘텍스트** ─ 일부 동작을 서로 다른 알고리즘을 구현하는 컴포넌트에 위임  \n",
    "* **전략** ─ 각각의 컴포넌트에 공통된 인터페이스  \n",
    "* **구체적인 전략** ─ 전략을 실제로 구상한 서브클래스 중 하나  "
   ]
  },
  {
   "cell_type": "markdown",
   "metadata": {},
   "source": [
    "이때 구체적 전략을 클래스로 구현하는 게 고전적인 전략이고, 이를 클래스가 아닌 **일반 함수**로 구현하는 것이 함수지향 전략이다.\n",
    "\n",
    "함수는 사용자 정의 클래스보다 훨씬 가볍고, 파이썬이 모듈을 컴파일할 때 단 한 번만 생성되기에 더 낫다. 이는 **함수를 객체로 다루기 때문에 가능한 것**이다."
   ]
  },
  {
   "cell_type": "markdown",
   "metadata": {},
   "source": [
    "## 6.2 명령"
   ]
  },
  {
   "cell_type": "markdown",
   "metadata": {},
   "source": [
    "명령 패턴의 목적은 연산을 실행하는 객체(*호출자*라 한다)와 연산을 구현하는 객체(*수신자*라 한다)를 분리하는 것이다. \n",
    "\n",
    "기본적으로 수신자와 호출자 사이에 명령 객체를 놓고, 명령은 $\\text{execute()}$라는 **하나**의 메서드로 인터페이스를 구현한다. $\\text{execute()}$는 원하는 연산을 수행하기 위해 수신자가 가지고 있는 메서드를 호출한다.\n",
    "\n",
    "이 방식의 장점은, 호출자는 수신자의 인터페이스를 알 필요가 없고, 명령의 하위 클래스를 통해 서로 다른 수신자를 추가할 수 있다는 것이다.\n",
    "\n",
    "《디자인 패턴》에서는 명령은 콜백에 대한 객체지향식 대체물이라 설명하고 있지만, 이는 늘 맞는 이야기는 아니다. 아래 코드에서 보듯, 호출자에 command 객체 대신 함수를 바로 지정할 수 있다."
   ]
  },
  {
   "cell_type": "code",
   "execution_count": null,
   "metadata": {},
   "outputs": [],
   "source": [
    "class MacroCommand :\n",
    "    '''명령 리스트를 실행하는 명령'''\n",
    "    def __init__(self, commands) :\n",
    "        self.commands = list(commands)\n",
    "    def __call__(self) :\n",
    "        for command in self.commands :\n",
    "            command()"
   ]
  },
  {
   "cell_type": "markdown",
   "metadata": {},
   "source": [
    "위 코드에서 MacroCommand의 객체는 콜러블이 되며, 각 개체는 향후에 호출할 함수들의 리스트를 가진다."
   ]
  },
  {
   "cell_type": "markdown",
   "metadata": {},
   "source": [
    "한편 이렇게 명령 패턴을 일급 함수로 대체하는 것은, 함수를 객체로 이용한다는 점에서 본질적으로 위의 전략 패턴과 상당히 유사하다. 이는 5장에서 보았듯이 파이썬의 모든 콜러블이 \\_\\_call()\\_\\_이라는 메서드를 가지고 있기에 가능한 것이다."
   ]
  }
 ],
 "metadata": {
  "kernelspec": {
   "display_name": "Python 3",
   "language": "python",
   "name": "python3"
  },
  "language_info": {
   "codemirror_mode": {
    "name": "ipython",
    "version": 3
   },
   "file_extension": ".py",
   "mimetype": "text/x-python",
   "name": "python",
   "nbconvert_exporter": "python",
   "pygments_lexer": "ipython3",
   "version": "3.7.1"
  }
 },
 "nbformat": 4,
 "nbformat_minor": 2
}
