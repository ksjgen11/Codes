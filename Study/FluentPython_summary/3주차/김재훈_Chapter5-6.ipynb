{
 "cells": [
  {
   "cell_type": "code",
   "execution_count": 1,
   "metadata": {},
   "outputs": [],
   "source": [
    "import numpy as np\n",
    "import pandas as pd"
   ]
  },
  {
   "cell_type": "markdown",
   "metadata": {},
   "source": [
    "# 1. 위대한 python 의 function"
   ]
  },
  {
   "cell_type": "markdown",
   "metadata": {},
   "source": [
    "Python의 함수는 최고의 객체입니다. 함수를 변수에 지정할 수도 있고, 자료구조에 넣을 수도 있으며, 다른 함수의 인자로 넘길 수도 있고, 함수를 결과를 반환하여 다른 함수에 넣을 수 있음.\n",
    "\n",
    "### - 함수 = 객체\n",
    "Python 프로그램의 모든 데이터는 객체 또는 객체들끼리의 관계로 설명됩니다. <br>\n",
    "strings, lists, modules, functions 같은 것들이 모두 객체죠. Python에서 함수라고 딱히 특별한 건 없습니다."
   ]
  },
  {
   "cell_type": "code",
   "execution_count": 2,
   "metadata": {},
   "outputs": [
    {
     "data": {
      "text/plain": [
       "'HELLO'"
      ]
     },
     "execution_count": 2,
     "metadata": {},
     "output_type": "execute_result"
    }
   ],
   "source": [
    "def yell(text):\n",
    "    return text.upper()\n",
    "\n",
    "bark = yell # 함수가 객체이기 때문에 다른 변수에 할당할 수 있음\n",
    "bark('hello') # 새로운 객체를 통해 함수를 호출할 수 있음"
   ]
  },
  {
   "cell_type": "markdown",
   "metadata": {},
   "source": [
    "### - 자료구조 속 함수\n",
    "python에서의 함수는 객체이기 때문에 다른 객체들과 동일하게 자료구조 속에 넣어서 사용할 수 있음 <br>\n",
    "ex)list 안에 함수를 넣을 수도 있음<br>\n",
    "다른 함수의 인자로 함수를 넘길 수 있는 점은 매우 강력함<br>\n",
    "함수를 추상화 한 후 원하는 행동을 넘겨 작동시킬 수 있음"
   ]
  },
  {
   "cell_type": "code",
   "execution_count": 3,
   "metadata": {},
   "outputs": [
    {
     "data": {
      "text/plain": [
       "[<function __main__.yell(text)>,\n",
       " <method 'lower' of 'str' objects>,\n",
       " <method 'capitalize' of 'str' objects>]"
      ]
     },
     "execution_count": 3,
     "metadata": {},
     "output_type": "execute_result"
    }
   ],
   "source": [
    "funcs = [bark, str.lower, str.capitalize]; funcs #자료구조 안에 함수"
   ]
  },
  {
   "cell_type": "code",
   "execution_count": 4,
   "metadata": {},
   "outputs": [
    {
     "name": "stdout",
     "output_type": "stream",
     "text": [
      "<function yell at 0x7f41314a0f70> HELLO\n",
      "<method 'lower' of 'str' objects> hello\n",
      "<method 'capitalize' of 'str' objects> Hello\n"
     ]
    }
   ],
   "source": [
    "for f in funcs: print(f,f('hello'))"
   ]
  },
  {
   "cell_type": "code",
   "execution_count": 5,
   "metadata": {},
   "outputs": [
    {
     "name": "stdout",
     "output_type": "stream",
     "text": [
      "HELLO\n"
     ]
    }
   ],
   "source": [
    "def greet(func): greeting = func('hello');print(greeting)\n",
    "greet(yell) #yell 이라는 함수를 객체로 넘겨서 greet에 적용하기"
   ]
  },
  {
   "cell_type": "markdown",
   "metadata": {},
   "source": [
    "# 2. lambda 함수 - higher order function의 인수로서의 함수로 주로 사용됨\n",
    " - lambda 키워드는 파이썬 표현식 내부에 익명 함수를 생성함\n",
    " - 단 순수한 표현식으로만 구현되어야 하며, 할당문 while try등의 파이썬 문장을 사용할 수 없음"
   ]
  },
  {
   "cell_type": "code",
   "execution_count": 6,
   "metadata": {},
   "outputs": [
    {
     "data": {
      "text/plain": [
       "[2, 3, 4, 5, 6]"
      ]
     },
     "execution_count": 6,
     "metadata": {},
     "output_type": "execute_result"
    }
   ],
   "source": [
    "list(map(lambda x: x+2, range(5)))"
   ]
  },
  {
   "cell_type": "markdown",
   "metadata": {},
   "source": [
    "# 3. Higher order function 고위함수\n",
    " - 함수를 인수로 받거나, 함수를 결과로 반환하는 함수를 고위 함수라고 한다.\n",
    " - sort map filter reduce등  \n",
    " - map(), filter(), reduce() 의 경우 list comprehension과 generator로 인해 그 중요성이 매우 떨어짐 \n",
    " \n",
    "> map( function , iterable object ) : 반복가능한 객체(iterable object) 에 function을 적용한 새로운 반복가능한 객체를 생성 <br>\n",
    "> map(),filter()의 조합\n",
    "> - map()과 filter()는 일종의 반복 가능 객체를 반환하므로 generator 표현식으로 이 함수들을 직접 대체 가능하다<br> "
   ]
  },
  {
   "cell_type": "code",
   "execution_count": 7,
   "metadata": {},
   "outputs": [
    {
     "data": {
      "text/plain": [
       "[1, 1, 2, 6, 24, 120]"
      ]
     },
     "execution_count": 7,
     "metadata": {},
     "output_type": "execute_result"
    }
   ],
   "source": [
    "def factorial(n): return 1 if n<2 else n * factorial(n-1)\n",
    "\n",
    "list(map(factorial, range(6))) \n",
    "[factorial(n) for n in range(6)] #list comprehension으로 map함수를 대체하기"
   ]
  },
  {
   "cell_type": "code",
   "execution_count": 8,
   "metadata": {},
   "outputs": [
    {
     "data": {
      "text/plain": [
       "[1, 6, 120]"
      ]
     },
     "execution_count": 8,
     "metadata": {},
     "output_type": "execute_result"
    }
   ],
   "source": [
    "list(map(factorial, filter(lambda n: n % 2, range(6))))\n",
    "[factorial(n) for n in range(6) if n % 2] # list comprehension으로 map+filter조합 대체하기"
   ]
  },
  {
   "cell_type": "code",
   "execution_count": 9,
   "metadata": {},
   "outputs": [
    {
     "data": {
      "text/plain": [
       "<map at 0x7f4134d86ca0>"
      ]
     },
     "execution_count": 9,
     "metadata": {},
     "output_type": "execute_result"
    }
   ],
   "source": [
    "map(factorial,range(3)) #일종의 반복 가능 객체를 반환함"
   ]
  },
  {
   "cell_type": "markdown",
   "metadata": {},
   "source": [
    "> sorted( key = ) : key의 인수로 함수를 전달받아 정렬된 각 항목에 적용함"
   ]
  },
  {
   "cell_type": "markdown",
   "metadata": {},
   "source": [
    "> reduce() :  삭제됨\n",
    "> - sum()을 사용함 : 연속된 항목에 어떤 연산을 적용해서 이전 결과를 누적시킨다, 즉 일련의 값을 하나의 값으로 만들어줌"
   ]
  },
  {
   "cell_type": "code",
   "execution_count": 10,
   "metadata": {},
   "outputs": [
    {
     "name": "stdout",
     "output_type": "stream",
     "text": [
      "45 45\n"
     ]
    }
   ],
   "source": [
    "from functools import reduce; from operator import add\n",
    "print(reduce(add,range(10)) , sum(range(10))) # 둘이 같음"
   ]
  },
  {
   "cell_type": "markdown",
   "metadata": {},
   "source": [
    "> apply() : 삭제됨 \n",
    "> - 일련의 동적인 인수에 함수를 적용해야할때 apply(function, args, kwargs)대신  function(*args,**kewargs) 형태로 작성"
   ]
  },
  {
   "cell_type": "markdown",
   "metadata": {},
   "source": [
    "> df.apply(func, axis) : 2차원(DataFrame)의 행(axis=0)열(axis=1)로 적용\n",
    "> - 출력 결과값은 pd.Series 형식으로 나오게 됨\n",
    "> - 여러개의 결과값은 Series의 Series 즉 pd.DataFrame으로 나옴 "
   ]
  },
  {
   "cell_type": "code",
   "execution_count": 11,
   "metadata": {},
   "outputs": [
    {
     "data": {
      "text/plain": [
       "0    0.545317\n",
       "1    0.754153\n",
       "2    0.849231\n",
       "dtype: float64"
      ]
     },
     "execution_count": 11,
     "metadata": {},
     "output_type": "execute_result"
    }
   ],
   "source": [
    "df = pd.DataFrame(np.random.rand(3,3))\n",
    "df.apply(lambda x : x.max() , axis=1)"
   ]
  },
  {
   "cell_type": "code",
   "execution_count": 12,
   "metadata": {},
   "outputs": [
    {
     "data": {
      "text/html": [
       "<div>\n",
       "<style scoped>\n",
       "    .dataframe tbody tr th:only-of-type {\n",
       "        vertical-align: middle;\n",
       "    }\n",
       "\n",
       "    .dataframe tbody tr th {\n",
       "        vertical-align: top;\n",
       "    }\n",
       "\n",
       "    .dataframe thead th {\n",
       "        text-align: right;\n",
       "    }\n",
       "</style>\n",
       "<table border=\"1\" class=\"dataframe\">\n",
       "  <thead>\n",
       "    <tr style=\"text-align: right;\">\n",
       "      <th></th>\n",
       "      <th>min</th>\n",
       "      <th>max</th>\n",
       "    </tr>\n",
       "  </thead>\n",
       "  <tbody>\n",
       "    <tr>\n",
       "      <th>0</th>\n",
       "      <td>0.167375</td>\n",
       "      <td>0.545317</td>\n",
       "    </tr>\n",
       "    <tr>\n",
       "      <th>1</th>\n",
       "      <td>0.465839</td>\n",
       "      <td>0.754153</td>\n",
       "    </tr>\n",
       "    <tr>\n",
       "      <th>2</th>\n",
       "      <td>0.015889</td>\n",
       "      <td>0.849231</td>\n",
       "    </tr>\n",
       "  </tbody>\n",
       "</table>\n",
       "</div>"
      ],
      "text/plain": [
       "        min       max\n",
       "0  0.167375  0.545317\n",
       "1  0.465839  0.754153\n",
       "2  0.015889  0.849231"
      ]
     },
     "execution_count": 12,
     "metadata": {},
     "output_type": "execute_result"
    }
   ],
   "source": [
    "df.apply(lambda x : pd.Series([x.min(),x.max()],index = ['min','max']), axis=1)"
   ]
  },
  {
   "cell_type": "markdown",
   "metadata": {},
   "source": [
    "> df.applymap(func, **iterable)\n",
    "> - 2차원의 원소별 적용이 가능 \n",
    "> - 출력 결과값은 pd.DataFrame"
   ]
  },
  {
   "cell_type": "code",
   "execution_count": 13,
   "metadata": {},
   "outputs": [
    {
     "data": {
      "text/html": [
       "<div>\n",
       "<style scoped>\n",
       "    .dataframe tbody tr th:only-of-type {\n",
       "        vertical-align: middle;\n",
       "    }\n",
       "\n",
       "    .dataframe tbody tr th {\n",
       "        vertical-align: top;\n",
       "    }\n",
       "\n",
       "    .dataframe thead th {\n",
       "        text-align: right;\n",
       "    }\n",
       "</style>\n",
       "<table border=\"1\" class=\"dataframe\">\n",
       "  <thead>\n",
       "    <tr style=\"text-align: right;\">\n",
       "      <th></th>\n",
       "      <th>0</th>\n",
       "      <th>1</th>\n",
       "      <th>2</th>\n",
       "    </tr>\n",
       "  </thead>\n",
       "  <tbody>\n",
       "    <tr>\n",
       "      <th>0</th>\n",
       "      <td>2.167375</td>\n",
       "      <td>2.167815</td>\n",
       "      <td>2.545317</td>\n",
       "    </tr>\n",
       "    <tr>\n",
       "      <th>1</th>\n",
       "      <td>2.640262</td>\n",
       "      <td>2.465839</td>\n",
       "      <td>2.754153</td>\n",
       "    </tr>\n",
       "    <tr>\n",
       "      <th>2</th>\n",
       "      <td>2.015889</td>\n",
       "      <td>2.849231</td>\n",
       "      <td>2.408016</td>\n",
       "    </tr>\n",
       "  </tbody>\n",
       "</table>\n",
       "</div>"
      ],
      "text/plain": [
       "          0         1         2\n",
       "0  2.167375  2.167815  2.545317\n",
       "1  2.640262  2.465839  2.754153\n",
       "2  2.015889  2.849231  2.408016"
      ]
     },
     "execution_count": 13,
     "metadata": {},
     "output_type": "execute_result"
    }
   ],
   "source": [
    "df.applymap(lambda x : x+2)"
   ]
  },
  {
   "cell_type": "markdown",
   "metadata": {},
   "source": [
    "> functools.partial()로 인수 고정하기\n",
    "> - 함수를 부분적으로 실행할 수 있게 해주는 high class function\n",
    "> - 어떤 함수가 있을때 partial()을 적용하면 원래 함수의 일부 인수를 고정한 callable 을 생성함\n",
    "> - 이 기법은 하나 이상의 인수를 받는 함수를 그보다 적은 인수를 받는 콜백 함수를 사용하는 APi에 사용하고자 할 때 유용하다.\n",
    "> - loadfunc.py"
   ]
  },
  {
   "cell_type": "markdown",
   "metadata": {},
   "source": [
    "# 4. 함수 내에 함수 두기 \n",
    "python은 함수 내에 다른 함수가 정의되는 것을 허용한다. 이런 함수를 nested function이라고 한다.\n",
    "이러한 특성은 인자로 함수를 사용하여 특정 행동을 반환할 수도 있다는 것을 의미한다."
   ]
  },
  {
   "cell_type": "code",
   "execution_count": 14,
   "metadata": {},
   "outputs": [],
   "source": [
    "def speak(text):\n",
    "    def whisper(t):\n",
    "        return t.upper()\n",
    "    return whisper(text)"
   ]
  },
  {
   "cell_type": "code",
   "execution_count": 15,
   "metadata": {},
   "outputs": [
    {
     "data": {
      "text/plain": [
       "'HELLO'"
      ]
     },
     "execution_count": 15,
     "metadata": {},
     "output_type": "execute_result"
    }
   ],
   "source": [
    "speak('hello')"
   ]
  },
  {
   "cell_type": "code",
   "execution_count": 16,
   "metadata": {},
   "outputs": [
    {
     "ename": "NameError",
     "evalue": "name 'whisper' is not defined",
     "output_type": "error",
     "traceback": [
      "\u001b[0;31m---------------------------------------------------------------------------\u001b[0m",
      "\u001b[0;31mNameError\u001b[0m                                 Traceback (most recent call last)",
      "\u001b[0;32m<ipython-input-16-16c4342968fb>\u001b[0m in \u001b[0;36m<module>\u001b[0;34m\u001b[0m\n\u001b[0;32m----> 1\u001b[0;31m \u001b[0mwhisper\u001b[0m\u001b[0;34m(\u001b[0m\u001b[0;34m'hello'\u001b[0m\u001b[0;34m)\u001b[0m \u001b[0;31m#함수 내부에 선언된 함수는 바로 작동안됨\u001b[0m\u001b[0;34m\u001b[0m\u001b[0;34m\u001b[0m\u001b[0m\n\u001b[0m",
      "\u001b[0;31mNameError\u001b[0m: name 'whisper' is not defined"
     ]
    }
   ],
   "source": [
    "whisper('hello') #함수 내부에 선언된 함수는 바로 작동안됨 "
   ]
  },
  {
   "cell_type": "code",
   "execution_count": 17,
   "metadata": {},
   "outputs": [
    {
     "name": "stdout",
     "output_type": "stream",
     "text": [
      "<function get_speaker.<locals>.yell at 0x7f41035f5670> <function get_speaker.<locals>.whisper at 0x7f4134d8f940>\n"
     ]
    }
   ],
   "source": [
    "def get_speaker(volume):\n",
    "    def whisper(text):\n",
    "        return(text.lower() + '...')\n",
    "    def yell(text):\n",
    "        return(text.upper() + '!!!')\n",
    "    if volume < 50:\n",
    "        return whisper\n",
    "    else:\n",
    "        return yell\n",
    "    \n",
    "print(get_speaker(70),get_speaker(40)) # 함수 객체를 반환하는 모습"
   ]
  },
  {
   "cell_type": "markdown",
   "metadata": {},
   "source": [
    "-  함수 객체를 호출하고자 할때 : 할당 후 사용"
   ]
  },
  {
   "cell_type": "code",
   "execution_count": 18,
   "metadata": {},
   "outputs": [
    {
     "data": {
      "text/plain": [
       "'HELLO!!!'"
      ]
     },
     "execution_count": 18,
     "metadata": {},
     "output_type": "execute_result"
    }
   ],
   "source": [
    "speak = get_speaker(70); speak('hello')  "
   ]
  },
  {
   "cell_type": "code",
   "execution_count": 19,
   "metadata": {},
   "outputs": [
    {
     "data": {
      "text/plain": [
       "'hello...'"
      ]
     },
     "execution_count": 19,
     "metadata": {},
     "output_type": "execute_result"
    }
   ],
   "source": [
    "speak = get_speaker(40); speak('hello')  "
   ]
  },
  {
   "cell_type": "markdown",
   "metadata": {},
   "source": [
    "-  함수 객체를 호출하고자 할때 : 직접사용"
   ]
  },
  {
   "cell_type": "code",
   "execution_count": 20,
   "metadata": {},
   "outputs": [
    {
     "data": {
      "text/plain": [
       "'HELLO!!!'"
      ]
     },
     "execution_count": 20,
     "metadata": {},
     "output_type": "execute_result"
    }
   ],
   "source": [
    "get_speaker(70)('hello')"
   ]
  },
  {
   "cell_type": "markdown",
   "metadata": {},
   "source": [
    "### - 추가로 행동을 반환할 때 미리 설정을 해서 반환할 수도 있음 : 클로저"
   ]
  },
  {
   "cell_type": "code",
   "execution_count": 21,
   "metadata": {},
   "outputs": [],
   "source": [
    "def make_adder(n):\n",
    "    def add(x):\n",
    "        return x + n\n",
    "    return add"
   ]
  },
  {
   "cell_type": "code",
   "execution_count": 22,
   "metadata": {},
   "outputs": [
    {
     "data": {
      "text/plain": [
       "12"
      ]
     },
     "execution_count": 22,
     "metadata": {},
     "output_type": "execute_result"
    }
   ],
   "source": [
    "plus_5 = make_adder(5) ; plus_5(7)"
   ]
  },
  {
   "cell_type": "markdown",
   "metadata": {},
   "source": [
    "# 5. 함수처럼 행동하는 객체"
   ]
  },
  {
   "cell_type": "markdown",
   "metadata": {},
   "source": [
    "모든 함수는 객체지만 모든 객체는 함수가 아닙니다.<br>\n",
    "하지만 함수가 아닌 객체들을 호출할수 있게 : callable하게끔 만들 수는 있습니다<br>\n",
    "- callable : 객체뒤에 괄호 + 괄호속인자 로 함수 인자를 넘길 수 있다는 것을 의미<br>\n",
    "\n",
    "클래스 안에 __call__()을 구현하면, 해당클래스의 객체는 함수로 호출될 수 있음\n"
   ]
  },
  {
   "cell_type": "code",
   "execution_count": 23,
   "metadata": {},
   "outputs": [
    {
     "data": {
      "text/plain": [
       "8"
      ]
     },
     "execution_count": 23,
     "metadata": {},
     "output_type": "execute_result"
    }
   ],
   "source": [
    "class Adder:\n",
    "    def __init__(self,n):\n",
    "        self.n = n\n",
    "    def __call__(self, x):\n",
    "        return self.n + x\n",
    "    \n",
    "plus_3 = Adder(3) ; plus_3(5)"
   ]
  },
  {
   "cell_type": "markdown",
   "metadata": {},
   "source": [
    "실제로 객체 인스턴스를 함수와 같은 방법으로 호출하는 것은 객체의 __call__ 메소드를 실행시키는 것과 같음<bR>\n",
    "물론 모든 객체를 호출 가능한 객체로 만들 수는 없음(그래서 callable을 통해 호출 가능한 객체인지 확인하는 것)"
   ]
  },
  {
   "cell_type": "code",
   "execution_count": 24,
   "metadata": {},
   "outputs": [
    {
     "data": {
      "text/plain": [
       "True"
      ]
     },
     "execution_count": 24,
     "metadata": {},
     "output_type": "execute_result"
    }
   ],
   "source": [
    "callable(plus_3)"
   ]
  },
  {
   "cell_type": "markdown",
   "metadata": {},
   "source": [
    "# 6. 일곱가지 callable object"
   ]
  },
  {
   "cell_type": "markdown",
   "metadata": {},
   "source": [
    "## callable object란? \n",
    "- A callable object, in computer programming, is any object that can be called like a function\n",
    "- 함수처럼 호출될 수 있는 객체를 의미\n",
    "\n",
    "호출 연산자인 ()는 사용자 정의 함수 이외의 다른 객체에도 적용할 수 있음 호출\n",
    "- 사용자 정의 함수 : def문이나 lambda 표현식\n",
    "- 내장 함수 : len()\n",
    "- 내장 메소드 : dict.get()\n",
    "- 메소드 : 클래스 본체에 정의된 함수\n",
    "- 클래스 : 호출될 때 클래스는 \n",
    " 1. 자신의 __new() 메소드를 실행해서 객체를 생성하고 \n",
    " 2. --init__() 메소드로 초기화한 후\n",
    " 3. 최종적으로 호출자에 객체를 반환함\n",
    "- 클래스 객체 : 클래스 내에 __call__()메소드가 구현이 되면 이 클래스의 객체는 함수로 호출 될 수가 있음\n",
    "- 제너레이터 함수 : yield 키워드를 활용하는 함수나 메소드"
   ]
  },
  {
   "cell_type": "markdown",
   "metadata": {},
   "source": [
    "# 7. dir() 함수 Instropection하는 클래스"
   ]
  },
  {
   "cell_type": "code",
   "execution_count": 25,
   "metadata": {},
   "outputs": [
    {
     "data": {
      "text/plain": [
       "['__annotations__',\n",
       " '__call__',\n",
       " '__class__',\n",
       " '__closure__',\n",
       " '__code__',\n",
       " '__defaults__',\n",
       " '__delattr__',\n",
       " '__dict__',\n",
       " '__dir__',\n",
       " '__doc__',\n",
       " '__eq__',\n",
       " '__format__',\n",
       " '__ge__',\n",
       " '__get__',\n",
       " '__getattribute__',\n",
       " '__globals__',\n",
       " '__gt__',\n",
       " '__hash__',\n",
       " '__init__',\n",
       " '__init_subclass__',\n",
       " '__kwdefaults__',\n",
       " '__le__',\n",
       " '__lt__',\n",
       " '__module__',\n",
       " '__name__',\n",
       " '__ne__',\n",
       " '__new__',\n",
       " '__qualname__',\n",
       " '__reduce__',\n",
       " '__reduce_ex__',\n",
       " '__repr__',\n",
       " '__setattr__',\n",
       " '__sizeof__',\n",
       " '__str__',\n",
       " '__subclasshook__']"
      ]
     },
     "execution_count": 25,
     "metadata": {},
     "output_type": "execute_result"
    }
   ],
   "source": [
    "dir(factorial)"
   ]
  },
  {
   "cell_type": "markdown",
   "metadata": {},
   "source": [
    "# 8. 함수 annotation 주는 범"
   ]
  },
  {
   "cell_type": "code",
   "execution_count": 29,
   "metadata": {},
   "outputs": [],
   "source": [
    "def clip(text:'string' , max_length:'int>0'=80) -> str:\n",
    "    '''\n",
    "    max_len : \n",
    "    ''' \n",
    "# 변수명 뒤에 : 으로 추가하고 등호 사이에 넣는다 결과값에 대한 처리도 할 수 있다.append"
   ]
  },
  {
   "cell_type": "code",
   "execution_count": 31,
   "metadata": {},
   "outputs": [],
   "source": [
    "import numpy as np"
   ]
  },
  {
   "cell_type": "markdown",
   "metadata": {},
   "source": [
    "# 정리"
   ]
  },
  {
   "cell_type": "markdown",
   "metadata": {},
   "source": [
    "- Python에서 함수를 포함한 모든것은 객체입니다. 이모든 객체는 변수에 할당할 수 있고, 자료구조에 넣을 수도 있으며, 다른함수의 인자로 넘길 수도 있고, 값으로 다른 함수에 넘길 수도 있습니다.\n",
    "\n",
    "- 함수 또한 객체이기 때문에 함수를 추상화한 후 원하는 행동을 넘겨 작동시킬 수 있습니다.\n",
    "\n",
    "- 함수 내에는 다른 함수가 존재할 수 있고 이런 내부함수는 상위함수의 값을 가질 수 있습니다. 이런 함수를 클로저라고 부릅니다.\n",
    "\n",
    "- 모든 함수는 객체지만 모든 객체는 함수가 아닙니다. 하지만 함수가 아닌 객체들을 호출할 수 있게 만들 수 있습니다."
   ]
  },
  {
   "cell_type": "markdown",
   "metadata": {},
   "source": [
    "참고 링크\n",
    "https://tech.ssut.me/python-functions-are-first-class/"
   ]
  },
  {
   "cell_type": "code",
   "execution_count": null,
   "metadata": {},
   "outputs": [],
   "source": []
  }
 ],
 "metadata": {
  "kernelspec": {
   "display_name": "Python 3",
   "language": "python",
   "name": "python3"
  },
  "language_info": {
   "codemirror_mode": {
    "name": "ipython",
    "version": 3
   },
   "file_extension": ".py",
   "mimetype": "text/x-python",
   "name": "python",
   "nbconvert_exporter": "python",
   "pygments_lexer": "ipython3",
   "version": "3.8.5"
  }
 },
 "nbformat": 4,
 "nbformat_minor": 4
}
