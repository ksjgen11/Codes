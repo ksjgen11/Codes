{
 "cells": [
  {
   "cell_type": "markdown",
   "metadata": {},
   "source": [
    "# 일급함수 디자인 패턴\n",
    "\n",
    "구현 언어가 관련된 패턴을 결정함\n",
    "일급함수 언어의 경우 패턴에 참여하는 일부 클래스의 객체를 함수로 교체하면 획일적인 코드의 반복을 줄일 수 있다!"
   ]
  },
  {
   "cell_type": "markdown",
   "metadata": {},
   "source": [
    "## 전략 패턴의 리팩토링\n",
    "\n",
    "### 고전구조\n",
    " - 콘텍스트(Order) -> 전략 (Promotion) - 알고리즘을 구현하는 컴포넌트의 인터페이스\n",
    " 구체적인 전략 - 전략의 구상 서브클래스 중 하나\n",
    " \n",
    " 전략 패턴 : 일련의 알고리즘을 정의하고, 각각을 하나의 클래스 안에 넣어 교체하기 쉽게 만든다. 전략을 이용하면 사용하는 클라이언트에 따라 알고리즘을 독립적으로 변경할 수 있다.(전자상거래)\n",
    " \n",
    "규칙: 충성포인트 1000점 이상 고객은 전체 주문에 5% 할인\n",
    "      하나의 주문에서 20개 이상의 동일 상품을 구입 시 그 상품에 대해 10% 할인\n",
    "      서로 다른 상품을 10종류 이상 주문하면 전체 주문에 7% 할인\n",
    "      할인은 한번에 하나만 적용 가능 "
   ]
  },
  {
   "cell_type": "code",
   "execution_count": 4,
   "metadata": {},
   "outputs": [],
   "source": [
    "from abc import ABC, abstractmethod\n",
    "from collections import namedtuple\n",
    "\n",
    "Customer = namedtuple('Customer', 'name fidelity')\n",
    "\n",
    "class LineItem:\n",
    "    \n",
    "    def __init__(self, product, quantity, price):\n",
    "        self.product = product\n",
    "        self.quantity = quantity\n",
    "        self.price = price\n",
    "    \n",
    "    def total(self):\n",
    "        return self.price * self.quantity\n",
    "    \n",
    "class Order:  #it is context\n",
    "    \n",
    "    def __init__(self, customer, cart, promotion=None):\n",
    "        self.customer = customer\n",
    "        self.cart = list(cart)\n",
    "        self.promotion = promotion\n",
    "    \n",
    "    def total(self):\n",
    "        if not hasattr(self, '__total'):\n",
    "            self.__total = sum(item.total() for item in self.cart)\n",
    "            return self.__total\n",
    "        \n",
    "    def due(self):\n",
    "        if self.promotion is None:\n",
    "            discount = 0\n",
    "        \n",
    "        else:\n",
    "            discount = self.promotion.discount(self)\n",
    "        \n",
    "        return self.total() - discount\n",
    "    \n",
    "    def __repr__(self):\n",
    "        fmt = '<Order total: {:.2f} due: {:.2f}>'\n",
    "        return fmt.format(self.total(), self.due())\n",
    "    \n",
    "class Promotion(ABC): #Stretagy: 추상 디바이스 -> ABC 클래스를 상속하여 추상 베이스 클래스를 선언할 수 있음\n",
    "    \n",
    "    @abstractmethod\n",
    "    def discount(self, order):\n",
    "        '''Return detailed prices of discount'''\n",
    "\n",
    "class FidelityPromo(Promotion): #1st discount rule\n",
    "    '''충성포인트 1000점 이상 고객은 전체 주문에 5% 할인'''\n",
    "    \n",
    "    def discount(self, order):\n",
    "        return order.total() * 0.05 if order.customer.fidelity >= 1000 else 0\n",
    "    \n",
    "class BulkItemPromo(Promotion): #2nd discount rule\n",
    "    '''하나의 주문에서 20개 이상의 동일 상품을 구입 시 그 상품에 대해 10% 할인'''\n",
    "    \n",
    "    def discount(self, order):\n",
    "        discount = 0\n",
    "        for item in order.cart:\n",
    "            if item.quantity >=20:\n",
    "                discount += item.total() *0.1\n",
    "        \n",
    "        return discount\n",
    "    \n",
    "class LargeOrderPromo(Promotion): #3rd discount rule\n",
    "    '''서로 다른 상품을 10종류 이상 주문하면 전체 주문에 7% 할인'''\n",
    "    \n",
    "    def discount(self, order):\n",
    "        distinct_items = {item.product for item in order.cart}\n",
    "        if len(distinct_items) >=10:\n",
    "            return order.total() *0.07\n",
    "        \n",
    "        return 0  \n",
    "    "
   ]
  },
  {
   "cell_type": "code",
   "execution_count": 5,
   "metadata": {},
   "outputs": [
    {
     "data": {
      "text/plain": [
       "<Order total: 42.00 due: 42.00>"
      ]
     },
     "execution_count": 5,
     "metadata": {},
     "output_type": "execute_result"
    }
   ],
   "source": [
    "joe = Customer('John Doe', 0)\n",
    "ann = Customer('Ann Smith', 1100)\n",
    "cart = [LineItem('banana', 4, 0.5), \n",
    "        LineItem('apple', 10, 1.5),\n",
    "        LineItem('watermelon', 5, 5.0)\n",
    "       ]\n",
    "Order(joe, cart, FidelityPromo())"
   ]
  },
  {
   "cell_type": "code",
   "execution_count": 6,
   "metadata": {},
   "outputs": [
    {
     "data": {
      "text/plain": [
       "<Order total: 42.00 due: 39.90>"
      ]
     },
     "execution_count": 6,
     "metadata": {},
     "output_type": "execute_result"
    }
   ],
   "source": [
    "Order(ann, cart, FidelityPromo())"
   ]
  },
  {
   "cell_type": "code",
   "execution_count": 7,
   "metadata": {},
   "outputs": [
    {
     "data": {
      "text/plain": [
       "<Order total: 30.00 due: 28.50>"
      ]
     },
     "execution_count": 7,
     "metadata": {},
     "output_type": "execute_result"
    }
   ],
   "source": [
    "banana_cart = [LineItem('banana', 30, 0.5),\n",
    "               LineItem('apple', 10, 1.5)]\n",
    "Order(joe, banana_cart, BulkItemPromo())"
   ]
  },
  {
   "cell_type": "code",
   "execution_count": 8,
   "metadata": {},
   "outputs": [
    {
     "data": {
      "text/plain": [
       "<Order total: 10.00 due: 9.30>"
      ]
     },
     "execution_count": 8,
     "metadata": {},
     "output_type": "execute_result"
    }
   ],
   "source": [
    "long_order = [LineItem(str(item_code), 1, 1.0) for item_code in range(10)]\n",
    "Order(joe, long_order, LargeOrderPromo())"
   ]
  },
  {
   "cell_type": "code",
   "execution_count": 9,
   "metadata": {},
   "outputs": [
    {
     "data": {
      "text/plain": [
       "<Order total: 42.00 due: 42.00>"
      ]
     },
     "execution_count": 9,
     "metadata": {},
     "output_type": "execute_result"
    }
   ],
   "source": [
    "Order(joe, cart, LargeOrderPromo())"
   ]
  },
  {
   "cell_type": "markdown",
   "metadata": {},
   "source": [
    "### 함수지향 전략\n",
    "\n",
    "리팩토링 - 함수로\n",
    "동일전략 객체를 반복해서 사용할 경우 플라이웨이트를 공유하는 것이 좋음 -> 소스코드의 행 수, 유지보수 비용이 늘어남"
   ]
  },
  {
   "cell_type": "code",
   "execution_count": 9,
   "metadata": {},
   "outputs": [],
   "source": [
    "from collections import namedtuple\n",
    "\n",
    "Customer = namedtuple('Customer', 'name fidelity')\n",
    "\n",
    "class LineItem:\n",
    "    \n",
    "    def __init__(self, product, quantity, price):\n",
    "        self.product = product\n",
    "        self.quantity = quantity\n",
    "        self.price = price\n",
    "    \n",
    "    def total(self):\n",
    "        return self.price * self.quantity\n",
    "    \n",
    "class Order:  #it is context\n",
    "    \n",
    "    def __init__(self, customer, cart, promotion=None):\n",
    "        self.customer = customer\n",
    "        self.cart = list(cart)\n",
    "        self.promotion = promotion\n",
    "    \n",
    "    def total(self):\n",
    "        if not hasattr(self, '__total'):\n",
    "            self.__total = sum(item.total() for item in self.cart)\n",
    "            return self.__total\n",
    "        \n",
    "    def due(self):\n",
    "        if self.promotion is None:\n",
    "            discount = 0\n",
    "        \n",
    "        else:\n",
    "            discount = self.promotion(self)\n",
    "        \n",
    "        return self.total() - discount\n",
    "    \n",
    "    def __repr__(self):\n",
    "        fmt = '<Order total: {:.2f} due: {:.2f}>'\n",
    "        return fmt.format(self.total(), self.due())\n",
    "    \n",
    "\n",
    "def fidelity_promo(order): #1st discount rule\n",
    "    '''충성포인트 1000점 이상 고객은 전체 주문에 5% 할인'''\n",
    "    \n",
    "    return order.total() * 0.05 if order.customer.fidelity >= 1000 else 0\n",
    "    \n",
    "def bulk_item_promo(order): #2nd discount rule\n",
    "    '''하나의 주문에서 20개 이상의 동일 상품을 구입 시 그 상품에 대해 10% 할인'''\n",
    "    discount = 0\n",
    "    for item in order.cart:\n",
    "        if item.quantity >=20:\n",
    "            discount += item.total() *0.1\n",
    "        \n",
    "    return discount\n",
    "    \n",
    "def large_order_promo(order): #3rd discount rule\n",
    "    '''서로 다른 상품을 10종류 이상 주문하면 전체 주문에 7% 할인'''\n",
    "        \n",
    "    distinct_items = {item.product for item in order.cart}\n",
    "    if len(distinct_items) >=10:\n",
    "        return order.total() *0.07\n",
    "        \n",
    "    return 0 \n",
    "\n",
    "promos = [fidelity_promo, bulk_item_promo, large_order_promo]\n",
    "\n",
    "def best_promo(order):\n",
    "    '''return max discount'''\n",
    "    return max(promo(order) for promo in promos) # 제너레이터표현식을 이용해서 promos 에 있는 각 함수를 order에 적용하고, 최대할인액 계산"
   ]
  },
  {
   "cell_type": "code",
   "execution_count": 3,
   "metadata": {},
   "outputs": [
    {
     "data": {
      "text/plain": [
       "<Order total: 42.00 due: 42.00>"
      ]
     },
     "execution_count": 3,
     "metadata": {},
     "output_type": "execute_result"
    }
   ],
   "source": [
    "joe = Customer('John Doe', 0)\n",
    "ann = Customer('Ann Smith', 1100)\n",
    "cart = [LineItem('banana', 4, 0.5), \n",
    "        LineItem('apple', 10, 1.5),\n",
    "        LineItem('watermelon', 5, 5.0)]\n",
    "Order(joe, cart, fidelity_promo)"
   ]
  },
  {
   "cell_type": "code",
   "execution_count": 5,
   "metadata": {},
   "outputs": [
    {
     "data": {
      "text/plain": [
       "<Order total: 42.00 due: 39.90>"
      ]
     },
     "execution_count": 5,
     "metadata": {},
     "output_type": "execute_result"
    }
   ],
   "source": [
    "Order(ann, cart, fidelity_promo)"
   ]
  },
  {
   "cell_type": "code",
   "execution_count": 6,
   "metadata": {},
   "outputs": [
    {
     "data": {
      "text/plain": [
       "<Order total: 30.00 due: 28.50>"
      ]
     },
     "execution_count": 6,
     "metadata": {},
     "output_type": "execute_result"
    }
   ],
   "source": [
    "banana_cart = [LineItem('banana', 30, 0.5),\n",
    "               LineItem('apple', 10, 1.5)]\n",
    "Order(joe, banana_cart, bulk_item_promo)"
   ]
  },
  {
   "cell_type": "code",
   "execution_count": 7,
   "metadata": {},
   "outputs": [
    {
     "data": {
      "text/plain": [
       "<Order total: 10.00 due: 9.30>"
      ]
     },
     "execution_count": 7,
     "metadata": {},
     "output_type": "execute_result"
    }
   ],
   "source": [
    "long_order = [LineItem(str(item_code), 1, 1.0) for item_code in range(10)]\n",
    "Order(joe, long_order, large_order_promo)"
   ]
  },
  {
   "cell_type": "code",
   "execution_count": 23,
   "metadata": {},
   "outputs": [
    {
     "data": {
      "text/plain": [
       "<Order total: 42.00 due: 42.00>"
      ]
     },
     "execution_count": 23,
     "metadata": {},
     "output_type": "execute_result"
    }
   ],
   "source": [
    "Order(joe, cart, large_order_promo)"
   ]
  },
  {
   "cell_type": "markdown",
   "metadata": {},
   "source": [
    "### 단순한 접근법 -> 최선의 전략 선택하기\n",
    "\n",
    " - meta 접근 -> 그냥 리스트로 전략들 만들어서 넣으면 새 전략이 만들어질 때마다 추가해줘야 함\n",
    " - 버그 여지 있음\n",
    " \n",
    "### 모듈에서 전략 찾기\n"
   ]
  },
  {
   "cell_type": "code",
   "execution_count": 10,
   "metadata": {},
   "outputs": [
    {
     "data": {
      "text/plain": [
       "<Order total: 10.00 due: 9.30>"
      ]
     },
     "execution_count": 10,
     "metadata": {},
     "output_type": "execute_result"
    }
   ],
   "source": [
    "Order(joe, long_order, best_promo)"
   ]
  },
  {
   "cell_type": "code",
   "execution_count": 11,
   "metadata": {},
   "outputs": [
    {
     "data": {
      "text/plain": [
       "<Order total: 30.00 due: 28.50>"
      ]
     },
     "execution_count": 11,
     "metadata": {},
     "output_type": "execute_result"
    }
   ],
   "source": [
    "Order(joe, banana_cart, best_promo)"
   ]
  },
  {
   "cell_type": "code",
   "execution_count": 13,
   "metadata": {},
   "outputs": [
    {
     "data": {
      "text/plain": [
       "<Order total: 42.00 due: 39.90>"
      ]
     },
     "execution_count": 13,
     "metadata": {},
     "output_type": "execute_result"
    }
   ],
   "source": [
    "Order(ann, cart, best_promo)"
   ]
  },
  {
   "cell_type": "code",
   "execution_count": null,
   "metadata": {},
   "outputs": [],
   "source": [
    "from collections import namedtuple\n",
    "\n",
    "Customer = namedtuple('Customer', 'name fidelity')\n",
    "\n",
    "class LineItem:\n",
    "    \n",
    "    def __init__(self, product, quantity, price):\n",
    "        self.product = product\n",
    "        self.quantity = quantity\n",
    "        self.price = price\n",
    "    \n",
    "    def total(self):\n",
    "        return self.price * self.quantity\n",
    "    \n",
    "class Order:  #it is context\n",
    "    \n",
    "    def __init__(self, customer, cart, promotion=None):\n",
    "        self.customer = customer\n",
    "        self.cart = list(cart)\n",
    "        self.promotion = promotion\n",
    "    \n",
    "    def total(self):\n",
    "        if not hasattr(self, '__total'):\n",
    "            self.__total = sum(item.total() for item in self.cart)\n",
    "            return self.__total\n",
    "        \n",
    "    def due(self):\n",
    "        if self.promotion is None:\n",
    "            discount = 0\n",
    "        \n",
    "        else:\n",
    "            discount = self.promotion(self)\n",
    "        \n",
    "        return self.total() - discount\n",
    "    \n",
    "    def __repr__(self):\n",
    "        fmt = '<Order total: {:.2f} due: {:.2f}>'\n",
    "        return fmt.format(self.total(), self.due())\n",
    "    \n",
    "\n",
    "def fidelity_promo(order): #1st discount rule\n",
    "    '''충성포인트 1000점 이상 고객은 전체 주문에 5% 할인'''\n",
    "    \n",
    "    return order.total() * 0.05 if order.customer.fidelity >= 1000 else 0\n",
    "    \n",
    "def bulk_item_promo(order): #2nd discount rule\n",
    "    '''하나의 주문에서 20개 이상의 동일 상품을 구입 시 그 상품에 대해 10% 할인'''\n",
    "    discount = 0\n",
    "    for item in order.cart:\n",
    "        if item.quantity >=20:\n",
    "            discount += item.total() *0.1\n",
    "        \n",
    "    return discount\n",
    "    \n",
    "def large_order_promo(order): #3rd discount rule\n",
    "    '''서로 다른 상품을 10종류 이상 주문하면 전체 주문에 7% 할인'''\n",
    "        \n",
    "    distinct_items = {item.product for item in order.cart}\n",
    "    if len(distinct_items) >=10:\n",
    "        return order.total() *0.07\n",
    "        \n",
    "    return 0 \n",
    "\n",
    "promos = [globals()[name] for name in globals() #globals 함수가 반환된 딕셔너리에서 name 을 반복함\n",
    "           if name.endswith('_promo')\n",
    "            and name != 'best_promo']\n",
    "\n",
    "def best_promo(order):\n",
    "    '''return max discount'''\n",
    "    return max(promo(order) for promo in promos) # 제너레이터표현식을 이용해서 promos 에 있는 각 함수를 order에 적용하고, 최대할인액 계산"
   ]
  },
  {
   "cell_type": "code",
   "execution_count": null,
   "metadata": {},
   "outputs": [],
   "source": [
    "from collections import namedtuple\n",
    "import inspect\n",
    "\n",
    "Customer = namedtuple('Customer', 'name fidelity')\n",
    "\n",
    "class LineItem:\n",
    "    \n",
    "    def __init__(self, product, quantity, price):\n",
    "        self.product = product\n",
    "        self.quantity = quantity\n",
    "        self.price = price\n",
    "    \n",
    "    def total(self):\n",
    "        return self.price * self.quantity\n",
    "    \n",
    "class Order:  #it is context\n",
    "    \n",
    "    def __init__(self, customer, cart, promotion=None):\n",
    "        self.customer = customer\n",
    "        self.cart = list(cart)\n",
    "        self.promotion = promotion\n",
    "    \n",
    "    def total(self):\n",
    "        if not hasattr(self, '__total'):\n",
    "            self.__total = sum(item.total() for item in self.cart)\n",
    "            return self.__total\n",
    "        \n",
    "    def due(self):\n",
    "        if self.promotion is None:\n",
    "            discount = 0\n",
    "        \n",
    "        else:\n",
    "            discount = self.promotion(self)\n",
    "        \n",
    "        return self.total() - discount\n",
    "    \n",
    "    def __repr__(self):\n",
    "        fmt = '<Order total: {:.2f} due: {:.2f}>'\n",
    "        return fmt.format(self.total(), self.due())\n",
    "    \n",
    "\n",
    "def fidelity_promo(order): #1st discount rule\n",
    "    '''충성포인트 1000점 이상 고객은 전체 주문에 5% 할인'''\n",
    "    \n",
    "    return order.total() * 0.05 if order.customer.fidelity >= 1000 else 0\n",
    "    \n",
    "def bulk_item_promo(order): #2nd discount rule\n",
    "    '''하나의 주문에서 20개 이상의 동일 상품을 구입 시 그 상품에 대해 10% 할인'''\n",
    "    discount = 0\n",
    "    for item in order.cart:\n",
    "        if item.quantity >=20:\n",
    "            discount += item.total() *0.1\n",
    "        \n",
    "    return discount\n",
    "    \n",
    "def large_order_promo(order): #3rd discount rule\n",
    "    '''서로 다른 상품을 10종류 이상 주문하면 전체 주문에 7% 할인'''\n",
    "        \n",
    "    distinct_items = {item.product for item in order.cart}\n",
    "    if len(distinct_items) >=10:\n",
    "        return order.total() *0.07\n",
    "        \n",
    "    return 0 \n",
    "\n",
    "promos = [func for name, func in inspect.getmembers(promotions, inspect.isfunction)] #할인액을 계산하는 함수들만 모듈에 넣으면 작동함\n",
    "\n",
    "def best_promo(order):\n",
    "    '''return max discount'''\n",
    "    return max(promo(order) for promo in promos) # 제너레이터표현식을 이용해서 promos 에 있는 각 함수를 order에 적용하고, 최대할인액 계산"
   ]
  },
  {
   "cell_type": "markdown",
   "metadata": {},
   "source": [
    "## 명령\n",
    "\n",
    "함수를 인수로 전달하면 명령디자인패턴도 구현을 단순하게 할 수 있음\n",
    "목적\n",
    "연산을 실행하는 객체(호출자Invoker)와 연산을 구현하는 객체(수신자Receiver) 를 분리하는 것\n",
    "명령 객체를 수신자와 호출자 사이에 놓고, 명령은 execute() 로 인터페이스 구현 -> 수신자가 갖고 있는 메서드 호출\n",
    " - 호출자는 수신자의 인터페이스를 알 필요가 없음\n",
    " - 명령의 서브클래스로 다른 수신자 추가 가능\n",
    " - 호출자에 Command 객체 대신 함수를 바로 지정 가능\n",
    " - MacroCommand 와 같은 콜러블 객체는 필요한 상태를 보관하여 __call__() 외의 메서드도 제공 가능함\n",
    " - 함수가 호출된 후의 상태를 내부에 보관하기 위해 클로저 사용가능"
   ]
  },
  {
   "cell_type": "code",
   "execution_count": null,
   "metadata": {},
   "outputs": [],
   "source": [
    "class MacroCommand:\n",
    "    '''명령 리스트를 실행하는 명령'''\n",
    "    \n",
    "    def __init__(self, commands):\n",
    "        self.commands = list(commands)\n",
    "        \n",
    "    def __call__(self):  # callable \n",
    "        for command in self.commands:\n",
    "            command()"
   ]
  },
  {
   "cell_type": "code",
   "execution_count": null,
   "metadata": {},
   "outputs": [],
   "source": []
  },
  {
   "cell_type": "code",
   "execution_count": null,
   "metadata": {},
   "outputs": [],
   "source": []
  },
  {
   "cell_type": "code",
   "execution_count": null,
   "metadata": {},
   "outputs": [],
   "source": []
  },
  {
   "cell_type": "code",
   "execution_count": null,
   "metadata": {},
   "outputs": [],
   "source": []
  },
  {
   "cell_type": "code",
   "execution_count": null,
   "metadata": {},
   "outputs": [],
   "source": []
  },
  {
   "cell_type": "code",
   "execution_count": null,
   "metadata": {},
   "outputs": [],
   "source": []
  },
  {
   "cell_type": "code",
   "execution_count": null,
   "metadata": {},
   "outputs": [],
   "source": []
  },
  {
   "cell_type": "code",
   "execution_count": null,
   "metadata": {},
   "outputs": [],
   "source": []
  },
  {
   "cell_type": "code",
   "execution_count": null,
   "metadata": {},
   "outputs": [],
   "source": []
  },
  {
   "cell_type": "code",
   "execution_count": null,
   "metadata": {},
   "outputs": [],
   "source": []
  },
  {
   "cell_type": "code",
   "execution_count": null,
   "metadata": {},
   "outputs": [],
   "source": []
  },
  {
   "cell_type": "code",
   "execution_count": null,
   "metadata": {},
   "outputs": [],
   "source": []
  },
  {
   "cell_type": "code",
   "execution_count": null,
   "metadata": {},
   "outputs": [],
   "source": []
  },
  {
   "cell_type": "code",
   "execution_count": null,
   "metadata": {},
   "outputs": [],
   "source": []
  },
  {
   "cell_type": "code",
   "execution_count": null,
   "metadata": {},
   "outputs": [],
   "source": []
  },
  {
   "cell_type": "code",
   "execution_count": null,
   "metadata": {},
   "outputs": [],
   "source": []
  },
  {
   "cell_type": "code",
   "execution_count": null,
   "metadata": {},
   "outputs": [],
   "source": []
  },
  {
   "cell_type": "code",
   "execution_count": null,
   "metadata": {},
   "outputs": [],
   "source": []
  },
  {
   "cell_type": "code",
   "execution_count": null,
   "metadata": {},
   "outputs": [],
   "source": []
  },
  {
   "cell_type": "code",
   "execution_count": null,
   "metadata": {},
   "outputs": [],
   "source": []
  },
  {
   "cell_type": "code",
   "execution_count": null,
   "metadata": {},
   "outputs": [],
   "source": []
  },
  {
   "cell_type": "code",
   "execution_count": null,
   "metadata": {},
   "outputs": [],
   "source": []
  },
  {
   "cell_type": "code",
   "execution_count": null,
   "metadata": {},
   "outputs": [],
   "source": []
  },
  {
   "cell_type": "code",
   "execution_count": null,
   "metadata": {},
   "outputs": [],
   "source": []
  },
  {
   "cell_type": "code",
   "execution_count": null,
   "metadata": {},
   "outputs": [],
   "source": []
  },
  {
   "cell_type": "code",
   "execution_count": null,
   "metadata": {},
   "outputs": [],
   "source": []
  },
  {
   "cell_type": "code",
   "execution_count": null,
   "metadata": {},
   "outputs": [],
   "source": []
  },
  {
   "cell_type": "code",
   "execution_count": null,
   "metadata": {},
   "outputs": [],
   "source": []
  },
  {
   "cell_type": "code",
   "execution_count": null,
   "metadata": {},
   "outputs": [],
   "source": []
  },
  {
   "cell_type": "code",
   "execution_count": null,
   "metadata": {},
   "outputs": [],
   "source": []
  },
  {
   "cell_type": "code",
   "execution_count": null,
   "metadata": {},
   "outputs": [],
   "source": []
  },
  {
   "cell_type": "code",
   "execution_count": null,
   "metadata": {},
   "outputs": [],
   "source": []
  },
  {
   "cell_type": "code",
   "execution_count": null,
   "metadata": {},
   "outputs": [],
   "source": []
  },
  {
   "cell_type": "code",
   "execution_count": null,
   "metadata": {},
   "outputs": [],
   "source": []
  },
  {
   "cell_type": "code",
   "execution_count": null,
   "metadata": {},
   "outputs": [],
   "source": []
  }
 ],
 "metadata": {
  "kernelspec": {
   "display_name": "Python 3",
   "language": "python",
   "name": "python3"
  },
  "language_info": {
   "codemirror_mode": {
    "name": "ipython",
    "version": 3
   },
   "file_extension": ".py",
   "mimetype": "text/x-python",
   "name": "python",
   "nbconvert_exporter": "python",
   "pygments_lexer": "ipython3",
   "version": "3.8.3"
  }
 },
 "nbformat": 4,
 "nbformat_minor": 4
}
