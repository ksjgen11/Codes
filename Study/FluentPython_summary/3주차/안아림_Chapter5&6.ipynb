{
 "cells": [
  {
   "cell_type": "markdown",
   "metadata": {},
   "source": [
    "## 챕터 5: 일급 함수\n",
    "\n",
    "다음과 같은 작업을 수행할 수 있는 프로그램 개체를 '일급 객체'로 정의한다.\n",
    "* 런타임에 생성할 수 있다.\n",
    "* 데이터 구조체의 변수나 요소에 할당할 수 있다.\n",
    "* 함수 인수로 전달할 수 있다.\n",
    "* 함수 결과로 반환할 수 있다.\n",
    "\n",
    "### 함수를 개체처럼 다루기\n",
    "- _doc_ 속성은 객체의 도움말 텍스트를 생성하기 위해 사용된다."
   ]
  },
  {
   "cell_type": "code",
   "execution_count": 1,
   "metadata": {},
   "outputs": [],
   "source": [
    "# 함수를 생성해서 테스트하고, 함수의 __doc__을 읽어서 자료형 확인하기\n",
    "def factorial(n):\n",
    "    '''returns n!'''\n",
    "    return 1 if n<2 else n*factorial(n-1)"
   ]
  },
  {
   "cell_type": "code",
   "execution_count": 2,
   "metadata": {},
   "outputs": [
    {
     "data": {
      "text/plain": [
       "1405006117752879898543142606244511569936384000000000"
      ]
     },
     "execution_count": 2,
     "metadata": {},
     "output_type": "execute_result"
    }
   ],
   "source": [
    "factorial(42)"
   ]
  },
  {
   "cell_type": "code",
   "execution_count": 3,
   "metadata": {},
   "outputs": [
    {
     "data": {
      "text/plain": [
       "'returns n!'"
      ]
     },
     "execution_count": 3,
     "metadata": {},
     "output_type": "execute_result"
    }
   ],
   "source": [
    "factorial.__doc__"
   ]
  },
  {
   "cell_type": "code",
   "execution_count": 4,
   "metadata": {},
   "outputs": [
    {
     "data": {
      "text/plain": [
       "function"
      ]
     },
     "execution_count": 4,
     "metadata": {},
     "output_type": "execute_result"
    }
   ],
   "source": [
    "type(factorial)"
   ]
  },
  {
   "cell_type": "markdown",
   "metadata": {},
   "source": [
    "앞의 예제는 함수 객체의 '일급' 본질을 보여준다. 함수를 fact 변수에 할당하고, 이 변수명을 통해 함수를 호출한다. 그리고 factorial을 map()의 인수로 전달할 수도 있다. **map()함수는 두번째 인수의 연속된 요소(반복 가능한 객체로서, 이 예제에서는 range(10)에 첫 번째 인수(함수)를 적용한 결과를 가지는 반복 가능형 객체를 반환한다.**"
   ]
  },
  {
   "cell_type": "code",
   "execution_count": 5,
   "metadata": {},
   "outputs": [
    {
     "data": {
      "text/plain": [
       "<function __main__.factorial(n)>"
      ]
     },
     "execution_count": 5,
     "metadata": {},
     "output_type": "execute_result"
    }
   ],
   "source": [
    "# 함수를 다른 이름으로 사용하고 함수의 인수로 전달하기\n",
    "fact=factorial\n",
    "fact"
   ]
  },
  {
   "cell_type": "code",
   "execution_count": 6,
   "metadata": {},
   "outputs": [
    {
     "data": {
      "text/plain": [
       "120"
      ]
     },
     "execution_count": 6,
     "metadata": {},
     "output_type": "execute_result"
    }
   ],
   "source": [
    "fact(5)"
   ]
  },
  {
   "cell_type": "code",
   "execution_count": 7,
   "metadata": {},
   "outputs": [
    {
     "data": {
      "text/plain": [
       "<map at 0x7fae0d315150>"
      ]
     },
     "execution_count": 7,
     "metadata": {},
     "output_type": "execute_result"
    }
   ],
   "source": [
    "map(factorial, range(11))"
   ]
  },
  {
   "cell_type": "code",
   "execution_count": 8,
   "metadata": {},
   "outputs": [
    {
     "data": {
      "text/plain": [
       "[1, 1, 2, 6, 24, 120, 720, 5040, 40320, 362880, 3628800]"
      ]
     },
     "execution_count": 8,
     "metadata": {},
     "output_type": "execute_result"
    }
   ],
   "source": [
    "list(map(factorial, range(11)))"
   ]
  },
  {
   "cell_type": "markdown",
   "metadata": {},
   "source": [
    "### 고위 함수\n",
    "- 함수를 인수로 받거나, 함수를 결과로 반환하는 함수를 **고위 함수**라고 한다.\n",
    "- 예) 단어 리스트를 정렬하려면 len함수를 key인수로 전달하면 된다."
   ]
  },
  {
   "cell_type": "code",
   "execution_count": 9,
   "metadata": {},
   "outputs": [
    {
     "data": {
      "text/plain": [
       "['apple', 'banana', 'cherry', 'fig', 'raspberry', 'strawberry']"
      ]
     },
     "execution_count": 9,
     "metadata": {},
     "output_type": "execute_result"
    }
   ],
   "source": [
    "# 단어 리스트를 길이에 따라 정렬하기\n",
    "fruits = ['strawberry', 'fig', 'apple', 'cherry', 'raspberry', 'banana']\n",
    "sorted(fruits)"
   ]
  },
  {
   "cell_type": "code",
   "execution_count": 11,
   "metadata": {},
   "outputs": [],
   "source": [
    "# 단어 리스트를 철자 역순으로 정렬하기\n",
    "def reverse(word):\n",
    "    return word[::-1]"
   ]
  },
  {
   "cell_type": "code",
   "execution_count": 12,
   "metadata": {},
   "outputs": [
    {
     "data": {
      "text/plain": [
       "'gnitset'"
      ]
     },
     "execution_count": 12,
     "metadata": {},
     "output_type": "execute_result"
    }
   ],
   "source": [
    "reverse('testing')"
   ]
  },
  {
   "cell_type": "code",
   "execution_count": 13,
   "metadata": {},
   "outputs": [
    {
     "data": {
      "text/plain": [
       "['banana', 'apple', 'fig', 'raspberry', 'strawberry', 'cherry']"
      ]
     },
     "execution_count": 13,
     "metadata": {},
     "output_type": "execute_result"
    }
   ],
   "source": [
    "sorted(fruits, key=reverse)"
   ]
  },
  {
   "cell_type": "markdown",
   "metadata": {},
   "source": [
    "#### map(), filter(), reduce()의 대안"
   ]
  },
  {
   "cell_type": "code",
   "execution_count": 14,
   "metadata": {},
   "outputs": [
    {
     "data": {
      "text/plain": [
       "[1, 1, 2, 6, 24, 120]"
      ]
     },
     "execution_count": 14,
     "metadata": {},
     "output_type": "execute_result"
    }
   ],
   "source": [
    "# 팩토리얼 목록을 map()/filter()로 생성하는 방법과 지능형 리스트로 생성하는 방법\n",
    "list(map(fact, range(6)))"
   ]
  },
  {
   "cell_type": "code",
   "execution_count": 15,
   "metadata": {},
   "outputs": [
    {
     "data": {
      "text/plain": [
       "[1, 1, 2, 6, 24, 120]"
      ]
     },
     "execution_count": 15,
     "metadata": {},
     "output_type": "execute_result"
    }
   ],
   "source": [
    "[fact(n) for n in range(6)]"
   ]
  },
  {
   "cell_type": "code",
   "execution_count": 16,
   "metadata": {},
   "outputs": [
    {
     "data": {
      "text/plain": [
       "[1, 6, 120]"
      ]
     },
     "execution_count": 16,
     "metadata": {},
     "output_type": "execute_result"
    }
   ],
   "source": [
    "# map()과 filter()를 사용해서 5!까지 홀수에 대한 팩토리얼 리스트를 만든다.\n",
    "list(map(factorial, filter(lambda n: n%2, range(6))))"
   ]
  },
  {
   "cell_type": "code",
   "execution_count": 17,
   "metadata": {},
   "outputs": [
    {
     "data": {
      "text/plain": [
       "[1, 6, 120]"
      ]
     },
     "execution_count": 17,
     "metadata": {},
     "output_type": "execute_result"
    }
   ],
   "source": [
    "# map()과 filter()를 대체하고 lambda 없이 지능형 리스트로 동일한 작업을 수행해줬다.\n",
    "[factorial(n) for n in range(6) if n%2]"
   ]
  },
  {
   "cell_type": "markdown",
   "metadata": {},
   "source": [
    "- reduce()는 주로 합계를 구하기 위해 사용되는데, sum()함수를 사용하는 것이 더 낫다."
   ]
  },
  {
   "cell_type": "code",
   "execution_count": 18,
   "metadata": {},
   "outputs": [
    {
     "data": {
      "text/plain": [
       "4950"
      ]
     },
     "execution_count": 18,
     "metadata": {},
     "output_type": "execute_result"
    }
   ],
   "source": [
    "# reduce()와 sum()을 이용해서 99까지 정수 더하기\n",
    "from functools import reduce # 파이썬 3.0부터 reduce()는 더 이상 내장 함수르 제공되지 않는다.\n",
    "from operator import add # add()를 임포트함으로써 숫자 두 개를 더하는 함수를 생성할 필요 없다.\n",
    "reduce(add, range(100)) # 정수를 99까지 더한다."
   ]
  },
  {
   "cell_type": "code",
   "execution_count": 19,
   "metadata": {},
   "outputs": [
    {
     "data": {
      "text/plain": [
       "4950"
      ]
     },
     "execution_count": 19,
     "metadata": {},
     "output_type": "execute_result"
    }
   ],
   "source": [
    "sum(range(100))"
   ]
  },
  {
   "cell_type": "markdown",
   "metadata": {},
   "source": [
    "* all(iterable): 모든 iterable이 참된 값이면 True를 반환한다. all([])은 True를 반환한다.\n",
    "* any(iterable): iterable 중 하나라도 참된 값이면 True를 반환한다. any([])은 False를 반환한다.\n",
    "\n",
    "### 익명 함수\n",
    "- 람다 본체에서는 할당문이나 while, try 등의 파이썬 문장을 사용할 수 없다."
   ]
  },
  {
   "cell_type": "code",
   "execution_count": 20,
   "metadata": {},
   "outputs": [
    {
     "data": {
      "text/plain": [
       "['banana', 'apple', 'fig', 'raspberry', 'strawberry', 'cherry']"
      ]
     },
     "execution_count": 20,
     "metadata": {},
     "output_type": "execute_result"
    }
   ],
   "source": [
    "# lambda를 이용해서 철자 역순으로 단어 리스트 정렬하기\n",
    "fruits = ['strawberry', 'fig', 'apple', 'cherry', 'raspberry', 'banana']\n",
    "sorted(fruits, key=lambda word: word[::-1])"
   ]
  },
  {
   "cell_type": "markdown",
   "metadata": {},
   "source": [
    "### 일곱 가지 맛의 콜러블 객체\n",
    "- 사용자 정의 함수: def 문이나 람다 표현식으로 생성한다.\n",
    "- 내장 함수: len()이나 time.strftime()처럼 C언어로 구현된 함수(CPython의 경우)\n",
    "- 내장 메서드: dict.get()처럼 C언어로 구현된 메서드\n",
    "- 메서드: 클래스 본체에 정의된 함수\n",
    "- 클래스: 호출될 때 클래스는 자신의 _new()_ 메서드를 실행해서 객체를 생성하고, _init_()으로 초기화한 후, 최종적으로 호출자에 객체를 반환한다.\n",
    "- 클래스 객체: 클래스가 _call_() 메서드를 구현하면 이 클래스의 객체는 함수로 호출될 수 있다.\n",
    "- 제너레이터 함수: yield 키워드를 사용하는 함수나 메서드, 이 함수가 호출되면 제너레이터 객체를 반환한다.\n",
    "\n",
    "### 사용자 정의 콜러블형"
   ]
  },
  {
   "cell_type": "code",
   "execution_count": 21,
   "metadata": {},
   "outputs": [],
   "source": [
    "# bingocall.py: BingoCage 클래스는 뒤섞인 리스트에서 항목을 골라낼 뿐이다.\n",
    "import random\n",
    "\n",
    "class BingoCage:\n",
    "    \n",
    "    def __init__(self, items):\n",
    "        self._items = list(items) # __init__()은 반복 가능 객체를 받는다. 지역에 사본을 만들면 인수로 전달된 리스트에 예기치 않은 부작용이 생기지 않도록 예방할 수 있다.\n",
    "        random.shuffle(self._items) # self._items가 리스트이므로 shuffle() 메서드가 실행되는 것을 보장할 수 있다.\n",
    "        \n",
    "    def pick(self): # 핵심 메서드\n",
    "        try:\n",
    "            return self._items.pop()\n",
    "        except IndexError:\n",
    "            raise LookupError('pick from empty BingoCage') # self._items가 비어 있으면 사용자 정의 메시지를 담은 예외를 발생시킨다.\n",
    "            \n",
    "    def __call__(self): # bingo.pick()에 대한 단축 형태로 bingo()를 정의한다.\n",
    "        return self.pick()"
   ]
  },
  {
   "cell_type": "code",
   "execution_count": 22,
   "metadata": {},
   "outputs": [
    {
     "data": {
      "text/plain": [
       "1"
      ]
     },
     "execution_count": 22,
     "metadata": {},
     "output_type": "execute_result"
    }
   ],
   "source": [
    "bingo = BingoCage(range(3))\n",
    "bingo.pick()"
   ]
  },
  {
   "cell_type": "code",
   "execution_count": 23,
   "metadata": {},
   "outputs": [
    {
     "data": {
      "text/plain": [
       "0"
      ]
     },
     "execution_count": 23,
     "metadata": {},
     "output_type": "execute_result"
    }
   ],
   "source": [
    "bingo()"
   ]
  },
  {
   "cell_type": "code",
   "execution_count": 24,
   "metadata": {},
   "outputs": [
    {
     "data": {
      "text/plain": [
       "True"
      ]
     },
     "execution_count": 24,
     "metadata": {},
     "output_type": "execute_result"
    }
   ],
   "source": [
    "callable(bingo)"
   ]
  },
  {
   "cell_type": "markdown",
   "metadata": {},
   "source": [
    "### 위치 매개변수에서 키워드 전용 매개변수까지\n",
    "- 키워드 전용 인수를 이용한 융통성 있는 매개변수 처리 매커니즘은 파이썬 함수에서 볼 수 있는 가장 훌륭한 기능 중 하나다."
   ]
  },
  {
   "cell_type": "code",
   "execution_count": null,
   "metadata": {},
   "outputs": [],
   "source": [
    "# HTML을 생성하는 tag() 함수, class는 파이썬에 정의된 키워드이므로, 이를 피해 class 속성을 전달하기 위해 키워드 전용 매개변수로 cls를 사용했다.\n",
    "def tag(name, *content, cls=None, **attrs):\n",
    "    \"\"\"하나 이상 HTML 태그를 생성한다.\"\"\"\n",
    "    if cls is not None:\n",
    "        attrs['class'] = cls\n",
    "    if attrs_str = ''.join('%s=\"%s\"' % (attr, value) for attr, value in sorted(attrs.items()))\n",
    "    else: \n",
    "        attr_str = ''\n",
    "    if content:\n",
    "        return '\\n'.join('<%s%s>%s</%s>' %(name, attr_str,c , name) for c in content)\n",
    "    else: \n",
    "        return '<%s%s /' % (name, attr_str)"
   ]
  },
  {
   "cell_type": "code",
   "execution_count": null,
   "metadata": {},
   "outputs": [],
   "source": [
    "# 구현한 tag() 함수를 호출하는 방법\n",
    "tag('br') # 위치 인수 하나만 사용해서 호출하면 이름을 가진 빈 태그를 생성한다."
   ]
  },
  {
   "cell_type": "code",
   "execution_count": null,
   "metadata": {},
   "outputs": [],
   "source": [
    "tag('p', 'hello') # 첫 번째 이후의 인수들은 모두 *content 매개변수에 튜플로 전달된다."
   ]
  },
  {
   "cell_type": "markdown",
   "metadata": {},
   "source": [
    "### 매개변수에 대한 정보 읽기\n",
    "- 함수에 어떤 매개변수가 필요한지, 매개변수에 기본값이 있는지 없는지 Bobo는 어떻게 알 수 있을까?\n",
    "    - 함수 객체 안의 _defaults_ 속성에는 위치인수와 키워드 인수의 기본값을 가진 튜플이 들어있다. 키워드 전용 인수의 기본값은 _kwdefaults_ 속성에 들어 있다. 그러나 인수명은 _code_ 속성에 들어 있는데, 이 속성은 여러 속성을 담고 있는 code 객체를 가리킨다."
   ]
  },
  {
   "cell_type": "code",
   "execution_count": 1,
   "metadata": {},
   "outputs": [],
   "source": [
    "# 원하는 길이 가까이에 있는 공백에서 잘라서 문자열을 단축하는 함수\n",
    "def clip(text, max_len=80):\n",
    "    \"\"\"max_len 앞이나 뒤의 마지막 공백에서 잘라낸 텍스트를 반환한다.\"\"\"\n",
    "    end = None\n",
    "    if len(text) > max_len:\n",
    "        space_before = text.rfind(' ', 0, max_len)\n",
    "        if space_before >= 0:\n",
    "            end = space_before\n",
    "        else:\n",
    "            space_after = text.rfind(' ', max_len)\n",
    "            if space_after >= 0:\n",
    "                end = space_after\n",
    "    if end is None: # 공백이 없다.\n",
    "        end = len(text)\n",
    "    return text[:end].strip()"
   ]
  },
  {
   "cell_type": "markdown",
   "metadata": {},
   "source": [
    "* inspect.signature()는 ispect.Signature 객체를 반환하며, 이 객체에 들어 있는 parameters 속성을 이용하면 정렬된 inspect.Parameter 객체를 읽을 수 있다. 각 Parameter 객체 안에는 **name, default, kind** 등의 속성이 들어있다.\n",
    "\n",
    "kind 속성은 _ParameterKind 클래스에 정의된 다음 다섯 가지 값 중 하나를 가진다.\n",
    "- POSITIONAL_OR_KEYWORD: 위치 인수나 키워드 인수로 전달할 수 있는 매개변수\n",
    "- VAR_POSITIONAL: 위치 매개변수의 튜플\n",
    "- VAR_KEYWORD: 키워드 매개변수의 딕셔너리\n",
    "- KEYWORD_ONLY: 키워드 전용 매개변수\n",
    "- POSITIONAL_ONLY: 위치 전용 매개변수\n",
    "\n",
    "* inspect.Parameter 객체에는 annotation 속성이 있다. 이 속성은 일반적으로 inspect._empty지만, 파이썬3에서 제공하는 새로운 애너테이션 구문을 통해 제공된 함수 시그니처 메타데이터가 들어갈 수 있다.\n",
    "\n",
    "* inspect.Signature 객체에는 bind() 메서드가 정의되어 있다. bind() 메서드는 임의 개수의 인수를 받고, 인수를 매개변수에 대응시키는 일반적인 규칙을 적용해서 그것을 시그니처에 들어 있는 매개변수에 바인딩한다.\n",
    "\n",
    "### 함수형 프로그래밍을 위한 패키지\n",
    "#### operator 모듈"
   ]
  },
  {
   "cell_type": "code",
   "execution_count": 5,
   "metadata": {},
   "outputs": [],
   "source": [
    "# reduce()와 익명 함수로 구현한 팩토리얼\n",
    "from functools import reduce\n",
    "\n",
    "def fact(n):\n",
    "    return reduce(lambda a,b: a*b, range(1, n+1))"
   ]
  },
  {
   "cell_type": "code",
   "execution_count": 6,
   "metadata": {},
   "outputs": [],
   "source": [
    "# reduce()와 operator.mul로 구현한 팩토리얼\n",
    "from functools import reduce\n",
    "from operator import mul\n",
    "\n",
    "def fact(n):\n",
    "    return reduce(mul, range(1,n+1))"
   ]
  },
  {
   "cell_type": "markdown",
   "metadata": {},
   "source": [
    "* operator 모듈은 시퀀스에서 항목을 가져오는 람다를 대체하는 itemgetter()함수와 객체의 속성을 읽는 람다를 대체하는 attrgetter()함수를 제공한다.\n",
    "\n",
    "* 아래 예제에서는 1번 필드인 국가 코드로 정렬된 도시들을 출력한다. 본질적으로 itemgetter(1)은 lambda fields: fields[1]과 동일하며, 주어진 컬렉션에 대해 1번 인덱스 항목을 반환하는 함수를 생성한다."
   ]
  },
  {
   "cell_type": "code",
   "execution_count": 7,
   "metadata": {},
   "outputs": [],
   "source": [
    "# 튜플의 리스트를 정렬하기 위한 itemgetter()사용\n",
    "metro_data = [\n",
    "    ('Tokyo', 'JP', 36.933, (35.689722, 139.691667)),\n",
    "    ('Delhi NCR', 'IN', 21.935, (28.613889, 77.208889)),\n",
    "    ('Mexico City', 'MX', 20.142, (19.433333, -99.133333)),\n",
    "    ('New York-Newark', 'US', 20.104, (40.80611, -74.020386)),\n",
    "    ('Sao Paulo', 'BR', 19.649, (-23.547778, -46.635833))\n",
    "]"
   ]
  },
  {
   "cell_type": "code",
   "execution_count": 10,
   "metadata": {},
   "outputs": [
    {
     "name": "stdout",
     "output_type": "stream",
     "text": [
      "('Sao Paulo', 'BR', 19.649, (-23.547778, -46.635833))\n",
      "('Delhi NCR', 'IN', 21.935, (28.613889, 77.208889))\n",
      "('Tokyo', 'JP', 36.933, (35.689722, 139.691667))\n",
      "('Mexico City', 'MX', 20.142, (19.433333, -99.133333))\n",
      "('New York-Newark', 'US', 20.104, (40.80611, -74.020386))\n"
     ]
    }
   ],
   "source": [
    "from operator import itemgetter\n",
    "for city in sorted(metro_data, key=itemgetter(1)):\n",
    "    print(city)"
   ]
  },
  {
   "cell_type": "markdown",
   "metadata": {},
   "source": [
    "* itemgetter()에 여러 개의 인덱스를 인수로 전달하면, 생성된 함수는 해당 인덱스의 값들로 구성된 튜플을 반환한다."
   ]
  },
  {
   "cell_type": "code",
   "execution_count": 11,
   "metadata": {},
   "outputs": [
    {
     "name": "stdout",
     "output_type": "stream",
     "text": [
      "('JP', 'Tokyo')\n",
      "('IN', 'Delhi NCR')\n",
      "('MX', 'Mexico City')\n",
      "('US', 'New York-Newark')\n",
      "('BR', 'Sao Paulo')\n"
     ]
    }
   ],
   "source": [
    "cc_name = itemgetter(1, 0)\n",
    "for city in metro_data:\n",
    "    print(cc_name(city))"
   ]
  },
  {
   "cell_type": "markdown",
   "metadata": {},
   "source": [
    "* attrgetter()에 여러 속성명을 인수로 전달하면, 역시 해당 속성값으로 구성된 튜플을 반환한다. 게다가 속성명에 점(.)이 포함되어 있으면 attrgetter()는 내포된 객체를 찾아서 해당 속성을 가져온다."
   ]
  },
  {
   "cell_type": "code",
   "execution_count": 13,
   "metadata": {},
   "outputs": [
    {
     "data": {
      "text/plain": [
       "Metropolis(name='Tokyo', cc='JP', pop=36.933, coord=LatLong(lat=35.689722, long=139.691667))"
      ]
     },
     "execution_count": 13,
     "metadata": {},
     "output_type": "execute_result"
    }
   ],
   "source": [
    "# metro_data라는 명명된 튜플의 리스트를 처리하기 위한 attrgetter() 사용 예\n",
    "from collections import namedtuple\n",
    "LatLong = namedtuple('LatLong', 'lat long') # namedtuple을 이용해서 LatLong을 생성한다.\n",
    "Metropolis = namedtuple('Metropolis', 'name cc pop coord')\n",
    "metro_areas = [Metropolis(name, cc, pop, LatLong(lat, long)) for name, cc, pop, (lat, long) in metro_data]\n",
    "# Metropolis 객체로 구성된 리스트인 metro_areas를 생성한다. (lat, long)을 추출하기 위해 내포된 튜플을 언패킹하고, 추출된 항목으로 L\n",
    "# LatLong 객체를 생성해서 Metropolis의 coord 속성에 저장한다.\n",
    "metro_areas[0]"
   ]
  },
  {
   "cell_type": "code",
   "execution_count": 14,
   "metadata": {},
   "outputs": [
    {
     "data": {
      "text/plain": [
       "35.689722"
      ]
     },
     "execution_count": 14,
     "metadata": {},
     "output_type": "execute_result"
    }
   ],
   "source": [
    "metro_areas[0].coord.lat"
   ]
  },
  {
   "cell_type": "code",
   "execution_count": 15,
   "metadata": {},
   "outputs": [],
   "source": [
    "from operator import attrgetter\n",
    "name_lat = attrgetter('name', 'coord.lat') # name 및 내포된 속성인 coord.lat을 가져오기 위해 attrgetter()를 정의한다."
   ]
  },
  {
   "cell_type": "code",
   "execution_count": 16,
   "metadata": {},
   "outputs": [
    {
     "name": "stdout",
     "output_type": "stream",
     "text": [
      "('Sao Paulo', -23.547778)\n",
      "('Mexico City', 19.433333)\n",
      "('Delhi NCR', 28.613889)\n",
      "('Tokyo', 35.689722)\n",
      "('New York-Newark', 40.80611)\n"
     ]
    }
   ],
   "source": [
    "for city in sorted(metro_areas, key=attrgetter('coord.lat')):\n",
    "    # attrgetter()를 한 번 더 사용해서 위도별로 도시를 정렬한다.\n",
    "    print(name_lat(city))"
   ]
  },
  {
   "cell_type": "code",
   "execution_count": 19,
   "metadata": {},
   "outputs": [
    {
     "data": {
      "text/plain": [
       "'THE TIME HAS COME'"
      ]
     },
     "execution_count": 19,
     "metadata": {},
     "output_type": "execute_result"
    }
   ],
   "source": [
    "# methodcaller() 사용 예. 두 번째 테스트 hiphenate()에서 여분의 인수가 바인딩되는 것에 주의하라.\n",
    "from operator import methodcaller\n",
    "s = 'The time has come'\n",
    "upcase = methodcaller('upper')\n",
    "upcase(s)"
   ]
  },
  {
   "cell_type": "code",
   "execution_count": 20,
   "metadata": {},
   "outputs": [
    {
     "data": {
      "text/plain": [
       "'The-time-has-come'"
      ]
     },
     "execution_count": 20,
     "metadata": {},
     "output_type": "execute_result"
    }
   ],
   "source": [
    "hiphenate = methodcaller('replace', ' ', '-')\n",
    "hiphenate(s)"
   ]
  },
  {
   "cell_type": "markdown",
   "metadata": {},
   "source": [
    "### functools.partial()로 인수 고정하기\n",
    "- functools.partial()은 함수를 부분적으로 실행할 수 있게 해주는 고위 함수이다. 어떤 함수가 있을 때 partial()을 적용하면 원래 함수의 일부 인수를 고정한 콜러블을 생성한다. 이 기법은 하나 이상의 인수를 받는 함수를 그보다 적은 인수를 받는 콜백 함수를 사용하는 API에 사용하고자 할 때 유용하다."
   ]
  },
  {
   "cell_type": "code",
   "execution_count": 21,
   "metadata": {},
   "outputs": [
    {
     "data": {
      "text/plain": [
       "21"
      ]
     },
     "execution_count": 21,
     "metadata": {},
     "output_type": "execute_result"
    }
   ],
   "source": [
    "# 인수를 하나 받는 콜러블이 필요한 곳에 인수 두 개를 받는 함수를 사용하기 위해 partial() 적용하기\n",
    "from operator import mul\n",
    "from functools import partial\n",
    "triple = partial(mul, 3) # mul() 함수의 첫 번째 위치 인수를 3으로 바인딩해서 tuple() 함수를 새로 만든다.\n",
    "triple(7)"
   ]
  },
  {
   "cell_type": "code",
   "execution_count": 22,
   "metadata": {},
   "outputs": [
    {
     "data": {
      "text/plain": [
       "[3, 6, 9, 12, 15, 18, 21, 24, 27, 30]"
      ]
     },
     "execution_count": 22,
     "metadata": {},
     "output_type": "execute_result"
    }
   ],
   "source": [
    "list(map(triple, range(1,11)))"
   ]
  },
  {
   "cell_type": "markdown",
   "metadata": {},
   "source": [
    "## 챕터 6: 일급 함수 디자인 패턴\n",
    "### 사례: 전략 패턴의 리팩토링\n",
    "* 콘테스트: 일부 계산을 서로 다른 알고리즘을 구현하는 교환 가능한 컴포넌트에 위임함으로써 서비스를 제공한다. 전자상거래 예제에서 콘텍스트는 Order로서, 여러 알고리즘 중 하나에 따라 프로모션 할인을 적용하도록 설정된다.\n",
    "* 전략: 여러 알고리즘을 구현하는 컴포넌트에 공통된 인터페이스, 전자상거래 예제에서는 이 역할을 Promotion이라는 추상 클래스가 담당한다.\n",
    "* 구체적인 전략: 전략의 구상 서브클래스 중 하나, 여기서는 FidelityPromo, BulkItemPromo, LargeOrderPromo 등 총 3개의 구체적인 전략이 구현되어 있다.\n",
    "\n",
    "**일련의 알고리즘을 정의하고 각각을 하나의 클래스 안에 넣어서 교체하기 쉽게 만든다. 전략을 이용하면 사용하는 클라이언트에 따라 알고리즘을 독립적으로 변경할 수 있다.**"
   ]
  },
  {
   "cell_type": "code",
   "execution_count": null,
   "metadata": {},
   "outputs": [],
   "source": [
    "# 플러그형 할인 전략을 가진 Order 클래스 구현\n",
    "from abc import ABC, abstractmethod\n",
    "from collections import namedtuple\n",
    "\n",
    "Customer = namedtuple('Customer', 'name fidelity')\n",
    "\n",
    "class LineItem:\n",
    "    \n",
    "    def __init__(self, product, quantity, price):\n",
    "        self.product = product\n",
    "        self.quantity = quantity\n",
    "        self.price = price\n",
    "        \n",
    "    def total(self):\n",
    "        return self.price * self.quantity\n",
    "    \n",
    "class Order: # 콘텍스트\n",
    "    \n",
    "    def __init__(self, customer, cart, promotion=None):\n",
    "        self.customer = customer\n",
    "        self.cart = list(cart)\n",
    "        self.promotion = promotion\n",
    "        \n",
    "    def total(self):\n",
    "        if not hasattr(self, '__total'):\n",
    "            self.__total = sum(item.total() for item in self.cart)\n",
    "        return self.__total\n",
    "    \n",
    "    def due(self):\n",
    "        if self.promotion is None:\n",
    "            discount = 0\n",
    "        else:\n",
    "            discount = self.promotion.discount(self)\n",
    "        return self.total() - discount\n",
    "    \n",
    "    def __repr__(self):\n",
    "        fmt = '<Order total: {:.2f} due: {:.2f}>'\n",
    "        return fmt.format(self.total(), self.due())\n",
    "    \n",
    "class Promotion(ABC): # 전략: 추상 베이스 클래스\n",
    "    \n",
    "    @abstractmethod\n",
    "    def discount(self, order):\n",
    "        \"\"\"할인액을 구체적인 숫자로 반환한다.\"\"\"\n",
    "    \n",
    "class FidelityPromo(Promotion): # 첫 번째 구체적인 전략\n",
    "    \"\"\"충성도 포인트가 1000점 이상인 고객에게 전체 5% 할인 적용\"\"\"\n",
    "\n",
    "    def discount(self, order):\n",
    "        return order.total() * .05 if order.customer.fidelity >= 1000 else 0\n",
    "\n",
    "class BulkItemPromo(Promotion): # 두 번째 구체적인 전략\n",
    "    \"\"\"20개 이상의 동일 상품을 구입하면 10% 할인 적용\"\"\"\n",
    "\n",
    "    def discount(self, order):\n",
    "        discount = 0\n",
    "        for item in order.cart:\n",
    "            if item.quantity >= 20:\n",
    "                discount += item.total() * .1\n",
    "            return discount\n",
    "    \n",
    "class LargeOrderPromo(Promotion): # 세 번째 구체적인 전략\n",
    "    distinct_items = {item.product for item in order.cart}\n",
    "\n",
    "    def discount(self, order):\n",
    "        if len(district_items) >= 10:\n",
    "            return order.total() * .07\n",
    "        return 0"
   ]
  },
  {
   "cell_type": "markdown",
   "metadata": {},
   "source": [
    "### 함수지향 전략"
   ]
  },
  {
   "cell_type": "code",
   "execution_count": 26,
   "metadata": {},
   "outputs": [],
   "source": [
    "# 할인 전략을 함수로 구현한 Order 클래스\n",
    "from collections import namedtuple\n",
    "\n",
    "Customer = namedtuple('Customer', 'name fidelity')\n",
    "\n",
    "class LineItem:\n",
    "    \n",
    "    def __init__(self, product, quantity, price):\n",
    "        self.product = product\n",
    "        self.quantity = quantity\n",
    "        self.price = price\n",
    "        \n",
    "    def total(self):\n",
    "        return self.price * self.quantity\n",
    "    \n",
    "class Order: # 콘텍스트\n",
    "    \n",
    "    def __init__(self, customer, cart, promotion=None):\n",
    "        self.customer = customer\n",
    "        self.cart = list(cart)\n",
    "        self.promotion = promotion\n",
    "        \n",
    "    def total(self):\n",
    "        if not hasattr(self, '__total'):\n",
    "            self.__total = sum(item.total() for item in self.cart)\n",
    "        return self.__total\n",
    "    \n",
    "    def due(self):\n",
    "        if self.promotion is None:\n",
    "            discount = 0\n",
    "        else:\n",
    "            discount = self.promotion(self)\n",
    "        return self.total() - discount\n",
    "    \n",
    "    def __repr__(self):\n",
    "        fmt = '<Order total: {:.2f} due: {:.2f}>'\n",
    "        return fmt.format(self.total(), self.due())\n",
    "\n",
    "def fidelity_promo(order):\n",
    "    \"\"\"충성도 포인트가 1000점 이상인 고객에게 전체 5% 할인 적용\"\"\"\n",
    "    return order.total() * .05 if order.customer.fidelity >= 1000 else 0\n",
    "\n",
    "def bulk_item_promo(order):\n",
    "    \"\"\"20개 이상의 동일 상품을 구입하면 10% 할인 적용\"\"\"\n",
    "    discount = 0\n",
    "    for item in order.cart:\n",
    "        if item.quantity >= 20:\n",
    "            discount += item.total() * .1\n",
    "    return discount\n",
    "\n",
    "def large_order_promo(order):\n",
    "    \"\"\"10종류 이상의 상품을 구입하면 전체 7% 할인 적용\"\"\"\n",
    "    distinct_items = {item.product for item in order.cart}\n",
    "    if len(distinct_items) >= 10:\n",
    "        return order.total() * .07\n",
    "    return 0"
   ]
  },
  {
   "cell_type": "markdown",
   "metadata": {},
   "source": [
    "### 최선의 전략 선택하기: 단순한 접근법"
   ]
  },
  {
   "cell_type": "code",
   "execution_count": 28,
   "metadata": {},
   "outputs": [],
   "source": [
    "# 함수 리스트를 반복해서 최대 할인액을 찾아내는 best_promo() 함수\n",
    "promos = [fidelity_promo, bulk_item_promo, large_order_promo] # promos는 함수로 구현된 전략들의 리스트이다.\n",
    "\n",
    "def best_promo(order): \n",
    "    \"\"\"최대 할인받는 금액을 반환한다.\"\"\"\n",
    "    return max(promo(order) for promo in promos) # 제너레이터 표현식을 이용해서 promos에 있는 각 함수를 order에 적용하고, 최대 할인액을 계산한다."
   ]
  },
  {
   "cell_type": "markdown",
   "metadata": {},
   "source": [
    "### 모듈에서 전략 찾기\n",
    "\n",
    "* globals(): 현재 전역 심벌 테이블을 나타내는 딕셔너리 객체를 반환한다."
   ]
  },
  {
   "cell_type": "code",
   "execution_count": 29,
   "metadata": {},
   "outputs": [],
   "source": [
    "# 모듈 전역 네임스페이스를 내부 조사해서 만든 promos 리스트\n",
    "promos = [globals()[name] for name in globals() #globals()함수가 반환한 딕셔너리에 name을 반복한다.\n",
    "         if name.endswith('_promo') # _promo로 끝나는 name만 선택한다.\n",
    "         and name != 'best_promo'] # 무한 재귀 호출을 피하기 위해 best_promo 자산은 걸러낸다.\n",
    "\n",
    "def best_promo(order):\n",
    "    \"\"\"최대로 할인받을 금액을 반환한다.\"\"\"\n",
    "    return max(promo(order) for promo in promos) # best_promo() 내부는 변경되지 않는다."
   ]
  },
  {
   "cell_type": "code",
   "execution_count": null,
   "metadata": {},
   "outputs": [],
   "source": [
    "# 새로운 promotions 모듈을 내부 조사해서 만든 promos 리스트\n",
    "promos = [func for name, func in inspect.getmembers(promotions, inspect.isfunction)]\n",
    "\n",
    "def best_promo(order):\n",
    "    return max(promo(order) for promo in promos)"
   ]
  },
  {
   "cell_type": "markdown",
   "metadata": {},
   "source": [
    "### 명령"
   ]
  },
  {
   "cell_type": "code",
   "execution_count": 32,
   "metadata": {},
   "outputs": [],
   "source": [
    "# 각각의 MacroCommand 객체는 내부에 명령 리스트를 갖고 있다.\n",
    "class MacroCommand:\n",
    "    \"\"\"명령 리스트를 실행하는 명령\"\"\"\n",
    "    \n",
    "    def __init__(self, commands):\n",
    "        self.commands = list(commands)\n",
    "        \n",
    "    def __call__(self):\n",
    "        for command in self.commands:\n",
    "            command()"
   ]
  },
  {
   "cell_type": "code",
   "execution_count": null,
   "metadata": {},
   "outputs": [],
   "source": []
  }
 ],
 "metadata": {
  "kernelspec": {
   "display_name": "Python 3",
   "language": "python",
   "name": "python3"
  },
  "language_info": {
   "codemirror_mode": {
    "name": "ipython",
    "version": 3
   },
   "file_extension": ".py",
   "mimetype": "text/x-python",
   "name": "python",
   "nbconvert_exporter": "python",
   "pygments_lexer": "ipython3",
   "version": "3.7.4"
  }
 },
 "nbformat": 4,
 "nbformat_minor": 2
}
