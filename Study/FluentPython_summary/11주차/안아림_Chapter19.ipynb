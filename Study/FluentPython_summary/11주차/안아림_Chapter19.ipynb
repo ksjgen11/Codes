{
 "cells": [
  {
   "cell_type": "markdown",
   "metadata": {},
   "source": [
    "# 챕터 19: 동적 속성과 프로퍼티\n",
    "\n",
    "**모듈이 제공하는 모든 서비스는 통일된 표기법을 이용해서 접근할 수 있어야 한다.통일된 표기법은 저장소를 이용해서 구현하거나 계산을 통해 구현하는 경우에도 모두 동일하게 적용된다.**\n",
    "\n",
    "## 19.1: 동적 속성을 이용한 데이터 랭글링"
   ]
  },
  {
   "cell_type": "code",
   "execution_count": 1,
   "metadata": {},
   "outputs": [
    {
     "ename": "NameError",
     "evalue": "name 'null' is not defined",
     "output_type": "error",
     "traceback": [
      "\u001b[0;31m---------------------------------------------------------------------------\u001b[0m",
      "\u001b[0;31mNameError\u001b[0m                                 Traceback (most recent call last)",
      "\u001b[0;32m<ipython-input-1-18edeead11e2>\u001b[0m in \u001b[0;36m<module>\u001b[0;34m\u001b[0m\n\u001b[1;32m     17\u001b[0m         {\"serial\": 157509,\n\u001b[1;32m     18\u001b[0m         \u001b[0;34m\"name\"\u001b[0m\u001b[0;34m:\u001b[0m \u001b[0;34m\"Robert Lefkowitz\"\u001b[0m\u001b[0;34m,\u001b[0m\u001b[0;34m\u001b[0m\u001b[0;34m\u001b[0m\u001b[0m\n\u001b[0;32m---> 19\u001b[0;31m         \u001b[0;34m\"photo\"\u001b[0m\u001b[0;34m:\u001b[0m \u001b[0mnull\u001b[0m\u001b[0;34m,\u001b[0m\u001b[0;34m\u001b[0m\u001b[0;34m\u001b[0m\u001b[0m\n\u001b[0m\u001b[1;32m     20\u001b[0m         \u001b[0;34m\"url\"\u001b[0m\u001b[0;34m:\u001b[0m \u001b[0;34m\"http://sharewave.com/\"\u001b[0m\u001b[0;34m,\u001b[0m\u001b[0;34m\u001b[0m\u001b[0;34m\u001b[0m\u001b[0m\n\u001b[1;32m     21\u001b[0m         \u001b[0;34m\"position\"\u001b[0m\u001b[0;34m:\u001b[0m \u001b[0;34m\"CTO\"\u001b[0m\u001b[0;34m,\u001b[0m\u001b[0;34m\u001b[0m\u001b[0;34m\u001b[0m\u001b[0m\n",
      "\u001b[0;31mNameError\u001b[0m: name 'null' is not defined"
     ]
    }
   ],
   "source": [
    "# 예제 19.1: osconfeed.json에서 가져온 샘플 레코드. 몇몇 필드 내용은 생략했다.\n",
    "{\"Schedule\":\n",
    "    {\"conferences\": [{\"serial\": 115}],\n",
    "    \"events\": [\n",
    "        {\"serial\": 34505,\n",
    "        \"name\": \"Why Schools Don't Use Open Source to Tech Programming\",\n",
    "        \"event_type\": \"40-minute conference session\",\n",
    "        \"time_start\": \"2014-07-23 11:30:00\",\n",
    "        \"time_stop\": \"2014-07-23 12:10:00\",\n",
    "        \"venue_serial\": 1462,\n",
    "        \"description\": \"Aside from the fact that high school programming...\",\n",
    "        \"website_url\": \"http://oscon.com/public/schedule/detail/34505\",\n",
    "        \"speakers\": [157509],\n",
    "        \"categories\": [\"Education\"]}\n",
    "    ],\n",
    "    \"speakers\": [\n",
    "        {\"serial\": 157509,\n",
    "        \"name\": \"Robert Lefkowitz\",\n",
    "        \"photo\": null,\n",
    "        \"url\": \"http://sharewave.com/\",\n",
    "        \"position\": \"CTO\",\n",
    "        \"affiliation\": \"Sharewave\",\n",
    "        \"twitter\": \"sharewaveteam\",\n",
    "        \"bio\": \"Robert 'r0ml' Lefkowitz is the CTO at Sharewave, a startup...\"}\n",
    "    ],\n",
    "    \"venues\": [\n",
    "        {\"serial\": 1462,\n",
    "        \"name\": \"F151\",\n",
    "        \"category\": \"Conference Venues\"}\n",
    "    ]}}"
   ]
  },
  {
   "cell_type": "code",
   "execution_count": null,
   "metadata": {},
   "outputs": [],
   "source": [
    "# 예제 19-2: osconfeed.py: osconfeed.json 내려받기, doctest는 [예제 19-3]에 있다.\n",
    "from urllib.request import urlopen\n",
    "import warnings\n",
    "import os\n",
    "import json\n",
    "\n",
    "URL = 'http://www.oreilly.com/pub/sc/osconfeed'\n",
    "JSON = 'data/osconfeed.json'\n",
    "\n",
    "def load():\n",
    "    if not os.path.exists(JSON):\n",
    "        msg = 'downloading {} to {}'.format(URL, JSON)\n",
    "        warnings.warn(msg)\n",
    "        with urlopen(URL) as remote, open(JSON, 'wb') as local:\n",
    "            local.write(remote.read())\n",
    "    with open(JSON) as fp:\n",
    "        return json.load(fp)"
   ]
  },
  {
   "cell_type": "code",
   "execution_count": null,
   "metadata": {},
   "outputs": [],
   "source": [
    "# 예제 19-3: osconfeed.py: [예제 19-2]에 대한 doctest\n",
    "feed = load()\n",
    "sorted(feed['Schedule'].keys())\n",
    "for key, value in sorted(feed['Schedule'].items()):\n",
    "    print('{:3} {}'.format(len(value), key))"
   ]
  },
  {
   "cell_type": "code",
   "execution_count": null,
   "metadata": {},
   "outputs": [],
   "source": [
    "# 동적 속성을 이용해서 JSON과 유사한 데이터 둘러보기\n",
    "from collections import abc\n",
    "\n",
    "class FrozenJSON:\n",
    "    \"\"\"점 표기법을 이용해서 JSON과 유사한 객체를 순화하는\n",
    "        읽기 전용 퍼사드 클래스\"\"\"\n",
    "    \n",
    "    def __init__(self, mapping):\n",
    "        self.__data = dict(mapping)\n",
    "    \n",
    "    def __getattr__(self, name):\n",
    "        if hasattr(self.__data, name):\n",
    "            return getattr(self.__data, name)\n",
    "        else:\n",
    "            return FrozenJSON.build(self.__data[name])\n",
    "    \n",
    "    @classmethod\n",
    "    def build(cls, obj):\n",
    "        if isinstance(obj, abc.Mapping):\n",
    "            return cls(obj)\n",
    "        elif isinstance(obj, abc.MutableSequence):\n",
    "            return [cls.build(item) for item in obj]\n",
    "        else:\n",
    "            return obj"
   ]
  },
  {
   "cell_type": "code",
   "execution_count": null,
   "metadata": {},
   "outputs": [],
   "source": [
    "# __new__()을 이용한 융통성 있는 객체 생성\n",
    "# 객체를 생성하는 의사코드\n",
    "def object_maker(the_class, some_arg):\n",
    "    new_object = the_class.__new__(some_arg)\n",
    "    if isinstance(new_object, the_class):\n",
    "        the_class.__init__(new_object, some_arg)\n",
    "    return new_object\n",
    "\n",
    "# 다음 두 문장은 거의 동일하다.\n",
    "x = Foo('bar')\n",
    "x = object_maker(Foo, 'bar')"
   ]
  },
  {
   "cell_type": "code",
   "execution_count": null,
   "metadata": {},
   "outputs": [],
   "source": [
    "# 예제 19-7: explore2.py: FrozenJSON 객체든 아니든 새로운 객체를 생성하는 대신 __new__() 사용하기\n",
    "from collections import abc\n",
    "from keyword import iskeyword\n",
    "\n",
    "class FrozenJSON:\n",
    "    \"\"\"점 표기법을 이용해서 JSON과 유사한 객체를 둘러보기 위한 \n",
    "        읽기 전용 퍼사드 클래스\"\"\"\n",
    "    \n",
    "    def __new__(cls, arg):\n",
    "        if isinstance(arg, abc.Mapping):\n",
    "            return super().__new__(cls)\n",
    "        elif isinstance(arg, abc.MutableSequence):\n",
    "            return [cls(item) for item in arg]\n",
    "        else:\n",
    "            return arg\n",
    "        \n",
    "    def __init__(self, mapping):\n",
    "        self.__data = {}\n",
    "        for key, value in mapping_items():\n",
    "            if iskeyword(key):\n",
    "                key += '_'\n",
    "            self.__data[key] = value\n",
    "    \n",
    "    def __getattr__(self, name):\n",
    "        if hasattr(self.__data, name):\n",
    "            return getattr(self.__data, name)\n",
    "        else:\n",
    "            return FrozenJSON(self.__data[name])"
   ]
  },
  {
   "cell_type": "code",
   "execution_count": null,
   "metadata": {},
   "outputs": [],
   "source": [
    "# shelve를 이용해서 OSCON 피드 구조 변경하기\n",
    "# 예제 19-9: schedule1.py: shelve.Shelf에 저장된 OSCON 일정 데이터 둘러보기\n",
    "\n",
    "import warnings\n",
    "\n",
    "import osconfeed\n",
    "\n",
    "DB_NAME = 'data/schedule1_db'\n",
    "CONFERENCE = 'conference.115'\n",
    "\n",
    "class Record:\n",
    "    def __init__(self, **kwargs):\n",
    "        self.__dict__.update(kwargs)\n",
    "        \n",
    "def load_db(db):\n",
    "    raw_data = osconfeed.load()\n",
    "    warnings.warn('loading '+DB_NAME)\n",
    "    for collection, rec_list in raw_data['Schedule'].items():\n",
    "        record_type = collections[:-1]\n",
    "        for record in rec_list:\n",
    "            key = '{}.{}'.format(record_type, record['serial'])\n",
    "            record['serial'] = key\n",
    "            db[key] = Record(**record)"
   ]
  },
  {
   "cell_type": "markdown",
   "metadata": {},
   "source": [
    "### 프로퍼티를 이용해서 연결된 레코드 읽기\n",
    "\n",
    "* Record 클래스\n",
    "\n",
    "* DbRecord 클래스: Record의 서브클래스.\n",
    "\n",
    "* Event 클래스: DbRecord의 서브클래스."
   ]
  },
  {
   "cell_type": "code",
   "execution_count": null,
   "metadata": {},
   "outputs": [],
   "source": [
    "# 예제 19-11: schedule2.py: 임포트, 상수. 개선된 Record 클래스.\n",
    "import warnings\n",
    "import inspect\n",
    "import osconfeed\n",
    "\n",
    "DB_NAME = 'data/schedule2_db'\n",
    "CONFERENCE = 'conference.115'\n",
    "\n",
    "class Record:\n",
    "    def __init__(self, **kwargs):\n",
    "        self.__dict__.update(kwargs)\n",
    "        \n",
    "    def __eq__(self, other):\n",
    "        if isinstance(other, Record):\n",
    "            return self.__dict__ == other.__dict__\n",
    "        else:\n",
    "            return NotImplemented"
   ]
  },
  {
   "cell_type": "code",
   "execution_count": null,
   "metadata": {},
   "outputs": [],
   "source": [
    "# 예제 19-12: schedule2.py: MissingDatabaseError와 DbRecord 클래스\n",
    "class MissingDatabaseError(RuntimeError):\n",
    "    \"\"\"필요한 데이터베이스가 설정되어 있지 않을 때 발생한다.\"\"\"\n",
    "    \n",
    "class DbRecord(Record):\n",
    "    \n",
    "    __db = None\n",
    "    \n",
    "    @staticmethod\n",
    "    def set_db(db):\n",
    "        DbRecord.__db = db\n",
    "        \n",
    "    @staticmethod\n",
    "    def get_db():\n",
    "        return DbRecord.__db\n",
    "    \n",
    "    @classmethod\n",
    "    def fetch(cls, ident):\n",
    "        db = cls.get_db()\n",
    "        try:\n",
    "            return db[ident]\n",
    "        except TypeError:\n",
    "            if db is None:\n",
    "                msg = \"database not set; call '{}.set_db(my_db)'\"\n",
    "                raise MissingDatabaseError(msg.format(cls.__name__))\n",
    "            else:\n",
    "                raise\n",
    "    \n",
    "    def __repr__(self):\n",
    "        if hasattr(self, 'serial'):\n",
    "            cls_name = self.__class__.__name__\n",
    "            return '<{} serial={!r}>'.format(cls_name, self.serial)\n",
    "        else:\n",
    "            return super().__repr__()"
   ]
  },
  {
   "cell_type": "code",
   "execution_count": null,
   "metadata": {},
   "outputs": [],
   "source": [
    "# 예제 19-14: schedule2.py: load_db() 함수\n",
    "def load_db(db):\n",
    "    raw_data = osconfeed.load()\n",
    "    warnings.warn('loading' + DB_NAME)\n",
    "    for collection, rec_list in raw_data['Schedule'].items():\n",
    "        record_type = collections[:-1]\n",
    "        cls_name = record_type.capitalize()\n",
    "        cls = globals().get(cls_name, DbRecord)\n",
    "        if inspect.isclass(cls) and issubclass(cls, DbRecord):\n",
    "            factory = cls\n",
    "        else:\n",
    "            factory = DbRecord\n",
    "        for record in rec_list:\n",
    "            key = '{}.{}'.format(record_type, record['serial'])\n",
    "            record['serial'] = key\n",
    "            db[key] = factory(**record)\n",
    "        "
   ]
  },
  {
   "cell_type": "markdown",
   "metadata": {},
   "source": [
    "## 19.2 속성을 검증하기 위해 프로퍼티 사용하기\n"
   ]
  },
  {
   "cell_type": "code",
   "execution_count": 2,
   "metadata": {},
   "outputs": [],
   "source": [
    "# LineItem 버전 #1: 주문 항목 클래스\n",
    "# bulkfood_v1.py: 기본적인 LineItem 클래스\n",
    "\n",
    "class LineItem:\n",
    "    \n",
    "    def __init__(self, description, weight, price):\n",
    "        self.describtion = description\n",
    "        self.weight = weight\n",
    "        self.price = price\n",
    "        \n",
    "    def subtotal(self):\n",
    "        return self.weigth * slef.price"
   ]
  },
  {
   "cell_type": "code",
   "execution_count": null,
   "metadata": {},
   "outputs": [],
   "source": [
    "# LineItem 버전 #2: 검증하는 프로퍼티\n",
    "# 예제 19-17: bulkfood_v2.py: weight 프로퍼티를 가진 LineItem\n",
    "class LineItem:\n",
    "    \n",
    "    def __init__(self, description, weight, price):\n",
    "        self.description = description\n",
    "        self.weight = weight\n",
    "        self.price = price\n",
    "        \n",
    "    def subtotal(self):\n",
    "        return self.weight * self.price\n",
    "    \n",
    "    @property\n",
    "    def weight(self):\n",
    "        return self.__weight\n",
    "    \n",
    "    @weight.setter\n",
    "    def weight(self, value):\n",
    "        if value > 0:\n",
    "            self.__weight = value\n",
    "        else:\n",
    "            raise ValueError('value must be > 0')"
   ]
  },
  {
   "cell_type": "markdown",
   "metadata": {},
   "source": [
    "## 19.3 프로퍼티 제대로 알아보기"
   ]
  },
  {
   "cell_type": "code",
   "execution_count": null,
   "metadata": {},
   "outputs": [],
   "source": [
    "# 예제 19-18: bulkfood_v2.py: [예제 19-17]과 동일하지만 데커레이터를 사용하지 않는 LineItem\n",
    "\n",
    "class LineItem:\n",
    "    \n",
    "    def __init__(self, description, weight, price):\n",
    "        self.description = description\n",
    "        self.weight = weight\n",
    "        self.price = price\n",
    "        \n",
    "    def subtotal(self):\n",
    "        return self.__weight\n",
    "    \n",
    "    def set_weight(self, value):\n",
    "        if value > 0:\n",
    "            self.__weight = value\n",
    "        else:\n",
    "            raise ValueError('value must be > 0')\n",
    "            \n",
    "    weight = property(get_weight, set_weight)"
   ]
  },
  {
   "cell_type": "code",
   "execution_count": null,
   "metadata": {},
   "outputs": [],
   "source": [
    "# 프로퍼티 문서화\n",
    "\n",
    "# 예제 19-22: 프로퍼티에 대한 문서화\n",
    "class Foo:\n",
    "    \n",
    "    @property\n",
    "    def bar(self):\n",
    "        '''The bar attribute'''\n",
    "        return self.__dict__['bar']\n",
    "    \n",
    "    @bar.setter\n",
    "    def bar(self, value):\n",
    "        self.__dict__['bar'] = value"
   ]
  },
  {
   "cell_type": "markdown",
   "metadata": {},
   "source": [
    "## 19.4: 프로퍼티 팩토리 구현하기"
   ]
  },
  {
   "cell_type": "code",
   "execution_count": null,
   "metadata": {},
   "outputs": [],
   "source": [
    "# 19-23: bulkfood_v2prop.py: quantity() 프로퍼티 팩토리 사용하기\n",
    "class LineItem:\n",
    "    weight = quantity('weight')\n",
    "    price = quantity('price')\n",
    "    \n",
    "    def __init__(self, description, weight, price):\n",
    "        self.description = description\n",
    "        self.weight = weight\n",
    "        self.price = price\n",
    "        \n",
    "    def subtotal(self):\n",
    "        return self.weight * self.price"
   ]
  },
  {
   "cell_type": "code",
   "execution_count": null,
   "metadata": {},
   "outputs": [],
   "source": [
    "# 예제 19-24: bulkfood_v2prop.py: quantity() 프로퍼티 팩토리\n",
    "def quantity(storage_name):\n",
    "    \n",
    "    def qty_getter(instance):\n",
    "        return instance.__dict__[storage_name]\n",
    "    \n",
    "    def qty_setter(instance, value):\n",
    "        if value > 0:\n",
    "            instance.__dict__[storage_name] = value\n",
    "        else:\n",
    "            raise ValueError('value must be > 0')\n",
    "            \n",
    "    return property(qty_getter, qty_setter)"
   ]
  },
  {
   "cell_type": "markdown",
   "metadata": {},
   "source": [
    "## 19.5 속성 제거 처리하기"
   ]
  },
  {
   "cell_type": "code",
   "execution_count": null,
   "metadata": {},
   "outputs": [],
   "source": [
    "# 예제 19-26: blackknight.py:'몬티 파이튼과 성배'의 흑기사에서 영감을 얻었다.\n",
    "class BlackKnight:\n",
    "    \n",
    "    def __init__(self):\n",
    "        self.members = ['an arm', 'another arm', 'a leg', 'another leg']\n",
    "        self.phrases = [\"'Tis but a scratch\",\n",
    "                       \"It's just a flesh wound.\",\n",
    "                       \"I'm invinvible!\",\n",
    "                       \"All right, we'ii call it a draw.\"]\n",
    "    \n",
    "    @property\n",
    "    def member(self):\n",
    "        print('next member is:')\n",
    "        return self.members[0]\n",
    "    \n",
    "    @member.deleter\n",
    "    def member(self):\n",
    "        text = 'BLACK KNIGHT (loses {})\\n-- {}'\n",
    "        print(text.format(self.members.pop(0), self.phrases.pop(0)))"
   ]
  },
  {
   "cell_type": "markdown",
   "metadata": {},
   "source": [
    "## 19.6 속성을 처리하는 핵심 속성 및 함수\n",
    "\n",
    "* 속성 처리에 영향을 주는 특별 속성\n",
    "    * _class_: 객체의 클래스에 대한 참조. 파이썬은 _getattr_()과 같은 특별 메서드를 객체 자체가 아니라 객체의 클래스에서만 검색한다.\n",
    "    * _dict_: 객체나 클래스의 쓰기 가능 속성을 저장하는 매핑. _dict_를 가진 객체는 임의의 새로운 속성을 언제든지 설정할 수 있다. 클래스에 _slots_속성이 있자면, 이 클래스의 객체에서는 _dict_가 없을 수도 있다. 다음의 _slots_설명을 참조하라.\n",
    "    * _slots_: 자신의 객체가 가질 수 있는 속성을 제한하려는 클래스에 정의하는 속성. _slots_는 허용돈 속성명을 담은 일종의 튜플이다. _dict_가 _slots_에 들어 있지 않으면, 이 클래스의 객체는 자체적인 _dict_를 가질 수 없고, 여기에 나열된 속성만 만들 수 있다.\n",
    "    \n",
    "\n",
    "* 속성을 처리하는 내장 함수\n",
    "    * dir([object]): 대부분의 객체 속성을 나열한다.\n",
    "    * getattr(object, name[, default]): object에서 name 문자열로 식별된 속성을 가져온다. 객체의 클래스나 슈퍼클래스에서 속성을 가져올 수 있다. 이러한 속성이 존재하지 않으면 getattr()은 AttributeError를 발생시키거나 default값을 반환한다.\n",
    "    * hasattr(object, name): 해당 이름의 속성이 object에 있거나 상속 등의 메커니즘으로 가져올 수 있으면 True를 반환한다.\n",
    "    * setattr(object, name, value): object가 허용하면 name 속성에 value를 할당한다.\n",
    "    * vars([object]): object의 _dict_를 반환한다. dir() 메서드와 달리 _slots_는 있고 _dict_는 없는 클래스의 객체는 처리할 수 없다. 인수를 전달하지 않으면 vars()는 현재 범위의 _dict_를 가져오므로 locals()와 동일하게 작동한다.\n",
    "    \n",
    "* 속성을 처리하는 특별 메서드\n",
    "    * _delattr_(self, name): del문을 이용해서 속성을 제거하려 할 때 호출된다. 즉 del obj.attr은 Class._delattr_(obj, 'attr')을 호출한다.\n",
    "    * _dir_(self): 속성을 나열하기 위해 객체에 dir()을 호출할 때 호출된다. 즉, dir(obj)는 Class._dir_(obj)를 호출한다.\n",
    "    * _getatt_(self, name): obj, Class, Class의 슈퍼클래스를 검색해서 명명된 속성을 가져오려고 시도하다 실패할 때 호출된다.\n",
    "    * _getattribute_(self, name): 특별 속성이나 메서드가 아닌 속성을 가져올 때 언제나 호출된다.\n",
    "    * _setattr_(self, name, value): 지명된 속성에 값을 설정할 때 언제나 호출된다."
   ]
  },
  {
   "cell_type": "code",
   "execution_count": null,
   "metadata": {},
   "outputs": [],
   "source": []
  }
 ],
 "metadata": {
  "kernelspec": {
   "display_name": "Python 3",
   "language": "python",
   "name": "python3"
  },
  "language_info": {
   "codemirror_mode": {
    "name": "ipython",
    "version": 3
   },
   "file_extension": ".py",
   "mimetype": "text/x-python",
   "name": "python",
   "nbconvert_exporter": "python",
   "pygments_lexer": "ipython3",
   "version": "3.7.4"
  }
 },
 "nbformat": 4,
 "nbformat_minor": 2
}
