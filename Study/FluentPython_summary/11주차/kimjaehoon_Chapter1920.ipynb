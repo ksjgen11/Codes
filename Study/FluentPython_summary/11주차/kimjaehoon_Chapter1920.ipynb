{
 "cells": [
  {
   "cell_type": "code",
   "execution_count": null,
   "metadata": {},
   "outputs": [],
   "source": [
    "디스크럽터"
   ]
  },
  {
   "cell_type": "code",
   "execution_count": null,
   "metadata": {},
   "outputs": [],
   "source": [
    "class Mung(object):\n",
    "\n",
    "    def __init__(self):\n",
    "\n",
    "        self._mung = 1\n",
    " \n",
    "\n",
    "    def get_mung(self):\n",
    "\n",
    "        return self._mung\n",
    " \n",
    "\n",
    "    def set_mung(self, value):\n",
    "\n",
    "        self._mung = value\n",
    "\n",
    "\n",
    "mung = Mung()\n",
    "\n",
    "print(mung.get_mung())\n",
    "\n",
    "mung.set_mung(10)\n",
    "\n",
    "print(mung.get_mung())"
   ]
  }
 ],
 "metadata": {
  "kernelspec": {
   "display_name": "Python 3",
   "language": "python",
   "name": "python3"
  },
  "language_info": {
   "codemirror_mode": {
    "name": "ipython",
    "version": 3
   },
   "file_extension": ".py",
   "mimetype": "text/x-python",
   "name": "python",
   "nbconvert_exporter": "python",
   "pygments_lexer": "ipython3",
   "version": "3.8.5"
  }
 },
 "nbformat": 4,
 "nbformat_minor": 4
}
