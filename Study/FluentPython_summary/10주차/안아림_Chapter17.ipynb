{
 "cells": [
  {
   "cell_type": "markdown",
   "metadata": {},
   "source": [
    "# 챕터 17: Future를 이용한 동시성\n",
    "\n",
    "## 17.1 예제: 세 가지 스타일의 웹 내려받기\n",
    "## 17.1.1 순차 내려받기 스크립트"
   ]
  },
  {
   "cell_type": "code",
   "execution_count": null,
   "metadata": {},
   "outputs": [],
   "source": [
    "# 예제 17-2: flags.py: 순차 내려받기 스크립트. 몇몇 함수는 다른 스크립트에서 재사용할 것이다.\n",
    "import os\n",
    "import time\n",
    "import sys\n",
    "\n",
    "import requests # request 라이브러리를 임포한다.\n",
    "\n",
    "POP20_CC = ('CN IN US ID BR PK NG BD RU JP'\n",
    "           'MX PH VN ET EG DE IR TR CD FR').split() # 인구가 많은 순서대로 나열한 20개 국가의 ISO 3166 국가 코드를 담은 리스트\n",
    "\n",
    "BASE_URL = 'http://flupy.org/data/flags' # 국기 이미지를 갖고 있는 웹사이트\n",
    "\n",
    "DEST_DIR = 'downloads/' # 이미지를 갖고 있는 웹사이트\n",
    "\n",
    "def save_flag(img, filename): # 단지 img(바이트 시퀀스)를 DEST_DIR 안의 filename으로 저장한다.\n",
    "    path = os.path.join(DEST_DIR, filename)\n",
    "    with open(path, 'wb') as fp:\n",
    "        fp.write(img)\n",
    "        \n",
    "def get_flag(cc): # 국가 코드를 인수로 받아서 URL을 만들고 이미지를 내려받는다. 응답으로 내려받은 이진 시퀀스를 반환한다.\n",
    "    url = '{}/{cc}/{cc}.gif'.format(BASE_URL, cc=cc.lower())\n",
    "    resp = requests.get(url)\n",
    "    return resp.content\n",
    "\n",
    "def show(text): # 문자열을 출력하고 sys.stdout.flush()를 호출해서 진행 상황을 한 줄에 출력한다.\n",
    "    print(text, end='')\n",
    "    sys.stdout.flush()\n",
    "    \n",
    "def download_many(cc_list): # download_many()는 동시성 버전과 다른 핵심 부분이다.\n",
    "    for cc in sorted(cc_list): # 국가코드를 알파벳순으로 반복해서, 출력할 때 순서대로 나오도록 만든다.\n",
    "        image = get_flag(cc)\n",
    "        show(cc)\n",
    "        save_flag(image, cc.lower() + '.gif')\n",
    "        return len(cc_list)\n",
    "\n",
    "def main(download_many): # main() 함수는 download_many()를 실행하는 데 걸린 시간을 기록하고 출력한ㄷ.\n",
    "    t0 = time.time()\n",
    "    count = download_many(POP20_CC)\n",
    "    elapsed = time.time() - t0\n",
    "    msg = '\\n{} flags downloaded in {:.2f}s'\n",
    "    print(msg.format(count, elapsed))\n",
    "    \n",
    "if __name__ == '__main__':\n",
    "    main(download_many) "
   ]
  },
  {
   "cell_type": "markdown",
   "metadata": {},
   "source": [
    "## 17.1.2 concurrent.futures로 내려받기"
   ]
  },
  {
   "cell_type": "code",
   "execution_count": null,
   "metadata": {},
   "outputs": [],
   "source": [
    "# 예제 flags-threadpool.py:futures.ThreadPoolExecutor()로 스레드화된 내려받기 스크립트\n",
    "from concurrent import futures\n",
    "\n",
    "from flags import save_flag, get_flag, show, main\n",
    "\n",
    "MAX_WORKERS = 20\n",
    "\n",
    "def download_one(cc):\n",
    "    image = get_flag(cc)\n",
    "    show(cc)\n",
    "    save_flag(image, cc.lower() + '.gif')\n",
    "    return cc\n",
    "\n",
    "def download_many(cc_list):\n",
    "    workers = min(MAX_WORKERS, len(cc_list))\n",
    "    with futures.ThreadPoolExecutor(workers) as executor:\n",
    "        res = executor.map(download_one, sorted(cc_list)) # map()은 여러 스레드에 의해 download_one() 함수가 동시에 호출된다는 것을 제외하면 내장된 map()함수와 비슷하게 작동한다. \n",
    "        \n",
    "    return len(list(res))\n",
    "\n",
    "if __name__ == '__main__':\n",
    "    main(download_many)"
   ]
  },
  {
   "cell_type": "markdown",
   "metadata": {},
   "source": [
    "## 17.1.3 Future는 어디에 있나?"
   ]
  },
  {
   "cell_type": "code",
   "execution_count": null,
   "metadata": {},
   "outputs": [],
   "source": [
    "# 예제 17-4 flags_threadpool_ac.py: download_many()함수 안의 executor.submit()과 futures.as_completed()로 대체하기\n",
    "def download_many(cc_list):\n",
    "    with futures.ThreadPoolExecutor(max_worker=3) as executor:\n",
    "        to_do = []\n",
    "        for cc in sorted(cc_list):\n",
    "            future = executor.submit(download_one, cc) #executor.submit()은 콜러블이 실행되도록 스케줄링하고 이 작업을 나타내는 Future 객체를 반환한다.\n",
    "            to_do.append(future)\n",
    "            msg = 'Scheduled for {}:{}'\n",
    "            print(msg.format(cc, future))\n",
    "            \n",
    "        results = []\n",
    "        for future in futures.as_completed(to_do): # as_completed()는 Future가 완료될 때 해당 Future 객체를 생성한다.\n",
    "            res = future.result()\n",
    "            msg = '{} result: {!r}'\n",
    "            print(msg.format(future, res))\n",
    "            results.append(res)\n",
    "            \n",
    "    return len(results)"
   ]
  },
  {
   "cell_type": "markdown",
   "metadata": {},
   "source": [
    "## 17.2 블로킹 I/O와 GIL\n",
    "\n",
    "## 17.3 concurrent.futures로 프로세스 실행하기\n",
    "\n",
    "* arcfout_futures.py: 순수하게 파이썬으로 구현된 RC4 알고리즘을 이용해서 149KB에서 38KB 정도 되는 바이트 배열 10개를 암호화하고 복호화한다.\n",
    "\n",
    "* sha_futures.py: OpenSSL 라이브러리를 사용하는 표준 라이브러리 패키지 hashlib를 이용해서 1MB 바이트 배열 10개에 대한 SHA-256 해시를 계산한다.\n",
    "\n",
    "## 17.4 Executor.map() 실험"
   ]
  },
  {
   "cell_type": "code",
   "execution_count": null,
   "metadata": {},
   "outputs": [],
   "source": [
    "# 예제 17-6: demo_executor_map.py: ThreadPoolExecutor.map() 메서드 사용 예\n",
    "from time import sleep, strftime\n",
    "from concurrent import futures\n",
    "\n",
    "def display(*args):\n",
    "    print(strftime('[%H:%M:%S]'), end=' ')\n",
    "    print(*args)\n",
    "    \n",
    "def loiter(n):\n",
    "    msg = '{}loiter({}): done.'\n",
    "    display(msg.format('\\t'*n, n, n))\n",
    "    sleep(n)\n",
    "    msg = '{}loiter({}): done.'\n",
    "    display(msg.format('\\t'*n, n))\n",
    "    return n*10\n",
    "\n",
    "def main():\n",
    "    display('Script starting.')\n",
    "    executor = futures.ThreadPoolExecutor(max_worker = 3)\n",
    "    results = executor.map(loiter, range(5))\n",
    "    display('results:', results)\n",
    "    display('Waiting for individual results:')\n",
    "    for i, result in enumerate(results):\n",
    "        display('results {}: {}'.format(i, result))\n",
    "        \n",
    "        \n",
    "main()"
   ]
  },
  {
   "cell_type": "markdown",
   "metadata": {},
   "source": [
    "## 17.5 진행 상황 출력하고 에러를 처리하며 내려받기\n",
    "\n",
    "* flads2_common.py: 이 모듈은 명령행 인수를 처리하고, 시간을 측정하고, 결과를 출력하는 main() 함수를 포함해서 모든 flags2 스크립트가 공통으로 사용할 함수와 설정을 담고 있다. 이 코드는 테스트를 지원하기 위한 코드이며, 이 장에서 설명하는 내용과 직접적인 연관성 없음.\n",
    "* flags2_sequential.py: 에러를 적절히 처리하며 진행 막대를 보여주는 순차 HTTP 클라이언트다. 여기에서 구현하는 download_one() 함수는 flags2_threadpool.py에서도 사용된다.\n",
    "* flags2_threadpool.py: futures.ThreadPoolExecutor에 기반해서 에러 처리와 진행 막대 통합을 보여주는 동시성 HTTP 클라이언트\n",
    "* flags2_asyncio.py: 스레드 예제와 기능상으로 동일하지만. asyncio와 aiohttp를 이용해서 구현한다. 이 스크립트는 18.4절 'asyncio 내려받기 스크립트 개선'에서 설명한다.\n",
    "\n",
    "## 17.5.1 flags2 예제에서의 에러 처리"
   ]
  },
  {
   "cell_type": "code",
   "execution_count": null,
   "metadata": {},
   "outputs": [],
   "source": [
    "# 예제 17-12 flags2_sequential.py: 내려받는 작업을 수행하는 기본적인 함수. 둘 다 flags2_threadpool.py에서 재사용되었다.\n",
    "def get_flag(base_url, cc):\n",
    "    url = '{}/{cc}/{cc}.gif'.format(base_url, cc=cc.lower())\n",
    "    resp = requests.get(url)\n",
    "    if resp.status_code != 200:\n",
    "        resp.raise_for_status()\n",
    "    return resp.content\n",
    "\n",
    "def download_one(cc, base_url, verbose=False):\n",
    "    try:\n",
    "        image = get_flag(base_url, cc)\n",
    "    except requests.exceptions.HTTPError as exc:\n",
    "        res = exc.response\n",
    "        if res.status_code == 404:\n",
    "            status = HTTPStatus.not_found\n",
    "            msg = 'not found'\n",
    "        else:\n",
    "            raise\n",
    "    else:\n",
    "        save_flag(image, cc.lower() + '.gif')\n",
    "        status = HTTPStatus.ok\n",
    "        msg = 'ok'\n",
    "        \n",
    "    if verbose:\n",
    "        print(cc, msg)\n",
    "        \n",
    "return Result(status, cc)"
   ]
  },
  {
   "cell_type": "code",
   "execution_count": null,
   "metadata": {},
   "outputs": [],
   "source": [
    "# 예제 17-13: flags2_sequential.py: download_many()의 순차 구현\n",
    "def download_many(cc_list, base_url, verbose, max_req):\n",
    "    counter = collections.Counter()\n",
    "    cc_iter = sorted(cc_list)\n",
    "    if not verbose:\n",
    "        cc_iter = tqdm.tqdm(cc_iter)\n",
    "    for cc in cc_iter:\n",
    "        try:\n",
    "            res = download_one(cc, base_url, verbose)\n",
    "        except requests.exceptions.HTTPError as exc:\n",
    "            error_msg = 'HTTP error {res.status_code} - {res.reason}'\n",
    "            error_msg = error_msg.format(res=exc.response)\n",
    "        except requests.exceptions.ConnectionError as exc:\n",
    "            error_msg = 'Connection error'\n",
    "        else:\n",
    "            error_msg = ''\n",
    "            status = res.status\n",
    "            \n",
    "        if error_msg:\n",
    "            status = HTTPStatus.erro\n",
    "            counter[status] += 1\n",
    "            if verbose and error_msg:\n",
    "                print('*** Error for {}: {}'.format(cc, error_msg))"
   ]
  },
  {
   "cell_type": "markdown",
   "metadata": {},
   "source": [
    "## 17.5.2 futures.as_completed() 사용하기"
   ]
  },
  {
   "cell_type": "code",
   "execution_count": 1,
   "metadata": {},
   "outputs": [
    {
     "ename": "SyntaxError",
     "evalue": "unexpected EOF while parsing (<ipython-input-1-e62c02d931fc>, line 41)",
     "output_type": "error",
     "traceback": [
      "\u001b[0;36m  File \u001b[0;32m\"<ipython-input-1-e62c02d931fc>\"\u001b[0;36m, line \u001b[0;32m41\u001b[0m\n\u001b[0;31m    if __name__ == '__main__':\u001b[0m\n\u001b[0m                              ^\u001b[0m\n\u001b[0;31mSyntaxError\u001b[0m\u001b[0;31m:\u001b[0m unexpected EOF while parsing\n"
     ]
    }
   ],
   "source": [
    "# flags2_threadpool.py: 전체 소스 코드\n",
    "import collections\n",
    "from concurrent import futures\n",
    "\n",
    "from flags2_common import main, HTTPStatus\n",
    "from flags2_sequential import download_one\n",
    "\n",
    "DEFAULT_CONCUR_REQ = 30\n",
    "MAX_CONCUR_REQ = 1000\n",
    "\n",
    "def download_many(cc_list, base_url, verbose, concur_req):\n",
    "    counter = collections.Counter()\n",
    "    with futures.ThreadPoolExecutor(max_workers=concur_req) as executor:\n",
    "        to_do_map = {}\n",
    "        for cc in sorted(cc_list):\n",
    "            future = executor.submit(download_one, cc, base_url, verbose)\n",
    "            to_do_map[future] = cc\n",
    "        done_iter = futures.as_completed(to_do_map)\n",
    "        if not verbose:\n",
    "            done_iter = tqdm.tqdm(done_iter, total=len(cc_list))\n",
    "        for future in done_iter:\n",
    "            try:\n",
    "                res = future.result()\n",
    "            except requests.exceptions.HTTPError as exc:\n",
    "                error_msg = 'HTTP {res.status_code} - {res.reason}'\n",
    "                error_msg = error_msg.format(res=exc.repsonse)\n",
    "            except requests.exceptions.ConnectionError as exc:\n",
    "                error_msg = 'Connection error'\n",
    "            else:\n",
    "                error_msg = ''\n",
    "                status = restatus\n",
    "                \n",
    "            if error_msg:\n",
    "                status = HTTPStatus.error\n",
    "            counter[status] += 1\n",
    "            if verbose and error_msg:\n",
    "                cc = to_do_map[future]\n",
    "                print('*** Error for {}: {}'.format(cc, error_msg))\n",
    "return counter\n",
    "\n",
    "if __name__ == '__main__':\n",
    "    main(download_many, DEFAULT_CONCUR_REQ, MAX_CONCUR_REQ)"
   ]
  },
  {
   "cell_type": "code",
   "execution_count": null,
   "metadata": {},
   "outputs": [],
   "source": []
  }
 ],
 "metadata": {
  "kernelspec": {
   "display_name": "Python 3",
   "language": "python",
   "name": "python3"
  },
  "language_info": {
   "codemirror_mode": {
    "name": "ipython",
    "version": 3
   },
   "file_extension": ".py",
   "mimetype": "text/x-python",
   "name": "python",
   "nbconvert_exporter": "python",
   "pygments_lexer": "ipython3",
   "version": "3.7.4"
  }
 },
 "nbformat": 4,
 "nbformat_minor": 2
}
