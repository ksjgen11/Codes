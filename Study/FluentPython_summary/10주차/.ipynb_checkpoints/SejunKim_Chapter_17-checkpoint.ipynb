{
 "cells": [
  {
   "cell_type": "markdown",
   "metadata": {},
   "source": [
    "# Chapter 17 Simultaneity by Future\n",
    "\n",
    "- concurrent.futures library\n",
    "- asyncronous working object - Future\n",
    "- asyncio package\n",
    "\n",
    "During waiting responses from network, another work would be performed by simultaneity. It makes CPU cloack effectively.\n",
    "Simultaenity scripts are always faster than sequence script"
   ]
  },
  {
   "cell_type": "code",
   "execution_count": null,
   "metadata": {},
   "outputs": [],
   "source": [
    "# flags.py\n",
    "import os\n",
    "import time\n",
    "import sys\n",
    "\n",
    "import requests # it is not a standard library. According to the convention, it wrote after standard library with space\n",
    "\n",
    "POP20_CC = ('CN IN US ID BR PK NG BD RU JP '\n",
    "           'MX PH VN ET EG DE IR TR CD FR').split()\n",
    "\n",
    "BASE_URL = 'http://flupy.org/data/flags'\n",
    "DEST_DIR = 'downloads/'\n",
    "\n",
    "def save_flag(img, filename):\n",
    "    path = os.path.join(DEST_DIR, filename)\n",
    "    with open(path, 'wb') as fp:\n",
    "        fp.write(img)\n",
    "        \n",
    "def get_flag(cc):\n",
    "    url = '{}/{cc}/{cc}.gif'.format(BASE_URL, cc =cc.lower())\n",
    "    resp = requests.get(url)\n",
    "    return resp.content\n",
    "\n",
    "def show(txt):\n",
    "    print(text, end = ' ')\n",
    "    sys.stdout.flush()\n",
    "    \n",
    "def download_many(cc_list): # critical part different with simultaneity version\n",
    "    for cc in sorted(cc_list):\n",
    "        image = get_flag(cc)\n",
    "        show(cc)\n",
    "        save_flag(image, cc.lower() + '.gif')\n",
    "    return len(cc_list)\n",
    "\n",
    "def main(download_many):\n",
    "    t0 = time.time()\n",
    "    count = download_many(POP20_CC)\n",
    "    elapsed = time.time() = t0\n",
    "    msg = '\\n{} flags downloaded in {:.2f}s'\n",
    "    print(msg.format(count, elapsed))\n",
    "    \n",
    "if __name__ == '__main__':\n",
    "    main(download_many)"
   ]
  },
  {
   "cell_type": "code",
   "execution_count": null,
   "metadata": {},
   "outputs": [],
   "source": [
    "# download by concurrent.futures\n",
    "# flags_threadpool.py\n",
    "\n",
    "from concurrent import futures\n",
    "from flags import save_flag, get_flag, show, main\n",
    "\n",
    "MAX_WORKERS = 20 # max threads using in ThreadPoolExecutor\n",
    " \n",
    "def download_one(cc):\n",
    "    image = get_flag(cc)\n",
    "    show(cc)\n",
    "    save_flag(image, cc.lower() + '.gif')\n",
    "    return cc\n",
    "\n",
    "def download_many(cc_list):\n",
    "    workers = min(MAX_WORKERS, len(cc_list))\n",
    "    with futures.ThreadPoolExecutor(workers) as executor: # executor.__exit__() calls executor.shutdown(wait=True) -> blocked until all threads completed.\n",
    "        res = executor.map(download_one, sorted(cc_list)) # download_one methods calls by various threads.\n",
    "        \n",
    "    return len(list(res))\n",
    "\n",
    "if __name__ == '__main__':\n",
    "    main(download_many)"
   ]
  },
  {
   "cell_type": "markdown",
   "metadata": {},
   "source": [
    "concurrent.futures.Future and asyncio.Future\n",
    "Used implementing postpond calculations whether completed or not.\n",
    "\n",
    "Future -> do not make object. It is exclusively create in the simultaneity framework."
   ]
  },
  {
   "cell_type": "code",
   "execution_count": null,
   "metadata": {},
   "outputs": [],
   "source": [
    "# flags_threadpool_ac.py\n",
    "\n",
    "def download_many(cc_list):\n",
    "    cc_list = cc_list[:5]\n",
    "    with futures.ThreadPoolExecutor(max_workers = 3) as executor:\n",
    "        to_do = []\n",
    "        for cc in sorted(cc_list):\n",
    "            future = executor.submit(download_one, cc)\n",
    "            to_do.append(future)\n",
    "            msg = 'Scheduled for {}: {}'\n",
    "            print(msg.format(cc, future))\n",
    "            \n",
    "        results = []\n",
    "        for future in futures.as_completed(to_do):\n",
    "            res = future.result()\n",
    "            msg= '{} result: {!r}'\n",
    "            print(msg.format(future, res))\n",
    "            results.append(res)\n",
    "        \n",
    "    return len(results)\n",
    "\n",
    "if __name__ == '__main__':\n",
    "    main(download_many)"
   ]
  },
  {
   "cell_type": "code",
   "execution_count": 6,
   "metadata": {},
   "outputs": [],
   "source": [
    "# demo_executor_map.py\n",
    "\n",
    "from time import sleep, strftime\n",
    "from concurrent import futures\n",
    "\n",
    "def display(*args):\n",
    "    print(strftime('[%H:%M:%S]'), end = ' ')\n",
    "    print(*args)\n",
    "    \n",
    "def loiter(n):\n",
    "    msg = '{}loiter({}): doing nothing for {}s...'\n",
    "    display(msg.format('\\t'*n, n, n))\n",
    "    sleep(n)\n",
    "    msg = '{}loiter({}): done'\n",
    "    display(msg.format('\\t'*n, n))\n",
    "    return n *10\n",
    "\n",
    "def main():\n",
    "    display('Script starting')\n",
    "    executor = futures.ThreadPoolExecutor(max_workers=3)\n",
    "    results = executor.map(loiter, range(5))\n",
    "    display('results:', results)\n",
    "    display('Waiting for individual results:')\n",
    "    for i, result in enumerate(results):\n",
    "        display('result {}: {}'.format(i, result))\n",
    "        \n"
   ]
  },
  {
   "cell_type": "code",
   "execution_count": 7,
   "metadata": {},
   "outputs": [
    {
     "name": "stdout",
     "output_type": "stream",
     "text": [
      "[22:52:37] Script starting\n",
      "[22:52:37] loiter(0): doing nothing for 0s...\n",
      "[22:52:37][22:52:37] \tloiter(1): doing nothing for 1s...\n",
      " loiter(0): done\n",
      "[22:52:37] \t\tloiter(2): doing nothing for 2s...\n",
      "[22:52:37] results: <generator object Executor.map.<locals>.result_iterator at 0x7f7c54339d60>\n",
      "[22:52:37] [22:52:37] \t\t\tloiter(3): doing nothing for 3s...\n",
      "Waiting for individual results:\n",
      "[22:52:37] result 0: 0\n",
      "[22:52:38] \tloiter(1): done\n",
      "[22:52:38] \t\t\t\tloiter(4): doing nothing for 4s...[22:52:38] result 1: 10\n",
      "\n",
      "[22:52:39] \t\tloiter(2): done\n",
      "[22:52:39] result 2: 20\n",
      "[22:52:40] \t\t\tloiter(3): done\n",
      "[22:52:40] result 3: 30\n",
      "[22:52:42] \t\t\t\tloiter(4): done\n",
      "[22:52:42] result 4: 40\n"
     ]
    }
   ],
   "source": [
    "main()"
   ]
  }
 ],
 "metadata": {
  "kernelspec": {
   "display_name": "Python 3",
   "language": "python",
   "name": "python3"
  },
  "language_info": {
   "codemirror_mode": {
    "name": "ipython",
    "version": 3
   },
   "file_extension": ".py",
   "mimetype": "text/x-python",
   "name": "python",
   "nbconvert_exporter": "python",
   "pygments_lexer": "ipython3",
   "version": "3.8.3"
  }
 },
 "nbformat": 4,
 "nbformat_minor": 4
}
