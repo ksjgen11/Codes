{
 "cells": [
  {
   "cell_type": "markdown",
   "metadata": {},
   "source": [
    "# @classmethod 와 @staticmethod \n"
   ]
  },
  {
   "cell_type": "markdown",
   "metadata": {},
   "source": [
    "일반적으로 정적메소드란 클래스에서 직접 접근할 수 있는 메소드이다.<br>\n",
    "즉 인스턴스를 생성하고 호출하는 방식이 아니라, 클래스에서 바로 호출할 수 있는것\n",
    "\n",
    "파이썬에서 클래스에서 직접 접근할 수 있는 메소드인 정적메소드는 @staticmethod 와 @classmethod 두가지가 있다<br>\n",
    "단 파이썬에서는 정적메소드들이 인스턴스에서도 접근이 가능하다.\n",
    "\n",
    "모든 정적메소드는 인스턴스메소드와 달리 self라는 인자를 가지고 있지 않음<br>\n",
    "단, 클래스 메소드는 cls 라는 인자를 갖고 있음 이를 이용해서 클래스의 어떤 속성에도 접근하기 쉬게 만들 수 있음"
   ]
  },
  {
   "cell_type": "markdown",
   "metadata": {},
   "source": [
    "### 일반 메서드\n",
    "\n",
    "클래스 : 어떤 특징에 기반한 집단을 프로그래밍적으로 정의한 것<br>\n",
    "메소드 : 그 집단의 개체들이 행할 수 있는 어떤 동작이나 행동,파이썬에서 일반 메소드들에는 첫 인자로 self를 꼭 넣어줌, self를 암시적으로 넣어줌으로써 일반 메소드가 인스턴스의 변수에 접근할 수 있음"
   ]
  },
  {
   "cell_type": "code",
   "execution_count": 15,
   "metadata": {},
   "outputs": [],
   "source": [
    "class Human:\n",
    "    #인류의 학명은 모든 인스턴스마다 동일하다\n",
    "    #따라서 생성자에 넣지 않고 클래스 변수로 할당한다,\n",
    "    species = 'Homo Spiens'\n",
    "    \n",
    "    def __init__(self,name,age):\n",
    "        self.name = name\n",
    "        self.age = age\n",
    "        self.use_glasses = False\n",
    "        \n",
    "    def introduce(self):\n",
    "        return f\"My name is {self.name} and I'm {self.age} years old\""
   ]
  },
  {
   "cell_type": "code",
   "execution_count": 14,
   "metadata": {},
   "outputs": [
    {
     "data": {
      "text/plain": [
       "\"My name is 성환 and I'm 28 years old\""
      ]
     },
     "execution_count": 14,
     "metadata": {},
     "output_type": "execute_result"
    }
   ],
   "source": [
    "A = Human('성환', '28')\n",
    "A.introduce()"
   ]
  },
  {
   "cell_type": "markdown",
   "metadata": {},
   "source": [
    "생성자 메소드에서는 인스턴스마다의 이름 나이 안경착용유무를 변수로 할당함. 즉 인스턴스마다 변수는 값이 제각각임. <br>\n",
    "따라서 인스턴스 변수는 인스턴스마다 다르고, 이를 사용하는 일반 메소드는 인스턴스마다 서로 다른 값을 출력하게 됨 <br>\n",
    "이렇듯 일반 메소드는 인스턴스에 종속적인 결과값을 출력한다. <br>\n",
    "\n",
    "하지만 때에 따라서는 각각의 인스턴스와는 상관없는 혹은 클래스 단위로 관리해야 할 변수나 메소드가 필요함<br>\n",
    "클래스 변수로 할당하면 됨!\n",
    "\n",
    "즉 일반 메소드는 인스턴스 단위의 변수를 다루고 관리하고 반대로 클래스 변수는 '클래스 단위'로 설정하고, 할당되는 변수임  "
   ]
  },
  {
   "cell_type": "code",
   "execution_count": 21,
   "metadata": {},
   "outputs": [
    {
     "data": {
      "text/plain": [
       "'Homo Spiens'"
      ]
     },
     "execution_count": 21,
     "metadata": {},
     "output_type": "execute_result"
    }
   ],
   "source": [
    "B =Human('재훈','30')\n",
    "B.species"
   ]
  },
  {
   "cell_type": "code",
   "execution_count": 17,
   "metadata": {},
   "outputs": [
    {
     "data": {
      "text/plain": [
       "'Homo Spiens'"
      ]
     },
     "execution_count": 17,
     "metadata": {},
     "output_type": "execute_result"
    }
   ],
   "source": [
    "Human.species # 클래스 변수, 인스턴스마다 달라지지 않아야 할 것들에 대한것"
   ]
  },
  {
   "cell_type": "markdown",
   "metadata": {},
   "source": [
    "---\n",
    "# @Classmethod "
   ]
  },
  {
   "cell_type": "code",
   "execution_count": 22,
   "metadata": {},
   "outputs": [
    {
     "name": "stdout",
     "output_type": "stream",
     "text": [
      "Help on class classmethod in module builtins:\n",
      "\n",
      "class classmethod(object)\n",
      " |  classmethod(function) -> method\n",
      " |  \n",
      " |  Convert a function to be a class method.\n",
      " |  \n",
      " |  A class method receives the class as implicit first argument,\n",
      " |  just like an instance method receives the instance.\n",
      " |  To declare a class method, use this idiom:\n",
      " |  \n",
      " |    class C:\n",
      " |        @classmethod\n",
      " |        def f(cls, arg1, arg2, ...):\n",
      " |            ...\n",
      " |  \n",
      " |  It can be called either on the class (e.g. C.f()) or on an instance\n",
      " |  (e.g. C().f()).  The instance is ignored except for its class.\n",
      " |  If a class method is called for a derived class, the derived class\n",
      " |  object is passed as the implied first argument.\n",
      " |  \n",
      " |  Class methods are different than C++ or Java static methods.\n",
      " |  If you want those, see the staticmethod builtin.\n",
      " |  \n",
      " |  Methods defined here:\n",
      " |  \n",
      " |  __get__(self, instance, owner, /)\n",
      " |      Return an attribute of instance, which is of type owner.\n",
      " |  \n",
      " |  __init__(self, /, *args, **kwargs)\n",
      " |      Initialize self.  See help(type(self)) for accurate signature.\n",
      " |  \n",
      " |  ----------------------------------------------------------------------\n",
      " |  Static methods defined here:\n",
      " |  \n",
      " |  __new__(*args, **kwargs) from builtins.type\n",
      " |      Create and return a new object.  See help(type) for accurate signature.\n",
      " |  \n",
      " |  ----------------------------------------------------------------------\n",
      " |  Data descriptors defined here:\n",
      " |  \n",
      " |  __dict__\n",
      " |  \n",
      " |  __func__\n",
      " |  \n",
      " |  __isabstractmethod__\n",
      "\n"
     ]
    }
   ],
   "source": [
    "help(classmethod)"
   ]
  },
  {
   "cell_type": "markdown",
   "metadata": {},
   "source": [
    "기본 사용법은 함수를 받아 메소드를 반환한다.<br>\n",
    "반환된 메소드를 ‘클래스메소드’라고 표현하겠다. 이는 classmethod 함수로 반환된 class method를 지칭한다. <br>\n",
    "그리고 이 클래스메소드는 첫 인자로 클래스를 뜻하는 ‘cls’라는 변수를 암묵적으로 받는다. <br>\n",
    "‘cls’를 통해 클래스 변수에 접근할 수 있는데 일반 메소드에서 ‘self’를 통해 인스턴스 변수에 접근할 수 있었던 것과 같은 의미다.<br>"
   ]
  },
  {
   "cell_type": "code",
   "execution_count": 26,
   "metadata": {},
   "outputs": [
    {
     "name": "stdout",
     "output_type": "stream",
     "text": [
      "Scientific name for cat is Felis Catus!\n",
      "None\n"
     ]
    }
   ],
   "source": [
    "class Cat:\n",
    "    species = 'Felis Catus'\n",
    "\n",
    "    def get_species(cls):\n",
    "        print(f'Scientific name for cat is {cls.species}!')\n",
    "\n",
    "Cat.get_species = classmethod(Cat.get_species)\n",
    "\n",
    "print(Cat.get_species())"
   ]
  },
  {
   "cell_type": "code",
   "execution_count": 27,
   "metadata": {},
   "outputs": [
    {
     "data": {
      "text/plain": [
       "<classmethod at 0x7f3f3c5a0f70>"
      ]
     },
     "execution_count": 27,
     "metadata": {},
     "output_type": "execute_result"
    }
   ],
   "source": [
    "classmethod(Cat.get_species) # 함수를 받아 메소드를 반환함"
   ]
  },
  {
   "cell_type": "markdown",
   "metadata": {},
   "source": [
    "고양이의 학명은 ‘Felis Catus’란다. 오늘 처음 알았다. 고양이 학명을 Cat의 클래스 변수로 설정했다. 그리고 고양이의 학명을 반환하는 get_species 메소드를 만들었다. 근데 이 메소드는 인스턴스 변수에 접근하는 일반 메소드가 아니라 클래스 변수를 조작하는 클래스메소드이다. 따라서 그대로 사용하면 안 되고 Cat.get_species = classmethod(Cat.get_species) 처럼 classmethod 내장 함수를 써서 일반 메소드를 클래스메소드로 변환해줘야 한다. 하지만 클래스메소드를 정의할 때마다 귀찮게 classmethod 함수를 따로 쓰기 귀찮기 때문에 헬핑에서처럼 데코레이터로 클래스메소드를 정의한다."
   ]
  },
  {
   "cell_type": "code",
   "execution_count": 32,
   "metadata": {},
   "outputs": [
    {
     "name": "stdout",
     "output_type": "stream",
     "text": [
      "Scientific name for cat is Felis Catus!\n",
      "None\n"
     ]
    }
   ],
   "source": [
    "class Cat:\n",
    "    species = 'Felis Catus'\n",
    "\n",
    "    @classmethod\n",
    "    def get_species(cls):\n",
    "        print(f'Scientific name for cat is {cls.species}!')\n",
    "        \n",
    "print(Cat.get_species())"
   ]
  },
  {
   "cell_type": "markdown",
   "metadata": {},
   "source": [
    "# classmethod 정리\n",
    "classmethod 데코레이터를 통해 생성된 클래스메소드의 특징을 다음과 같이 정리해볼 수 있다.<br>\n",
    "\n",
    ">### 1. 클래스메소드는 인스턴스에 독립적이다.(independent)\n",
    ">클래스메소드는 인스턴스에서도 실행할 수 있지만 클래스 자체에서도 문제없이 실행할 수 있다.<br>\n",
    ">그리고 인스턴스마다에서 반환값이 변하지 않는다.\n",
    ">### 2. 클래스에 종속적이다.(dependent)\n",
    ">클래스메소드는 클래스를 통해 호출할 수 있다. 따라서 클래스에 종속적이다.\n",
    ">### 3. 클래스메소드는 클래스 변수를 조작할 수 있다.\n",
    ">classmethod로 반환된 클래스메소드는 첫 인자로 ‘cls’를 받는다. <br>\n",
    ">이 ‘cls’를 통해 클래스를 지칭할 수 있고 따라서 클래스 변수에 접근, 관리할 수 있다. 우리가 할당한 species 변수는 클래스 변수다.\n",
    "\n",
    "---"
   ]
  },
  {
   "cell_type": "markdown",
   "metadata": {},
   "source": [
    "# @staticmethod\n"
   ]
  },
  {
   "cell_type": "code",
   "execution_count": 33,
   "metadata": {},
   "outputs": [
    {
     "name": "stdout",
     "output_type": "stream",
     "text": [
      "Help on class staticmethod in module builtins:\n",
      "\n",
      "class staticmethod(object)\n",
      " |  staticmethod(function) -> method\n",
      " |  \n",
      " |  Convert a function to be a static method.\n",
      " |  \n",
      " |  A static method does not receive an implicit first argument.\n",
      " |  To declare a static method, use this idiom:\n",
      " |  \n",
      " |       class C:\n",
      " |           @staticmethod\n",
      " |           def f(arg1, arg2, ...):\n",
      " |               ...\n",
      " |  \n",
      " |  It can be called either on the class (e.g. C.f()) or on an instance\n",
      " |  (e.g. C().f()). Both the class and the instance are ignored, and\n",
      " |  neither is passed implicitly as the first argument to the method.\n",
      " |  \n",
      " |  Static methods in Python are similar to those found in Java or C++.\n",
      " |  For a more advanced concept, see the classmethod builtin.\n",
      " |  \n",
      " |  Methods defined here:\n",
      " |  \n",
      " |  __get__(self, instance, owner, /)\n",
      " |      Return an attribute of instance, which is of type owner.\n",
      " |  \n",
      " |  __init__(self, /, *args, **kwargs)\n",
      " |      Initialize self.  See help(type(self)) for accurate signature.\n",
      " |  \n",
      " |  ----------------------------------------------------------------------\n",
      " |  Static methods defined here:\n",
      " |  \n",
      " |  __new__(*args, **kwargs) from builtins.type\n",
      " |      Create and return a new object.  See help(type) for accurate signature.\n",
      " |  \n",
      " |  ----------------------------------------------------------------------\n",
      " |  Data descriptors defined here:\n",
      " |  \n",
      " |  __dict__\n",
      " |  \n",
      " |  __func__\n",
      " |  \n",
      " |  __isabstractmethod__\n",
      "\n"
     ]
    }
   ],
   "source": [
    "help(staticmethod)"
   ]
  },
  {
   "cell_type": "markdown",
   "metadata": {},
   "source": [
    "이 함수는 다른 함수를 인자로 받아서 static method로 변환해 반환한다.<br>\n",
    "(이때 반환된 staticmethod를 ‘스태틱메소드’라고 언급하겠다.)\n",
    "\n",
    "근데, 그 다음 문장이 classmethod 와의 확연한 차이를 드러낸다.\n",
    "static method(스태틱메소드)는 암시적인 첫 인자를 받지 않는다.\n",
    "이것이 staticmethod와 classmethod의 중요한 차이이다.\n",
    "\n",
    "클래스메소드는 암시적인 첫 인자, 클래스 자체를 받아서 클래스 변수에 접근했다. 그리고 그 첫 인자는 관습적으로 ‘cls’로 지칭한다. <br>\n",
    "이와는 대조적으로 staticmethod 함수로 생성된 스태틱메소드는 클래스 자신을 지칭하는 첫 인자를 받지 않기에 인스턴스의 상태는 물론 클래스의 상태와도 상관 없는 메소드가 된다."
   ]
  },
  {
   "cell_type": "markdown",
   "metadata": {},
   "source": [
    "# staticmethod 정리 \n",
    "\n",
    ">### 1. 스태틱메소드는 인스턴스에 독립적이다.(independent)\n",
    ">클래스메소드와 같다. 스태틱메소드를 실행하기 위해서는 인스턴스를 생성하지 않아도 된다.\n",
    ">### 2. 클래스의 상태에 독립적이다.\n",
    ">스태틱메소드는 첫 인자로 ‘cls’를 받지 않는다. 따라서 클래스 변수(상태)도 사용하지 않고 따라서 클래스의 상태에 독립적이다.\n",
    ">### 3. 클래스에 종속적이다.\n",
    ">위의 특징과 구분되어야 한다. 스태틱메소드도 결국 클래스의 속성(attribute)이다. 따라서 클래스에 Bound 되어 있다."
   ]
  },
  {
   "cell_type": "markdown",
   "metadata": {},
   "source": [
    "### 사용방법\n",
    "스태틱메소드는 클래스메소드와 달리 사용처가 제한된다. 보통은 어떤 클래스의 유틸리티 메소드로 많이 쓰인다. 다음과 같은 예를 만들어보자.\n",
    "\n",
    "아까 우리는 Human 클래스를 정의했다. 이 클래스는 당신과 같은 인간을 정의하는데 추가 메소드들을 정의하려고 한다. 그중 임의의 숫자를 입력 받아 인간이 읽기 쉽게 천 단위로 ,를 넣어 반환하는 ‘humanify_number’이라는 메소드를 만들고 싶다고 하자.\n",
    "\n",
    "이 메소드를 일반 메소드로 만들 수는 있지만, 인스턴스의 상태에 종속적일 이유도 없고 또 클래스의 상태에 종속적일 이유도 굳이 없다. 그냥 숫자를 하나 입력 받아 처리하면 되기 때문이다. 따라서 이 메소드를 스태틱메소드로 만들자."
   ]
  },
  {
   "cell_type": "code",
   "execution_count": null,
   "metadata": {},
   "outputs": [],
   "source": [
    "class Human:\n",
    "    species = 'Homo Sapiens'\n",
    "\n",
    "    def __init__(self, name, age):\n",
    "        ...\n",
    "\n",
    "    @staticmethod\n",
    "    def humanify_number(n):\n",
    "        return f'{n:,}'\n",
    "\t# {} 안의 내용이 이해가 안 가면 문의주세요.\n",
    "\n",
    "\n",
    ">>> Human.humanify_number(1000)\n",
    ">>> Human.humanify_number(10*9*8*7*6*5*4*3*2*1)\n",
    "\n",
    "'1,000'\n",
    "'3,628,800'"
   ]
  },
  {
   "cell_type": "markdown",
   "metadata": {},
   "source": [
    "---"
   ]
  },
  {
   "cell_type": "markdown",
   "metadata": {},
   "source": [
    "# 비교 대조"
   ]
  },
  {
   "cell_type": "markdown",
   "metadata": {},
   "source": [
    "## 공통점\n",
    "클래스메소드와 스태틱메소드의 공통점은 다음과 같다.\n",
    "\n",
    ">### 1. 인스턴스에 대해 독립적이다.\n",
    ">둘 모두 실행하기 위해 인스턴스를 생성할 필요가 없고 클래스에서 직접 호출할 수 있다. <br>\n",
    ">따라서 인스턴스의 상태에 대해 독립적이다.\n",
    ">### 2. 인스턴스에서 실행가능하다.\n",
    ">이 둘은 인스턴스에 대해 독립적인데 특이하게도 인스턴스에서 실행은 할 수 있다.\n",
    ">### 3.클래스에 종속적이다.(bound or dependent)\n",
    ">둘 모두 클래스에 속한 속성이다. 클래스를 통하지 않고는 실행할 방법이 없다. 따라서 클래스에 대해 종속적이다."
   ]
  },
  {
   "cell_type": "markdown",
   "metadata": {},
   "source": [
    "# 차이점\n",
    ">### 1. 클래스메소드는 클래스 변수에 접근가능한 데 반해 스태틱메소드는 그렇지 않다.\n",
    ">클래스메소드에서는 ‘cls’라는 클래스를 지칭하는 인자를 암시적으로 받아 이 변수를 통해 클래스 변수에 접근할 수 있다.<br>\n",
    ">스태틱메소드는 첫 인자로 이 변수를 받지 않는다. 따라서 함수 블록 내에서 하드코딩하지 않는 이상 클래스 변수에 접근할 수 없다.\n",
    ">### 2. 클래스메소드는 클래스 변수(상태)에 종속적이고 스태틱메소드는 클래스 변수(상태)에 독립적이다.\n",
    ">클래스메소드는 클래스 변수 값에 따라 결과가 달라질 수 있지만 스태틱메소드는 그렇지 않다.\n",
    ">### 3. 클래스가 상속될 때 클래스메소드는 상속을 제대로 반영하지만 스태틱메소드는 그렇지 않다.\n",
    ">이는 예제를 통해 확인해야 한다.\n",
    ">우리는 클래스 상속관계를 만들되 ‘name’이라는 클래스 변수를 통해 클래스의 이름을 관리하고 클래스의 이름을 반환하는 ‘get_class_name’이라는 >메소드로 클래스의 이름을 확인하고 싶다. 이때 이름을 구하는 하나의 메소드를 클래스메소드, 스태틱메소드로 각각 정의하고 상속관계에서 차이를 보자."
   ]
  },
  {
   "cell_type": "code",
   "execution_count": null,
   "metadata": {},
   "outputs": [],
   "source": []
  },
  {
   "cell_type": "code",
   "execution_count": null,
   "metadata": {},
   "outputs": [],
   "source": []
  },
  {
   "cell_type": "code",
   "execution_count": null,
   "metadata": {},
   "outputs": [],
   "source": [
    "# 상속부분은 추가로 정리하기 \n",
    "https://shoark7.github.io/programming/python/staticmethod-and-classmethod-in-Python"
   ]
  },
  {
   "cell_type": "code",
   "execution_count": 34,
   "metadata": {},
   "outputs": [
    {
     "ename": "NameError",
     "evalue": "name 'Vector2d' is not defined",
     "output_type": "error",
     "traceback": [
      "\u001b[0;31m---------------------------------------------------------------------------\u001b[0m",
      "\u001b[0;31mNameError\u001b[0m                                 Traceback (most recent call last)",
      "\u001b[0;32m<ipython-input-34-b415a6fb3768>\u001b[0m in \u001b[0;36m<module>\u001b[0;34m\u001b[0m\n\u001b[0;32m----> 1\u001b[0;31m \u001b[0mv1\u001b[0m\u001b[0;34m=\u001b[0m \u001b[0mVector2d\u001b[0m\u001b[0;34m(\u001b[0m\u001b[0;36m3\u001b[0m\u001b[0;34m,\u001b[0m\u001b[0;36m4\u001b[0m\u001b[0;34m)\u001b[0m\u001b[0;34m\u001b[0m\u001b[0;34m\u001b[0m\u001b[0m\n\u001b[0m",
      "\u001b[0;31mNameError\u001b[0m: name 'Vector2d' is not defined"
     ]
    }
   ],
   "source": [
    "v1= Vector2d(3,4)"
   ]
  },
  {
   "cell_type": "code",
   "execution_count": null,
   "metadata": {},
   "outputs": [],
   "source": []
  },
  {
   "cell_type": "code",
   "execution_count": null,
   "metadata": {},
   "outputs": [],
   "source": []
  },
  {
   "cell_type": "markdown",
   "metadata": {},
   "source": [
    "# 파이썬에서의 비공개 속성과 보호된 속성"
   ]
  },
  {
   "cell_type": "code",
   "execution_count": 36,
   "metadata": {},
   "outputs": [],
   "source": [
    "class Person:\n",
    "    def __init__(self, name, age, address):\n",
    "        self.hello = '안녕하세요.'\n",
    "        self.name = name\n",
    "        self.age = age\n",
    "        self.address = address"
   ]
  },
  {
   "cell_type": "markdown",
   "metadata": {},
   "source": [
    "이 속성들은 메서드에서 self로 접근할 수 있고, 인스턴스.속성 형식으로 클래스 바깥에서도 접근할 수 있습니다."
   ]
  },
  {
   "cell_type": "code",
   "execution_count": 37,
   "metadata": {},
   "outputs": [
    {
     "data": {
      "text/plain": [
       "'마리아'"
      ]
     },
     "execution_count": 37,
     "metadata": {},
     "output_type": "execute_result"
    }
   ],
   "source": [
    "maria = Person('마리아', 20, '서울시 서초구 반포동') ;maria.name"
   ]
  },
  {
   "cell_type": "markdown",
   "metadata": {},
   "source": [
    "이번에는 클래스 바깥에서는 접근할 수 없고 클래스 안에서만 사용할 수 있는 비공개 속성(private attribute)을 사용해보겠습니다.\n",
    "\n",
    "비공개 속성은 __속성과 같이 이름이 __(밑줄 두 개)로 시작해야 합니다. 단, __속성__처럼 밑줄 두 개가 양 옆에 왔을 때는 비공개 속성이 아니므로 주의해야 합니다."
   ]
  },
  {
   "cell_type": "code",
   "execution_count": 38,
   "metadata": {},
   "outputs": [
    {
     "ename": "AttributeError",
     "evalue": "'Person' object has no attribute '__wallet'",
     "output_type": "error",
     "traceback": [
      "\u001b[0;31m---------------------------------------------------------------------------\u001b[0m",
      "\u001b[0;31mAttributeError\u001b[0m                            Traceback (most recent call last)",
      "\u001b[0;32m<ipython-input-38-7b8e3451d1b4>\u001b[0m in \u001b[0;36m<module>\u001b[0;34m\u001b[0m\n\u001b[1;32m      7\u001b[0m \u001b[0;34m\u001b[0m\u001b[0m\n\u001b[1;32m      8\u001b[0m \u001b[0mmaria\u001b[0m \u001b[0;34m=\u001b[0m \u001b[0mPerson\u001b[0m\u001b[0;34m(\u001b[0m\u001b[0;34m'마리아'\u001b[0m\u001b[0;34m,\u001b[0m \u001b[0;36m20\u001b[0m\u001b[0;34m,\u001b[0m \u001b[0;34m'서울시 서초구 반포동'\u001b[0m\u001b[0;34m,\u001b[0m \u001b[0;36m10000\u001b[0m\u001b[0;34m)\u001b[0m\u001b[0;34m\u001b[0m\u001b[0;34m\u001b[0m\u001b[0m\n\u001b[0;32m----> 9\u001b[0;31m \u001b[0mmaria\u001b[0m\u001b[0;34m.\u001b[0m\u001b[0m__wallet\u001b[0m \u001b[0;34m-=\u001b[0m \u001b[0;36m10000\u001b[0m    \u001b[0;31m# 클래스 바깥에서 비공개 속성에 접근하면 에러가 발생함\u001b[0m\u001b[0;34m\u001b[0m\u001b[0;34m\u001b[0m\u001b[0m\n\u001b[0m",
      "\u001b[0;31mAttributeError\u001b[0m: 'Person' object has no attribute '__wallet'"
     ]
    }
   ],
   "source": [
    "class Person:\n",
    "    def __init__(self, name, age, address, wallet):\n",
    "        self.name = name\n",
    "        self.age = age\n",
    "        self.address = address\n",
    "        self.__wallet = wallet    # 변수 앞에 __를 붙여서 비공개 속성으로 만듦\n",
    " \n",
    "maria = Person('마리아', 20, '서울시 서초구 반포동', 10000)\n",
    "maria.__wallet -= 10000    # 클래스 바깥에서 비공개 속성에 접근하면 에러가 발생함"
   ]
  },
  {
   "cell_type": "markdown",
   "metadata": {},
   "source": [
    "실행을 해보면 에러가 발생합니다. self.__wallet처럼 앞에 밑줄 두 개를 붙여서 비공개 속성으로 만들었으므로 클래스 바깥에서 maria.__wallet으로는 접근할 수 없습니다. 사람이 가지고 있는 지갑은 본인만 사용할 수 있는데 maria.__wallet -= 10000처럼 바깥에서 마음대로 돈을 뺄 수는 없겠죠?"
   ]
  },
  {
   "cell_type": "markdown",
   "metadata": {},
   "source": [
    "비공개 속성은 클래스 안의 메서드에서만 접근할 수 있습니다. 다음과 같이 돈을 내는 pay 메서드를 만들어봅니다."
   ]
  },
  {
   "cell_type": "code",
   "execution_count": 39,
   "metadata": {},
   "outputs": [
    {
     "name": "stdout",
     "output_type": "stream",
     "text": [
      "이제 7000원 남았네요.\n"
     ]
    }
   ],
   "source": [
    "class Person:\n",
    "    def __init__(self, name, age, address, wallet):\n",
    "        self.name = name\n",
    "        self.age = age\n",
    "        self.address = address\n",
    "        self.__wallet = wallet    # 변수 앞에 __를 붙여서 비공개 속성으로 만듦\n",
    " \n",
    "    def pay(self, amount):\n",
    "        self.__wallet -= amount   # 비공개 속성은 클래스 안의 메서드에서만 접근할 수 있음\n",
    "        print('이제 {0}원 남았네요.'.format(self.__wallet))\n",
    " \n",
    "maria = Person('마리아', 20, '서울시 서초구 반포동', 10000)\n",
    "maria.pay(3000)"
   ]
  },
  {
   "cell_type": "markdown",
   "metadata": {},
   "source": [
    "이처럼 비공개 속성은 클래스 바깥으로 드러내고 싶지 않은 값에 사용합니다. <br>즉, 중요한 값인데 바깥에서 함부로 바꾸면 안될 때 비공개 속성을 주로 사용합니다. 비공개 속성을 바꾸는 경우는 클래스의 메서드로 한정합니다."
   ]
  },
  {
   "cell_type": "markdown",
   "metadata": {},
   "source": [
    "두개의 언더바로 시작하고 언더바 없이 또는 하나의 언더바로 끝나도록 정의하면, 파이썬은 언더바와 클래스명을 변수명 앞에 붙여 객체의 \\__dict__에 저장한다."
   ]
  },
  {
   "cell_type": "code",
   "execution_count": 40,
   "metadata": {},
   "outputs": [
    {
     "data": {
      "text/plain": [
       "{'name': '마리아', 'age': 20, 'address': '서울시 서초구 반포동', '_Person__wallet': 7000}"
      ]
     },
     "execution_count": 40,
     "metadata": {},
     "output_type": "execute_result"
    }
   ],
   "source": [
    "maria.__dict__ #__dict__에 저장된 비공개 속성"
   ]
  },
  {
   "cell_type": "code",
   "execution_count": 43,
   "metadata": {},
   "outputs": [
    {
     "data": {
      "text/plain": [
       "7000"
      ]
     },
     "execution_count": 43,
     "metadata": {},
     "output_type": "execute_result"
    }
   ],
   "source": [
    "maria._Person__wallet #__dict___ 의 키값으로 접근이 가능하다."
   ]
  },
  {
   "cell_type": "markdown",
   "metadata": {},
   "source": [
    "참고 | 비공개 메서드 사용하기<br>\n",
    "속성뿐만 아니라 메서드도 이름이 __(밑줄 두 개)로 시작하면 클래스 안에서만 호출할 수 있는 비공개 메서드가 됩니다."
   ]
  },
  {
   "cell_type": "code",
   "execution_count": 44,
   "metadata": {},
   "outputs": [
    {
     "ename": "AttributeError",
     "evalue": "'Person' object has no attribute '__greeting'",
     "output_type": "error",
     "traceback": [
      "\u001b[0;31m---------------------------------------------------------------------------\u001b[0m",
      "\u001b[0;31mAttributeError\u001b[0m                            Traceback (most recent call last)",
      "\u001b[0;32m<ipython-input-44-20a07dd527bb>\u001b[0m in \u001b[0;36m<module>\u001b[0;34m\u001b[0m\n\u001b[1;32m      7\u001b[0m \u001b[0;34m\u001b[0m\u001b[0m\n\u001b[1;32m      8\u001b[0m \u001b[0mjames\u001b[0m \u001b[0;34m=\u001b[0m \u001b[0mPerson\u001b[0m\u001b[0;34m(\u001b[0m\u001b[0;34m)\u001b[0m\u001b[0;34m\u001b[0m\u001b[0;34m\u001b[0m\u001b[0m\n\u001b[0;32m----> 9\u001b[0;31m \u001b[0mjames\u001b[0m\u001b[0;34m.\u001b[0m\u001b[0m__greeting\u001b[0m\u001b[0;34m(\u001b[0m\u001b[0;34m)\u001b[0m    \u001b[0;31m# 에러: 클래스 바깥에서는 비공개 메서드를 호출할 수 없음\u001b[0m\u001b[0;34m\u001b[0m\u001b[0;34m\u001b[0m\u001b[0m\n\u001b[0m",
      "\u001b[0;31mAttributeError\u001b[0m: 'Person' object has no attribute '__greeting'"
     ]
    }
   ],
   "source": [
    "class Person:\n",
    "    def __greeting(self):\n",
    "        print('Hello')\n",
    " \n",
    "    def hello(self):\n",
    "        self.__greeting()    # 클래스 안에서는 비공개 메서드를 호출할 수 있음\n",
    " \n",
    "james = Person()\n",
    "james.__greeting()    # 에러: 클래스 바깥에서는 비공개 메서드를 호출할 수 없음"
   ]
  },
  {
   "cell_type": "markdown",
   "metadata": {},
   "source": []
  },
  {
   "cell_type": "code",
   "execution_count": null,
   "metadata": {},
   "outputs": [],
   "source": []
  },
  {
   "cell_type": "code",
   "execution_count": null,
   "metadata": {},
   "outputs": [],
   "source": []
  },
  {
   "cell_type": "code",
   "execution_count": null,
   "metadata": {},
   "outputs": [],
   "source": []
  },
  {
   "cell_type": "code",
   "execution_count": null,
   "metadata": {},
   "outputs": [],
   "source": []
  },
  {
   "cell_type": "code",
   "execution_count": null,
   "metadata": {},
   "outputs": [],
   "source": []
  },
  {
   "cell_type": "code",
   "execution_count": null,
   "metadata": {},
   "outputs": [],
   "source": []
  },
  {
   "cell_type": "code",
   "execution_count": 45,
   "metadata": {},
   "outputs": [
    {
     "ename": "SyntaxError",
     "evalue": "invalid syntax (<ipython-input-45-fd1304481984>, line 1)",
     "output_type": "error",
     "traceback": [
      "\u001b[0;36m  File \u001b[0;32m\"<ipython-input-45-fd1304481984>\"\u001b[0;36m, line \u001b[0;32m1\u001b[0m\n\u001b[0;31m    추가로 정리할 것 : 파이썬 언더스코어의 사용\u001b[0m\n\u001b[0m        ^\u001b[0m\n\u001b[0;31mSyntaxError\u001b[0m\u001b[0;31m:\u001b[0m invalid syntax\n"
     ]
    }
   ],
   "source": [
    "추가로 정리할 것 : 파이썬 언더스코어의 사용\n",
    "https://mingrammer.com/underscore-in-python/"
   ]
  },
  {
   "cell_type": "code",
   "execution_count": null,
   "metadata": {},
   "outputs": [],
   "source": []
  }
 ],
 "metadata": {
  "kernelspec": {
   "display_name": "Python 3",
   "language": "python",
   "name": "python3"
  },
  "language_info": {
   "codemirror_mode": {
    "name": "ipython",
    "version": 3
   },
   "file_extension": ".py",
   "mimetype": "text/x-python",
   "name": "python",
   "nbconvert_exporter": "python",
   "pygments_lexer": "ipython3",
   "version": "3.8.5"
  }
 },
 "nbformat": 4,
 "nbformat_minor": 4
}
