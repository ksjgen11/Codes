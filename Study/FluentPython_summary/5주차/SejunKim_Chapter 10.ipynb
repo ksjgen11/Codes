{
 "cells": [
  {
   "cell_type": "markdown",
   "metadata": {},
   "source": [
    "# Chapter 10 Sequence hacking, hash, slice\n",
    "\n",
    "## User defined sequence model\n",
    "\n",
    " - it is better that taking reclusive types into arguments of Sequence constructor\n",
    " "
   ]
  },
  {
   "cell_type": "code",
   "execution_count": 18,
   "metadata": {},
   "outputs": [],
   "source": [
    "from array import array\n",
    "import reprlib\n",
    "import math\n",
    "\n",
    "class Vector:\n",
    "    typecode = 'd'  #it is class characteristics to change between Vector2d and bytes\n",
    "    \n",
    "    def __init__(self, components):\n",
    "        self._components = array(self.typecode, components) #vector components are array\n",
    "        \n",
    "        \n",
    "    def __iter__(self):\n",
    "        return iter(self._components) #iternable\n",
    "    \n",
    "    def __repr__(self):\n",
    "        components = reprlib.repr(self._components) #self._components is expressed restricted length (uses ...)\n",
    "        components = components[components.find('['):-1] # remove 'array('d',' and the end of the bracket to be able to give strings vector constructor\n",
    "        return 'Vector({})'.format(components)\n",
    "    \n",
    "        \n",
    "    def __str__(self):\n",
    "        return str(tuple(self))\n",
    "    \n",
    "    def __bytes__(self):\n",
    "        return (bytes([ord(self.typecode)]) +\n",
    "                bytes(self._components)) # self._components makes byte object directly\n",
    "    \n",
    "    def __eq__(self, other):\n",
    "        return tuple(self) == tuple(other) \n",
    "    \n",
    "    def __abs__(self):\n",
    "        return math.sqrt(sum(x*x for x in self)) #hypot function is not available(two arguments needed)\n",
    "    \n",
    "    def __bool__(self):\n",
    "        return bool(abs(self))    \n",
    "    \n",
    "  \n",
    "    \n",
    "@classmethod\n",
    "def frombytes(cls, octets): #cls transfers itself instead self.\n",
    "    typecode = chr(octets[0])\n",
    "    memv = memoryview(octets[1:]).cast(typecode)\n",
    "    return cls(memv) #the unpacking by * is not needed anymore"
   ]
  },
  {
   "cell_type": "code",
   "execution_count": 2,
   "metadata": {},
   "outputs": [
    {
     "data": {
      "text/plain": [
       "Vector([3.1, 4.2])"
      ]
     },
     "execution_count": 2,
     "metadata": {},
     "output_type": "execute_result"
    }
   ],
   "source": [
    "Vector([3.1, 4.2])"
   ]
  },
  {
   "cell_type": "code",
   "execution_count": 3,
   "metadata": {},
   "outputs": [
    {
     "data": {
      "text/plain": [
       "Vector([3.0, 4.0, 5.0])"
      ]
     },
     "execution_count": 3,
     "metadata": {},
     "output_type": "execute_result"
    }
   ],
   "source": [
    "Vector((3, 4, 5))"
   ]
  },
  {
   "cell_type": "code",
   "execution_count": 4,
   "metadata": {},
   "outputs": [
    {
     "data": {
      "text/plain": [
       "Vector([0.0, 1.0, 2.0, 3.0, 4.0, ...])"
      ]
     },
     "execution_count": 4,
     "metadata": {},
     "output_type": "execute_result"
    }
   ],
   "source": [
    "Vector(range(10))"
   ]
  },
  {
   "cell_type": "markdown",
   "metadata": {},
   "source": [
    "__repr__() is not allowed to make any execeptions. It is used to debugging. \n",
    "It is waste that copying all of self._components to use list.repr(). Instead, reprlib.repr() method with self._components is used. And then, remove words out of [].\n",
    "\n",
    "At first, constructor don't have comparability between Vector 2d and Vector class.\n",
    "Second, Vector class expresses sequence protocol.\n",
    "Sum up, Vector class is not heritanance from Vector2d.\n",
    "\n",
    "## Protocol and Duck typing\n",
    "\n",
    "In python, if user express methods which accords sequence protocol only, the sequence type would be compeletly working.\n",
    "\n",
    "In 1-1 example, __len__() and __getitem__() methods are good examples for this.\n",
    "\n",
    "Protocol = not official interface. Nowhere the class shows that it is sequence. Just it works like sequence, so the class is sequence.->We call this protocol 'Duck typing'\n"
   ]
  },
  {
   "cell_type": "code",
   "execution_count": null,
   "metadata": {},
   "outputs": [],
   "source": [
    "import collections\n",
    "\n",
    "Card = collections.namedtuple('Card', ['rank', 'suit']) \n",
    "class FrenchDeck:\n",
    "    ranks = [str(n) for n in range(2, 11)] + list('JQKA') \n",
    "    suits = 'Spades Diamonds Clubs Hearts'.split() \n",
    "\n",
    "    def __init__(self): \n",
    "        self._cards = [Card(rank, suit) for suit in self.suits\n",
    "                                        for rank in self.ranks]\n",
    "\n",
    "    def __len__(self): \n",
    "        return len(self._cards)\n",
    "\n",
    "    def __getitem__(self, position): \n",
    "        return self._cards[position]"
   ]
  },
  {
   "cell_type": "code",
   "execution_count": 19,
   "metadata": {},
   "outputs": [],
   "source": [
    "from array import array\n",
    "import reprlib\n",
    "import math\n",
    "\n",
    "class Vector:\n",
    "    typecode = 'd'  #it is class characteristics to change between Vector2d and bytes\n",
    "    \n",
    "    def __init__(self, components):\n",
    "        self._components = array(self.typecode, components) #vector components are array\n",
    "        \n",
    "        \n",
    "    def __iter__(self):\n",
    "        return iter(self._components) #iternable\n",
    "    \n",
    "    def __repr__(self):\n",
    "        components = reprlib.repr(self._components) #self._components is expressed restricted length (uses ...)\n",
    "        components = components[components.find('['):-1] # remove 'array('d',' and the end of the bracket to be able to give strings vector constructor\n",
    "        return 'Vector({})'.format(components)\n",
    "    \n",
    "        \n",
    "    def __str__(self):\n",
    "        return str(tuple(self))\n",
    "    \n",
    "    def __bytes__(self):\n",
    "        return (bytes([ord(self.typecode)]) +\n",
    "                bytes(self._components)) # self._components makes byte object directly\n",
    "    \n",
    "    def __eq__(self, other):\n",
    "        return tuple(self) == tuple(other) \n",
    "    \n",
    "    def __abs__(self):\n",
    "        return math.sqrt(sum(x*x for x in self)) #hypot function is not available(two arguments needed)\n",
    "    \n",
    "    def __bool__(self):\n",
    "        return bool(abs(self))    \n",
    "    \n",
    "    def __len__(self):\n",
    "        return len(self._components)\n",
    "    \n",
    "    def __getitem__(self, index):\n",
    "        return self._components[index]\n",
    "        \n",
    "    \n",
    "@classmethod\n",
    "def frombytes(cls, octets): #cls transfers itself instead self.\n",
    "    typecode = chr(octets[0])\n",
    "    memv = memoryview(octets[1:]).cast(typecode)\n",
    "    return cls(memv) #the unpacking by * is not needed anymore"
   ]
  },
  {
   "cell_type": "code",
   "execution_count": 6,
   "metadata": {
    "scrolled": true
   },
   "outputs": [
    {
     "data": {
      "text/plain": [
       "3"
      ]
     },
     "execution_count": 6,
     "metadata": {},
     "output_type": "execute_result"
    }
   ],
   "source": [
    "v1 = Vector([3,4,5])\n",
    "len(v1)"
   ]
  },
  {
   "cell_type": "code",
   "execution_count": 7,
   "metadata": {},
   "outputs": [
    {
     "data": {
      "text/plain": [
       "(3.0, 5.0)"
      ]
     },
     "execution_count": 7,
     "metadata": {},
     "output_type": "execute_result"
    }
   ],
   "source": [
    "v1[0], v1[-1]"
   ]
  },
  {
   "cell_type": "code",
   "execution_count": 8,
   "metadata": {},
   "outputs": [
    {
     "data": {
      "text/plain": [
       "array('d', [1.0, 2.0, 3.0])"
      ]
     },
     "execution_count": 8,
     "metadata": {},
     "output_type": "execute_result"
    }
   ],
   "source": [
    "v7 = Vector(range(7))\n",
    "v7[1:4] # Not made Vector object. make array. "
   ]
  },
  {
   "cell_type": "code",
   "execution_count": 9,
   "metadata": {},
   "outputs": [],
   "source": [
    "class MySeq:\n",
    "    def __getitem__(self, index):\n",
    "        return index"
   ]
  },
  {
   "cell_type": "code",
   "execution_count": 10,
   "metadata": {},
   "outputs": [
    {
     "data": {
      "text/plain": [
       "1"
      ]
     },
     "execution_count": 10,
     "metadata": {},
     "output_type": "execute_result"
    }
   ],
   "source": [
    "s = MySeq()\n",
    "s[1]"
   ]
  },
  {
   "cell_type": "code",
   "execution_count": 11,
   "metadata": {},
   "outputs": [
    {
     "data": {
      "text/plain": [
       "slice(1, 4, None)"
      ]
     },
     "execution_count": 11,
     "metadata": {},
     "output_type": "execute_result"
    }
   ],
   "source": [
    "s[1:4]"
   ]
  },
  {
   "cell_type": "code",
   "execution_count": 12,
   "metadata": {},
   "outputs": [
    {
     "data": {
      "text/plain": [
       "slice(1, 4, 2)"
      ]
     },
     "execution_count": 12,
     "metadata": {},
     "output_type": "execute_result"
    }
   ],
   "source": [
    "s[1:4:2]"
   ]
  },
  {
   "cell_type": "code",
   "execution_count": 13,
   "metadata": {},
   "outputs": [
    {
     "data": {
      "text/plain": [
       "(slice(1, 4, 2), 9)"
      ]
     },
     "execution_count": 13,
     "metadata": {},
     "output_type": "execute_result"
    }
   ],
   "source": [
    "s[1:4:2, 9]#getitem takes tuple when comma is included in square bracket\n"
   ]
  },
  {
   "cell_type": "code",
   "execution_count": 14,
   "metadata": {},
   "outputs": [
    {
     "data": {
      "text/plain": [
       "(slice(1, 4, 2), slice(7, 9, None))"
      ]
     },
     "execution_count": 14,
     "metadata": {},
     "output_type": "execute_result"
    }
   ],
   "source": [
    "s[1:4:2, 7:9] #getitem can take many slice objects"
   ]
  },
  {
   "cell_type": "code",
   "execution_count": 15,
   "metadata": {},
   "outputs": [
    {
     "data": {
      "text/plain": [
       "slice"
      ]
     },
     "execution_count": 15,
     "metadata": {},
     "output_type": "execute_result"
    }
   ],
   "source": [
    "slice"
   ]
  },
  {
   "cell_type": "code",
   "execution_count": 16,
   "metadata": {},
   "outputs": [
    {
     "data": {
      "text/plain": [
       "['__class__',\n",
       " '__delattr__',\n",
       " '__dir__',\n",
       " '__doc__',\n",
       " '__eq__',\n",
       " '__format__',\n",
       " '__ge__',\n",
       " '__getattribute__',\n",
       " '__gt__',\n",
       " '__hash__',\n",
       " '__init__',\n",
       " '__init_subclass__',\n",
       " '__le__',\n",
       " '__lt__',\n",
       " '__ne__',\n",
       " '__new__',\n",
       " '__reduce__',\n",
       " '__reduce_ex__',\n",
       " '__repr__',\n",
       " '__setattr__',\n",
       " '__sizeof__',\n",
       " '__str__',\n",
       " '__subclasshook__',\n",
       " 'indices',\n",
       " 'start',\n",
       " 'step',\n",
       " 'stop']"
      ]
     },
     "execution_count": 16,
     "metadata": {},
     "output_type": "execute_result"
    }
   ],
   "source": [
    "dir(slice)"
   ]
  },
  {
   "cell_type": "code",
   "execution_count": 17,
   "metadata": {},
   "outputs": [
    {
     "name": "stdout",
     "output_type": "stream",
     "text": [
      "Help on method_descriptor:\n",
      "\n",
      "indices(...)\n",
      "    S.indices(len) -> (start, stop, stride)\n",
      "    \n",
      "    Assuming a sequence of length len, calculate the start and stop\n",
      "    indices, and the stride length of the extended slice described by\n",
      "    S. Out of bounds indices are clipped in a manner consistent with the\n",
      "    handling of normal slices.\n",
      "\n"
     ]
    }
   ],
   "source": [
    "help(slice.indices)"
   ]
  },
  {
   "cell_type": "code",
   "execution_count": 23,
   "metadata": {},
   "outputs": [],
   "source": [
    "from array import array\n",
    "import reprlib\n",
    "import math\n",
    "import numbers\n",
    "\n",
    "class Vector:\n",
    "    typecode = 'd'  #it is class characteristics to change between Vector2d and bytes\n",
    "    \n",
    "    def __init__(self, components):\n",
    "        self._components = array(self.typecode, components) #vector components are array\n",
    "        \n",
    "        \n",
    "    def __iter__(self):\n",
    "        return iter(self._components) #iternable\n",
    "    \n",
    "    def __repr__(self):\n",
    "        components = reprlib.repr(self._components) #self._components is expressed restricted length (uses ...)\n",
    "        components = components[components.find('['):-1] # remove 'array('d',' and the end of the bracket to be able to give strings vector constructor\n",
    "        return 'Vector({})'.format(components)\n",
    "    \n",
    "        \n",
    "    def __str__(self):\n",
    "        return str(tuple(self))\n",
    "    \n",
    "    def __bytes__(self):\n",
    "        return (bytes([ord(self.typecode)]) +\n",
    "                bytes(self._components)) # self._components makes byte object directly\n",
    "    \n",
    "    def __eq__(self, other):\n",
    "        return tuple(self) == tuple(other) \n",
    "    \n",
    "    def __abs__(self):\n",
    "        return math.sqrt(sum(x*x for x in self)) #hypot function is not available(two arguments needed)\n",
    "    \n",
    "    def __bool__(self):\n",
    "        return bool(abs(self))    \n",
    "    \n",
    "    def __len__(self):\n",
    "        return len(self._components)\n",
    "    \n",
    "    def __getitem__(self, index):\n",
    "        cls = type(self) # taking object class(Vector) to use later\n",
    "        if isinstance(index, slice): #if index argument is slice,\n",
    "            return cls(self._components[index]) # make Vector object by _components slice\n",
    "        elif isinstance(index, numbers.Integral): #if index argument is integer, \n",
    "            return self._components[index] # return components[index]\n",
    "        else:\n",
    "            msg = '{cls.__name__} indices must be integers'\n",
    "            raise TypeError(msg.format(cls=cls))\n",
    "        \n",
    "        \n",
    "    \n",
    "@classmethod\n",
    "def frombytes(cls, octets): #cls transfers itself instead self.\n",
    "    typecode = chr(octets[0])\n",
    "    memv = memoryview(octets[1:]).cast(typecode)\n",
    "    return cls(memv) #the unpacking by * is not needed anymore"
   ]
  },
  {
   "cell_type": "code",
   "execution_count": 24,
   "metadata": {},
   "outputs": [
    {
     "data": {
      "text/plain": [
       "6.0"
      ]
     },
     "execution_count": 24,
     "metadata": {},
     "output_type": "execute_result"
    }
   ],
   "source": [
    "v7 = Vector(range(7))\n",
    "v7[-1]"
   ]
  },
  {
   "cell_type": "code",
   "execution_count": 25,
   "metadata": {},
   "outputs": [
    {
     "data": {
      "text/plain": [
       "Vector([1.0, 2.0, 3.0])"
      ]
     },
     "execution_count": 25,
     "metadata": {},
     "output_type": "execute_result"
    }
   ],
   "source": [
    "v7[1:4]"
   ]
  },
  {
   "cell_type": "code",
   "execution_count": 26,
   "metadata": {},
   "outputs": [
    {
     "data": {
      "text/plain": [
       "Vector([6.0])"
      ]
     },
     "execution_count": 26,
     "metadata": {},
     "output_type": "execute_result"
    }
   ],
   "source": [
    "v7[-1:]"
   ]
  },
  {
   "cell_type": "code",
   "execution_count": 27,
   "metadata": {},
   "outputs": [
    {
     "ename": "TypeError",
     "evalue": "Vector indices must be integers",
     "output_type": "error",
     "traceback": [
      "\u001b[0;31m---------------------------------------------------------------------------\u001b[0m",
      "\u001b[0;31mTypeError\u001b[0m                                 Traceback (most recent call last)",
      "\u001b[0;32m<ipython-input-27-0f616761b0d9>\u001b[0m in \u001b[0;36m<module>\u001b[0;34m\u001b[0m\n\u001b[0;32m----> 1\u001b[0;31m \u001b[0mv7\u001b[0m\u001b[0;34m[\u001b[0m\u001b[0;36m1\u001b[0m\u001b[0;34m,\u001b[0m\u001b[0;36m2\u001b[0m\u001b[0;34m]\u001b[0m\u001b[0;34m\u001b[0m\u001b[0;34m\u001b[0m\u001b[0m\n\u001b[0m",
      "\u001b[0;32m<ipython-input-23-50cc33a3660f>\u001b[0m in \u001b[0;36m__getitem__\u001b[0;34m(self, index)\u001b[0m\n\u001b[1;32m     47\u001b[0m         \u001b[0;32melse\u001b[0m\u001b[0;34m:\u001b[0m\u001b[0;34m\u001b[0m\u001b[0;34m\u001b[0m\u001b[0m\n\u001b[1;32m     48\u001b[0m             \u001b[0mmsg\u001b[0m \u001b[0;34m=\u001b[0m \u001b[0;34m'{cls.__name__} indices must be integers'\u001b[0m\u001b[0;34m\u001b[0m\u001b[0;34m\u001b[0m\u001b[0m\n\u001b[0;32m---> 49\u001b[0;31m             \u001b[0;32mraise\u001b[0m \u001b[0mTypeError\u001b[0m\u001b[0;34m(\u001b[0m\u001b[0mmsg\u001b[0m\u001b[0;34m.\u001b[0m\u001b[0mformat\u001b[0m\u001b[0;34m(\u001b[0m\u001b[0mcls\u001b[0m\u001b[0;34m=\u001b[0m\u001b[0mcls\u001b[0m\u001b[0;34m)\u001b[0m\u001b[0;34m)\u001b[0m\u001b[0;34m\u001b[0m\u001b[0;34m\u001b[0m\u001b[0m\n\u001b[0m\u001b[1;32m     50\u001b[0m \u001b[0;34m\u001b[0m\u001b[0m\n\u001b[1;32m     51\u001b[0m \u001b[0;34m\u001b[0m\u001b[0m\n",
      "\u001b[0;31mTypeError\u001b[0m: Vector indices must be integers"
     ]
    }
   ],
   "source": [
    "v7[1,2]"
   ]
  },
  {
   "cell_type": "markdown",
   "metadata": {},
   "source": [
    "## Dynamic property access\n",
    "\n",
    "__getattr__() methods gives read only access to x, y\n",
    "If python interpreter cannot search properties, it calls __getattr__() method.\n"
   ]
  },
  {
   "cell_type": "code",
   "execution_count": 28,
   "metadata": {},
   "outputs": [],
   "source": [
    "from array import array\n",
    "import reprlib\n",
    "import math\n",
    "import numbers\n",
    "\n",
    "class Vector:\n",
    "    typecode = 'd'  #it is class characteristics to change between Vector2d and bytes\n",
    "    \n",
    "    def __init__(self, components):\n",
    "        self._components = array(self.typecode, components) #vector components are array\n",
    "        \n",
    "        \n",
    "    def __iter__(self):\n",
    "        return iter(self._components) #iternable\n",
    "    \n",
    "    def __repr__(self):\n",
    "        components = reprlib.repr(self._components) #self._components is expressed restricted length (uses ...)\n",
    "        components = components[components.find('['):-1] # remove 'array('d',' and the end of the bracket to be able to give strings vector constructor\n",
    "        return 'Vector({})'.format(components)\n",
    "    \n",
    "        \n",
    "    def __str__(self):\n",
    "        return str(tuple(self))\n",
    "    \n",
    "    def __bytes__(self):\n",
    "        return (bytes([ord(self.typecode)]) +\n",
    "                bytes(self._components)) # self._components makes byte object directly\n",
    "    \n",
    "    def __eq__(self, other):\n",
    "        return tuple(self) == tuple(other) \n",
    "    \n",
    "    def __abs__(self):\n",
    "        return math.sqrt(sum(x*x for x in self)) #hypot function is not available(two arguments needed)\n",
    "    \n",
    "    def __bool__(self):\n",
    "        return bool(abs(self))    \n",
    "    \n",
    "    def __len__(self):\n",
    "        return len(self._components)\n",
    "    \n",
    "    def __getitem__(self, index):\n",
    "        cls = type(self) # taking object class(Vector) to use later\n",
    "        if isinstance(index, slice): #if index argument is slice,\n",
    "            return cls(self._components[index]) # make Vector object by _components slice\n",
    "        elif isinstance(index, numbers.Integral): #if index argument is integer, \n",
    "            return self._components[index] # return components[index]\n",
    "        else:\n",
    "            msg = '{cls.__name__} indices must be integers'\n",
    "            raise TypeError(msg.format(cls=cls))\n",
    "            \n",
    "    shortcut_names = 'xyzt'\n",
    "    \n",
    "    def __getattr__(self, name):\n",
    "        cls = type(self) # taking object class(Vector) to use later\n",
    "        if len(name) ==1: # if name is one character, it is possible that it is one of the shortcut_names. \n",
    "            pos = cls.shortcut_names.find(name)\n",
    "            if 0<= pos < len(self._components):\n",
    "                return self._components[pos]\n",
    "        \n",
    "        msg = '{.__name__!r} object has no attribute {!r}'\n",
    "        raise AttributeError(msg.format(cls, name))\n",
    "        \n",
    "        \n",
    "    \n",
    "@classmethod\n",
    "def frombytes(cls, octets): #cls transfers itself instead self.\n",
    "    typecode = chr(octets[0])\n",
    "    memv = memoryview(octets[1:]).cast(typecode)\n",
    "    return cls(memv) #the unpacking by * is not needed anymore"
   ]
  },
  {
   "cell_type": "code",
   "execution_count": 30,
   "metadata": {},
   "outputs": [
    {
     "data": {
      "text/plain": [
       "Vector([0.0, 1.0, 2.0, 3.0, 4.0])"
      ]
     },
     "execution_count": 30,
     "metadata": {},
     "output_type": "execute_result"
    }
   ],
   "source": [
    "v = Vector(range(5))\n",
    "v"
   ]
  },
  {
   "cell_type": "code",
   "execution_count": 31,
   "metadata": {},
   "outputs": [
    {
     "data": {
      "text/plain": [
       "0.0"
      ]
     },
     "execution_count": 31,
     "metadata": {},
     "output_type": "execute_result"
    }
   ],
   "source": [
    "v.x"
   ]
  },
  {
   "cell_type": "code",
   "execution_count": 32,
   "metadata": {},
   "outputs": [
    {
     "data": {
      "text/plain": [
       "10"
      ]
     },
     "execution_count": 32,
     "metadata": {},
     "output_type": "execute_result"
    }
   ],
   "source": [
    "v.x = 10 # It should raise Error. but it dosen't. \n",
    "v.x"
   ]
  },
  {
   "cell_type": "code",
   "execution_count": 33,
   "metadata": {},
   "outputs": [
    {
     "data": {
      "text/plain": [
       "Vector([0.0, 1.0, 2.0, 3.0, 4.0])"
      ]
     },
     "execution_count": 33,
     "metadata": {},
     "output_type": "execute_result"
    }
   ],
   "source": [
    "v"
   ]
  },
  {
   "cell_type": "markdown",
   "metadata": {},
   "source": [
    "__getattr__() method is called the last time. \n",
    "x property is added to v object => don't call __getattr__() anymore."
   ]
  },
  {
   "cell_type": "code",
   "execution_count": 34,
   "metadata": {},
   "outputs": [],
   "source": [
    "from array import array\n",
    "import reprlib\n",
    "import math\n",
    "import numbers\n",
    "\n",
    "class Vector:\n",
    "    typecode = 'd'  #it is class characteristics to change between Vector2d and bytes\n",
    "    \n",
    "    def __init__(self, components):\n",
    "        self._components = array(self.typecode, components) #vector components are array\n",
    "        \n",
    "        \n",
    "    def __iter__(self):\n",
    "        return iter(self._components) #iternable\n",
    "    \n",
    "    def __repr__(self):\n",
    "        components = reprlib.repr(self._components) #self._components is expressed restricted length (uses ...)\n",
    "        components = components[components.find('['):-1] # remove 'array('d',' and the end of the bracket to be able to give strings vector constructor\n",
    "        return 'Vector({})'.format(components)\n",
    "    \n",
    "        \n",
    "    def __str__(self):\n",
    "        return str(tuple(self))\n",
    "    \n",
    "    def __bytes__(self):\n",
    "        return (bytes([ord(self.typecode)]) +\n",
    "                bytes(self._components)) # self._components makes byte object directly\n",
    "    \n",
    "    def __eq__(self, other):\n",
    "        return tuple(self) == tuple(other) \n",
    "    \n",
    "    def __abs__(self):\n",
    "        return math.sqrt(sum(x*x for x in self)) #hypot function is not available(two arguments needed)\n",
    "    \n",
    "    def __bool__(self):\n",
    "        return bool(abs(self))    \n",
    "    \n",
    "    def __len__(self):\n",
    "        return len(self._components)\n",
    "    \n",
    "    def __getitem__(self, index):\n",
    "        cls = type(self) # taking object class(Vector) to use later\n",
    "        if isinstance(index, slice): #if index argument is slice,\n",
    "            return cls(self._components[index]) # make Vector object by _components slice\n",
    "        elif isinstance(index, numbers.Integral): #if index argument is integer, \n",
    "            return self._components[index] # return components[index]\n",
    "        else:\n",
    "            msg = '{cls.__name__} indices must be integers'\n",
    "            raise TypeError(msg.format(cls=cls))\n",
    "            \n",
    "    shortcut_names = 'xyzt'\n",
    "    \n",
    "    def __getattr__(self, name):\n",
    "        cls = type(self) # taking object class(Vector) to use later\n",
    "        if len(name) ==1: # if name is one character, it is possible that it is one of the shortcut_names. \n",
    "            pos = cls.shortcut_names.find(name)\n",
    "            if 0<= pos < len(self._components):\n",
    "                return self._components[pos]\n",
    "        \n",
    "        msg = '{.__name__!r} object has no attribute {!r}'\n",
    "        raise AttributeError(msg.format(cls, name))\n",
    "        \n",
    "    def __setattr__(self, name, value):  #To avoid object working inconsistency, __getattr__() and __setattr__() methods are needed together\n",
    "        cls = type(self)\n",
    "        if len(name) ==1: # specific access to one character property\n",
    "            if name in cls.shorcut_names:\n",
    "                error = 'readonly attribute {attr_name!r}'\n",
    "            elif name.islower():\n",
    "                error = \"Can't set attributes 'a' to 'z' in {cls_name!r}\"\n",
    "            else:\n",
    "                error = ''\n",
    "            if error:\n",
    "                msg = error.format(cls_name=cls.__name__, attr_name=name)\n",
    "                raise AttributeError(msg)\n",
    "        super().__setattr__(name, value) # Call __setattr__ in superclass when no error is occurred.\n",
    "        \n",
    "        \n",
    "    \n",
    "@classmethod\n",
    "def frombytes(cls, octets): #cls transfers itself instead self.\n",
    "    typecode = chr(octets[0])\n",
    "    memv = memoryview(octets[1:]).cast(typecode)\n",
    "    return cls(memv) #the unpacking by * is not needed anymore"
   ]
  },
  {
   "cell_type": "markdown",
   "metadata": {},
   "source": [
    "## hasing and faster ==\n",
    "\n",
    "reduce() => reducing many values to one value\n",
    "first argument = function which get two arguments\n",
    "second argument = iterable type\n",
    "\n",
    "XOR"
   ]
  },
  {
   "cell_type": "code",
   "execution_count": 35,
   "metadata": {},
   "outputs": [
    {
     "data": {
      "text/plain": [
       "120"
      ]
     },
     "execution_count": 35,
     "metadata": {},
     "output_type": "execute_result"
    }
   ],
   "source": [
    "import functools\n",
    "functools.reduce(lambda a, b: a*b, range(1,6))"
   ]
  },
  {
   "cell_type": "code",
   "execution_count": 36,
   "metadata": {},
   "outputs": [
    {
     "data": {
      "text/plain": [
       "1"
      ]
     },
     "execution_count": 36,
     "metadata": {},
     "output_type": "execute_result"
    }
   ],
   "source": [
    "n = 0\n",
    "for i in range(6):\n",
    "    n ^= i\n",
    "\n",
    "n"
   ]
  },
  {
   "cell_type": "code",
   "execution_count": 37,
   "metadata": {},
   "outputs": [
    {
     "data": {
      "text/plain": [
       "1"
      ]
     },
     "execution_count": 37,
     "metadata": {},
     "output_type": "execute_result"
    }
   ],
   "source": [
    "functools.reduce(lambda a, b:a^b, range(6))"
   ]
  },
  {
   "cell_type": "code",
   "execution_count": 38,
   "metadata": {},
   "outputs": [
    {
     "data": {
      "text/plain": [
       "1"
      ]
     },
     "execution_count": 38,
     "metadata": {},
     "output_type": "execute_result"
    }
   ],
   "source": [
    "import operator\n",
    "functools.reduce(operator.xor, range(6))"
   ]
  },
  {
   "cell_type": "code",
   "execution_count": 44,
   "metadata": {},
   "outputs": [],
   "source": [
    "from array import array\n",
    "import reprlib\n",
    "import math\n",
    "import numbers\n",
    "import functools\n",
    "import operator\n",
    "import itertools\n",
    "\n",
    "\n",
    "class Vector:\n",
    "    typecode = 'd'  #it is class characteristics to change between Vector2d and bytes\n",
    "    \n",
    "    def __init__(self, components):\n",
    "        self._components = array(self.typecode, components) #vector components are array\n",
    "        \n",
    "        \n",
    "    def __iter__(self):\n",
    "        return iter(self._components) #iternable\n",
    "    \n",
    "    def __repr__(self):\n",
    "        components = reprlib.repr(self._components) #self._components is expressed restricted length (uses ...)\n",
    "        components = components[components.find('['):-1] # remove 'array('d',' and the end of the bracket to be able to give strings vector constructor\n",
    "        return 'Vector({})'.format(components)\n",
    "    \n",
    "        \n",
    "    def __str__(self):\n",
    "        return str(tuple(self))\n",
    "    \n",
    "    def __bytes__(self):\n",
    "        return (bytes([ord(self.typecode)]) +\n",
    "                bytes(self._components)) # self._components makes byte object directly\n",
    "    \n",
    "    def __eq__(self, other): # Always __eq__() and __hash__() works together. Please make the mothods close each other.\n",
    "        if len(self) != len(other): # To use very big object\n",
    "            return False\n",
    "        for a, b in zip(self, other): # zip function makes tuple generator consist of iternable arguments.\n",
    "            if a!=b:\n",
    "                return False\n",
    "        return True\n",
    "    \n",
    "    '''def __eq__(self, other):\n",
    "            return len(self) == len(other) and all(a==b for a, b in zip(self, other))'''\n",
    "    \n",
    "    #zip function stops the shortest argument. Comparing length is always first.\n",
    "    \n",
    "    def __hash__(self):\n",
    "        hashes = (hash(x) for x in self._components) #mapping -> calculating hash values. map stage. refer below line.\n",
    "        # hashes = map(hash, self._components)\n",
    "        return functools.reduce(operator.xor, hashes, 0) #0 is initial value. The value must be used Identity (+, | , ^ = 0, x, & = 1)\n",
    "    \n",
    "    \n",
    "    def __abs__(self):\n",
    "        return math.sqrt(sum(x*x for x in self)) #hypot function is not available(two arguments needed)\n",
    "    \n",
    "    def __bool__(self):\n",
    "        return bool(abs(self))    \n",
    "    \n",
    "    def __len__(self):\n",
    "        return len(self._components)\n",
    "    \n",
    "    def __getitem__(self, index):\n",
    "        cls = type(self) # taking object class(Vector) to use later\n",
    "        if isinstance(index, slice): #if index argument is slice,\n",
    "            return cls(self._components[index]) # make Vector object by _components slice\n",
    "        elif isinstance(index, numbers.Integral): #if index argument is integer, \n",
    "            return self._components[index] # return components[index]\n",
    "        else:\n",
    "            msg = '{cls.__name__} indices must be integers'\n",
    "            raise TypeError(msg.format(cls=cls))\n",
    "            \n",
    "    shortcut_names = 'xyzt'\n",
    "    \n",
    "    def __getattr__(self, name):\n",
    "        cls = type(self) # taking object class(Vector) to use later\n",
    "        if len(name) ==1: # if name is one character, it is possible that it is one of the shortcut_names. \n",
    "            pos = cls.shortcut_names.find(name)\n",
    "            if 0<= pos < len(self._components):\n",
    "                return self._components[pos]\n",
    "        \n",
    "        msg = '{.__name__!r} object has no attribute {!r}'\n",
    "        raise AttributeError(msg.format(cls, name))\n",
    "        \n",
    "    def __setattr__(self, name, value):  #To avoid object working inconsistency, __getattr__() and __setattr__() methods are needed together\n",
    "        cls = type(self)\n",
    "        if len(name) ==1: # specific access to one character property\n",
    "            if name in cls.shorcut_names:\n",
    "                error = 'readonly attribute {attr_name!r}'\n",
    "            elif name.islower():\n",
    "                error = \"Can't set attributes 'a' to 'z' in {cls_name!r}\"\n",
    "            else:\n",
    "                error = ''\n",
    "            if error:\n",
    "                msg = error.format(cls_name=cls.__name__, attr_name=name)\n",
    "                raise AttributeError(msg)\n",
    "        super().__setattr__(name, value) # Call __setattr__ in superclass when no error is occurred.\n",
    "    \n",
    "    def angle(self, n): #refer wikipedia for hyperspherical envionments\n",
    "        r = math.sqrt(sum(x*x for x in self[n:]))\n",
    "        a = math.atan2(r, self[n-1])\n",
    "        if (n==len(self)-1) and (self[-1] <0):\n",
    "            return math.pi *2 -a\n",
    "        else:\n",
    "            return a\n",
    "        \n",
    "    def angles(self): # All radian is calculated\n",
    "        return (self.angle(n) for n in range(1, len(self)))\n",
    "    \n",
    "            \n",
    "    def __format__(self, fmt_spec = ''):\n",
    "        if fmt_spec.endswith('h'): #hyperspherical coordinate\n",
    "            fmt_spec = fmt_spec[:-1]\n",
    "            coords = itertools.chain([abs(self)], #To use chain function, itertools module is imported\n",
    "                                      self.angles()) # length and radians iternate sequencely\n",
    "            outer_fmt = '<{}>'\n",
    "        else:\n",
    "            coords = self\n",
    "            outer_fmt = '({})'\n",
    "        components = (format(c, fmt_spec) for c in coords)\n",
    "        return outer_fmt.format(', '.join(components))  \n",
    "        \n",
    "    \n",
    "@classmethod\n",
    "def frombytes(cls, octets): #cls transfers itself instead self.\n",
    "    typecode = chr(octets[0])\n",
    "    memv = memoryview(octets[1:]).cast(typecode)\n",
    "    return cls(memv) #the unpacking by * is not needed anymore"
   ]
  },
  {
   "cell_type": "code",
   "execution_count": 40,
   "metadata": {},
   "outputs": [
    {
     "data": {
      "text/plain": [
       "<zip at 0x7fcb6c1ab340>"
      ]
     },
     "execution_count": 40,
     "metadata": {},
     "output_type": "execute_result"
    }
   ],
   "source": [
    "zip(range(3), 'ABC')\n"
   ]
  },
  {
   "cell_type": "code",
   "execution_count": 41,
   "metadata": {},
   "outputs": [
    {
     "data": {
      "text/plain": [
       "[(0, 'A'), (1, 'B'), (2, 'C')]"
      ]
     },
     "execution_count": 41,
     "metadata": {},
     "output_type": "execute_result"
    }
   ],
   "source": [
    "list(zip(range(3), 'ABC'))"
   ]
  },
  {
   "cell_type": "code",
   "execution_count": 42,
   "metadata": {},
   "outputs": [
    {
     "data": {
      "text/plain": [
       "[(0, 'A', 0.0), (1, 'B', 1.1), (2, 'C', 2.2)]"
      ]
     },
     "execution_count": 42,
     "metadata": {},
     "output_type": "execute_result"
    }
   ],
   "source": [
    "list(zip(range(3), 'ABC', [0.0, 1.1, 2.2, 3.3]))"
   ]
  },
  {
   "cell_type": "code",
   "execution_count": 43,
   "metadata": {},
   "outputs": [
    {
     "data": {
      "text/plain": [
       "[(0, 'A', 0.0), (1, 'B', 1.1), (2, 'C', 2.2), (-1, -1, 3.3)]"
      ]
     },
     "execution_count": 43,
     "metadata": {},
     "output_type": "execute_result"
    }
   ],
   "source": [
    "from itertools import zip_longest\n",
    "list(zip_longest(range(3), 'ABC', [0.0, 1.1, 2.2, 3.3], fillvalue =-1))"
   ]
  },
  {
   "cell_type": "code",
   "execution_count": null,
   "metadata": {},
   "outputs": [],
   "source": []
  },
  {
   "cell_type": "code",
   "execution_count": null,
   "metadata": {},
   "outputs": [],
   "source": []
  },
  {
   "cell_type": "code",
   "execution_count": null,
   "metadata": {},
   "outputs": [],
   "source": []
  },
  {
   "cell_type": "code",
   "execution_count": null,
   "metadata": {},
   "outputs": [],
   "source": []
  },
  {
   "cell_type": "code",
   "execution_count": null,
   "metadata": {},
   "outputs": [],
   "source": []
  },
  {
   "cell_type": "code",
   "execution_count": null,
   "metadata": {},
   "outputs": [],
   "source": []
  },
  {
   "cell_type": "code",
   "execution_count": null,
   "metadata": {},
   "outputs": [],
   "source": []
  },
  {
   "cell_type": "code",
   "execution_count": null,
   "metadata": {},
   "outputs": [],
   "source": []
  },
  {
   "cell_type": "code",
   "execution_count": null,
   "metadata": {},
   "outputs": [],
   "source": []
  },
  {
   "cell_type": "code",
   "execution_count": null,
   "metadata": {},
   "outputs": [],
   "source": []
  },
  {
   "cell_type": "code",
   "execution_count": null,
   "metadata": {},
   "outputs": [],
   "source": []
  },
  {
   "cell_type": "code",
   "execution_count": null,
   "metadata": {},
   "outputs": [],
   "source": []
  },
  {
   "cell_type": "code",
   "execution_count": null,
   "metadata": {},
   "outputs": [],
   "source": []
  },
  {
   "cell_type": "code",
   "execution_count": null,
   "metadata": {},
   "outputs": [],
   "source": []
  },
  {
   "cell_type": "code",
   "execution_count": null,
   "metadata": {},
   "outputs": [],
   "source": []
  },
  {
   "cell_type": "code",
   "execution_count": null,
   "metadata": {},
   "outputs": [],
   "source": []
  },
  {
   "cell_type": "code",
   "execution_count": null,
   "metadata": {},
   "outputs": [],
   "source": []
  },
  {
   "cell_type": "code",
   "execution_count": null,
   "metadata": {},
   "outputs": [],
   "source": []
  },
  {
   "cell_type": "code",
   "execution_count": null,
   "metadata": {},
   "outputs": [],
   "source": []
  },
  {
   "cell_type": "code",
   "execution_count": null,
   "metadata": {},
   "outputs": [],
   "source": []
  }
 ],
 "metadata": {
  "kernelspec": {
   "display_name": "Python 3",
   "language": "python",
   "name": "python3"
  },
  "language_info": {
   "codemirror_mode": {
    "name": "ipython",
    "version": 3
   },
   "file_extension": ".py",
   "mimetype": "text/x-python",
   "name": "python",
   "nbconvert_exporter": "python",
   "pygments_lexer": "ipython3",
   "version": "3.8.3"
  }
 },
 "nbformat": 4,
 "nbformat_minor": 4
}
