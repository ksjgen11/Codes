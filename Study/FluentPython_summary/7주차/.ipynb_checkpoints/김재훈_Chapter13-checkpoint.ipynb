{
 "cells": [
  {
   "cell_type": "markdown",
   "metadata": {},
   "source": [
    "# 13. Operator Overloading)\n",
    "\n",
    "객체에서 필요한 연산자를 재정의하는 것<br>\n",
    "연산자 중복을 위해 미리 정의된 특별한 메서드 존재: __로 시작 __로 끝나는 특수 함수<br>\n",
    "해당 메쏘드들을 구현하면, 객체에 여러가지 파이썬 내장 함수나 연산자를 재정의하여 사용 가능<br>"
   ]
  },
  {
   "cell_type": "code",
   "execution_count": 1,
   "metadata": {},
   "outputs": [],
   "source": [
    "class Figure:\n",
    "    def __init__(self, width, height):\n",
    "        self.width = width\n",
    "        self.height = height       "
   ]
  },
  {
   "cell_type": "code",
   "execution_count": 2,
   "metadata": {},
   "outputs": [],
   "source": [
    "class Quadrangle:\n",
    "    def __init__(self, width, height):\n",
    "        self.width = width\n",
    "        self.height = height\n",
    "\n",
    "    def __add__(self, second):    \n",
    "        return Quadrangle(self.width + second.width, self.height + second.height)"
   ]
  },
  {
   "cell_type": "code",
   "execution_count": 3,
   "metadata": {},
   "outputs": [
    {
     "data": {
      "text/plain": [
       "5"
      ]
     },
     "execution_count": 3,
     "metadata": {},
     "output_type": "execute_result"
    }
   ],
   "source": [
    "rectangle1 = Quadrangle(2, 3)\n",
    "figure1 = Figure(3, 4)\n",
    "rectangle2 = rectangle1 + figure1\n",
    "rectangle2.width"
   ]
  },
  {
   "cell_type": "code",
   "execution_count": null,
   "metadata": {},
   "outputs": [],
   "source": []
  },
  {
   "cell_type": "code",
   "execution_count": 4,
   "metadata": {},
   "outputs": [],
   "source": [
    "class Quadrangle:\n",
    "    def __init__(self, width, height):\n",
    "        self.width = width\n",
    "        self.height = height\n",
    "\n",
    "    def __add__(self, second):    \n",
    "        return Quadrangle(self.width + second, self.height + second)\n",
    "    \n",
    "    # 연산자 곱셈    \n",
    "    def __mul__(self, num):\n",
    "        return Quadrangle(self.width * num, self.height * num)\n",
    "\n",
    "    # 연산자 len() - 길이    \n",
    "    def __len__(self):\n",
    "        return self.width * 2 + self.height * 2\n",
    "\n",
    "    # 연산자 A[index] - 리스트    \n",
    "    def __getitem__(self, index):\n",
    "        if index == 0:\n",
    "            return self.width\n",
    "        elif index == 1:\n",
    "            return self.height\n",
    "\n",
    "    # 연산자 str() - 문자열 변환           \n",
    "    def __str__(self):\n",
    "        return 'width : {}, height : {}'.format(self.width, self.height)"
   ]
  },
  {
   "cell_type": "code",
   "execution_count": null,
   "metadata": {},
   "outputs": [],
   "source": []
  },
  {
   "cell_type": "code",
   "execution_count": null,
   "metadata": {},
   "outputs": [],
   "source": []
  },
  {
   "cell_type": "code",
   "execution_count": null,
   "metadata": {},
   "outputs": [],
   "source": []
  },
  {
   "cell_type": "markdown",
   "metadata": {},
   "source": [
    "객체 주소 확인하기와 is, == 연산자 이해하기 (심화)\n",
    "id(객체명): 객체가 가리키는 실제 주소값\n",
    "\n",
    "is 와 == 연산자 차이\n",
    "\n",
    "is : 가리키는 객체 자체가 같은 경우 True\n",
    "== : 가리키는 값들이 같은 경우 True"
   ]
  },
  {
   "cell_type": "code",
   "execution_count": 5,
   "metadata": {},
   "outputs": [
    {
     "name": "stdout",
     "output_type": "stream",
     "text": [
      "139835484394448\n",
      "139835484396320\n",
      "False\n",
      "True\n",
      "False\n",
      "True\n"
     ]
    }
   ],
   "source": [
    "class Figure(Quadrangle):\n",
    "    pass\n",
    "\n",
    "rectangle1 = Quadrangle(1, 2)\n",
    "rectangle2 = Quadrangle(1, 2)\n",
    "rectangle3 = rectangle1\n",
    "print (id(rectangle1))\n",
    "print (id(rectangle2))\n",
    "print(rectangle1 is rectangle2)\n",
    "print(rectangle1 is rectangle3)\n",
    "print(rectangle1 == rectangle2)\n",
    "print(rectangle1.width == rectangle2.width)"
   ]
  },
  {
   "cell_type": "code",
   "execution_count": null,
   "metadata": {},
   "outputs": [],
   "source": []
  }
 ],
 "metadata": {
  "kernelspec": {
   "display_name": "Python 3",
   "language": "python",
   "name": "python3"
  },
  "language_info": {
   "codemirror_mode": {
    "name": "ipython",
    "version": 3
   },
   "file_extension": ".py",
   "mimetype": "text/x-python",
   "name": "python",
   "nbconvert_exporter": "python",
   "pygments_lexer": "ipython3",
   "version": "3.8.5"
  }
 },
 "nbformat": 4,
 "nbformat_minor": 4
}
