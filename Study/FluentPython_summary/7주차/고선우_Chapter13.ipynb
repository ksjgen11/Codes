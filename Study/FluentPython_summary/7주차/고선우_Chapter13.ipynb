{
 "cells": [
  {
   "cell_type": "markdown",
   "metadata": {},
   "source": [
    "# 13. Operator Overloading: Doing It Right"
   ]
  },
  {
   "cell_type": "markdown",
   "metadata": {},
   "source": [
    "## 13.1 연산자 오버로딩"
   ]
  },
  {
   "cell_type": "markdown",
   "metadata": {},
   "source": [
    "연산자 오버로딩은 사용자 정의 객체가 +, /, &, ~ 같은 여러 연산자들을 이용할 수 있게 해 준다. 파이썬에서는 여기에서 더 나아가 함수 호출(()), 속성 접근(.), 항목 접근/슬라이싱([])도 연산자로 구현되어 있다. (하지만 13장에서 이를 다루진 않았다.)"
   ]
  },
  {
   "cell_type": "markdown",
   "metadata": {},
   "source": [
    "연산자 오버로딩은 남용되고 프로그래머를 혼란스럽게 만들 때도 많지만, 잘 사용하면 코드의 가독성이 향상되는 효과를 가져온다. 파이썬에는 연산자 오버로딩 시에 다음과 같은 제한을 두어 융통성, 사용성, 안전성을 적절히 유지한다.\n",
    "\n",
    "* 내장 자료형에 대한 연산자는 오버로딩할 수 없다.\n",
    "* 새로운 연산자를 생성할 수 없으며, 기존 연산자를 오버로딩만 할 수 있다.\n",
    "* is, and, or, not 연산자는 오버로딩할 수 없다(단, &, |, ~ 비트 연산자는 가능)"
   ]
  },
  {
   "cell_type": "markdown",
   "metadata": {},
   "source": [
    "책에서는 단항 연산자와 중위 연산자, 그리고 복합 할당 연산자를 오버로딩하는 방법을 제시하였다."
   ]
  },
  {
   "cell_type": "markdown",
   "metadata": {},
   "source": [
    "## 13.2 단항 연산자"
   ]
  },
  {
   "cell_type": "markdown",
   "metadata": {},
   "source": [
    "-(\\_\\_neg\\_\\_): 단항 산술 부정  \n",
    "+(\\_\\_pos\\_\\_): 단항 산술 덧셈. 일반적으로 x와 +x는 동일하지만, 그렇지 않은 경우도 있다.  \n",
    "~(\\_\\_invert\\_\\_): 정수형의 비트 반전. ~x는 -(x+1)로 정의된다."
   ]
  },
  {
   "cell_type": "code",
   "execution_count": 1,
   "metadata": {},
   "outputs": [],
   "source": [
    "def __abs__(self):\n",
    "    return math.sqrt(sum(x*x for x in self))\n",
    "\n",
    "def __neg__(self):\n",
    "    return Vector(-x for x in self)\n",
    "\n",
    "def __pos__(self):\n",
    "    return Vector(self)"
   ]
  },
  {
   "cell_type": "markdown",
   "metadata": {},
   "source": [
    "## 13.3 중위 연산자"
   ]
  },
  {
   "cell_type": "markdown",
   "metadata": {},
   "source": [
    "벡터의 덧셈을 + 연산자 오버로딩으로 해결한 코드다."
   ]
  },
  {
   "cell_type": "code",
   "execution_count": 2,
   "metadata": {},
   "outputs": [],
   "source": [
    "def __add__(self, other):\n",
    "    pairs = itertools.zip_longest(self, other, fillvalue=0.0)\n",
    "    return Vector(a+b for a, b in pairs)"
   ]
  },
  {
   "cell_type": "markdown",
   "metadata": {},
   "source": [
    "벡터의 스칼라배를 * 연산자 오버로딩으로 해결한 코드다."
   ]
  },
  {
   "cell_type": "code",
   "execution_count": 3,
   "metadata": {},
   "outputs": [],
   "source": [
    "def __mul__(self, scalar):\n",
    "    return Vector(n * scalar for n in self)"
   ]
  },
  {
   "cell_type": "markdown",
   "metadata": {},
   "source": [
    "이 경우 complex 같은 자료형과의 곱셈은 불가능하지만, 11장에서 이야기했던 **구스 타이핑 기법**을 사용해서 다음과 같이 작성하면 모든 자료형을 커버할 수 있다."
   ]
  },
  {
   "cell_type": "code",
   "execution_count": 4,
   "metadata": {},
   "outputs": [],
   "source": [
    "def __mul__(self, scalar):\n",
    "    if isinstance(scalar, numbers.Real):\n",
    "        return Vector(n * scalar for n in self)\n",
    "    else:\n",
    "        return NotImplemeted"
   ]
  }
 ],
 "metadata": {
  "kernelspec": {
   "display_name": "Python 3",
   "language": "python",
   "name": "python3"
  },
  "language_info": {
   "codemirror_mode": {
    "name": "ipython",
    "version": 3
   },
   "file_extension": ".py",
   "mimetype": "text/x-python",
   "name": "python",
   "nbconvert_exporter": "python",
   "pygments_lexer": "ipython3",
   "version": "3.7.1"
  }
 },
 "nbformat": 4,
 "nbformat_minor": 2
}
